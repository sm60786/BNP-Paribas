{
 "cells": [
  {
   "cell_type": "code",
   "execution_count": 27,
   "metadata": {},
   "outputs": [
    {
     "name": "stdout",
     "output_type": "stream",
     "text": [
      "E:\\Data Science\\BNP Paribas\n"
     ]
    }
   ],
   "source": [
    "import numpy as np\n",
    "import pandas as pd\n",
    "from collections import Counter\n",
    "import matplotlib.pyplot as plt\n",
    "import os\n",
    "os.chdir(\"E:\\Data Science\\BNP Paribas\")\n",
    "print (os.getcwd())"
   ]
  },
  {
   "cell_type": "code",
   "execution_count": 28,
   "metadata": {},
   "outputs": [
    {
     "data": {
      "text/plain": [
       "(114321, 133)"
      ]
     },
     "execution_count": 28,
     "metadata": {},
     "output_type": "execute_result"
    }
   ],
   "source": [
    "BNP = pd.read_csv('train.csv')\n",
    "BNP.shape"
   ]
  },
  {
   "cell_type": "code",
   "execution_count": 29,
   "metadata": {},
   "outputs": [
    {
     "data": {
      "text/plain": [
       "(array([0, 1], dtype=int64), array([27300, 87021], dtype=int64))"
      ]
     },
     "execution_count": 29,
     "metadata": {},
     "output_type": "execute_result"
    }
   ],
   "source": [
    "np.unique(BNP.target,return_counts=True)"
   ]
  },
  {
   "cell_type": "code",
   "execution_count": 30,
   "metadata": {},
   "outputs": [
    {
     "data": {
      "text/plain": [
       "0.2388012701078542"
      ]
     },
     "execution_count": 30,
     "metadata": {},
     "output_type": "execute_result"
    }
   ],
   "source": [
    "#% of 0's\n",
    "27300/114321"
   ]
  },
  {
   "cell_type": "code",
   "execution_count": 31,
   "metadata": {},
   "outputs": [
    {
     "data": {
      "text/plain": [
       "0.7611987298921458"
      ]
     },
     "execution_count": 31,
     "metadata": {},
     "output_type": "execute_result"
    }
   ],
   "source": [
    "#% of 1's\n",
    "87021/114321"
   ]
  },
  {
   "cell_type": "code",
   "execution_count": 32,
   "metadata": {},
   "outputs": [
    {
     "data": {
      "text/html": [
       "<div>\n",
       "<style scoped>\n",
       "    .dataframe tbody tr th:only-of-type {\n",
       "        vertical-align: middle;\n",
       "    }\n",
       "\n",
       "    .dataframe tbody tr th {\n",
       "        vertical-align: top;\n",
       "    }\n",
       "\n",
       "    .dataframe thead th {\n",
       "        text-align: right;\n",
       "    }\n",
       "</style>\n",
       "<table border=\"1\" class=\"dataframe\">\n",
       "  <thead>\n",
       "    <tr style=\"text-align: right;\">\n",
       "      <th></th>\n",
       "      <th>ID</th>\n",
       "      <th>target</th>\n",
       "      <th>v1</th>\n",
       "      <th>v2</th>\n",
       "      <th>v4</th>\n",
       "      <th>v5</th>\n",
       "      <th>v6</th>\n",
       "      <th>v7</th>\n",
       "      <th>v8</th>\n",
       "      <th>v9</th>\n",
       "      <th>...</th>\n",
       "      <th>v121</th>\n",
       "      <th>v122</th>\n",
       "      <th>v123</th>\n",
       "      <th>v124</th>\n",
       "      <th>v126</th>\n",
       "      <th>v127</th>\n",
       "      <th>v128</th>\n",
       "      <th>v129</th>\n",
       "      <th>v130</th>\n",
       "      <th>v131</th>\n",
       "    </tr>\n",
       "  </thead>\n",
       "  <tbody>\n",
       "    <tr>\n",
       "      <td>count</td>\n",
       "      <td>114321.000000</td>\n",
       "      <td>114321.000000</td>\n",
       "      <td>6.448900e+04</td>\n",
       "      <td>6.452500e+04</td>\n",
       "      <td>6.452500e+04</td>\n",
       "      <td>6.569700e+04</td>\n",
       "      <td>6.448900e+04</td>\n",
       "      <td>6.448900e+04</td>\n",
       "      <td>6.570200e+04</td>\n",
       "      <td>6.447000e+04</td>\n",
       "      <td>...</td>\n",
       "      <td>6.448100e+04</td>\n",
       "      <td>6.447000e+04</td>\n",
       "      <td>63643.000000</td>\n",
       "      <td>6.570200e+04</td>\n",
       "      <td>6.448900e+04</td>\n",
       "      <td>6.448900e+04</td>\n",
       "      <td>6.569700e+04</td>\n",
       "      <td>114321.000000</td>\n",
       "      <td>6.447800e+04</td>\n",
       "      <td>6.442600e+04</td>\n",
       "    </tr>\n",
       "    <tr>\n",
       "      <td>mean</td>\n",
       "      <td>114228.928228</td>\n",
       "      <td>0.761199</td>\n",
       "      <td>1.630686e+00</td>\n",
       "      <td>7.464411e+00</td>\n",
       "      <td>4.145098e+00</td>\n",
       "      <td>8.742359e+00</td>\n",
       "      <td>2.436402e+00</td>\n",
       "      <td>2.483921e+00</td>\n",
       "      <td>1.496569e+00</td>\n",
       "      <td>9.031859e+00</td>\n",
       "      <td>...</td>\n",
       "      <td>2.737596e+00</td>\n",
       "      <td>6.822439e+00</td>\n",
       "      <td>3.549938</td>\n",
       "      <td>9.198120e-01</td>\n",
       "      <td>1.672658e+00</td>\n",
       "      <td>3.239542e+00</td>\n",
       "      <td>2.030373e+00</td>\n",
       "      <td>0.310144</td>\n",
       "      <td>1.925763e+00</td>\n",
       "      <td>1.739389e+00</td>\n",
       "    </tr>\n",
       "    <tr>\n",
       "      <td>std</td>\n",
       "      <td>65934.487362</td>\n",
       "      <td>0.426353</td>\n",
       "      <td>1.082813e+00</td>\n",
       "      <td>2.961676e+00</td>\n",
       "      <td>1.148263e+00</td>\n",
       "      <td>2.036018e+00</td>\n",
       "      <td>5.999653e-01</td>\n",
       "      <td>5.894485e-01</td>\n",
       "      <td>2.783003e+00</td>\n",
       "      <td>1.930262e+00</td>\n",
       "      <td>...</td>\n",
       "      <td>1.356294e+00</td>\n",
       "      <td>1.795978e+00</td>\n",
       "      <td>2.604704</td>\n",
       "      <td>2.099407e+00</td>\n",
       "      <td>5.031683e-01</td>\n",
       "      <td>1.625988e+00</td>\n",
       "      <td>1.074232e+00</td>\n",
       "      <td>0.693262</td>\n",
       "      <td>1.264497e+00</td>\n",
       "      <td>1.134702e+00</td>\n",
       "    </tr>\n",
       "    <tr>\n",
       "      <td>min</td>\n",
       "      <td>3.000000</td>\n",
       "      <td>0.000000</td>\n",
       "      <td>-9.996497e-07</td>\n",
       "      <td>-9.817614e-07</td>\n",
       "      <td>-6.475929e-07</td>\n",
       "      <td>-5.287068e-07</td>\n",
       "      <td>-9.055091e-07</td>\n",
       "      <td>-9.468765e-07</td>\n",
       "      <td>-7.783778e-07</td>\n",
       "      <td>-9.828757e-07</td>\n",
       "      <td>...</td>\n",
       "      <td>-9.820642e-07</td>\n",
       "      <td>-9.978497e-07</td>\n",
       "      <td>0.019139</td>\n",
       "      <td>-9.994953e-07</td>\n",
       "      <td>-9.564174e-07</td>\n",
       "      <td>-9.223798e-07</td>\n",
       "      <td>8.197812e-07</td>\n",
       "      <td>0.000000</td>\n",
       "      <td>-9.901257e-07</td>\n",
       "      <td>-9.999134e-07</td>\n",
       "    </tr>\n",
       "    <tr>\n",
       "      <td>25%</td>\n",
       "      <td>57280.000000</td>\n",
       "      <td>1.000000</td>\n",
       "      <td>9.135798e-01</td>\n",
       "      <td>5.316428e+00</td>\n",
       "      <td>3.487398e+00</td>\n",
       "      <td>7.605918e+00</td>\n",
       "      <td>2.065064e+00</td>\n",
       "      <td>2.101477e+00</td>\n",
       "      <td>8.658986e-02</td>\n",
       "      <td>7.853659e+00</td>\n",
       "      <td>...</td>\n",
       "      <td>1.786965e+00</td>\n",
       "      <td>5.647712e+00</td>\n",
       "      <td>1.963315</td>\n",
       "      <td>2.053777e-02</td>\n",
       "      <td>1.417600e+00</td>\n",
       "      <td>2.101900e+00</td>\n",
       "      <td>1.393830e+00</td>\n",
       "      <td>0.000000</td>\n",
       "      <td>1.106172e+00</td>\n",
       "      <td>1.012658e+00</td>\n",
       "    </tr>\n",
       "    <tr>\n",
       "      <td>50%</td>\n",
       "      <td>114189.000000</td>\n",
       "      <td>1.000000</td>\n",
       "      <td>1.469550e+00</td>\n",
       "      <td>7.023803e+00</td>\n",
       "      <td>4.205991e+00</td>\n",
       "      <td>8.670867e+00</td>\n",
       "      <td>2.412790e+00</td>\n",
       "      <td>2.452166e+00</td>\n",
       "      <td>3.860317e-01</td>\n",
       "      <td>9.059582e+00</td>\n",
       "      <td>...</td>\n",
       "      <td>2.436195e+00</td>\n",
       "      <td>6.749117e+00</td>\n",
       "      <td>2.739239</td>\n",
       "      <td>1.398639e-01</td>\n",
       "      <td>1.614802e+00</td>\n",
       "      <td>2.963620e+00</td>\n",
       "      <td>1.798436e+00</td>\n",
       "      <td>0.000000</td>\n",
       "      <td>1.560138e+00</td>\n",
       "      <td>1.589403e+00</td>\n",
       "    </tr>\n",
       "    <tr>\n",
       "      <td>75%</td>\n",
       "      <td>171206.000000</td>\n",
       "      <td>1.000000</td>\n",
       "      <td>2.136128e+00</td>\n",
       "      <td>9.465497e+00</td>\n",
       "      <td>4.833250e+00</td>\n",
       "      <td>9.771353e+00</td>\n",
       "      <td>2.775285e+00</td>\n",
       "      <td>2.834285e+00</td>\n",
       "      <td>1.625246e+00</td>\n",
       "      <td>1.023256e+01</td>\n",
       "      <td>...</td>\n",
       "      <td>3.379175e+00</td>\n",
       "      <td>7.911392e+00</td>\n",
       "      <td>4.075361</td>\n",
       "      <td>8.718333e-01</td>\n",
       "      <td>1.843886e+00</td>\n",
       "      <td>4.108146e+00</td>\n",
       "      <td>2.390158e+00</td>\n",
       "      <td>0.000000</td>\n",
       "      <td>2.332425e+00</td>\n",
       "      <td>2.261905e+00</td>\n",
       "    </tr>\n",
       "    <tr>\n",
       "      <td>max</td>\n",
       "      <td>228713.000000</td>\n",
       "      <td>1.000000</td>\n",
       "      <td>2.000000e+01</td>\n",
       "      <td>2.000000e+01</td>\n",
       "      <td>2.000000e+01</td>\n",
       "      <td>2.000000e+01</td>\n",
       "      <td>2.000000e+01</td>\n",
       "      <td>2.000000e+01</td>\n",
       "      <td>2.000000e+01</td>\n",
       "      <td>2.000000e+01</td>\n",
       "      <td>...</td>\n",
       "      <td>2.000000e+01</td>\n",
       "      <td>2.000000e+01</td>\n",
       "      <td>19.686069</td>\n",
       "      <td>2.000000e+01</td>\n",
       "      <td>1.563161e+01</td>\n",
       "      <td>2.000000e+01</td>\n",
       "      <td>2.000000e+01</td>\n",
       "      <td>11.000000</td>\n",
       "      <td>2.000000e+01</td>\n",
       "      <td>2.000000e+01</td>\n",
       "    </tr>\n",
       "  </tbody>\n",
       "</table>\n",
       "<p>8 rows × 114 columns</p>\n",
       "</div>"
      ],
      "text/plain": [
       "                  ID         target            v1            v2            v4  \\\n",
       "count  114321.000000  114321.000000  6.448900e+04  6.452500e+04  6.452500e+04   \n",
       "mean   114228.928228       0.761199  1.630686e+00  7.464411e+00  4.145098e+00   \n",
       "std     65934.487362       0.426353  1.082813e+00  2.961676e+00  1.148263e+00   \n",
       "min         3.000000       0.000000 -9.996497e-07 -9.817614e-07 -6.475929e-07   \n",
       "25%     57280.000000       1.000000  9.135798e-01  5.316428e+00  3.487398e+00   \n",
       "50%    114189.000000       1.000000  1.469550e+00  7.023803e+00  4.205991e+00   \n",
       "75%    171206.000000       1.000000  2.136128e+00  9.465497e+00  4.833250e+00   \n",
       "max    228713.000000       1.000000  2.000000e+01  2.000000e+01  2.000000e+01   \n",
       "\n",
       "                 v5            v6            v7            v8            v9  \\\n",
       "count  6.569700e+04  6.448900e+04  6.448900e+04  6.570200e+04  6.447000e+04   \n",
       "mean   8.742359e+00  2.436402e+00  2.483921e+00  1.496569e+00  9.031859e+00   \n",
       "std    2.036018e+00  5.999653e-01  5.894485e-01  2.783003e+00  1.930262e+00   \n",
       "min   -5.287068e-07 -9.055091e-07 -9.468765e-07 -7.783778e-07 -9.828757e-07   \n",
       "25%    7.605918e+00  2.065064e+00  2.101477e+00  8.658986e-02  7.853659e+00   \n",
       "50%    8.670867e+00  2.412790e+00  2.452166e+00  3.860317e-01  9.059582e+00   \n",
       "75%    9.771353e+00  2.775285e+00  2.834285e+00  1.625246e+00  1.023256e+01   \n",
       "max    2.000000e+01  2.000000e+01  2.000000e+01  2.000000e+01  2.000000e+01   \n",
       "\n",
       "       ...          v121          v122          v123          v124  \\\n",
       "count  ...  6.448100e+04  6.447000e+04  63643.000000  6.570200e+04   \n",
       "mean   ...  2.737596e+00  6.822439e+00      3.549938  9.198120e-01   \n",
       "std    ...  1.356294e+00  1.795978e+00      2.604704  2.099407e+00   \n",
       "min    ... -9.820642e-07 -9.978497e-07      0.019139 -9.994953e-07   \n",
       "25%    ...  1.786965e+00  5.647712e+00      1.963315  2.053777e-02   \n",
       "50%    ...  2.436195e+00  6.749117e+00      2.739239  1.398639e-01   \n",
       "75%    ...  3.379175e+00  7.911392e+00      4.075361  8.718333e-01   \n",
       "max    ...  2.000000e+01  2.000000e+01     19.686069  2.000000e+01   \n",
       "\n",
       "               v126          v127          v128           v129          v130  \\\n",
       "count  6.448900e+04  6.448900e+04  6.569700e+04  114321.000000  6.447800e+04   \n",
       "mean   1.672658e+00  3.239542e+00  2.030373e+00       0.310144  1.925763e+00   \n",
       "std    5.031683e-01  1.625988e+00  1.074232e+00       0.693262  1.264497e+00   \n",
       "min   -9.564174e-07 -9.223798e-07  8.197812e-07       0.000000 -9.901257e-07   \n",
       "25%    1.417600e+00  2.101900e+00  1.393830e+00       0.000000  1.106172e+00   \n",
       "50%    1.614802e+00  2.963620e+00  1.798436e+00       0.000000  1.560138e+00   \n",
       "75%    1.843886e+00  4.108146e+00  2.390158e+00       0.000000  2.332425e+00   \n",
       "max    1.563161e+01  2.000000e+01  2.000000e+01      11.000000  2.000000e+01   \n",
       "\n",
       "               v131  \n",
       "count  6.442600e+04  \n",
       "mean   1.739389e+00  \n",
       "std    1.134702e+00  \n",
       "min   -9.999134e-07  \n",
       "25%    1.012658e+00  \n",
       "50%    1.589403e+00  \n",
       "75%    2.261905e+00  \n",
       "max    2.000000e+01  \n",
       "\n",
       "[8 rows x 114 columns]"
      ]
     },
     "execution_count": 32,
     "metadata": {},
     "output_type": "execute_result"
    }
   ],
   "source": [
    "BNP.describe()"
   ]
  },
  {
   "cell_type": "code",
   "execution_count": 33,
   "metadata": {},
   "outputs": [
    {
     "data": {
      "text/plain": [
       "array(['ID', 'target', 'v1', 'v2', 'v3', 'v4', 'v5', 'v6', 'v7', 'v8',\n",
       "       'v9', 'v10', 'v11', 'v12', 'v13', 'v14', 'v15', 'v16', 'v17',\n",
       "       'v18', 'v19', 'v20', 'v21', 'v22', 'v23', 'v24', 'v25', 'v26',\n",
       "       'v27', 'v28', 'v29', 'v30', 'v31', 'v32', 'v33', 'v34', 'v35',\n",
       "       'v36', 'v37', 'v38', 'v39', 'v40', 'v41', 'v42', 'v43', 'v44',\n",
       "       'v45', 'v46', 'v47', 'v48', 'v49', 'v50', 'v51', 'v52', 'v53',\n",
       "       'v54', 'v55', 'v56', 'v57', 'v58', 'v59', 'v60', 'v61', 'v62',\n",
       "       'v63', 'v64', 'v65', 'v66', 'v67', 'v68', 'v69', 'v70', 'v71',\n",
       "       'v72', 'v73', 'v74', 'v75', 'v76', 'v77', 'v78', 'v79', 'v80',\n",
       "       'v81', 'v82', 'v83', 'v84', 'v85', 'v86', 'v87', 'v88', 'v89',\n",
       "       'v90', 'v91', 'v92', 'v93', 'v94', 'v95', 'v96', 'v97', 'v98',\n",
       "       'v99', 'v100', 'v101', 'v102', 'v103', 'v104', 'v105', 'v106',\n",
       "       'v107', 'v108', 'v109', 'v110', 'v111', 'v112', 'v113', 'v114',\n",
       "       'v115', 'v116', 'v117', 'v118', 'v119', 'v120', 'v121', 'v122',\n",
       "       'v123', 'v124', 'v125', 'v126', 'v127', 'v128', 'v129', 'v130',\n",
       "       'v131'], dtype=object)"
      ]
     },
     "execution_count": 33,
     "metadata": {},
     "output_type": "execute_result"
    }
   ],
   "source": [
    "BNP.columns.values"
   ]
  },
  {
   "cell_type": "code",
   "execution_count": 34,
   "metadata": {},
   "outputs": [
    {
     "data": {
      "text/plain": [
       "Index(['v3', 'v22', 'v24', 'v30', 'v31', 'v47', 'v52', 'v56', 'v66', 'v71',\n",
       "       'v74', 'v75', 'v79', 'v91', 'v107', 'v110', 'v112', 'v113', 'v125'],\n",
       "      dtype='object')"
      ]
     },
     "execution_count": 34,
     "metadata": {},
     "output_type": "execute_result"
    }
   ],
   "source": [
    "#identify categorical variables dtype = object\n",
    "BNP.dtypes[BNP.dtypes=='O'].index"
   ]
  },
  {
   "cell_type": "code",
   "execution_count": 35,
   "metadata": {
    "scrolled": true
   },
   "outputs": [
    {
     "data": {
      "text/plain": [
       "array(['ID', 'target', 'v1', 'v2', 'v4', 'v5', 'v6', 'v7', 'v8', 'v9',\n",
       "       'v10', 'v11', 'v12', 'v13', 'v14', 'v15', 'v16', 'v17', 'v18',\n",
       "       'v19', 'v20', 'v21', 'v23', 'v25', 'v26', 'v27', 'v28', 'v29',\n",
       "       'v32', 'v33', 'v34', 'v35', 'v36', 'v37', 'v38', 'v39', 'v40',\n",
       "       'v41', 'v42', 'v43', 'v44', 'v45', 'v46', 'v48', 'v49', 'v50',\n",
       "       'v51', 'v53', 'v54', 'v55', 'v57', 'v58', 'v59', 'v60', 'v61',\n",
       "       'v62', 'v63', 'v64', 'v65', 'v67', 'v68', 'v69', 'v70', 'v72',\n",
       "       'v73', 'v76', 'v77', 'v78', 'v80', 'v81', 'v82', 'v83', 'v84',\n",
       "       'v85', 'v86', 'v87', 'v88', 'v89', 'v90', 'v92', 'v93', 'v94',\n",
       "       'v95', 'v96', 'v97', 'v98', 'v99', 'v100', 'v101', 'v102', 'v103',\n",
       "       'v104', 'v105', 'v106', 'v108', 'v109', 'v111', 'v114', 'v115',\n",
       "       'v116', 'v117', 'v118', 'v119', 'v120', 'v121', 'v122', 'v123',\n",
       "       'v124', 'v126', 'v127', 'v128', 'v129', 'v130', 'v131'],\n",
       "      dtype=object)"
      ]
     },
     "execution_count": 35,
     "metadata": {},
     "output_type": "execute_result"
    }
   ],
   "source": [
    "#identify continous variables\n",
    "BNP.dtypes[BNP.dtypes!= 'O'].index.values"
   ]
  },
  {
   "cell_type": "code",
   "execution_count": 36,
   "metadata": {},
   "outputs": [
    {
     "data": {
      "text/plain": [
       "v30       60110\n",
       "v113      55304\n",
       "v102      51316\n",
       "v85       50682\n",
       "v119      50680\n",
       "          ...  \n",
       "v75           0\n",
       "v79           0\n",
       "v110          0\n",
       "target        0\n",
       "ID            0\n",
       "Length: 133, dtype: int64"
      ]
     },
     "execution_count": 36,
     "metadata": {},
     "output_type": "execute_result"
    }
   ],
   "source": [
    "BNP.isnull().sum().sort_values(ascending=False)"
   ]
  },
  {
   "cell_type": "code",
   "execution_count": 37,
   "metadata": {},
   "outputs": [
    {
     "name": "stdout",
     "output_type": "stream",
     "text": [
      "Index(['number'], dtype='object')\n",
      "        number\n",
      "ID           0\n",
      "target       0\n",
      "v1       49832\n",
      "v2       49796\n",
      "v3        3457\n"
     ]
    }
   ],
   "source": [
    "null = pd.DataFrame(BNP.isnull().sum(),columns=['number'])\n",
    "print(null.columns)\n",
    "print(null.head())"
   ]
  },
  {
   "cell_type": "code",
   "execution_count": 38,
   "metadata": {},
   "outputs": [
    {
     "name": "stdout",
     "output_type": "stream",
     "text": [
      "5716.05\n",
      "(30,)\n",
      "ID           0\n",
      "target       0\n",
      "v3        3457\n",
      "v10         84\n",
      "v12         86\n",
      "v14          4\n",
      "v21        611\n",
      "v22        500\n",
      "v24          0\n",
      "v31       3457\n",
      "v34        111\n",
      "v38          0\n",
      "v40        111\n",
      "v47          0\n",
      "v50         86\n",
      "v52          3\n",
      "v62          0\n",
      "v66          0\n",
      "v71          0\n",
      "v72          0\n",
      "v74          0\n",
      "v75          0\n",
      "v79          0\n",
      "v91          3\n",
      "v107         3\n",
      "v110         0\n",
      "v112       382\n",
      "v114        30\n",
      "v125        77\n",
      "v129         0\n",
      "Name: number, dtype: int64\n"
     ]
    }
   ],
   "source": [
    "threshold = BNP.shape[0] * 0.05\n",
    "print(threshold)\n",
    "nulla=null.number[null.number<=threshold]\n",
    "print(nulla.shape)\n",
    "print(nulla)"
   ]
  },
  {
   "cell_type": "code",
   "execution_count": 39,
   "metadata": {},
   "outputs": [
    {
     "data": {
      "text/plain": [
       "Counter({'C': 110584, nan: 3457, 'A': 227, 'B': 53, 'return_counts': 1})"
      ]
     },
     "execution_count": 39,
     "metadata": {},
     "output_type": "execute_result"
    }
   ],
   "source": [
    "#unique values using counter as data contains missing values\n",
    "from collections import Counter\n",
    "Counter(BNP.v3,return_counts=True)"
   ]
  },
  {
   "cell_type": "code",
   "execution_count": 40,
   "metadata": {},
   "outputs": [
    {
     "data": {
      "text/plain": [
       "count    1.142370e+05\n",
       "mean     1.883046e+00\n",
       "std      1.393979e+00\n",
       "min     -9.875317e-07\n",
       "25%      1.050328e+00\n",
       "50%      1.312910e+00\n",
       "75%      2.100657e+00\n",
       "max      1.853392e+01\n",
       "Name: v10, dtype: float64"
      ]
     },
     "execution_count": 40,
     "metadata": {},
     "output_type": "execute_result"
    }
   ],
   "source": [
    "BNP.v10.describe()"
   ]
  },
  {
   "cell_type": "code",
   "execution_count": 41,
   "metadata": {},
   "outputs": [
    {
     "data": {
      "image/png": "[encoded data removed]",
      "text/plain": [
       "<Figure size 432x288 with 1 Axes>"
      ]
     },
     "metadata": {
      "needs_background": "light"
     },
     "output_type": "display_data"
    }
   ],
   "source": [
    "plt.hist(BNP.v10,bins = 100)\n",
    "plt.show()"
   ]
  },
  {
   "cell_type": "code",
   "execution_count": 42,
   "metadata": {},
   "outputs": [
    {
     "data": {
      "text/plain": [
       "53"
      ]
     },
     "execution_count": 42,
     "metadata": {},
     "output_type": "execute_result"
    }
   ],
   "source": [
    "#neg values in v10\n",
    "BNP.v10[BNP.v10<0].count()"
   ]
  },
  {
   "cell_type": "code",
   "execution_count": 43,
   "metadata": {},
   "outputs": [
    {
     "data": {
      "text/plain": [
       "count    1.142350e+05\n",
       "mean     6.881304e+00\n",
       "std      9.244945e-01\n",
       "min      5.143224e-07\n",
       "25%      6.322471e+00\n",
       "50%      6.612969e+00\n",
       "75%      7.019983e+00\n",
       "max      1.871055e+01\n",
       "Name: v12, dtype: float64"
      ]
     },
     "execution_count": 43,
     "metadata": {},
     "output_type": "execute_result"
    }
   ],
   "source": [
    "BNP.v12.describe()"
   ]
  },
  {
   "cell_type": "code",
   "execution_count": 44,
   "metadata": {},
   "outputs": [
    {
     "data": {
      "image/png": "[encoded data removed]",
      "text/plain": [
       "<Figure size 432x288 with 1 Axes>"
      ]
     },
     "metadata": {
      "needs_background": "light"
     },
     "output_type": "display_data"
    }
   ],
   "source": [
    "plt.hist(BNP.v12,bins = 100)\n",
    "plt.show()"
   ]
  },
  {
   "cell_type": "code",
   "execution_count": 45,
   "metadata": {},
   "outputs": [
    {
     "data": {
      "text/plain": [
       "0"
      ]
     },
     "execution_count": 45,
     "metadata": {},
     "output_type": "execute_result"
    }
   ],
   "source": [
    "#neg values in v12\n",
    "BNP.v12[BNP.v12<0].count() "
   ]
  },
  {
   "cell_type": "code",
   "execution_count": 46,
   "metadata": {},
   "outputs": [
    {
     "name": "stdout",
     "output_type": "stream",
     "text": [
      "inter quantile range v10\n",
      "1.0503290168699997\n",
      "upper limit: 3.676150746064999\n",
      "lowerlimit: -0.5251653214149996\n"
     ]
    }
   ],
   "source": [
    "print(\"inter quantile range v10\")\n",
    "Q3 = BNP.v10.quantile(q= 0.75)\n",
    "Q1 = BNP.v10.quantile(q= 0.25)\n",
    "IQR = Q3 -Q1\n",
    "print(IQR)\n",
    "UL = Q3 + (1.5 *  IQR)\n",
    "print(\"upper limit:\",UL)\n",
    "LL = Q1 - (1.5* IQR)\n",
    "print(\"lowerlimit:\", LL)"
   ]
  },
  {
   "cell_type": "code",
   "execution_count": 47,
   "metadata": {},
   "outputs": [
    {
     "name": "stdout",
     "output_type": "stream",
     "text": [
      "14529\n",
      "0\n"
     ]
    }
   ],
   "source": [
    "print(BNP.v10[BNP.v10>UL].count())\n",
    "print(BNP.v10[BNP.v10<LL].count())"
   ]
  },
  {
   "cell_type": "code",
   "execution_count": 48,
   "metadata": {},
   "outputs": [
    {
     "name": "stdout",
     "output_type": "stream",
     "text": [
      "inter quantile range v10\n",
      "0.6975118122000001\n",
      "upper limit: 8.066250512105\n",
      "lowerlimit: 5.276203263305\n"
     ]
    }
   ],
   "source": [
    "print(\"inter quantile range v10\")\n",
    "Q3 = BNP.v12.quantile(q= 0.75)\n",
    "Q1 = BNP.v12.quantile(q= 0.25)\n",
    "IQR = Q3 -Q1\n",
    "print(IQR)\n",
    "UL = Q3 + (1.5 *  IQR)\n",
    "print(\"upper limit:\",UL)\n",
    "LL = Q1 - (1.5* IQR)\n",
    "print(\"lowerlimit:\", LL)"
   ]
  },
  {
   "cell_type": "code",
   "execution_count": 49,
   "metadata": {},
   "outputs": [
    {
     "name": "stdout",
     "output_type": "stream",
     "text": [
      "11843\n",
      "237\n"
     ]
    }
   ],
   "source": [
    "print(BNP.v12[BNP.v12>UL].count())\n",
    "print(BNP.v12[BNP.v12<LL].count())"
   ]
  },
  {
   "cell_type": "code",
   "execution_count": 50,
   "metadata": {},
   "outputs": [
    {
     "data": {
      "text/plain": [
       "count    1.143170e+05\n",
       "mean     1.209428e+01\n",
       "std      1.443947e+00\n",
       "min     -9.738831e-07\n",
       "25%      1.125602e+01\n",
       "50%      1.196783e+01\n",
       "75%      1.271577e+01\n",
       "max      2.000000e+01\n",
       "Name: v14, dtype: float64"
      ]
     },
     "execution_count": 50,
     "metadata": {},
     "output_type": "execute_result"
    }
   ],
   "source": [
    "BNP.v14.describe()"
   ]
  },
  {
   "cell_type": "code",
   "execution_count": 51,
   "metadata": {},
   "outputs": [
    {
     "data": {
      "image/png": "[encoded data removed]",
      "text/plain": [
       "<Figure size 432x288 with 1 Axes>"
      ]
     },
     "metadata": {
      "needs_background": "light"
     },
     "output_type": "display_data"
    }
   ],
   "source": [
    "plt.hist(BNP.v14,bins = 100)\n",
    "plt.show()"
   ]
  },
  {
   "cell_type": "code",
   "execution_count": 52,
   "metadata": {},
   "outputs": [
    {
     "data": {
      "text/plain": [
       "40"
      ]
     },
     "execution_count": 52,
     "metadata": {},
     "output_type": "execute_result"
    }
   ],
   "source": [
    "#neg values in v14\n",
    "BNP.v14[BNP.v14<0].count() "
   ]
  },
  {
   "cell_type": "code",
   "execution_count": 53,
   "metadata": {},
   "outputs": [
    {
     "name": "stdout",
     "output_type": "stream",
     "text": [
      "inter quantile range v10\n",
      "1.4597569742999994\n",
      "upper limit: 14.905409722149999\n",
      "lowerlimit: 9.066381824950001\n"
     ]
    }
   ],
   "source": [
    "print(\"inter quantile range v10\")\n",
    "Q3 = BNP.v14.quantile(q= 0.75)\n",
    "Q1 = BNP.v14.quantile(q= 0.25)\n",
    "IQR = Q3 -Q1\n",
    "print(IQR)\n",
    "UL = Q3 + (1.5 *  IQR)\n",
    "print(\"upper limit:\",UL)\n",
    "LL = Q1 - (1.5* IQR)\n",
    "print(\"lowerlimit:\", LL)"
   ]
  },
  {
   "cell_type": "code",
   "execution_count": 54,
   "metadata": {},
   "outputs": [
    {
     "name": "stdout",
     "output_type": "stream",
     "text": [
      "5472\n",
      "1365\n"
     ]
    }
   ],
   "source": [
    "print(BNP.v14[BNP.v14>UL].count())\n",
    "print(BNP.v14[BNP.v14<LL].count())"
   ]
  },
  {
   "cell_type": "code",
   "execution_count": 55,
   "metadata": {},
   "outputs": [
    {
     "data": {
      "text/plain": [
       "count    113710.000000\n",
       "mean          7.029740\n",
       "std           1.072271\n",
       "min           0.106181\n",
       "25%           6.415535\n",
       "50%           7.045416\n",
       "75%           7.670577\n",
       "max          19.296052\n",
       "Name: v21, dtype: float64"
      ]
     },
     "execution_count": 55,
     "metadata": {},
     "output_type": "execute_result"
    }
   ],
   "source": [
    "BNP.v21.describe()"
   ]
  },
  {
   "cell_type": "code",
   "execution_count": 56,
   "metadata": {},
   "outputs": [
    {
     "name": "stdout",
     "output_type": "stream",
     "text": [
      "inter quantile range v10\n",
      "1.2550425948574988\n",
      "upper limit: 9.553141208571247\n",
      "lowerlimit: 4.532970829141252\n"
     ]
    }
   ],
   "source": [
    "print(\"inter quantile range v10\")\n",
    "Q3 = BNP.v21.quantile(q= 0.75)\n",
    "Q1 = BNP.v21.quantile(q= 0.25)\n",
    "IQR = Q3 -Q1\n",
    "print(IQR)\n",
    "UL = Q3 + (1.5 *  IQR)\n",
    "print(\"upper limit:\",UL)\n",
    "LL = Q1 - (1.5* IQR)\n",
    "print(\"lowerlimit:\", LL)"
   ]
  },
  {
   "cell_type": "code",
   "execution_count": 57,
   "metadata": {},
   "outputs": [
    {
     "name": "stdout",
     "output_type": "stream",
     "text": [
      "1222\n",
      "1935\n"
     ]
    }
   ],
   "source": [
    "print(BNP.v21[BNP.v21>UL].count())\n",
    "print(BNP.v21[BNP.v21<LL].count())"
   ]
  },
  {
   "cell_type": "code",
   "execution_count": 58,
   "metadata": {},
   "outputs": [
    {
     "data": {
      "text/plain": [
       "Counter({'XDX': 1,\n",
       "         'GUV': 81,\n",
       "         'FQ': 2,\n",
       "         'ACUE': 16,\n",
       "         'HIT': 12,\n",
       "         'AYX': 6,\n",
       "         'NFD': 13,\n",
       "         'AHBW': 14,\n",
       "         'GKQ': 11,\n",
       "         'PYF': 26,\n",
       "         'GEH': 66,\n",
       "         'ABQS': 1,\n",
       "         'QKP': 147,\n",
       "         'MVD': 3,\n",
       "         'NKE': 46,\n",
       "         'NSV': 31,\n",
       "         nan: 500,\n",
       "         'ABJD': 3,\n",
       "         'AGDF': 2386,\n",
       "         'IEE': 2,\n",
       "         'AHGR': 44,\n",
       "         'WRI': 207,\n",
       "         'ACLU': 4,\n",
       "         'VZF': 296,\n",
       "         'ABPH': 48,\n",
       "         'CBS': 28,\n",
       "         'BWJ': 2,\n",
       "         'MQE': 146,\n",
       "         'FLR': 10,\n",
       "         'IIP': 54,\n",
       "         'BZT': 16,\n",
       "         'ADBM': 40,\n",
       "         'AVB': 8,\n",
       "         'XFE': 8,\n",
       "         'ACOZ': 63,\n",
       "         'QSS': 2,\n",
       "         'YGJ': 2119,\n",
       "         'RHD': 2,\n",
       "         'JOF': 98,\n",
       "         'RIP': 8,\n",
       "         'AHE': 167,\n",
       "         'FGN': 3,\n",
       "         'HTO': 8,\n",
       "         'KQS': 11,\n",
       "         'QCO': 13,\n",
       "         'NGS': 197,\n",
       "         'CMG': 123,\n",
       "         'PYH': 6,\n",
       "         'EZI': 13,\n",
       "         'HUU': 146,\n",
       "         'UDX': 32,\n",
       "         'OJ': 25,\n",
       "         'AGXX': 12,\n",
       "         'ACFK': 3,\n",
       "         'AEED': 3,\n",
       "         'GOI': 2,\n",
       "         'ZHA': 6,\n",
       "         'KUQ': 1,\n",
       "         'AIN': 9,\n",
       "         'DOB': 19,\n",
       "         'AFJK': 27,\n",
       "         'ACXD': 131,\n",
       "         'QU': 6,\n",
       "         'AGTX': 2,\n",
       "         'ADDF': 212,\n",
       "         'AAJR': 7,\n",
       "         'JRI': 9,\n",
       "         'BMF': 35,\n",
       "         'SJV': 4,\n",
       "         'MYZ': 15,\n",
       "         'QKI': 668,\n",
       "         'PPX': 39,\n",
       "         'VVI': 211,\n",
       "         'ABOF': 204,\n",
       "         'ROZ': 344,\n",
       "         'AFDL': 12,\n",
       "         'OHP': 1,\n",
       "         'TG': 166,\n",
       "         'OBM': 11,\n",
       "         'CE': 15,\n",
       "         'AEXD': 101,\n",
       "         'KBM': 1,\n",
       "         'AV': 3,\n",
       "         'PFR': 226,\n",
       "         'AHPP': 53,\n",
       "         'KEM': 2,\n",
       "         'XQU': 7,\n",
       "         'RIO': 11,\n",
       "         'PWR': 649,\n",
       "         'GDW': 82,\n",
       "         'ACTZ': 13,\n",
       "         'AGVV': 11,\n",
       "         'QHQ': 24,\n",
       "         'SGN': 2,\n",
       "         'AGRM': 5,\n",
       "         'ADBQ': 2,\n",
       "         'BAX': 1,\n",
       "         'ABFX': 15,\n",
       "         'FKK': 70,\n",
       "         'MMT': 3,\n",
       "         'KZG': 59,\n",
       "         'PMY': 3,\n",
       "         'BLE': 126,\n",
       "         'ABKQ': 15,\n",
       "         'UMI': 31,\n",
       "         'JPE': 54,\n",
       "         'AMT': 30,\n",
       "         'JCA': 16,\n",
       "         'AGON': 167,\n",
       "         'ACMZ': 4,\n",
       "         'NRT': 238,\n",
       "         'KDA': 81,\n",
       "         'WEJ': 62,\n",
       "         'AGTO': 3,\n",
       "         'COR': 56,\n",
       "         'YDO': 4,\n",
       "         'BJF': 4,\n",
       "         'AAPP': 164,\n",
       "         'WFB': 12,\n",
       "         'IHN': 7,\n",
       "         'AGZT': 127,\n",
       "         'ZT': 4,\n",
       "         'OWM': 1,\n",
       "         'HMQ': 3,\n",
       "         'AUN': 21,\n",
       "         'ABWT': 4,\n",
       "         'ST': 75,\n",
       "         'ACIZ': 32,\n",
       "         'ZYV': 15,\n",
       "         'EJD': 2,\n",
       "         'AWC': 3,\n",
       "         'NXE': 128,\n",
       "         'BS': 9,\n",
       "         'KUU': 22,\n",
       "         'JTX': 9,\n",
       "         'AHJ': 16,\n",
       "         'ADMF': 37,\n",
       "         'AEBX': 4,\n",
       "         'IBE': 31,\n",
       "         'PZM': 68,\n",
       "         'WZV': 2,\n",
       "         'GEJ': 150,\n",
       "         'NOM': 23,\n",
       "         'JEA': 36,\n",
       "         'TVR': 182,\n",
       "         'DIQ': 10,\n",
       "         'YFT': 79,\n",
       "         'AGWP': 13,\n",
       "         'ABEK': 51,\n",
       "         'ABUA': 75,\n",
       "         'JWA': 4,\n",
       "         'RUZ': 1,\n",
       "         'TQD': 13,\n",
       "         'OEQ': 2,\n",
       "         'DNF': 10,\n",
       "         'IZH': 2,\n",
       "         'ABOM': 7,\n",
       "         'RET': 68,\n",
       "         'ABG': 7,\n",
       "         'GHE': 56,\n",
       "         'PYW': 12,\n",
       "         'QBZ': 56,\n",
       "         'WCV': 35,\n",
       "         'CHF': 11,\n",
       "         'KCD': 52,\n",
       "         'EXB': 22,\n",
       "         'ACI': 25,\n",
       "         'YOD': 303,\n",
       "         'AFDJ': 7,\n",
       "         'VBL': 1,\n",
       "         'SQA': 10,\n",
       "         'PBC': 152,\n",
       "         'AJG': 5,\n",
       "         'AEVX': 11,\n",
       "         'COT': 12,\n",
       "         'JQT': 50,\n",
       "         'HZG': 3,\n",
       "         'WQB': 8,\n",
       "         'RUA': 29,\n",
       "         'QOB': 2,\n",
       "         'TYO': 5,\n",
       "         'AFAK': 33,\n",
       "         'KWE': 13,\n",
       "         'ARA': 4,\n",
       "         'GXK': 38,\n",
       "         'WWO': 5,\n",
       "         'GKG': 19,\n",
       "         'AAYR': 8,\n",
       "         'YJR': 13,\n",
       "         'JGY': 138,\n",
       "         'ABCX': 1,\n",
       "         'YUT': 13,\n",
       "         'HSH': 1,\n",
       "         'SOF': 69,\n",
       "         'KEJ': 62,\n",
       "         'OGO': 21,\n",
       "         'MAK': 5,\n",
       "         'QEO': 4,\n",
       "         'AAQE': 67,\n",
       "         'IAP': 71,\n",
       "         'EGZ': 61,\n",
       "         'AAIM': 19,\n",
       "         'ACET': 3,\n",
       "         'DKF': 5,\n",
       "         'KBN': 65,\n",
       "         'QVR': 210,\n",
       "         'SJO': 41,\n",
       "         'RMM': 7,\n",
       "         'FFH': 13,\n",
       "         'PSI': 14,\n",
       "         'XHE': 5,\n",
       "         'NBH': 14,\n",
       "         'AQG': 6,\n",
       "         'VKA': 55,\n",
       "         'UVM': 34,\n",
       "         'RXB': 103,\n",
       "         'THR': 38,\n",
       "         'LHY': 38,\n",
       "         'ZIJ': 15,\n",
       "         'GW': 10,\n",
       "         'DDD': 27,\n",
       "         'NWG': 167,\n",
       "         'MJU': 4,\n",
       "         'AEUM': 19,\n",
       "         'TTX': 124,\n",
       "         'LSD': 38,\n",
       "         'TSH': 7,\n",
       "         'NAI': 48,\n",
       "         'BKV': 54,\n",
       "         'NXI': 40,\n",
       "         'YBA': 7,\n",
       "         'BCS': 20,\n",
       "         'AEPJ': 14,\n",
       "         'LXH': 56,\n",
       "         'OLW': 44,\n",
       "         'PSE': 199,\n",
       "         'HZE': 423,\n",
       "         'AFD': 109,\n",
       "         'LRL': 6,\n",
       "         'AIT': 12,\n",
       "         'BDT': 10,\n",
       "         'DXH': 53,\n",
       "         'ABJB': 2,\n",
       "         'PJO': 10,\n",
       "         'VQK': 7,\n",
       "         'KDP': 36,\n",
       "         'EYA': 6,\n",
       "         'VHA': 83,\n",
       "         'MNZ': 382,\n",
       "         'OZP': 3,\n",
       "         'CLX': 10,\n",
       "         'HKQ': 31,\n",
       "         'JV': 58,\n",
       "         'GOT': 13,\n",
       "         'XKD': 92,\n",
       "         'HLT': 87,\n",
       "         'XP': 12,\n",
       "         'ADMP': 172,\n",
       "         'PG': 19,\n",
       "         'GK': 2,\n",
       "         'ABGC': 71,\n",
       "         'TBN': 6,\n",
       "         'EMV': 35,\n",
       "         'ADLS': 1,\n",
       "         'TYN': 27,\n",
       "         'DJU': 152,\n",
       "         'PIY': 5,\n",
       "         'XPR': 27,\n",
       "         'BUN': 10,\n",
       "         'ADMM': 47,\n",
       "         'BO': 4,\n",
       "         'LZZ': 3,\n",
       "         'LQ': 2,\n",
       "         'KKG': 8,\n",
       "         'HAO': 13,\n",
       "         'LSJ': 53,\n",
       "         'TIS': 14,\n",
       "         'XNT': 1,\n",
       "         'EUQ': 95,\n",
       "         'BNL': 47,\n",
       "         'EZJ': 49,\n",
       "         'AAKA': 6,\n",
       "         'AANT': 2,\n",
       "         'EMP': 98,\n",
       "         'AEQY': 3,\n",
       "         'QMN': 2,\n",
       "         'VBQ': 14,\n",
       "         'HWE': 51,\n",
       "         'CVS': 3,\n",
       "         'RHT': 51,\n",
       "         'BAB': 46,\n",
       "         'COY': 1,\n",
       "         'TIB': 3,\n",
       "         'YYM': 57,\n",
       "         'AELM': 2,\n",
       "         'VWA': 45,\n",
       "         'SES': 24,\n",
       "         'BX': 8,\n",
       "         'ADGL': 90,\n",
       "         'TGB': 5,\n",
       "         'ZQB': 11,\n",
       "         'ULY': 2,\n",
       "         'UXT': 2,\n",
       "         'QBF': 22,\n",
       "         'VIE': 96,\n",
       "         'AAGW': 122,\n",
       "         'FAE': 2,\n",
       "         'AGOJ': 40,\n",
       "         'ADSP': 4,\n",
       "         'ACAJ': 13,\n",
       "         'DQU': 3,\n",
       "         'FOG': 6,\n",
       "         'ROU': 4,\n",
       "         'ODV': 3,\n",
       "         'AFHR': 2,\n",
       "         'OPD': 21,\n",
       "         'OGN': 1,\n",
       "         'AHHA': 2,\n",
       "         'ECE': 3,\n",
       "         'ACJQ': 32,\n",
       "         'UZC': 21,\n",
       "         'RIC': 146,\n",
       "         'XXQ': 17,\n",
       "         'ACUR': 58,\n",
       "         'PEO': 27,\n",
       "         'LTN': 1,\n",
       "         'AFEL': 6,\n",
       "         'AMA': 18,\n",
       "         'TAS': 2,\n",
       "         'ABOU': 68,\n",
       "         'IDL': 9,\n",
       "         'AHOW': 2,\n",
       "         'ACKI': 29,\n",
       "         'ZLQ': 4,\n",
       "         'AAKD': 2,\n",
       "         'HXQ': 1,\n",
       "         'EBH': 47,\n",
       "         'YEH': 2,\n",
       "         'AKG': 45,\n",
       "         'ACOX': 2,\n",
       "         'COU': 4,\n",
       "         'ZFO': 21,\n",
       "         'VZE': 1,\n",
       "         'AFGW': 7,\n",
       "         'AMB': 3,\n",
       "         'AYR': 58,\n",
       "         'HPD': 8,\n",
       "         'MWP': 8,\n",
       "         'XUX': 2,\n",
       "         'SAF': 56,\n",
       "         'TIK': 32,\n",
       "         'AXH': 148,\n",
       "         'ATC': 7,\n",
       "         'ABHA': 1,\n",
       "         'AAWP': 2,\n",
       "         'QLC': 2,\n",
       "         'HRJ': 30,\n",
       "         'KAS': 3,\n",
       "         'XJS': 13,\n",
       "         'GOK': 6,\n",
       "         'UCY': 4,\n",
       "         'LND': 2,\n",
       "         'PI': 8,\n",
       "         'PEV': 82,\n",
       "         'IHK': 65,\n",
       "         'AGKD': 1,\n",
       "         'AEMF': 21,\n",
       "         'UNT': 5,\n",
       "         'AEMV': 2,\n",
       "         'QYN': 5,\n",
       "         'LDX': 52,\n",
       "         'KJO': 19,\n",
       "         'KDV': 29,\n",
       "         'BTH': 16,\n",
       "         'ADVZ': 34,\n",
       "         'PYJ': 8,\n",
       "         'ACOQ': 3,\n",
       "         'AAHH': 10,\n",
       "         'LSW': 18,\n",
       "         'AACV': 10,\n",
       "         'JQS': 4,\n",
       "         'NLH': 36,\n",
       "         'DZW': 54,\n",
       "         'AEMM': 2,\n",
       "         'ZNH': 94,\n",
       "         'PZS': 4,\n",
       "         'AIR': 22,\n",
       "         'ACHJ': 137,\n",
       "         'BOV': 29,\n",
       "         'XEL': 20,\n",
       "         'WI': 28,\n",
       "         'FHS': 5,\n",
       "         'HLB': 78,\n",
       "         'EOD': 46,\n",
       "         'SOH': 3,\n",
       "         'SZB': 12,\n",
       "         'EYN': 16,\n",
       "         'JBS': 1,\n",
       "         'GBS': 299,\n",
       "         'AGUZ': 1,\n",
       "         'ZKM': 5,\n",
       "         'TZB': 1,\n",
       "         'PNT': 2,\n",
       "         'WLM': 5,\n",
       "         'HEH': 23,\n",
       "         'FGX': 1,\n",
       "         'WPS': 103,\n",
       "         'MUZ': 9,\n",
       "         'UDF': 27,\n",
       "         'RXH': 42,\n",
       "         'TTL': 3,\n",
       "         'QFG': 23,\n",
       "         'MIW': 43,\n",
       "         'NMO': 85,\n",
       "         'AARJ': 31,\n",
       "         'AWT': 128,\n",
       "         'HOB': 2,\n",
       "         'LVA': 26,\n",
       "         'ZF': 24,\n",
       "         'MHK': 49,\n",
       "         'GYG': 2,\n",
       "         'HDD': 243,\n",
       "         'AAD': 10,\n",
       "         'BVL': 1,\n",
       "         'QSR': 23,\n",
       "         'UNS': 65,\n",
       "         'HHK': 20,\n",
       "         'AGMU': 69,\n",
       "         'PTO': 350,\n",
       "         'UHI': 41,\n",
       "         'AFF': 11,\n",
       "         'ANV': 18,\n",
       "         'AFHZ': 1,\n",
       "         'RVW': 1,\n",
       "         'QGT': 23,\n",
       "         'AFUF': 101,\n",
       "         'NPG': 54,\n",
       "         'AEGE': 52,\n",
       "         'CVB': 5,\n",
       "         'TXQ': 2,\n",
       "         'ACNA': 12,\n",
       "         'PFX': 33,\n",
       "         'IZZ': 3,\n",
       "         'ADDE': 4,\n",
       "         'BOR': 1,\n",
       "         'AAVZ': 4,\n",
       "         'FVL': 8,\n",
       "         'OSS': 37,\n",
       "         'EJZ': 104,\n",
       "         'OP': 104,\n",
       "         'PPH': 1,\n",
       "         'CBF': 25,\n",
       "         'ADK': 9,\n",
       "         'VNY': 1,\n",
       "         'DA': 14,\n",
       "         'ZOS': 12,\n",
       "         'FVD': 24,\n",
       "         'FLH': 6,\n",
       "         'ADKL': 2,\n",
       "         'TPN': 1,\n",
       "         'ACXK': 18,\n",
       "         'ABLO': 19,\n",
       "         'MAM': 22,\n",
       "         'KGY': 77,\n",
       "         'WNI': 244,\n",
       "         'WJT': 40,\n",
       "         'GLL': 19,\n",
       "         'GWA': 1,\n",
       "         'IQT': 1,\n",
       "         'YNI': 18,\n",
       "         'AEMT': 24,\n",
       "         'ICQ': 3,\n",
       "         'QZ': 39,\n",
       "         'XOE': 15,\n",
       "         'FWZ': 46,\n",
       "         'GYR': 7,\n",
       "         'ABF': 166,\n",
       "         'EFH': 8,\n",
       "         'ACLZ': 13,\n",
       "         'AZC': 26,\n",
       "         'FNF': 23,\n",
       "         'ORK': 1,\n",
       "         'VDX': 1,\n",
       "         'XAU': 95,\n",
       "         'LFR': 8,\n",
       "         'IB': 59,\n",
       "         'VE': 5,\n",
       "         'ODZ': 55,\n",
       "         'VLJ': 12,\n",
       "         'KVX': 56,\n",
       "         'AEMN': 57,\n",
       "         'XSP': 1,\n",
       "         'FVQ': 100,\n",
       "         'EBK': 11,\n",
       "         'KYG': 1,\n",
       "         'JIJ': 2,\n",
       "         'AEYZ': 34,\n",
       "         'WWN': 22,\n",
       "         'UYC': 28,\n",
       "         'NTM': 100,\n",
       "         'EJ': 2,\n",
       "         'XFA': 67,\n",
       "         'ACCV': 10,\n",
       "         'HL': 3,\n",
       "         'KGE': 7,\n",
       "         'LOI': 58,\n",
       "         'NLP': 1,\n",
       "         'YYC': 8,\n",
       "         'QNL': 9,\n",
       "         'BBZ': 9,\n",
       "         'HR': 6,\n",
       "         'BET': 27,\n",
       "         'AEVE': 2,\n",
       "         'XPA': 3,\n",
       "         'UDR': 9,\n",
       "         'OAS': 2,\n",
       "         'WKP': 9,\n",
       "         'IOU': 13,\n",
       "         'MYP': 1,\n",
       "         'XXP': 39,\n",
       "         'ISR': 6,\n",
       "         'BYE': 6,\n",
       "         'CTB': 16,\n",
       "         'DPC': 4,\n",
       "         'ACJW': 8,\n",
       "         'AGRP': 13,\n",
       "         'HFU': 9,\n",
       "         'ZPY': 1,\n",
       "         'TCZ': 23,\n",
       "         'JXR': 30,\n",
       "         'QOW': 27,\n",
       "         'AAHM': 5,\n",
       "         'FKP': 4,\n",
       "         'FCE': 3,\n",
       "         'QMC': 56,\n",
       "         'CLI': 62,\n",
       "         'GWP': 31,\n",
       "         'ADHQ': 21,\n",
       "         'AETM': 29,\n",
       "         'DHQ': 32,\n",
       "         'YXN': 43,\n",
       "         'GRK': 2,\n",
       "         'UW': 2,\n",
       "         'XWN': 2,\n",
       "         'LMM': 16,\n",
       "         'GAJ': 28,\n",
       "         'ABZT': 59,\n",
       "         'LAQ': 7,\n",
       "         'GZF': 10,\n",
       "         'HYY': 2,\n",
       "         'LZC': 12,\n",
       "         'VKY': 6,\n",
       "         'MQG': 5,\n",
       "         'ADVX': 3,\n",
       "         'XIX': 11,\n",
       "         'YN': 16,\n",
       "         'OGF': 12,\n",
       "         'QNV': 1,\n",
       "         'AAEF': 93,\n",
       "         'YWQ': 36,\n",
       "         'YBV': 114,\n",
       "         'QQX': 12,\n",
       "         'ACJE': 1,\n",
       "         'NWS': 3,\n",
       "         'ZYN': 15,\n",
       "         'LID': 4,\n",
       "         'MVS': 50,\n",
       "         'TYR': 74,\n",
       "         'AATX': 8,\n",
       "         'HTD': 9,\n",
       "         'AHCZ': 2,\n",
       "         'TWR': 6,\n",
       "         'LNR': 1,\n",
       "         'AEAR': 6,\n",
       "         'RCR': 30,\n",
       "         'CZZ': 14,\n",
       "         'RCN': 57,\n",
       "         'ZQM': 29,\n",
       "         'AHQ': 9,\n",
       "         'XJQ': 2,\n",
       "         'XZX': 6,\n",
       "         'AHCN': 63,\n",
       "         'UBK': 123,\n",
       "         'UHX': 2,\n",
       "         'FMI': 4,\n",
       "         'KTP': 19,\n",
       "         'KEO': 23,\n",
       "         'NI': 8,\n",
       "         'BZB': 3,\n",
       "         'FGD': 26,\n",
       "         'AGGI': 26,\n",
       "         'ACNS': 73,\n",
       "         'VZP': 9,\n",
       "         'ME': 11,\n",
       "         'HDB': 22,\n",
       "         'AHFW': 28,\n",
       "         'MOT': 31,\n",
       "         'PCW': 4,\n",
       "         'AANG': 5,\n",
       "         'KKY': 2,\n",
       "         'PEF': 23,\n",
       "         'ITZ': 14,\n",
       "         'UJA': 32,\n",
       "         'ACWG': 9,\n",
       "         'SNY': 2,\n",
       "         'JLV': 5,\n",
       "         'TMP': 3,\n",
       "         'GHD': 10,\n",
       "         'FWJ': 3,\n",
       "         'PTY': 30,\n",
       "         'ESJ': 101,\n",
       "         'MXZ': 7,\n",
       "         'PDY': 7,\n",
       "         'MXE': 5,\n",
       "         'GZS': 5,\n",
       "         'ABIM': 6,\n",
       "         'AEWC': 17,\n",
       "         'HTM': 2,\n",
       "         'AFAP': 14,\n",
       "         'LKG': 6,\n",
       "         'AZY': 30,\n",
       "         'KZE': 11,\n",
       "         'AETV': 6,\n",
       "         'XXM': 28,\n",
       "         'GHM': 11,\n",
       "         'AFOP': 12,\n",
       "         'ACMY': 7,\n",
       "         'HFC': 1,\n",
       "         'KOX': 111,\n",
       "         'AELC': 49,\n",
       "         'KFR': 73,\n",
       "         'HLZ': 24,\n",
       "         'THE': 38,\n",
       "         'KLZ': 136,\n",
       "         'JBI': 3,\n",
       "         'DS': 2,\n",
       "         'PWX': 10,\n",
       "         'ACCR': 11,\n",
       "         'NYO': 7,\n",
       "         'FLS': 20,\n",
       "         'AZJ': 5,\n",
       "         'AAYM': 6,\n",
       "         'PTJ': 178,\n",
       "         'PWQ': 16,\n",
       "         'TVZ': 6,\n",
       "         'ADDM': 32,\n",
       "         'LNQ': 5,\n",
       "         'AGM': 8,\n",
       "         'YVE': 15,\n",
       "         'MDQ': 7,\n",
       "         'GFH': 5,\n",
       "         'AADE': 3,\n",
       "         'LMA': 6,\n",
       "         'JEF': 4,\n",
       "         'AJQ': 252,\n",
       "         'QJ': 6,\n",
       "         'RRA': 90,\n",
       "         'HFY': 41,\n",
       "         'PPE': 13,\n",
       "         'NMC': 10,\n",
       "         'MPH': 3,\n",
       "         'IRX': 19,\n",
       "         'MO': 2,\n",
       "         'AHJD': 3,\n",
       "         'KA': 27,\n",
       "         'AXQ': 5,\n",
       "         'WIK': 41,\n",
       "         'MPI': 49,\n",
       "         'KHF': 31,\n",
       "         'RW': 81,\n",
       "         'DEF': 46,\n",
       "         'AGT': 78,\n",
       "         'KXY': 2,\n",
       "         'ACQY': 40,\n",
       "         'AEEV': 12,\n",
       "         'BZD': 15,\n",
       "         'AYN': 3,\n",
       "         'AFBX': 15,\n",
       "         'ADRE': 22,\n",
       "         'PRU': 3,\n",
       "         'RJR': 29,\n",
       "         'JKC': 3,\n",
       "         'USG': 10,\n",
       "         'AEFX': 45,\n",
       "         'ABBJ': 28,\n",
       "         'OUT': 9,\n",
       "         'AASA': 27,\n",
       "         'GUQ': 11,\n",
       "         'VHJ': 7,\n",
       "         'GJZ': 20,\n",
       "         'YGB': 3,\n",
       "         'EIN': 5,\n",
       "         'LOB': 2,\n",
       "         'ZLH': 124,\n",
       "         'ACHY': 27,\n",
       "         'ABCS': 35,\n",
       "         'AMY': 28,\n",
       "         'ADDV': 11,\n",
       "         'XIT': 8,\n",
       "         'XZO': 14,\n",
       "         'AAHX': 28,\n",
       "         'GFB': 33,\n",
       "         'ATJ': 13,\n",
       "         'AEUR': 23,\n",
       "         'BIO': 2,\n",
       "         'AWA': 55,\n",
       "         'AAW': 26,\n",
       "         'HAI': 1,\n",
       "         'IKW': 11,\n",
       "         'DOS': 9,\n",
       "         'NLT': 47,\n",
       "         'ACIH': 89,\n",
       "         'UNQ': 4,\n",
       "         'WTH': 21,\n",
       "         'TKA': 2,\n",
       "         'ABUE': 44,\n",
       "         'UNN': 1,\n",
       "         'AGXB': 2,\n",
       "         'OTE': 14,\n",
       "         'VSY': 49,\n",
       "         'POA': 1,\n",
       "         'ACFD': 4,\n",
       "         'WKW': 6,\n",
       "         'QXN': 1,\n",
       "         'UUS': 3,\n",
       "         'AAL': 18,\n",
       "         'ADP': 5,\n",
       "         'URY': 53,\n",
       "         'GPX': 4,\n",
       "         'CXF': 68,\n",
       "         'ADBO': 3,\n",
       "         'GDU': 11,\n",
       "         'DQF': 5,\n",
       "         'HRX': 1,\n",
       "         'ACVP': 29,\n",
       "         'AXZ': 3,\n",
       "         'HPR': 5,\n",
       "         'SRB': 49,\n",
       "         'AEUH': 9,\n",
       "         'IYN': 3,\n",
       "         'ADOX': 86,\n",
       "         'ACRL': 37,\n",
       "         'JBQ': 3,\n",
       "         'AECT': 1,\n",
       "         'YCM': 9,\n",
       "         'KQK': 12,\n",
       "         'ABPM': 41,\n",
       "         'ULR': 50,\n",
       "         'RKE': 4,\n",
       "         'AECB': 31,\n",
       "         'YHU': 35,\n",
       "         'KIC': 2,\n",
       "         'OJG': 51,\n",
       "         'AENQ': 16,\n",
       "         'VHD': 12,\n",
       "         'ABZV': 1,\n",
       "         'DHC': 32,\n",
       "         'JQG': 32,\n",
       "         'VNG': 41,\n",
       "         'DJB': 1,\n",
       "         'XVS': 5,\n",
       "         'UGK': 9,\n",
       "         'WNS': 38,\n",
       "         'TAQ': 17,\n",
       "         'TQJ': 9,\n",
       "         'ADNJ': 30,\n",
       "         'UHD': 17,\n",
       "         'QVV': 2,\n",
       "         'LMY': 15,\n",
       "         'ABXW': 3,\n",
       "         'ADPU': 28,\n",
       "         'IBH': 17,\n",
       "         'YSP': 7,\n",
       "         'YZN': 2,\n",
       "         'ADMI': 156,\n",
       "         'WSL': 7,\n",
       "         'WCP': 1,\n",
       "         'ZCY': 1,\n",
       "         'ACWB': 2,\n",
       "         'BUX': 4,\n",
       "         'APR': 2,\n",
       "         'PAR': 85,\n",
       "         'AAKH': 18,\n",
       "         'XLW': 3,\n",
       "         'UI': 29,\n",
       "         'BMZ': 1,\n",
       "         'FGF': 32,\n",
       "         'VVZ': 2,\n",
       "         'EPY': 5,\n",
       "         'MMU': 42,\n",
       "         'IWW': 4,\n",
       "         'JK': 19,\n",
       "         'LB': 31,\n",
       "         'YNO': 4,\n",
       "         'KZN': 1,\n",
       "         'TQN': 2,\n",
       "         'OOU': 8,\n",
       "         'NZU': 9,\n",
       "         'GMT': 16,\n",
       "         'JLC': 4,\n",
       "         'XRC': 1,\n",
       "         'GOX': 9,\n",
       "         'OMA': 1,\n",
       "         'UYH': 8,\n",
       "         'WIG': 32,\n",
       "         'RJZ': 26,\n",
       "         'LJS': 124,\n",
       "         'CER': 17,\n",
       "         'CB': 7,\n",
       "         'ADDO': 22,\n",
       "         'ABSR': 2,\n",
       "         'ABCA': 43,\n",
       "         'RYB': 1,\n",
       "         'ACSL': 5,\n",
       "         'NMY': 10,\n",
       "         'MF': 3,\n",
       "         'POK': 45,\n",
       "         'AEFB': 17,\n",
       "         'BMA': 5,\n",
       "         'AFLL': 48,\n",
       "         'FTM': 13,\n",
       "         'ABPU': 19,\n",
       "         'AHBA': 100,\n",
       "         'FFI': 22,\n",
       "         'LBX': 50,\n",
       "         'FSP': 4,\n",
       "         'MOQ': 18,\n",
       "         'TVC': 8,\n",
       "         'KUN': 86,\n",
       "         'AXB': 2,\n",
       "         'MJH': 95,\n",
       "         'GXX': 3,\n",
       "         'CQS': 44,\n",
       "         'DTI': 2,\n",
       "         'PEU': 2,\n",
       "         'MBM': 51,\n",
       "         'AGZY': 3,\n",
       "         'UYW': 19,\n",
       "         'SDW': 3,\n",
       "         'EFD': 1,\n",
       "         'FVG': 7,\n",
       "         'WBD': 64,\n",
       "         'SIF': 72,\n",
       "         'FM': 28,\n",
       "         'RB': 16,\n",
       "         'QUN': 98,\n",
       "         'VRA': 18,\n",
       "         'OOD': 27,\n",
       "         'GOS': 91,\n",
       "         'TSA': 1,\n",
       "         'SXS': 4,\n",
       "         'CAO': 2,\n",
       "         'NVP': 63,\n",
       "         'ZME': 14,\n",
       "         'OSX': 56,\n",
       "         'ACX': 30,\n",
       "         'GFT': 10,\n",
       "         'ACMG': 10,\n",
       "         'RPT': 3,\n",
       "         'JWM': 4,\n",
       "         'ADB': 54,\n",
       "         'EMH': 11,\n",
       "         'QHH': 4,\n",
       "         'FMB': 7,\n",
       "         'AIU': 43,\n",
       "         'XGA': 20,\n",
       "         'PNV': 3,\n",
       "         'OXH': 19,\n",
       "         'DCY': 18,\n",
       "         'MLE': 4,\n",
       "         'IQL': 23,\n",
       "         'WIA': 6,\n",
       "         'GRT': 13,\n",
       "         'AUU': 1,\n",
       "         'AEK': 49,\n",
       "         'AHLW': 25,\n",
       "         'AOG': 22,\n",
       "         'JUY': 8,\n",
       "         'CNH': 1,\n",
       "         'ACTF': 6,\n",
       "         'AEXZ': 3,\n",
       "         'RZA': 5,\n",
       "         'TUA': 4,\n",
       "         'AGYG': 2,\n",
       "         'YAR': 65,\n",
       "         'ROV': 10,\n",
       "         'AHG': 4,\n",
       "         'PKY': 45,\n",
       "         'AGDP': 8,\n",
       "         'FGC': 28,\n",
       "         'PXR': 8,\n",
       "         'KIY': 1,\n",
       "         'AUW': 14,\n",
       "         'BMX': 25,\n",
       "         'BUY': 91,\n",
       "         'AEKA': 5,\n",
       "         'SPS': 10,\n",
       "         'DRE': 46,\n",
       "         'EHY': 5,\n",
       "         'AHFK': 1,\n",
       "         'AEBN': 11,\n",
       "         'FRA': 28,\n",
       "         'CS': 39,\n",
       "         'QJS': 18,\n",
       "         'AGGF': 8,\n",
       "         'TAT': 8,\n",
       "         'XYF': 17,\n",
       "         'ABJO': 14,\n",
       "         'AHAH': 26,\n",
       "         'ADUE': 16,\n",
       "         'JIT': 48,\n",
       "         'SOA': 12,\n",
       "         'AFZP': 17,\n",
       "         'LWB': 7,\n",
       "         'HRY': 23,\n",
       "         'FDQ': 2,\n",
       "         'RNX': 1,\n",
       "         'AALF': 2,\n",
       "         'LAL': 16,\n",
       "         'KRL': 5,\n",
       "         'PTG': 8,\n",
       "         'MTC': 15,\n",
       "         'QNA': 75,\n",
       "         'NUS': 22,\n",
       "         'SOS': 4,\n",
       "         'ADGX': 2,\n",
       "         'IQ': 15,\n",
       "         'AAQQ': 46,\n",
       "         'LLO': 3,\n",
       "         'TDT': 22,\n",
       "         'KTQ': 73,\n",
       "         'EKV': 1,\n",
       "         'UDQ': 53,\n",
       "         'AEZO': 2,\n",
       "         'ABYU': 2,\n",
       "         'AAAK': 52,\n",
       "         'YCA': 30,\n",
       "         'UAI': 2,\n",
       "         'ADOA': 26,\n",
       "         'KGW': 4,\n",
       "         'AERZ': 3,\n",
       "         'NOP': 15,\n",
       "         'AJO': 118,\n",
       "         'WOD': 2,\n",
       "         'NOI': 3,\n",
       "         'FVA': 4,\n",
       "         'THF': 1,\n",
       "         'LBA': 11,\n",
       "         'DPG': 1,\n",
       "         'QQZ': 38,\n",
       "         'MCM': 9,\n",
       "         'FIJ': 49,\n",
       "         'IJA': 10,\n",
       "         'SUG': 5,\n",
       "         'XRQ': 75,\n",
       "         'ACKX': 14,\n",
       "         'BCU': 58,\n",
       "         'IQD': 46,\n",
       "         'AALO': 5,\n",
       "         'YYB': 8,\n",
       "         'QJL': 86,\n",
       "         'AEYV': 29,\n",
       "         'AFTS': 5,\n",
       "         'VJK': 77,\n",
       "         'QOH': 1,\n",
       "         'ZJK': 52,\n",
       "         'QVC': 9,\n",
       "         'FBH': 47,\n",
       "         'XUO': 9,\n",
       "         'VOP': 39,\n",
       "         'PLF': 20,\n",
       "         'TCM': 8,\n",
       "         'JGA': 1,\n",
       "         'AGMO': 122,\n",
       "         'BTP': 15,\n",
       "         'OJH': 2,\n",
       "         'TJM': 5,\n",
       "         'ADKS': 97,\n",
       "         'XWJ': 2,\n",
       "         'ABVB': 2,\n",
       "         'QMY': 6,\n",
       "         'DHH': 25,\n",
       "         'TVB': 8,\n",
       "         'KJN': 1,\n",
       "         'VPI': 34,\n",
       "         'WAG': 5,\n",
       "         'GDM': 2,\n",
       "         'VQD': 1,\n",
       "         'DQK': 8,\n",
       "         'MQT': 16,\n",
       "         'ZML': 32,\n",
       "         'UHP': 10,\n",
       "         'OGI': 1,\n",
       "         'OZY': 21,\n",
       "         'FSG': 13,\n",
       "         'UUC': 102,\n",
       "         'JLL': 11,\n",
       "         'VEC': 2,\n",
       "         'MRJ': 61,\n",
       "         'IWX': 37,\n",
       "         ...})"
      ]
     },
     "execution_count": 58,
     "metadata": {},
     "output_type": "execute_result"
    }
   ],
   "source": [
    "#unique values using counter as data contains missing values\n",
    "Counter(BNP.v22,return_counts=True)"
   ]
  },
  {
   "cell_type": "code",
   "execution_count": 59,
   "metadata": {},
   "outputs": [
    {
     "data": {
      "text/plain": [
       "count     113821\n",
       "unique     18210\n",
       "top         AGDF\n",
       "freq        2386\n",
       "Name: v22, dtype: object"
      ]
     },
     "execution_count": 59,
     "metadata": {},
     "output_type": "execute_result"
    }
   ],
   "source": [
    "BNP.v22.describe()"
   ]
  },
  {
   "cell_type": "code",
   "execution_count": 60,
   "metadata": {},
   "outputs": [
    {
     "data": {
      "text/plain": [
       "Counter({'C': 20872,\n",
       "         'E': 55177,\n",
       "         'D': 26333,\n",
       "         'A': 3789,\n",
       "         'B': 8150,\n",
       "         'return_counts': 1})"
      ]
     },
     "execution_count": 60,
     "metadata": {},
     "output_type": "execute_result"
    }
   ],
   "source": [
    "#unique values using counter as data contains missing values\n",
    "Counter(BNP.v24,return_counts=True)"
   ]
  },
  {
   "cell_type": "code",
   "execution_count": 61,
   "metadata": {},
   "outputs": [
    {
     "data": {
      "text/plain": [
       "Counter({'A': 88347, 'B': 18947, nan: 3457, 'C': 3570, 'return_counts': 1})"
      ]
     },
     "execution_count": 61,
     "metadata": {},
     "output_type": "execute_result"
    }
   ],
   "source": [
    "#unique values using counter as data contains missing values\n",
    "Counter(BNP.v31,return_counts=True)"
   ]
  },
  {
   "cell_type": "code",
   "execution_count": 62,
   "metadata": {},
   "outputs": [
    {
     "data": {
      "text/plain": [
       "count    1.142100e+05\n",
       "mean     6.406236e+00\n",
       "std      2.025179e+00\n",
       "min     -6.707670e-07\n",
       "25%      5.054165e+00\n",
       "50%      6.537069e+00\n",
       "75%      7.702703e+00\n",
       "max      2.000000e+01\n",
       "Name: v34, dtype: float64"
      ]
     },
     "execution_count": 62,
     "metadata": {},
     "output_type": "execute_result"
    }
   ],
   "source": [
    "BNP.v34.describe()"
   ]
  },
  {
   "cell_type": "code",
   "execution_count": 63,
   "metadata": {},
   "outputs": [
    {
     "data": {
      "text/plain": [
       "1"
      ]
     },
     "execution_count": 63,
     "metadata": {},
     "output_type": "execute_result"
    }
   ],
   "source": [
    "#neg values in v34\n",
    "BNP.v34[BNP.v34<0].count() "
   ]
  },
  {
   "cell_type": "code",
   "execution_count": 64,
   "metadata": {},
   "outputs": [
    {
     "name": "stdout",
     "output_type": "stream",
     "text": [
      "inter quantile range v10\n",
      "2.648538367835\n",
      "upper limit: 11.6755108471\n",
      "lowerlimit: 1.0813573757600006\n"
     ]
    }
   ],
   "source": [
    "print(\"inter quantile range v10\")\n",
    "Q3 = BNP.v34.quantile(q= 0.75)\n",
    "Q1 = BNP.v34.quantile(q= 0.25)\n",
    "IQR = Q3 -Q1\n",
    "print(IQR)\n",
    "UL = Q3 + (1.5 *  IQR)\n",
    "print(\"upper limit:\",UL)\n",
    "LL = Q1 - (1.5* IQR)\n",
    "print(\"lowerlimit:\", LL)"
   ]
  },
  {
   "cell_type": "code",
   "execution_count": 65,
   "metadata": {},
   "outputs": [
    {
     "name": "stdout",
     "output_type": "stream",
     "text": [
      "77\n",
      "30\n"
     ]
    }
   ],
   "source": [
    "print(BNP.v34[BNP.v34>UL].count())\n",
    "print(BNP.v34[BNP.v34<LL].count())"
   ]
  },
  {
   "cell_type": "code",
   "execution_count": 66,
   "metadata": {},
   "outputs": [
    {
     "data": {
      "text/plain": [
       "count    114321.000000\n",
       "mean          0.090928\n",
       "std           0.583478\n",
       "min           0.000000\n",
       "25%           0.000000\n",
       "50%           0.000000\n",
       "75%           0.000000\n",
       "max          12.000000\n",
       "Name: v38, dtype: float64"
      ]
     },
     "execution_count": 66,
     "metadata": {},
     "output_type": "execute_result"
    }
   ],
   "source": [
    "BNP.v38.describe()"
   ]
  },
  {
   "cell_type": "code",
   "execution_count": 67,
   "metadata": {},
   "outputs": [
    {
     "data": {
      "text/plain": [
       "(array([1.11867e+05, 1.19800e+03, 5.34000e+02, 2.56000e+02, 1.53000e+02,\n",
       "        1.54000e+02, 6.10000e+01, 3.80000e+01, 4.70000e+01, 1.30000e+01]),\n",
       " array([ 0. ,  1.2,  2.4,  3.6,  4.8,  6. ,  7.2,  8.4,  9.6, 10.8, 12. ]),\n",
       " <a list of 10 Patch objects>)"
      ]
     },
     "execution_count": 67,
     "metadata": {},
     "output_type": "execute_result"
    },
    {
     "data": {
      "image/png": "[encoded data removed]",
      "text/plain": [
       "<Figure size 432x288 with 1 Axes>"
      ]
     },
     "metadata": {
      "needs_background": "light"
     },
     "output_type": "display_data"
    }
   ],
   "source": [
    "plt.hist(BNP.v38)"
   ]
  },
  {
   "cell_type": "code",
   "execution_count": 68,
   "metadata": {},
   "outputs": [
    {
     "data": {
      "text/plain": [
       "array([ 0,  1,  2,  3,  4,  5,  6,  7,  8,  9, 10, 12], dtype=int64)"
      ]
     },
     "execution_count": 68,
     "metadata": {},
     "output_type": "execute_result"
    }
   ],
   "source": [
    "np.unique(BNP.v38)"
   ]
  },
  {
   "cell_type": "code",
   "execution_count": 69,
   "metadata": {},
   "outputs": [
    {
     "data": {
      "text/plain": [
       "count    1.142100e+05\n",
       "mean     1.046593e+01\n",
       "std      3.169183e+00\n",
       "min      1.238996e-07\n",
       "25%      8.408220e+00\n",
       "50%      1.033427e+01\n",
       "75%      1.276518e+01\n",
       "max      2.000000e+01\n",
       "Name: v40, dtype: float64"
      ]
     },
     "execution_count": 69,
     "metadata": {},
     "output_type": "execute_result"
    }
   ],
   "source": [
    "BNP.v40.describe()"
   ]
  },
  {
   "cell_type": "code",
   "execution_count": 70,
   "metadata": {},
   "outputs": [
    {
     "name": "stdout",
     "output_type": "stream",
     "text": [
      "inter quantile range v10\n",
      "4.3569557531325\n",
      "upper limit: 19.30060943239875\n",
      "lowerlimit: 1.872786419868751\n"
     ]
    }
   ],
   "source": [
    "print(\"inter quantile range v10\")\n",
    "Q3 = BNP.v40.quantile(q= 0.75)\n",
    "Q1 = BNP.v40.quantile(q= 0.25)\n",
    "IQR = Q3 -Q1\n",
    "print(IQR)\n",
    "UL = Q3 + (1.5 *  IQR)\n",
    "print(\"upper limit:\",UL)\n",
    "LL = Q1 - (1.5* IQR)\n",
    "print(\"lowerlimit:\", LL)"
   ]
  },
  {
   "cell_type": "code",
   "execution_count": 71,
   "metadata": {},
   "outputs": [
    {
     "name": "stdout",
     "output_type": "stream",
     "text": [
      "1\n",
      "161\n"
     ]
    }
   ],
   "source": [
    "print(BNP.v40[BNP.v40>UL].count())\n",
    "print(BNP.v40[BNP.v40<LL].count())"
   ]
  },
  {
   "cell_type": "code",
   "execution_count": 72,
   "metadata": {},
   "outputs": [
    {
     "data": {
      "text/plain": [
       "Counter({'C': 55425,\n",
       "         'E': 5301,\n",
       "         'I': 39071,\n",
       "         'D': 3157,\n",
       "         'F': 4322,\n",
       "         'G': 3946,\n",
       "         'J': 3010,\n",
       "         'B': 50,\n",
       "         'A': 38,\n",
       "         'H': 1})"
      ]
     },
     "execution_count": 72,
     "metadata": {},
     "output_type": "execute_result"
    }
   ],
   "source": [
    "Counter(BNP.v47)"
   ]
  },
  {
   "cell_type": "code",
   "execution_count": 73,
   "metadata": {},
   "outputs": [
    {
     "data": {
      "text/plain": [
       "count    1.142350e+05\n",
       "mean     1.504265e+00\n",
       "std      1.168329e+00\n",
       "min     -9.091393e-07\n",
       "25%      6.587918e-01\n",
       "50%      1.211944e+00\n",
       "75%      2.007189e+00\n",
       "max      2.000000e+01\n",
       "Name: v50, dtype: float64"
      ]
     },
     "execution_count": 73,
     "metadata": {},
     "output_type": "execute_result"
    }
   ],
   "source": [
    "BNP.v50.describe()"
   ]
  },
  {
   "cell_type": "code",
   "execution_count": 74,
   "metadata": {},
   "outputs": [
    {
     "data": {
      "text/plain": [
       "4"
      ]
     },
     "execution_count": 74,
     "metadata": {},
     "output_type": "execute_result"
    }
   ],
   "source": [
    "#neg values in v50\n",
    "BNP.v50[BNP.v50<0].count() "
   ]
  },
  {
   "cell_type": "code",
   "execution_count": 75,
   "metadata": {},
   "outputs": [
    {
     "name": "stdout",
     "output_type": "stream",
     "text": [
      "inter quantile range v10\n",
      "1.3483967740145002\n",
      "upper limit: 4.029783734406751\n",
      "lowerlimit: -1.3638033616512506\n",
      "5124\n",
      "0\n"
     ]
    }
   ],
   "source": [
    "print(\"inter quantile range v10\")\n",
    "Q3 = BNP.v50.quantile(q= 0.75)\n",
    "Q1 = BNP.v50.quantile(q= 0.25)\n",
    "IQR = Q3 -Q1\n",
    "print(IQR)\n",
    "UL = Q3 + (1.5 *  IQR)\n",
    "print(\"upper limit:\",UL)\n",
    "LL = Q1 - (1.5* IQR)\n",
    "print(\"lowerlimit:\", LL)\n",
    "print(BNP.v50[BNP.v50>UL].count())\n",
    "print(BNP.v50[BNP.v50<LL].count())"
   ]
  },
  {
   "cell_type": "code",
   "execution_count": 76,
   "metadata": {},
   "outputs": [
    {
     "data": {
      "text/plain": [
       "Counter({'G': 9419,\n",
       "         'F': 9806,\n",
       "         'H': 8323,\n",
       "         'K': 8949,\n",
       "         'A': 8925,\n",
       "         'C': 9681,\n",
       "         'E': 9282,\n",
       "         'J': 11103,\n",
       "         'D': 9607,\n",
       "         'I': 10260,\n",
       "         'L': 9578,\n",
       "         'B': 9385,\n",
       "         nan: 3,\n",
       "         'return_counts': 1})"
      ]
     },
     "execution_count": 76,
     "metadata": {},
     "output_type": "execute_result"
    }
   ],
   "source": [
    "#unique values using counter as data contains missing values\n",
    "from collections import Counter\n",
    "Counter(BNP.v52,return_counts=True)"
   ]
  },
  {
   "cell_type": "code",
   "execution_count": 77,
   "metadata": {},
   "outputs": [
    {
     "data": {
      "text/plain": [
       "count    114321.000000\n",
       "mean          1.030694\n",
       "std           0.696244\n",
       "min           0.000000\n",
       "25%           1.000000\n",
       "50%           1.000000\n",
       "75%           1.000000\n",
       "max           7.000000\n",
       "Name: v62, dtype: float64"
      ]
     },
     "execution_count": 77,
     "metadata": {},
     "output_type": "execute_result"
    }
   ],
   "source": [
    "BNP.v62.describe()"
   ]
  },
  {
   "cell_type": "code",
   "execution_count": 78,
   "metadata": {},
   "outputs": [
    {
     "data": {
      "text/plain": [
       "array([0, 1, 2, 3, 4, 5, 6, 7], dtype=int64)"
      ]
     },
     "execution_count": 78,
     "metadata": {},
     "output_type": "execute_result"
    }
   ],
   "source": [
    "np.unique(BNP.v62)"
   ]
  },
  {
   "cell_type": "code",
   "execution_count": 79,
   "metadata": {},
   "outputs": [],
   "source": [
    "#v38,v62,v72 are categorical"
   ]
  },
  {
   "cell_type": "code",
   "execution_count": 80,
   "metadata": {},
   "outputs": [
    {
     "data": {
      "text/plain": [
       "Counter({'C': 25704, 'A': 70353, 'B': 18264, 'return_counts': 1})"
      ]
     },
     "execution_count": 80,
     "metadata": {},
     "output_type": "execute_result"
    }
   ],
   "source": [
    "#unique values using counter as data contains missing values\n",
    "Counter(BNP.v66,return_counts=True)"
   ]
  },
  {
   "cell_type": "code",
   "execution_count": 81,
   "metadata": {},
   "outputs": [
    {
     "data": {
      "text/plain": [
       "Counter({1: 75767,\n",
       "         2: 24341,\n",
       "         3: 7269,\n",
       "         0: 3355,\n",
       "         4: 2221,\n",
       "         5: 685,\n",
       "         9: 71,\n",
       "         6: 288,\n",
       "         8: 89,\n",
       "         7: 131,\n",
       "         10: 56,\n",
       "         12: 32,\n",
       "         11: 16,\n",
       "         'return_counts': 1})"
      ]
     },
     "execution_count": 81,
     "metadata": {},
     "output_type": "execute_result"
    }
   ],
   "source": [
    "#unique values using counter as data contains missing values\n",
    "Counter(BNP.v72,return_counts=True)"
   ]
  },
  {
   "cell_type": "code",
   "execution_count": 82,
   "metadata": {},
   "outputs": [
    {
     "data": {
      "text/plain": [
       "Counter({'F': 75094,\n",
       "         'B': 30255,\n",
       "         'C': 8947,\n",
       "         'L': 1,\n",
       "         'I': 16,\n",
       "         'A': 1,\n",
       "         'G': 5,\n",
       "         'K': 1,\n",
       "         'D': 1,\n",
       "         'return_counts': 1})"
      ]
     },
     "execution_count": 82,
     "metadata": {},
     "output_type": "execute_result"
    }
   ],
   "source": [
    "#unique values using counter as data contains missing values\n",
    "Counter(BNP.v71,return_counts=True)"
   ]
  },
  {
   "cell_type": "code",
   "execution_count": 83,
   "metadata": {},
   "outputs": [
    {
     "data": {
      "text/plain": [
       "Counter({'B': 113560, 'C': 716, 'A': 45, 'return_counts': 1})"
      ]
     },
     "execution_count": 83,
     "metadata": {},
     "output_type": "execute_result"
    }
   ],
   "source": [
    "#unique values using counter as data contains missing values\n",
    "Counter(BNP.v74,return_counts=True)"
   ]
  },
  {
   "cell_type": "code",
   "execution_count": 84,
   "metadata": {},
   "outputs": [
    {
     "data": {
      "text/plain": [
       "Counter({'D': 75087, 'B': 39192, 'C': 24, 'A': 18, 'return_counts': 1})"
      ]
     },
     "execution_count": 84,
     "metadata": {},
     "output_type": "execute_result"
    }
   ],
   "source": [
    "#unique values using counter as data contains missing values\n",
    "Counter(BNP.v75,return_counts=True)"
   ]
  },
  {
   "cell_type": "code",
   "execution_count": 85,
   "metadata": {},
   "outputs": [
    {
     "data": {
      "text/plain": [
       "Counter({'E': 25257,\n",
       "         'D': 5302,\n",
       "         'B': 25801,\n",
       "         'C': 34561,\n",
       "         'I': 4561,\n",
       "         'P': 2217,\n",
       "         'A': 417,\n",
       "         'O': 3331,\n",
       "         'K': 4308,\n",
       "         'M': 3946,\n",
       "         'J': 933,\n",
       "         'H': 2004,\n",
       "         'F': 571,\n",
       "         'Q': 1006,\n",
       "         'R': 50,\n",
       "         'N': 49,\n",
       "         'G': 6,\n",
       "         'L': 1,\n",
       "         'return_counts': 1})"
      ]
     },
     "execution_count": 85,
     "metadata": {},
     "output_type": "execute_result"
    }
   ],
   "source": [
    "#unique values using counter as data contains missing values\n",
    "Counter(BNP.v79,return_counts=True)"
   ]
  },
  {
   "cell_type": "code",
   "execution_count": 86,
   "metadata": {},
   "outputs": [
    {
     "data": {
      "text/plain": [
       "Counter({'A': 27079,\n",
       "         'B': 22683,\n",
       "         'G': 24545,\n",
       "         'C': 23157,\n",
       "         'F': 13418,\n",
       "         'E': 3206,\n",
       "         'D': 230,\n",
       "         nan: 3,\n",
       "         'return_counts': 1})"
      ]
     },
     "execution_count": 86,
     "metadata": {},
     "output_type": "execute_result"
    }
   ],
   "source": [
    "#unique values using counter as data contains missing values\n",
    "Counter(BNP.v91,return_counts=True)"
   ]
  },
  {
   "cell_type": "code",
   "execution_count": 87,
   "metadata": {},
   "outputs": [
    {
     "data": {
      "text/plain": [
       "count     114318\n",
       "unique         7\n",
       "top            E\n",
       "freq       27079\n",
       "Name: v107, dtype: object"
      ]
     },
     "execution_count": 87,
     "metadata": {},
     "output_type": "execute_result"
    }
   ],
   "source": [
    "BNP.v107.describe()"
   ]
  },
  {
   "cell_type": "code",
   "execution_count": 88,
   "metadata": {},
   "outputs": [
    {
     "data": {
      "text/plain": [
       "Counter({'E': 27079,\n",
       "         'B': 22683,\n",
       "         'C': 24545,\n",
       "         'D': 23157,\n",
       "         'A': 13418,\n",
       "         'F': 3206,\n",
       "         'G': 230,\n",
       "         nan: 3,\n",
       "         'return_counts': 1})"
      ]
     },
     "execution_count": 88,
     "metadata": {},
     "output_type": "execute_result"
    }
   ],
   "source": [
    "#unique values using counter as data contains missing values\n",
    "Counter(BNP.v107,return_counts=True)"
   ]
  },
  {
   "cell_type": "code",
   "execution_count": 89,
   "metadata": {},
   "outputs": [
    {
     "data": {
      "text/plain": [
       "count     114321\n",
       "unique         3\n",
       "top            A\n",
       "freq       55688\n",
       "Name: v110, dtype: object"
      ]
     },
     "execution_count": 89,
     "metadata": {},
     "output_type": "execute_result"
    }
   ],
   "source": [
    "BNP.v110.describe()"
   ]
  },
  {
   "cell_type": "code",
   "execution_count": 90,
   "metadata": {},
   "outputs": [
    {
     "data": {
      "text/plain": [
       "Counter({'B': 55426, 'A': 55688, 'C': 3207, 'return_counts': 1})"
      ]
     },
     "execution_count": 90,
     "metadata": {},
     "output_type": "execute_result"
    }
   ],
   "source": [
    "#unique values using counter as data contains missing values\n",
    "Counter(BNP.v110,return_counts=True)"
   ]
  },
  {
   "cell_type": "code",
   "execution_count": 91,
   "metadata": {},
   "outputs": [
    {
     "data": {
      "text/plain": [
       "count     113939\n",
       "unique        22\n",
       "top            F\n",
       "freq       21671\n",
       "Name: v112, dtype: object"
      ]
     },
     "execution_count": 91,
     "metadata": {},
     "output_type": "execute_result"
    }
   ],
   "source": [
    "BNP.v112.describe()"
   ]
  },
  {
   "cell_type": "code",
   "execution_count": 92,
   "metadata": {},
   "outputs": [
    {
     "data": {
      "text/plain": [
       "Counter({'O': 3661,\n",
       "         'U': 4803,\n",
       "         'S': 833,\n",
       "         'J': 3967,\n",
       "         'T': 3980,\n",
       "         'D': 7327,\n",
       "         'I': 10224,\n",
       "         'F': 21671,\n",
       "         'L': 4479,\n",
       "         'M': 1193,\n",
       "         'E': 4748,\n",
       "         'H': 5651,\n",
       "         'N': 9086,\n",
       "         'R': 4170,\n",
       "         'P': 4675,\n",
       "         'A': 9545,\n",
       "         'B': 2688,\n",
       "         nan: 382,\n",
       "         'K': 3252,\n",
       "         'G': 1702,\n",
       "         'C': 2055,\n",
       "         'Q': 2346,\n",
       "         'V': 1883,\n",
       "         'return_counts': 1})"
      ]
     },
     "execution_count": 92,
     "metadata": {},
     "output_type": "execute_result"
    }
   ],
   "source": [
    "Counter(BNP.v112,return_counts=True)"
   ]
  },
  {
   "cell_type": "code",
   "execution_count": 93,
   "metadata": {},
   "outputs": [
    {
     "data": {
      "text/plain": [
       "count    1.142910e+05\n",
       "mean     1.357445e+01\n",
       "std      2.613221e+00\n",
       "min     -9.335327e-10\n",
       "25%      1.199531e+01\n",
       "50%      1.403998e+01\n",
       "75%      1.537267e+01\n",
       "max      2.000000e+01\n",
       "Name: v114, dtype: float64"
      ]
     },
     "execution_count": 93,
     "metadata": {},
     "output_type": "execute_result"
    }
   ],
   "source": [
    "BNP.v114.describe()"
   ]
  },
  {
   "cell_type": "code",
   "execution_count": 94,
   "metadata": {},
   "outputs": [
    {
     "data": {
      "text/plain": [
       "1"
      ]
     },
     "execution_count": 94,
     "metadata": {},
     "output_type": "execute_result"
    }
   ],
   "source": [
    "BNP.v114[BNP.v114<0].count() "
   ]
  },
  {
   "cell_type": "code",
   "execution_count": 95,
   "metadata": {},
   "outputs": [
    {
     "name": "stdout",
     "output_type": "stream",
     "text": [
      "inter quantile range v10\n",
      "3.3773543401499992\n",
      "upper limit: 20.438697884175\n",
      "lowerlimit: 6.929280523575002\n",
      "0\n",
      "1364\n"
     ]
    }
   ],
   "source": [
    "print(\"inter quantile range v10\")\n",
    "Q3 = BNP.v114.quantile(q= 0.75)\n",
    "Q1 = BNP.v114.quantile(q= 0.25)\n",
    "IQR = Q3 -Q1\n",
    "print(IQR)\n",
    "UL = Q3 + (1.5 *  IQR)\n",
    "print(\"upper limit:\",UL)\n",
    "LL = Q1 - (1.5* IQR)\n",
    "print(\"lowerlimit:\", LL)\n",
    "print(BNP.v114[BNP.v114>UL].count())\n",
    "print(BNP.v114[BNP.v114<LL].count())"
   ]
  },
  {
   "cell_type": "code",
   "execution_count": 96,
   "metadata": {},
   "outputs": [
    {
     "data": {
      "text/plain": [
       "count     114244\n",
       "unique        90\n",
       "top           BM\n",
       "freq        5759\n",
       "Name: v125, dtype: object"
      ]
     },
     "execution_count": 96,
     "metadata": {},
     "output_type": "execute_result"
    }
   ],
   "source": [
    "BNP.v125.describe()"
   ]
  },
  {
   "cell_type": "code",
   "execution_count": 97,
   "metadata": {},
   "outputs": [
    {
     "data": {
      "text/plain": [
       "Counter({'AU': 1110,\n",
       "         'AF': 1116,\n",
       "         'AE': 833,\n",
       "         'CJ': 1446,\n",
       "         'Z': 1595,\n",
       "         'X': 867,\n",
       "         'BJ': 4465,\n",
       "         'BY': 3311,\n",
       "         'S': 809,\n",
       "         'E': 2521,\n",
       "         'AR': 2229,\n",
       "         'AM': 444,\n",
       "         'AQ': 469,\n",
       "         'AZ': 2416,\n",
       "         'U': 1083,\n",
       "         'CD': 2059,\n",
       "         'BD': 2452,\n",
       "         'CG': 3826,\n",
       "         'J': 907,\n",
       "         'N': 1033,\n",
       "         'M': 636,\n",
       "         'P': 1463,\n",
       "         'AN': 1539,\n",
       "         'BW': 2478,\n",
       "         'AK': 5337,\n",
       "         'BO': 970,\n",
       "         'BC': 394,\n",
       "         'BM': 5759,\n",
       "         'F': 221,\n",
       "         'AP': 3410,\n",
       "         'B': 2374,\n",
       "         'L': 2502,\n",
       "         'D': 969,\n",
       "         'BL': 1214,\n",
       "         'BU': 1369,\n",
       "         'R': 1217,\n",
       "         'K': 2835,\n",
       "         'W': 888,\n",
       "         'A': 1528,\n",
       "         'CC': 1082,\n",
       "         'G': 2594,\n",
       "         'V': 3234,\n",
       "         'AT': 1114,\n",
       "         'BH': 1145,\n",
       "         'AC': 1945,\n",
       "         'BN': 910,\n",
       "         'BQ': 687,\n",
       "         'Y': 880,\n",
       "         'AV': 538,\n",
       "         'H': 3212,\n",
       "         'CK': 623,\n",
       "         'Q': 1066,\n",
       "         'CB': 673,\n",
       "         'BX': 1297,\n",
       "         'BK': 1477,\n",
       "         'O': 248,\n",
       "         'BE': 864,\n",
       "         'CL': 461,\n",
       "         'T': 615,\n",
       "         'CE': 1164,\n",
       "         'BS': 240,\n",
       "         'BV': 806,\n",
       "         'C': 514,\n",
       "         'AS': 427,\n",
       "         'BR': 642,\n",
       "         'AL': 1031,\n",
       "         'AO': 644,\n",
       "         'BG': 355,\n",
       "         'AG': 931,\n",
       "         'BP': 504,\n",
       "         'AI': 905,\n",
       "         'CA': 1523,\n",
       "         'CI': 397,\n",
       "         'CF': 927,\n",
       "         'AH': 343,\n",
       "         'I': 253,\n",
       "         'AY': 1042,\n",
       "         'CH': 701,\n",
       "         'AD': 486,\n",
       "         'BT': 407,\n",
       "         'BI': 720,\n",
       "         'AX': 13,\n",
       "         'AW': 766,\n",
       "         'BF': 511,\n",
       "         'AJ': 82,\n",
       "         'AB': 189,\n",
       "         'BB': 68,\n",
       "         'AA': 542,\n",
       "         'BA': 349,\n",
       "         nan: 77,\n",
       "         'BZ': 3,\n",
       "         'return_counts': 1})"
      ]
     },
     "execution_count": 97,
     "metadata": {},
     "output_type": "execute_result"
    }
   ],
   "source": [
    "Counter(BNP.v125,return_counts=True)"
   ]
  },
  {
   "cell_type": "code",
   "execution_count": 98,
   "metadata": {},
   "outputs": [
    {
     "data": {
      "text/plain": [
       "count    114321.000000\n",
       "mean          0.310144\n",
       "std           0.693262\n",
       "min           0.000000\n",
       "25%           0.000000\n",
       "50%           0.000000\n",
       "75%           0.000000\n",
       "max          11.000000\n",
       "Name: v129, dtype: float64"
      ]
     },
     "execution_count": 98,
     "metadata": {},
     "output_type": "execute_result"
    }
   ],
   "source": [
    "BNP.v129.describe()"
   ]
  },
  {
   "cell_type": "code",
   "execution_count": 99,
   "metadata": {},
   "outputs": [
    {
     "data": {
      "text/plain": [
       "array([ 0,  1,  2,  3,  4,  5,  6,  7,  8, 11], dtype=int64)"
      ]
     },
     "execution_count": 99,
     "metadata": {},
     "output_type": "execute_result"
    }
   ],
   "source": [
    "np.unique(BNP.v129)"
   ]
  },
  {
   "cell_type": "code",
   "execution_count": 100,
   "metadata": {},
   "outputs": [
    {
     "name": "stdout",
     "output_type": "stream",
     "text": [
      "target      0      1\n",
      "v3                  \n",
      "A          10    217\n",
      "B           6     47\n",
      "C       26607  83977\n",
      "dof:  2\n",
      "chisquare:  52.64312876261264\n",
      "p:  3.704160823164311e-12\n"
     ]
    }
   ],
   "source": [
    "# apply chi square between V3 and target\n",
    "table = pd.crosstab(BNP.v3,BNP.target)\n",
    "print(table)\n",
    "from scipy.stats import chi2_contingency\n",
    "from scipy.stats import chi2\n",
    "chisquare, p, dof, expected = chi2_contingency(table)\n",
    "print('dof: ', dof)\n",
    "print('chisquare: ', chisquare)\n",
    "print('p: ' , p)"
   ]
  },
  {
   "cell_type": "code",
   "execution_count": 101,
   "metadata": {},
   "outputs": [
    {
     "name": "stdout",
     "output_type": "stream",
     "text": [
      "target      0      1\n",
      "v24                 \n",
      "A        1015   2774\n",
      "B        1929   6221\n",
      "C        4183  16689\n",
      "D        6731  19602\n",
      "E       13442  41735\n",
      "dof:  4\n",
      "chisquare:  235.01552588878826\n",
      "p:  1.0984335075888992e-49\n"
     ]
    }
   ],
   "source": [
    "# apply chi square between V3 and target\n",
    "table = pd.crosstab(BNP.v24,BNP.target)\n",
    "print(table)\n",
    "from scipy.stats import chi2_contingency\n",
    "from scipy.stats import chi2\n",
    "chisquare, p, dof, expected = chi2_contingency(table)\n",
    "print('dof: ', dof)\n",
    "print('chisquare: ', chisquare)\n",
    "print('p: ' , p)"
   ]
  },
  {
   "cell_type": "code",
   "execution_count": 102,
   "metadata": {},
   "outputs": [
    {
     "name": "stdout",
     "output_type": "stream",
     "text": [
      "target     0      1\n",
      "v30                \n",
      "A        482   1831\n",
      "B         26    179\n",
      "C       7257  24921\n",
      "D       1453   3772\n",
      "E        922   2051\n",
      "F        501   2088\n",
      "G       2430   6298\n",
      "dof:  6\n",
      "chisquare:  285.73963927743915\n",
      "p:  9.275900564087378e-59\n"
     ]
    }
   ],
   "source": [
    "# apply chi square between V3 and target\n",
    "table = pd.crosstab(BNP.v30,BNP.target)\n",
    "print(table)\n",
    "from scipy.stats import chi2_contingency\n",
    "from scipy.stats import chi2\n",
    "chisquare, p, dof, expected = chi2_contingency(table)\n",
    "print('dof: ', dof)\n",
    "print('chisquare: ', chisquare)\n",
    "print('p: ' , p)"
   ]
  },
  {
   "cell_type": "code",
   "execution_count": 103,
   "metadata": {},
   "outputs": [
    {
     "name": "stdout",
     "output_type": "stream",
     "text": [
      "target      0      1\n",
      "v31                 \n",
      "A       24655  63692\n",
      "B        1685  17262\n",
      "C         283   3287\n",
      "dof:  2\n",
      "chisquare:  3614.120281540995\n",
      "p:  0.0\n"
     ]
    }
   ],
   "source": [
    "# apply chi square between V3 and target\n",
    "table = pd.crosstab(BNP.v31,BNP.target)\n",
    "print(table)\n",
    "from scipy.stats import chi2_contingency\n",
    "from scipy.stats import chi2\n",
    "chisquare, p, dof, expected = chi2_contingency(table)\n",
    "print('dof: ', dof)\n",
    "print('chisquare: ', chisquare)\n",
    "print('p: ' , p)"
   ]
  },
  {
   "cell_type": "code",
   "execution_count": 104,
   "metadata": {},
   "outputs": [
    {
     "name": "stdout",
     "output_type": "stream",
     "text": [
      "target      0      1\n",
      "v47                 \n",
      "A           3     35\n",
      "B           9     41\n",
      "C        9339  46086\n",
      "D         646   2511\n",
      "E        1975   3326\n",
      "F        1148   3174\n",
      "G        1320   2626\n",
      "H           0      1\n",
      "I       11862  27209\n",
      "J         998   2012\n",
      "dof:  9\n",
      "chisquare:  3316.764841011084\n",
      "p:  0.0\n"
     ]
    }
   ],
   "source": [
    "# apply chi square between V3 and target\n",
    "table = pd.crosstab(BNP.v47,BNP.target)\n",
    "print(table)\n",
    "from scipy.stats import chi2_contingency\n",
    "from scipy.stats import chi2\n",
    "chisquare, p, dof, expected = chi2_contingency(table)\n",
    "print('dof: ', dof)\n",
    "print('chisquare: ', chisquare)\n",
    "print('p: ' , p)"
   ]
  },
  {
   "cell_type": "code",
   "execution_count": 105,
   "metadata": {},
   "outputs": [
    {
     "name": "stdout",
     "output_type": "stream",
     "text": [
      "target     0     1\n",
      "v52               \n",
      "A       2084  6841\n",
      "B       2207  7178\n",
      "C       2291  7390\n",
      "D       2340  7267\n",
      "E       2274  7008\n",
      "F       2431  7375\n",
      "G       2308  7111\n",
      "H       1890  6433\n",
      "I       2495  7765\n",
      "J       2708  8395\n",
      "K       2090  6859\n",
      "L       2182  7396\n",
      "dof:  11\n",
      "chisquare:  28.635399253340545\n",
      "p:  0.0025849891905311523\n"
     ]
    }
   ],
   "source": [
    "# apply chi square between V3 and target\n",
    "table = pd.crosstab(BNP.v52,BNP.target)\n",
    "print(table)\n",
    "from scipy.stats import chi2_contingency\n",
    "from scipy.stats import chi2\n",
    "chisquare, p, dof, expected = chi2_contingency(table)\n",
    "print('dof: ', dof)\n",
    "print('chisquare: ', chisquare)\n",
    "print('p: ' , p)"
   ]
  },
  {
   "cell_type": "code",
   "execution_count": 106,
   "metadata": {},
   "outputs": [
    {
     "name": "stdout",
     "output_type": "stream",
     "text": [
      "target    0     1\n",
      "v56              \n",
      "A         3   183\n",
      "AA        7    53\n",
      "AB        0     2\n",
      "AC        0    11\n",
      "AE        1     1\n",
      "..      ...   ...\n",
      "V       131  1346\n",
      "W         0     7\n",
      "X         0     1\n",
      "Y       126   188\n",
      "Z        15   184\n",
      "\n",
      "[122 rows x 2 columns]\n",
      "dof:  121\n",
      "chisquare:  5926.166792101743\n",
      "p:  0.0\n"
     ]
    }
   ],
   "source": [
    "# apply chi square between V3 and target\n",
    "table = pd.crosstab(BNP.v56,BNP.target)\n",
    "print(table)\n",
    "from scipy.stats import chi2_contingency\n",
    "from scipy.stats import chi2\n",
    "chisquare, p, dof, expected = chi2_contingency(table)\n",
    "print('dof: ', dof)\n",
    "print('chisquare: ', chisquare)\n",
    "print('p: ' , p)"
   ]
  },
  {
   "cell_type": "code",
   "execution_count": 107,
   "metadata": {},
   "outputs": [
    {
     "name": "stdout",
     "output_type": "stream",
     "text": [
      "target      0      1\n",
      "v66                 \n",
      "A       17030  53323\n",
      "B        6525  11739\n",
      "C        3745  21959\n",
      "dof:  2\n",
      "chisquare:  2639.8048965532985\n",
      "p:  0.0\n"
     ]
    }
   ],
   "source": [
    "# apply chi square between V3 and target\n",
    "table = pd.crosstab(BNP.v66,BNP.target)\n",
    "print(table)\n",
    "from scipy.stats import chi2_contingency\n",
    "from scipy.stats import chi2\n",
    "chisquare, p, dof, expected = chi2_contingency(table)\n",
    "print('dof: ', dof)\n",
    "print('chisquare: ', chisquare)\n",
    "print('p: ' , p)"
   ]
  },
  {
   "cell_type": "code",
   "execution_count": 108,
   "metadata": {},
   "outputs": [
    {
     "name": "stdout",
     "output_type": "stream",
     "text": [
      "target      0      1\n",
      "v71                 \n",
      "A           1      0\n",
      "B        6863  23392\n",
      "C        2598   6349\n",
      "D           0      1\n",
      "F       17834  57260\n",
      "G           1      4\n",
      "I           3     13\n",
      "K           0      1\n",
      "L           0      1\n",
      "dof:  8\n",
      "chisquare:  159.85875384283244\n",
      "p:  1.7119083887229228e-30\n"
     ]
    }
   ],
   "source": [
    "# apply chi square between V3 and target\n",
    "table = pd.crosstab(BNP.v71,BNP.target)\n",
    "print(table)\n",
    "from scipy.stats import chi2_contingency\n",
    "from scipy.stats import chi2\n",
    "chisquare, p, dof, expected = chi2_contingency(table)\n",
    "print('dof: ', dof)\n",
    "print('chisquare: ', chisquare)\n",
    "print('p: ' , p)"
   ]
  },
  {
   "cell_type": "code",
   "execution_count": 109,
   "metadata": {},
   "outputs": [
    {
     "name": "stdout",
     "output_type": "stream",
     "text": [
      "target      0      1\n",
      "v75                 \n",
      "A           5     13\n",
      "B        9457  29735\n",
      "C           9     15\n",
      "D       17829  57258\n",
      "dof:  3\n",
      "chisquare:  4.705313911445791\n",
      "p:  0.19469172055585382\n"
     ]
    }
   ],
   "source": [
    "# apply chi square between V3 and target\n",
    "table = pd.crosstab(BNP.v75,BNP.target)\n",
    "print(table)\n",
    "from scipy.stats import chi2_contingency\n",
    "from scipy.stats import chi2\n",
    "chisquare, p, dof, expected = chi2_contingency(table)\n",
    "print('dof: ', dof)\n",
    "print('chisquare: ', chisquare)\n",
    "print('p: ' , p)"
   ]
  },
  {
   "cell_type": "code",
   "execution_count": 110,
   "metadata": {},
   "outputs": [
    {
     "name": "stdout",
     "output_type": "stream",
     "text": [
      "target      0      1\n",
      "v79                 \n",
      "A          51    366\n",
      "B        2774  23027\n",
      "C       10716  23845\n",
      "D        1975   3327\n",
      "E        6090  19167\n",
      "F          44    527\n",
      "G           3      3\n",
      "H         584   1420\n",
      "I        1151   3410\n",
      "J         147    786\n",
      "K        1146   3162\n",
      "L           0      1\n",
      "M        1320   2626\n",
      "N           4     45\n",
      "O         376   2955\n",
      "P         496   1721\n",
      "Q         414    592\n",
      "R           9     41\n",
      "dof:  17\n",
      "chisquare:  4801.450049772536\n",
      "p:  0.0\n"
     ]
    }
   ],
   "source": [
    "# apply chi square between V3 and target\n",
    "table = pd.crosstab(BNP.v79,BNP.target)\n",
    "print(table)\n",
    "from scipy.stats import chi2_contingency\n",
    "from scipy.stats import chi2\n",
    "chisquare, p, dof, expected = chi2_contingency(table)\n",
    "print('dof: ', dof)\n",
    "print('chisquare: ', chisquare)\n",
    "print('p: ' , p)"
   ]
  },
  {
   "cell_type": "code",
   "execution_count": 111,
   "metadata": {},
   "outputs": [
    {
     "name": "stdout",
     "output_type": "stream",
     "text": [
      "target     0      1\n",
      "v91                \n",
      "A       6455  20624\n",
      "B       5364  17319\n",
      "C       5467  17690\n",
      "D         43    187\n",
      "E        546   2660\n",
      "F       3457   9961\n",
      "G       5968  18577\n",
      "dof:  6\n",
      "chisquare:  116.53042206732695\n",
      "p:  8.718337266540142e-23\n"
     ]
    }
   ],
   "source": [
    "# apply chi square between V3 and target\n",
    "table = pd.crosstab(BNP.v91,BNP.target)\n",
    "print(table)\n",
    "from scipy.stats import chi2_contingency\n",
    "from scipy.stats import chi2\n",
    "chisquare, p, dof, expected = chi2_contingency(table)\n",
    "print('dof: ', dof)\n",
    "print('chisquare: ', chisquare)\n",
    "print('p: ' , p)"
   ]
  },
  {
   "cell_type": "code",
   "execution_count": 112,
   "metadata": {},
   "outputs": [
    {
     "name": "stdout",
     "output_type": "stream",
     "text": [
      "target      0      1\n",
      "v110                \n",
      "A       17306  38382\n",
      "B        9339  46087\n",
      "C         655   2552\n",
      "dof:  2\n",
      "chisquare:  3114.908147277297\n",
      "p:  0.0\n"
     ]
    }
   ],
   "source": [
    "# apply chi square between V3 and target\n",
    "table = pd.crosstab(BNP.v110,BNP.target)\n",
    "print(table)\n",
    "from scipy.stats import chi2_contingency\n",
    "from scipy.stats import chi2\n",
    "chisquare, p, dof, expected = chi2_contingency(table)\n",
    "print('dof: ', dof)\n",
    "print('chisquare: ', chisquare)\n",
    "print('p: ' , p)"
   ]
  },
  {
   "cell_type": "code",
   "execution_count": 113,
   "metadata": {},
   "outputs": [
    {
     "name": "stdout",
     "output_type": "stream",
     "text": [
      "target     0      1\n",
      "v112               \n",
      "A       2334   7211\n",
      "B        626   2062\n",
      "C        488   1567\n",
      "D       1635   5692\n",
      "E       1109   3639\n",
      "F       5494  16177\n",
      "G        408   1294\n",
      "H       1333   4318\n",
      "I       2487   7737\n",
      "J        999   2968\n",
      "K        807   2445\n",
      "L       1005   3474\n",
      "M        282    911\n",
      "N       2151   6935\n",
      "O        825   2836\n",
      "P       1138   3537\n",
      "Q        557   1789\n",
      "R        964   3206\n",
      "S        192    641\n",
      "T        920   3060\n",
      "U       1021   3782\n",
      "V        442   1441\n",
      "dof:  21\n",
      "chisquare:  76.17677664800908\n",
      "p:  3.480192788972681e-08\n"
     ]
    }
   ],
   "source": [
    "# apply chi square between V3 and target\n",
    "table = pd.crosstab(BNP.v112,BNP.target)\n",
    "print(table)\n",
    "from scipy.stats import chi2_contingency\n",
    "from scipy.stats import chi2\n",
    "chisquare, p, dof, expected = chi2_contingency(table)\n",
    "print('dof: ', dof)\n",
    "print('chisquare: ', chisquare)\n",
    "print('p: ' , p)"
   ]
  },
  {
   "cell_type": "code",
   "execution_count": 114,
   "metadata": {},
   "outputs": [
    {
     "name": "stdout",
     "output_type": "stream",
     "text": [
      "target    0     1\n",
      "v125             \n",
      "A       353  1175\n",
      "AA      122   420\n",
      "AB       44   145\n",
      "AC      494  1451\n",
      "AD      109   377\n",
      "...     ...   ...\n",
      "V       797  2437\n",
      "W       215   673\n",
      "X       182   685\n",
      "Y       202   678\n",
      "Z       372  1223\n",
      "\n",
      "[90 rows x 2 columns]\n",
      "dof:  89\n",
      "chisquare:  192.15190367480935\n",
      "p:  1.4869803639848641e-09\n"
     ]
    }
   ],
   "source": [
    "# apply chi square between V3 and target\n",
    "table = pd.crosstab(BNP.v125,BNP.target)\n",
    "print(table)\n",
    "from scipy.stats import chi2_contingency\n",
    "from scipy.stats import chi2\n",
    "chisquare, p, dof, expected = chi2_contingency(table)\n",
    "print('dof: ', dof)\n",
    "print('chisquare: ', chisquare)\n",
    "print('p: ' , p)"
   ]
  },
  {
   "cell_type": "code",
   "execution_count": 115,
   "metadata": {},
   "outputs": [
    {
     "name": "stdout",
     "output_type": "stream",
     "text": [
      "target      0      1\n",
      "v129                \n",
      "0       24740  65507\n",
      "1        1690  13623\n",
      "2         714   6175\n",
      "3         106   1267\n",
      "4          33    324\n",
      "5          13     70\n",
      "6           2     43\n",
      "7           0      3\n",
      "8           1      2\n",
      "11          1      7\n",
      "dof:  9\n",
      "chisquare:  2955.2803204278393\n",
      "p:  0.0\n"
     ]
    }
   ],
   "source": [
    "# apply chi square between V3 and target\n",
    "table = pd.crosstab(BNP.v129,BNP.target)\n",
    "print(table)\n",
    "from scipy.stats import chi2_contingency\n",
    "from scipy.stats import chi2\n",
    "chisquare, p, dof, expected = chi2_contingency(table)\n",
    "print('dof: ', dof)\n",
    "print('chisquare: ', chisquare)\n",
    "print('p: ' , p)"
   ]
  },
  {
   "cell_type": "code",
   "execution_count": 116,
   "metadata": {},
   "outputs": [
    {
     "name": "stdout",
     "output_type": "stream",
     "text": [
      "{'v75', 'v114', 'ID', 'v47', 'v40', 'v129', 'v125', 'v66', 'v10', 'v38', 'v71', 'v31', 'v50', 'v72', 'v79', 'v52', 'v12', 'v21', 'v107', 'v62', 'v34', 'v3', 'v14', 'v74', 'v91', 'v22', 'target', 'v110', 'v24', 'v112'}\n"
     ]
    }
   ],
   "source": [
    "impvars = set(nulla.index.values)\n",
    "print(impvars)"
   ]
  },
  {
   "cell_type": "code",
   "execution_count": 117,
   "metadata": {},
   "outputs": [
    {
     "name": "stdout",
     "output_type": "stream",
     "text": [
      "{'v75', 'v47', 'v129', 'v125', 'v66', 'v113', 'v30', 'v38', 'v71', 'v31', 'v72', 'v79', 'v52', 'v56', 'v107', 'v62', 'v3', 'v74', 'v91', 'v22', 'v110', 'v24', 'v112'}\n"
     ]
    }
   ],
   "source": [
    "# identify categorical variables - strings\n",
    "catcols = set(BNP.dtypes[BNP.dtypes=='O'].index)\n",
    "catcols.add(\"v38\")\n",
    "catcols.add(\"v62\")\n",
    "catcols.add(\"v72\")\n",
    "catcols.add(\"v129\")\n",
    "print(catcols)"
   ]
  },
  {
   "cell_type": "code",
   "execution_count": 118,
   "metadata": {},
   "outputs": [
    {
     "name": "stdout",
     "output_type": "stream",
     "text": [
      "{'v49', 'v101', 'v37', 'v128', 'v83', 'v103', 'v97', 'v5', 'v81', 'v88', 'v109', 'v44', 'v119', 'v126', 'v64', 'v127', 'v73', 'v115', 'v9', 'v77', 'v13', 'v25', 'v124', 'v39', 'v92', 'v118', 'v34', 'v111', 'v14', 'v15', 'v70', 'v23', 'v28', 'v94', 'v106', 'v19', 'v18', 'v58', 'v68', 'v48', 'v102', 'v27', 'v33', 'v46', 'v6', 'v20', 'v1', 'v60', 'v67', 'v51', 'v26', 'v12', 'v16', 'v104', 'v21', 'v11', 'v7', 'v55', 'v42', 'v114', 'v96', 'v41', 'v29', 'v117', 'v100', 'v99', 'v87', 'v85', 'v116', 'v120', 'v59', 'v61', 'v69', 'v45', 'v43', 'v8', 'v35', 'v78', 'v80', 'v84', 'v130', 'v32', 'v86', 'v2', 'v122', 'v108', 'v40', 'v53', 'v105', 'v131', 'v10', 'v4', 'v65', 'v98', 'v121', 'v123', 'v82', 'v50', 'v93', 'v17', 'v57', 'v36', 'v89', 'v63', 'v54', 'v76', 'v90', 'v95'}\n"
     ]
    }
   ],
   "source": [
    "# identify continuous variables\n",
    "contcols = set(BNP.dtypes[BNP.dtypes != 'O'].index.values)\n",
    "contcols.remove(\"ID\")\n",
    "contcols.remove(\"target\")\n",
    "contcols.remove(\"v38\")\n",
    "contcols.remove(\"v62\")\n",
    "contcols.remove(\"v72\")\n",
    "contcols.remove(\"v129\")\n",
    "print(contcols)"
   ]
  },
  {
   "cell_type": "code",
   "execution_count": 119,
   "metadata": {},
   "outputs": [
    {
     "name": "stdout",
     "output_type": "stream",
     "text": [
      "{'v114', 'v34', 'v14', 'v40', 'v12', 'v50', 'v10', 'v21'}\n"
     ]
    }
   ],
   "source": [
    "impcontcols = contcols.intersection(impvars)\n",
    "print(impcontcols)"
   ]
  },
  {
   "cell_type": "code",
   "execution_count": 120,
   "metadata": {},
   "outputs": [
    {
     "name": "stdout",
     "output_type": "stream",
     "text": [
      "{'v75', 'v47', 'v129', 'v125', 'v66', 'v38', 'v71', 'v31', 'v72', 'v79', 'v52', 'v107', 'v62', 'v3', 'v74', 'v91', 'v22', 'v110', 'v24', 'v112'}\n"
     ]
    }
   ],
   "source": [
    "impcatcols = catcols.intersection(impvars)\n",
    "print(impcatcols)"
   ]
  },
  {
   "cell_type": "code",
   "execution_count": 121,
   "metadata": {},
   "outputs": [
    {
     "name": "stdout",
     "output_type": "stream",
     "text": [
      "(114321, 8)\n",
      "Index(['v114', 'v34', 'v14', 'v40', 'v12', 'v50', 'v10', 'v21'], dtype='object')\n"
     ]
    }
   ],
   "source": [
    "BNPCont = BNP.loc[::,impcontcols]\n",
    "print(BNPCont.shape)\n",
    "print(BNPCont.columns)"
   ]
  },
  {
   "cell_type": "code",
   "execution_count": 122,
   "metadata": {},
   "outputs": [
    {
     "name": "stdout",
     "output_type": "stream",
     "text": [
      "(8, 8)\n"
     ]
    }
   ],
   "source": [
    "BNPCorr = pd.DataFrame(BNPCont.corr(method='pearson'))\n",
    "print(BNPCorr.shape)"
   ]
  },
  {
   "cell_type": "code",
   "execution_count": 123,
   "metadata": {},
   "outputs": [
    {
     "data": {
      "text/html": [
       "<div>\n",
       "<style scoped>\n",
       "    .dataframe tbody tr th:only-of-type {\n",
       "        vertical-align: middle;\n",
       "    }\n",
       "\n",
       "    .dataframe tbody tr th {\n",
       "        vertical-align: top;\n",
       "    }\n",
       "\n",
       "    .dataframe thead th {\n",
       "        text-align: right;\n",
       "    }\n",
       "</style>\n",
       "<table border=\"1\" class=\"dataframe\">\n",
       "  <thead>\n",
       "    <tr style=\"text-align: right;\">\n",
       "      <th></th>\n",
       "      <th>v114</th>\n",
       "      <th>v34</th>\n",
       "      <th>v14</th>\n",
       "      <th>v40</th>\n",
       "      <th>v12</th>\n",
       "      <th>v50</th>\n",
       "      <th>v10</th>\n",
       "      <th>v21</th>\n",
       "    </tr>\n",
       "  </thead>\n",
       "  <tbody>\n",
       "    <tr>\n",
       "      <td>v114</td>\n",
       "      <td>1.000000</td>\n",
       "      <td>0.912380</td>\n",
       "      <td>-0.063333</td>\n",
       "      <td>-0.966913</td>\n",
       "      <td>-0.166398</td>\n",
       "      <td>0.118206</td>\n",
       "      <td>-0.101719</td>\n",
       "      <td>-0.035679</td>\n",
       "    </tr>\n",
       "    <tr>\n",
       "      <td>v34</td>\n",
       "      <td>0.912380</td>\n",
       "      <td>1.000000</td>\n",
       "      <td>0.162054</td>\n",
       "      <td>-0.903123</td>\n",
       "      <td>0.217345</td>\n",
       "      <td>0.112410</td>\n",
       "      <td>0.242473</td>\n",
       "      <td>0.057397</td>\n",
       "    </tr>\n",
       "    <tr>\n",
       "      <td>v14</td>\n",
       "      <td>-0.063333</td>\n",
       "      <td>0.162054</td>\n",
       "      <td>1.000000</td>\n",
       "      <td>0.142416</td>\n",
       "      <td>0.624567</td>\n",
       "      <td>0.311068</td>\n",
       "      <td>0.691823</td>\n",
       "      <td>0.835289</td>\n",
       "    </tr>\n",
       "    <tr>\n",
       "      <td>v40</td>\n",
       "      <td>-0.966913</td>\n",
       "      <td>-0.903123</td>\n",
       "      <td>0.142416</td>\n",
       "      <td>1.000000</td>\n",
       "      <td>0.183924</td>\n",
       "      <td>0.076698</td>\n",
       "      <td>0.197585</td>\n",
       "      <td>0.080044</td>\n",
       "    </tr>\n",
       "    <tr>\n",
       "      <td>v12</td>\n",
       "      <td>-0.166398</td>\n",
       "      <td>0.217345</td>\n",
       "      <td>0.624567</td>\n",
       "      <td>0.183924</td>\n",
       "      <td>1.000000</td>\n",
       "      <td>0.021209</td>\n",
       "      <td>0.911819</td>\n",
       "      <td>0.296894</td>\n",
       "    </tr>\n",
       "    <tr>\n",
       "      <td>v50</td>\n",
       "      <td>0.118206</td>\n",
       "      <td>0.112410</td>\n",
       "      <td>0.311068</td>\n",
       "      <td>0.076698</td>\n",
       "      <td>0.021209</td>\n",
       "      <td>1.000000</td>\n",
       "      <td>0.429839</td>\n",
       "      <td>0.109077</td>\n",
       "    </tr>\n",
       "    <tr>\n",
       "      <td>v10</td>\n",
       "      <td>-0.101719</td>\n",
       "      <td>0.242473</td>\n",
       "      <td>0.691823</td>\n",
       "      <td>0.197585</td>\n",
       "      <td>0.911819</td>\n",
       "      <td>0.429839</td>\n",
       "      <td>1.000000</td>\n",
       "      <td>0.312701</td>\n",
       "    </tr>\n",
       "    <tr>\n",
       "      <td>v21</td>\n",
       "      <td>-0.035679</td>\n",
       "      <td>0.057397</td>\n",
       "      <td>0.835289</td>\n",
       "      <td>0.080044</td>\n",
       "      <td>0.296894</td>\n",
       "      <td>0.109077</td>\n",
       "      <td>0.312701</td>\n",
       "      <td>1.000000</td>\n",
       "    </tr>\n",
       "  </tbody>\n",
       "</table>\n",
       "</div>"
      ],
      "text/plain": [
       "          v114       v34       v14       v40       v12       v50       v10  \\\n",
       "v114  1.000000  0.912380 -0.063333 -0.966913 -0.166398  0.118206 -0.101719   \n",
       "v34   0.912380  1.000000  0.162054 -0.903123  0.217345  0.112410  0.242473   \n",
       "v14  -0.063333  0.162054  1.000000  0.142416  0.624567  0.311068  0.691823   \n",
       "v40  -0.966913 -0.903123  0.142416  1.000000  0.183924  0.076698  0.197585   \n",
       "v12  -0.166398  0.217345  0.624567  0.183924  1.000000  0.021209  0.911819   \n",
       "v50   0.118206  0.112410  0.311068  0.076698  0.021209  1.000000  0.429839   \n",
       "v10  -0.101719  0.242473  0.691823  0.197585  0.911819  0.429839  1.000000   \n",
       "v21  -0.035679  0.057397  0.835289  0.080044  0.296894  0.109077  0.312701   \n",
       "\n",
       "           v21  \n",
       "v114 -0.035679  \n",
       "v34   0.057397  \n",
       "v14   0.835289  \n",
       "v40   0.080044  \n",
       "v12   0.296894  \n",
       "v50   0.109077  \n",
       "v10   0.312701  \n",
       "v21   1.000000  "
      ]
     },
     "execution_count": 123,
     "metadata": {},
     "output_type": "execute_result"
    }
   ],
   "source": [
    "BNPCorr"
   ]
  },
  {
   "cell_type": "code",
   "execution_count": 124,
   "metadata": {},
   "outputs": [
    {
     "data": {
      "text/plain": [
       "count    1.142370e+05\n",
       "mean     1.883046e+00\n",
       "std      1.393979e+00\n",
       "min     -9.875317e-07\n",
       "25%      1.050328e+00\n",
       "50%      1.312910e+00\n",
       "75%      2.100657e+00\n",
       "max      1.853392e+01\n",
       "Name: v10, dtype: float64"
      ]
     },
     "execution_count": 124,
     "metadata": {},
     "output_type": "execute_result"
    }
   ],
   "source": [
    "BNP.v10.describe()"
   ]
  },
  {
   "cell_type": "code",
   "execution_count": 125,
   "metadata": {},
   "outputs": [
    {
     "data": {
      "image/png": "[encoded data removed]",
      "text/plain": [
       "<Figure size 432x288 with 1 Axes>"
      ]
     },
     "metadata": {
      "needs_background": "light"
     },
     "output_type": "display_data"
    }
   ],
   "source": [
    "import matplotlib.pyplot as plt\n",
    "plt.hist(BNP.v10,bins=[1.0,1.2,1.4,1.6,1.8,2.0])\n",
    "#plt.hist(BNP.v10,bins=100)\n",
    "plt.xlim(1,2)\n",
    "plt.show()"
   ]
  },
  {
   "cell_type": "code",
   "execution_count": 126,
   "metadata": {},
   "outputs": [
    {
     "name": "stdout",
     "output_type": "stream",
     "text": [
      "count    1.143210e+05\n",
      "mean     1.882627e+00\n",
      "std      1.393552e+00\n",
      "min     -9.875317e-07\n",
      "25%      1.050328e+00\n",
      "50%      1.312910e+00\n",
      "75%      2.100657e+00\n",
      "max      1.853392e+01\n",
      "Name: v10, dtype: float64\n"
     ]
    },
    {
     "data": {
      "text/plain": [
       "0"
      ]
     },
     "execution_count": 126,
     "metadata": {},
     "output_type": "execute_result"
    }
   ],
   "source": [
    "#replace missing values in v10 with median\n",
    "median = BNP.v10.quantile(q=0.5)\n",
    "BNP.v10.fillna(median,inplace=True)\n",
    "print(BNP.v10.describe())\n",
    "BNP.v10.isnull().sum()"
   ]
  },
  {
   "cell_type": "code",
   "execution_count": 127,
   "metadata": {},
   "outputs": [
    {
     "data": {
      "text/plain": [
       "count    1.142350e+05\n",
       "mean     6.881304e+00\n",
       "std      9.244945e-01\n",
       "min      5.143224e-07\n",
       "25%      6.322471e+00\n",
       "50%      6.612969e+00\n",
       "75%      7.019983e+00\n",
       "max      1.871055e+01\n",
       "Name: v12, dtype: float64"
      ]
     },
     "execution_count": 127,
     "metadata": {},
     "output_type": "execute_result"
    }
   ],
   "source": [
    "BNP.v12.describe()"
   ]
  },
  {
   "cell_type": "code",
   "execution_count": 128,
   "metadata": {},
   "outputs": [
    {
     "data": {
      "image/png": "[encoded data removed]",
      "text/plain": [
       "<Figure size 432x288 with 1 Axes>"
      ]
     },
     "metadata": {
      "needs_background": "light"
     },
     "output_type": "display_data"
    }
   ],
   "source": [
    "import matplotlib.pyplot as plt\n",
    "plt.hist(BNP.v12,bins=[6.0,6.2,6.4,6.6,6.8,7.0])\n",
    "#plt.hist(BNP.v10,bins=100)\n",
    "plt.xlim(6,7)\n",
    "plt.show()"
   ]
  },
  {
   "cell_type": "code",
   "execution_count": 129,
   "metadata": {},
   "outputs": [
    {
     "name": "stdout",
     "output_type": "stream",
     "text": [
      "count    1.143210e+05\n",
      "mean     6.881103e+00\n",
      "std      9.241760e-01\n",
      "min      5.143224e-07\n",
      "25%      6.322625e+00\n",
      "50%      6.612969e+00\n",
      "75%      7.019404e+00\n",
      "max      1.871055e+01\n",
      "Name: v12, dtype: float64\n"
     ]
    },
    {
     "data": {
      "text/plain": [
       "0"
      ]
     },
     "execution_count": 129,
     "metadata": {},
     "output_type": "execute_result"
    }
   ],
   "source": [
    "#replace missing values in v10 with median\n",
    "median = BNP.v12.quantile(q=0.5)\n",
    "BNP.v12.fillna(median,inplace=True)\n",
    "print(BNP.v12.describe())\n",
    "BNP.v12.isnull().sum()"
   ]
  },
  {
   "cell_type": "code",
   "execution_count": 130,
   "metadata": {},
   "outputs": [
    {
     "data": {
      "text/plain": [
       "count    1.143170e+05\n",
       "mean     1.209428e+01\n",
       "std      1.443947e+00\n",
       "min     -9.738831e-07\n",
       "25%      1.125602e+01\n",
       "50%      1.196783e+01\n",
       "75%      1.271577e+01\n",
       "max      2.000000e+01\n",
       "Name: v14, dtype: float64"
      ]
     },
     "execution_count": 130,
     "metadata": {},
     "output_type": "execute_result"
    }
   ],
   "source": [
    "BNP.v14.describe()"
   ]
  },
  {
   "cell_type": "code",
   "execution_count": 131,
   "metadata": {},
   "outputs": [
    {
     "data": {
      "image/png": "[encoded data removed]",
      "text/plain": [
       "<Figure size 432x288 with 1 Axes>"
      ]
     },
     "metadata": {
      "needs_background": "light"
     },
     "output_type": "display_data"
    }
   ],
   "source": [
    "import matplotlib.pyplot as plt\n",
    "plt.hist(BNP.v14,bins=[1.6,1.62,1.64,1.66,1.8])\n",
    "#plt.hist(BNP.v10,bins=100)\n",
    "plt.xlim(1.6,1.8)\n",
    "plt.show()"
   ]
  },
  {
   "cell_type": "code",
   "execution_count": 132,
   "metadata": {},
   "outputs": [
    {
     "name": "stdout",
     "output_type": "stream",
     "text": [
      "count    1.143210e+05\n",
      "mean     1.209427e+01\n",
      "std      1.443922e+00\n",
      "min     -9.738831e-07\n",
      "25%      1.125602e+01\n",
      "50%      1.196783e+01\n",
      "75%      1.271577e+01\n",
      "max      2.000000e+01\n",
      "Name: v14, dtype: float64\n"
     ]
    },
    {
     "data": {
      "text/plain": [
       "0"
      ]
     },
     "execution_count": 132,
     "metadata": {},
     "output_type": "execute_result"
    }
   ],
   "source": [
    "#replace missing values in v10 with median\n",
    "median = BNP.v14.quantile(q=0.5)\n",
    "BNP.v14.fillna(median,inplace=True)\n",
    "print(BNP.v14.describe())\n",
    "BNP.v14.isnull().sum()"
   ]
  },
  {
   "cell_type": "code",
   "execution_count": 133,
   "metadata": {},
   "outputs": [
    {
     "data": {
      "text/plain": [
       "count    113710.000000\n",
       "mean          7.029740\n",
       "std           1.072271\n",
       "min           0.106181\n",
       "25%           6.415535\n",
       "50%           7.045416\n",
       "75%           7.670577\n",
       "max          19.296052\n",
       "Name: v21, dtype: float64"
      ]
     },
     "execution_count": 133,
     "metadata": {},
     "output_type": "execute_result"
    }
   ],
   "source": [
    "BNP.v21.describe()"
   ]
  },
  {
   "cell_type": "code",
   "execution_count": 134,
   "metadata": {},
   "outputs": [
    {
     "name": "stdout",
     "output_type": "stream",
     "text": [
      "count    114321.000000\n",
      "mean          7.029824\n",
      "std           1.069402\n",
      "min           0.106181\n",
      "25%           6.418755\n",
      "50%           7.045416\n",
      "75%           7.666522\n",
      "max          19.296052\n",
      "Name: v21, dtype: float64\n"
     ]
    },
    {
     "data": {
      "text/plain": [
       "0"
      ]
     },
     "execution_count": 134,
     "metadata": {},
     "output_type": "execute_result"
    }
   ],
   "source": [
    "#replace missing values in v10 with median\n",
    "median = BNP.v21.quantile(q=0.5)\n",
    "BNP.v21.fillna(median,inplace=True)\n",
    "print(BNP.v21.describe())\n",
    "BNP.v21.isnull().sum()"
   ]
  },
  {
   "cell_type": "code",
   "execution_count": 135,
   "metadata": {},
   "outputs": [
    {
     "data": {
      "text/plain": [
       "count    1.142100e+05\n",
       "mean     6.406236e+00\n",
       "std      2.025179e+00\n",
       "min     -6.707670e-07\n",
       "25%      5.054165e+00\n",
       "50%      6.537069e+00\n",
       "75%      7.702703e+00\n",
       "max      2.000000e+01\n",
       "Name: v34, dtype: float64"
      ]
     },
     "execution_count": 135,
     "metadata": {},
     "output_type": "execute_result"
    }
   ],
   "source": [
    "BNP.v34.describe()"
   ]
  },
  {
   "cell_type": "code",
   "execution_count": 136,
   "metadata": {},
   "outputs": [
    {
     "data": {
      "image/png": "[encoded data removed]",
      "text/plain": [
       "<Figure size 432x288 with 1 Axes>"
      ]
     },
     "metadata": {
      "needs_background": "light"
     },
     "output_type": "display_data"
    }
   ],
   "source": [
    "import matplotlib.pyplot as plt\n",
    "plt.hist(BNP.v34,bins=[6.0,6.2,6.4,6.45,6.5,6.6,6.8,7.0])\n",
    "#plt.hist(BNP.v10,bins=100)\n",
    "plt.xlim(6,7)\n",
    "plt.show()"
   ]
  },
  {
   "cell_type": "code",
   "execution_count": 137,
   "metadata": {},
   "outputs": [
    {
     "name": "stdout",
     "output_type": "stream",
     "text": [
      "count    1.143210e+05\n",
      "mean     6.406363e+00\n",
      "std      2.024200e+00\n",
      "min     -6.707670e-07\n",
      "25%      5.055800e+00\n",
      "50%      6.537069e+00\n",
      "75%      7.701451e+00\n",
      "max      2.000000e+01\n",
      "Name: v34, dtype: float64\n"
     ]
    },
    {
     "data": {
      "text/plain": [
       "0"
      ]
     },
     "execution_count": 137,
     "metadata": {},
     "output_type": "execute_result"
    }
   ],
   "source": [
    "#replace missing values in v10 with median\n",
    "median = BNP.v34.quantile(q=0.5)\n",
    "BNP.v34.fillna(median,inplace=True)\n",
    "print(BNP.v34.describe())\n",
    "BNP.v34.isnull().sum()"
   ]
  },
  {
   "cell_type": "code",
   "execution_count": 138,
   "metadata": {},
   "outputs": [
    {
     "data": {
      "text/plain": [
       "count    1.142100e+05\n",
       "mean     1.046593e+01\n",
       "std      3.169183e+00\n",
       "min      1.238996e-07\n",
       "25%      8.408220e+00\n",
       "50%      1.033427e+01\n",
       "75%      1.276518e+01\n",
       "max      2.000000e+01\n",
       "Name: v40, dtype: float64"
      ]
     },
     "execution_count": 138,
     "metadata": {},
     "output_type": "execute_result"
    }
   ],
   "source": [
    "BNP.v40.describe()"
   ]
  },
  {
   "cell_type": "code",
   "execution_count": 139,
   "metadata": {},
   "outputs": [
    {
     "data": {
      "image/png": "[encoded data removed]",
      "text/plain": [
       "<Figure size 432x288 with 1 Axes>"
      ]
     },
     "metadata": {
      "needs_background": "light"
     },
     "output_type": "display_data"
    }
   ],
   "source": [
    "import matplotlib.pyplot as plt\n",
    "plt.hist(BNP.v40,bins=[1.02,1.03,1.04,1.06,1.08])\n",
    "#plt.hist(BNP.v10,bins=100)\n",
    "plt.xlim(1,1.1)\n",
    "plt.show()"
   ]
  },
  {
   "cell_type": "code",
   "execution_count": 140,
   "metadata": {},
   "outputs": [
    {
     "name": "stdout",
     "output_type": "stream",
     "text": [
      "count    1.143210e+05\n",
      "mean     1.046580e+01\n",
      "std      3.167646e+00\n",
      "min      1.238996e-07\n",
      "25%      8.410390e+00\n",
      "50%      1.033427e+01\n",
      "75%      1.276246e+01\n",
      "max      2.000000e+01\n",
      "Name: v40, dtype: float64\n"
     ]
    },
    {
     "data": {
      "text/plain": [
       "0"
      ]
     },
     "execution_count": 140,
     "metadata": {},
     "output_type": "execute_result"
    }
   ],
   "source": [
    "#replace missing values in v10 with median\n",
    "median = BNP.v40.quantile(q=0.5)\n",
    "BNP.v40.fillna(median,inplace=True)\n",
    "print(BNP.v40.describe())\n",
    "BNP.v40.isnull().sum()"
   ]
  },
  {
   "cell_type": "code",
   "execution_count": 141,
   "metadata": {},
   "outputs": [
    {
     "data": {
      "text/plain": [
       "count    1.142350e+05\n",
       "mean     1.504265e+00\n",
       "std      1.168329e+00\n",
       "min     -9.091393e-07\n",
       "25%      6.587918e-01\n",
       "50%      1.211944e+00\n",
       "75%      2.007189e+00\n",
       "max      2.000000e+01\n",
       "Name: v50, dtype: float64"
      ]
     },
     "execution_count": 141,
     "metadata": {},
     "output_type": "execute_result"
    }
   ],
   "source": [
    "BNP.v50.describe()"
   ]
  },
  {
   "cell_type": "code",
   "execution_count": 142,
   "metadata": {},
   "outputs": [
    {
     "data": {
      "image/png": "[encoded data removed]",
      "text/plain": [
       "<Figure size 432x288 with 1 Axes>"
      ]
     },
     "metadata": {
      "needs_background": "light"
     },
     "output_type": "display_data"
    }
   ],
   "source": [
    "import matplotlib.pyplot as plt\n",
    "plt.hist(BNP.v50,bins=[1.2,1.3,1.4,1.6,1.8])\n",
    "#plt.hist(BNP.v10,bins=100)\n",
    "plt.xlim(1,2)\n",
    "plt.show()"
   ]
  },
  {
   "cell_type": "code",
   "execution_count": 143,
   "metadata": {},
   "outputs": [
    {
     "name": "stdout",
     "output_type": "stream",
     "text": [
      "count    1.143210e+05\n",
      "mean     1.504045e+00\n",
      "std      1.167917e+00\n",
      "min     -9.091393e-07\n",
      "25%      6.587924e-01\n",
      "50%      1.211944e+00\n",
      "75%      2.005722e+00\n",
      "max      2.000000e+01\n",
      "Name: v50, dtype: float64\n"
     ]
    },
    {
     "data": {
      "text/plain": [
       "0"
      ]
     },
     "execution_count": 143,
     "metadata": {},
     "output_type": "execute_result"
    }
   ],
   "source": [
    "#replace missing values in v10 with median\n",
    "median = BNP.v50.quantile(q=0.5)\n",
    "BNP.v50.fillna(median,inplace=True)\n",
    "print(BNP.v50.describe())\n",
    "BNP.v50.isnull().sum()"
   ]
  },
  {
   "cell_type": "code",
   "execution_count": 144,
   "metadata": {},
   "outputs": [
    {
     "data": {
      "text/plain": [
       "count    1.142910e+05\n",
       "mean     1.357445e+01\n",
       "std      2.613221e+00\n",
       "min     -9.335327e-10\n",
       "25%      1.199531e+01\n",
       "50%      1.403998e+01\n",
       "75%      1.537267e+01\n",
       "max      2.000000e+01\n",
       "Name: v114, dtype: float64"
      ]
     },
     "execution_count": 144,
     "metadata": {},
     "output_type": "execute_result"
    }
   ],
   "source": [
    "BNP.v114.describe()"
   ]
  },
  {
   "cell_type": "code",
   "execution_count": 145,
   "metadata": {},
   "outputs": [
    {
     "data": {
      "image/png": "[encoded data removed]",
      "text/plain": [
       "<Figure size 432x288 with 1 Axes>"
      ]
     },
     "metadata": {
      "needs_background": "light"
     },
     "output_type": "display_data"
    }
   ],
   "source": [
    "import matplotlib.pyplot as plt\n",
    "#plt.hist(BNP.v114,bins=[1.3,1.35,1.4,1.45,1.5])\n",
    "plt.hist(BNP.v10,bins=100)\n",
    "plt.xlim(1.3,1.5)\n",
    "plt.show()"
   ]
  },
  {
   "cell_type": "code",
   "execution_count": 146,
   "metadata": {},
   "outputs": [
    {
     "name": "stdout",
     "output_type": "stream",
     "text": [
      "count    1.143210e+05\n",
      "mean     1.357457e+01\n",
      "std      2.612889e+00\n",
      "min     -9.335327e-10\n",
      "25%      1.199667e+01\n",
      "50%      1.403998e+01\n",
      "75%      1.537219e+01\n",
      "max      2.000000e+01\n",
      "Name: v114, dtype: float64\n"
     ]
    },
    {
     "data": {
      "text/plain": [
       "0"
      ]
     },
     "execution_count": 146,
     "metadata": {},
     "output_type": "execute_result"
    }
   ],
   "source": [
    "#replace missing values in v10 with median\n",
    "median = BNP.v114.quantile(q=0.5)\n",
    "BNP.v114.fillna(median,inplace=True)\n",
    "print(BNP.v114.describe())\n",
    "BNP.v114.isnull().sum()"
   ]
  },
  {
   "cell_type": "code",
   "execution_count": 147,
   "metadata": {},
   "outputs": [
    {
     "data": {
      "text/plain": [
       "0"
      ]
     },
     "execution_count": 147,
     "metadata": {},
     "output_type": "execute_result"
    }
   ],
   "source": [
    "BNP.v110.fillna(BNP.v110.mode()[0],inplace=True)\n",
    "BNP.v110.isnull().sum()"
   ]
  },
  {
   "cell_type": "code",
   "execution_count": 148,
   "metadata": {},
   "outputs": [],
   "source": [
    "#for column in X.columns:\n",
    "#    X[column].fillna(X[column].mode()[0], inplace=True)"
   ]
  },
  {
   "cell_type": "code",
   "execution_count": 149,
   "metadata": {},
   "outputs": [
    {
     "name": "stdout",
     "output_type": "stream",
     "text": [
      "{'v75', 'v47', 'v129', 'v125', 'v66', 'v38', 'v71', 'v31', 'v72', 'v79', 'v52', 'v107', 'v62', 'v3', 'v74', 'v91', 'v22', 'v110', 'v24', 'v112'}\n"
     ]
    }
   ],
   "source": [
    "impcatcols = catcols.intersection(impvars)\n",
    "print(impcatcols)"
   ]
  },
  {
   "cell_type": "code",
   "execution_count": 150,
   "metadata": {},
   "outputs": [],
   "source": [
    "#X = pd.DataFrame(BNP,columns='v110', 'v112', 'v74', 'v71', 'v129', 'v72', 'v75', 'v66', 'v3', 'v24', 'v125', 'v52', 'v79', 'v22', 'v91', 'v47', 'v38', 'v62', 'v107', 'v31')"
   ]
  },
  {
   "cell_type": "code",
   "execution_count": 151,
   "metadata": {},
   "outputs": [],
   "source": [
    "#X.columns"
   ]
  },
  {
   "cell_type": "code",
   "execution_count": 152,
   "metadata": {},
   "outputs": [],
   "source": [
    "BNP.v112.fillna(BNP.v112.mode()[0],inplace=True)\n",
    "BNP.v74.fillna(BNP.v74.mode()[0],inplace=True)\n",
    "BNP.v71.fillna(BNP.v71.mode()[0],inplace=True)\n",
    "BNP.v129.fillna(BNP.v129.mode()[0],inplace=True)\n",
    "BNP.v72.fillna(BNP.v72.mode()[0],inplace=True)\n",
    "BNP.v75.fillna(BNP.v75.mode()[0],inplace=True)\n",
    "BNP.v66.fillna(BNP.v66.mode()[0],inplace=True)\n",
    "BNP.v3.fillna(BNP.v3.mode()[0],inplace=True)\n",
    "BNP.v24.fillna(BNP.v24.mode()[0],inplace=True)\n",
    "BNP.v125.fillna(BNP.v125.mode()[0],inplace=True)\n",
    "BNP.v52.fillna(BNP.v52.mode()[0],inplace=True)\n",
    "BNP.v79.fillna(BNP.v79.mode()[0],inplace=True)\n",
    "BNP.v22.fillna(BNP.v22.mode()[0],inplace=True)\n",
    "BNP.v91.fillna(BNP.v91.mode()[0],inplace=True)\n",
    "BNP.v47.fillna(BNP.v47.mode()[0],inplace=True)\n",
    "BNP.v38.fillna(BNP.v38.mode()[0],inplace=True)\n",
    "BNP.v62.fillna(BNP.v62.mode()[0],inplace=True)\n",
    "BNP.v107.fillna(BNP.v107.mode()[0],inplace=True)\n",
    "BNP.v31.fillna(BNP.v31.mode()[0],inplace=True)"
   ]
  },
  {
   "cell_type": "code",
   "execution_count": 153,
   "metadata": {},
   "outputs": [
    {
     "data": {
      "text/plain": [
       "0"
      ]
     },
     "execution_count": 153,
     "metadata": {},
     "output_type": "execute_result"
    }
   ],
   "source": [
    "BNP.v79.isnull().sum()"
   ]
  },
  {
   "cell_type": "code",
   "execution_count": 154,
   "metadata": {},
   "outputs": [
    {
     "data": {
      "text/plain": [
       "{'v10', 'v114', 'v12', 'v14', 'v21', 'v34', 'v40', 'v50'}"
      ]
     },
     "execution_count": 154,
     "metadata": {},
     "output_type": "execute_result"
    }
   ],
   "source": [
    "impcontcols"
   ]
  },
  {
   "cell_type": "code",
   "execution_count": 155,
   "metadata": {},
   "outputs": [],
   "source": [
    "indX=pd.DataFrame(BNP,columns=['v10', 'v114', 'v12', 'v14',  'v34', 'v40', 'v50','v24','v31','v47','v62','v66','v71','v72','v75'])"
   ]
  },
  {
   "cell_type": "code",
   "execution_count": 156,
   "metadata": {},
   "outputs": [],
   "source": [
    "#v47,v62,v66,v71,v72,v75.\n",
    "#exclude v52 and v21"
   ]
  },
  {
   "cell_type": "code",
   "execution_count": 157,
   "metadata": {},
   "outputs": [],
   "source": [
    "catX = pd.DataFrame(BNP,columns=impcatcols)\n",
    "contX = pd.DataFrame(BNP,columns=['v10', 'v114', 'v12', 'v14',  'v34', 'v40', 'v50'])"
   ]
  },
  {
   "cell_type": "code",
   "execution_count": 158,
   "metadata": {},
   "outputs": [],
   "source": [
    "BNPMERGE = pd.concat([catX,contX],axis=1,join='outer')"
   ]
  },
  {
   "cell_type": "code",
   "execution_count": 159,
   "metadata": {},
   "outputs": [],
   "source": [
    "BNPMOD = pd.DataFrame(BNPMERGE)\n",
    "BNPMOD.to_excel('bnpmod1.xlsx')"
   ]
  },
  {
   "cell_type": "code",
   "execution_count": 160,
   "metadata": {},
   "outputs": [
    {
     "data": {
      "text/plain": [
       "v75     0\n",
       "v47     0\n",
       "v129    0\n",
       "v125    0\n",
       "v66     0\n",
       "v38     0\n",
       "v71     0\n",
       "v31     0\n",
       "v72     0\n",
       "v79     0\n",
       "v52     0\n",
       "v107    0\n",
       "v62     0\n",
       "v3      0\n",
       "v74     0\n",
       "v91     0\n",
       "v22     0\n",
       "v110    0\n",
       "v24     0\n",
       "v112    0\n",
       "v10     0\n",
       "v114    0\n",
       "v12     0\n",
       "v14     0\n",
       "v34     0\n",
       "v40     0\n",
       "v50     0\n",
       "dtype: int64"
      ]
     },
     "execution_count": 160,
     "metadata": {},
     "output_type": "execute_result"
    }
   ],
   "source": [
    "BNPMOD.isnull().sum()"
   ]
  },
  {
   "cell_type": "code",
   "execution_count": 161,
   "metadata": {},
   "outputs": [
    {
     "name": "stdout",
     "output_type": "stream",
     "text": [
      "(114321, 1)\n",
      "   target\n",
      "0       1\n",
      "1       1\n",
      "2       1\n",
      "3       1\n",
      "4       1\n"
     ]
    }
   ],
   "source": [
    "# Create file with dependent \n",
    "depX = pd.DataFrame(BNP,columns=['target'])\n",
    "print(depX.shape)\n",
    "print(depX.head())"
   ]
  },
  {
   "cell_type": "code",
   "execution_count": 162,
   "metadata": {},
   "outputs": [
    {
     "name": "stdout",
     "output_type": "stream",
     "text": [
      "(91456, 15)\n",
      "(91456, 1)\n",
      "(22865, 15)\n",
      "(22865, 1)\n",
      "        target\n",
      "110073       1\n",
      "56578        0\n",
      "108549       1\n",
      "107918       1\n",
      "30611        1\n",
      "15734        1\n",
      "56147        0\n",
      "9506         1\n",
      "94349        0\n",
      "99683        1\n"
     ]
    }
   ],
   "source": [
    "# splitting the data into Train and Test\n",
    "from sklearn.model_selection import train_test_split\n",
    "X_train, X_test, Y_train, Y_test = train_test_split(indX, depX,\n",
    "                                                    test_size = 0.20,\n",
    "                                                    random_state = 0)\n",
    "#random state is used to fix the split\n",
    "print(X_train.shape)\n",
    "print(Y_train.shape)\n",
    "print(X_test.shape)\n",
    "print(Y_test.shape)\n",
    "print(Y_train[0:10])"
   ]
  },
  {
   "cell_type": "code",
   "execution_count": 163,
   "metadata": {},
   "outputs": [
    {
     "name": "stdout",
     "output_type": "stream",
     "text": [
      "(91456, 7)\n",
      "(22865, 7)\n"
     ]
    }
   ],
   "source": [
    "# extract only continuous columns\n",
    "ContColumns = list(contX)\n",
    "X_train_cont = pd.DataFrame(X_train,columns=ContColumns)\n",
    "print(X_train_cont.shape)\n",
    "X_test_cont = pd.DataFrame(X_test,columns=ContColumns)\n",
    "print(X_test_cont.shape)"
   ]
  },
  {
   "cell_type": "code",
   "execution_count": 164,
   "metadata": {},
   "outputs": [
    {
     "name": "stdout",
     "output_type": "stream",
     "text": [
      "(22865, 7)\n"
     ]
    }
   ],
   "source": [
    "X_test_cont = pd.DataFrame(X_test,columns=ContColumns)\n",
    "print(X_test_cont.shape)"
   ]
  },
  {
   "cell_type": "code",
   "execution_count": 165,
   "metadata": {},
   "outputs": [],
   "source": [
    "# apply sclaing on continuous variables\n",
    "from sklearn.preprocessing import MinMaxScaler\n",
    "MMS = MinMaxScaler()\n",
    "X_train_cont2 = MMS.fit_transform(X_train_cont)\n",
    "X_test_cont2 = MMS.transform(X_test_cont)"
   ]
  },
  {
   "cell_type": "code",
   "execution_count": 166,
   "metadata": {},
   "outputs": [],
   "source": [
    "X_train_cont3=pd.DataFrame(X_train_cont2)\n",
    "X_test_cont3=pd.DataFrame(X_test_cont2)"
   ]
  },
  {
   "cell_type": "code",
   "execution_count": 167,
   "metadata": {},
   "outputs": [
    {
     "name": "stdout",
     "output_type": "stream",
     "text": [
      "(91456, 7)\n",
      "(91456, 7)\n",
      "(22865, 7)\n",
      "       v24 v31 v47  v62 v66  v72 v75\n",
      "110073   D   B   C    1   A    2   B\n",
      "56578    A   A   C    1   B    1   B\n",
      "108549   D   A   F    1   B    1   B\n",
      "107918   E   A   I    1   A    1   B\n",
      "30611    C   A   F    2   C    2   B\n",
      "      v24 v31 v47  v62 v66  v72 v75\n",
      "58213   D   A   G    1   B    1   D\n",
      "15414   D   A   I    1   A    1   B\n",
      "35852   E   A   I    1   C    1   D\n",
      "10097   B   A   I    1   A    1   D\n",
      "47610   E   A   D    0   C    0   D\n"
     ]
    }
   ],
   "source": [
    "CatColumns = list(['v24','v31','v47','v62','v66','v72','v75'])\n",
    "X_train_cat = pd.DataFrame(X_train,columns=CatColumns)\n",
    "print(X_train_cat.shape)\n",
    "X_test_cat = pd.DataFrame(X_test,columns=CatColumns)\n",
    "print(X_train_cat.shape)\n",
    "print(X_test_cat.shape)\n",
    "print(X_train_cat.head())\n",
    "print(X_test_cat.head())"
   ]
  },
  {
   "cell_type": "code",
   "execution_count": 168,
   "metadata": {},
   "outputs": [
    {
     "name": "stdout",
     "output_type": "stream",
     "text": [
      "Counter({'E': 44135, 'D': 21041, 'C': 16720, 'B': 6535, 'A': 3025})\n",
      "Counter({'E': 11042, 'D': 5292, 'C': 4152, 'B': 1615, 'A': 764})\n",
      "Counter({4: 44135, 3: 21041, 2: 16720, 1: 6535, 0: 3025})\n",
      "Counter({4: 11042, 3: 5292, 2: 4152, 1: 1615, 0: 764})\n"
     ]
    }
   ],
   "source": [
    "from sklearn.preprocessing import LabelEncoder\n",
    "le1= LabelEncoder()\n",
    "print(Counter(X_train_cat.v24))\n",
    "print(Counter(X_test_cat.v24))\n",
    "X_train_cat.v24 = le1.fit_transform(X_train_cat.v24)\n",
    "X_test_cat.v24 = le1.transform(X_test_cat.v24)\n",
    "print(Counter(X_train_cat.v24))\n",
    "print(Counter(X_test_cat.v24))"
   ]
  },
  {
   "cell_type": "code",
   "execution_count": 169,
   "metadata": {},
   "outputs": [
    {
     "name": "stdout",
     "output_type": "stream",
     "text": [
      "Counter({'A': 73472, 'B': 15145, 'C': 2839})\n",
      "Counter({'A': 18332, 'B': 3802, 'C': 731})\n",
      "Counter({0: 73472, 1: 15145, 2: 2839})\n",
      "Counter({0: 18332, 1: 3802, 2: 731})\n"
     ]
    }
   ],
   "source": [
    "le2 = LabelEncoder()\n",
    "print(Counter(X_train_cat.v31))\n",
    "print(Counter(X_test_cat.v31))\n",
    "X_train_cat.v31 = le2.fit_transform(X_train_cat.v31)\n",
    "X_test_cat.v31 = le2.transform(X_test_cat.v31)\n",
    "print(Counter(X_train_cat.v31))\n",
    "print(Counter(X_test_cat.v31))"
   ]
  },
  {
   "cell_type": "code",
   "execution_count": 170,
   "metadata": {},
   "outputs": [
    {
     "name": "stdout",
     "output_type": "stream",
     "text": [
      "Counter({'C': 44290, 'I': 31303, 'E': 4249, 'F': 3454, 'G': 3166, 'D': 2521, 'J': 2400, 'B': 42, 'A': 30, 'H': 1})\n",
      "Counter({'C': 11135, 'I': 7768, 'E': 1052, 'F': 868, 'G': 780, 'D': 636, 'J': 610, 'B': 8, 'A': 8})\n",
      "Counter({2: 44290, 8: 31303, 4: 4249, 5: 3454, 6: 3166, 3: 2521, 9: 2400, 1: 42, 0: 30, 7: 1})\n",
      "Counter({2: 11135, 8: 7768, 4: 1052, 5: 868, 6: 780, 3: 636, 9: 610, 1: 8, 0: 8})\n"
     ]
    }
   ],
   "source": [
    "le3 = LabelEncoder()\n",
    "print(Counter(X_train_cat.v47))\n",
    "print(Counter(X_test_cat.v47))\n",
    "X_train_cat.v47 = le3.fit_transform(X_train_cat.v47)\n",
    "X_test_cat.v47 = le3.transform(X_test_cat.v47)\n",
    "print(Counter(X_train_cat.v47))\n",
    "print(Counter(X_test_cat.v47))"
   ]
  },
  {
   "cell_type": "code",
   "execution_count": 171,
   "metadata": {},
   "outputs": [
    {
     "name": "stdout",
     "output_type": "stream",
     "text": [
      "Counter({1: 59005, 0: 16473, 2: 13258, 3: 2235, 4: 367, 5: 80, 6: 33, 7: 5})\n",
      "Counter({1: 14825, 0: 4157, 2: 3155, 3: 591, 4: 104, 5: 19, 6: 14})\n",
      "Counter({1: 59005, 0: 16473, 2: 13258, 3: 2235, 4: 367, 5: 80, 6: 33, 7: 5})\n",
      "Counter({1: 14825, 0: 4157, 2: 3155, 3: 591, 4: 104, 5: 19, 6: 14})\n"
     ]
    }
   ],
   "source": [
    "le4 = LabelEncoder()\n",
    "print(Counter(X_train_cat.v62))\n",
    "print(Counter(X_test_cat.v62))\n",
    "X_train_cat.v62 = le4.fit_transform(X_train_cat.v62)\n",
    "X_test_cat.v62 = le4.transform(X_test_cat.v62)\n",
    "print(Counter(X_train_cat.v62))\n",
    "print(Counter(X_test_cat.v62))"
   ]
  },
  {
   "cell_type": "code",
   "execution_count": 172,
   "metadata": {},
   "outputs": [
    {
     "name": "stdout",
     "output_type": "stream",
     "text": [
      "Counter({'A': 56227, 'C': 20592, 'B': 14637})\n",
      "Counter({'A': 14126, 'C': 5112, 'B': 3627})\n",
      "Counter({0: 56227, 2: 20592, 1: 14637})\n",
      "Counter({0: 14126, 2: 5112, 1: 3627})\n"
     ]
    }
   ],
   "source": [
    "le5 = LabelEncoder()\n",
    "print(Counter(X_train_cat.v66))\n",
    "print(Counter(X_test_cat.v66))\n",
    "X_train_cat.v66 = le5.fit_transform(X_train_cat.v66)\n",
    "X_test_cat.v66 = le5.transform(X_test_cat.v66)\n",
    "print(Counter(X_train_cat.v66))\n",
    "print(Counter(X_test_cat.v66))"
   ]
  },
  {
   "cell_type": "code",
   "execution_count": 180,
   "metadata": {},
   "outputs": [
    {
     "ename": "AttributeError",
     "evalue": "'DataFrame' object has no attribute 'v71'",
     "output_type": "error",
     "traceback": [
      "\u001b[1;31m---------------------------------------------------------------------------\u001b[0m",
      "\u001b[1;31mAttributeError\u001b[0m                            Traceback (most recent call last)",
      "\u001b[1;32m<ipython-input-180-b740efa0e0da>\u001b[0m in \u001b[0;36m<module>\u001b[1;34m\u001b[0m\n\u001b[1;32m----> 1\u001b[1;33m \u001b[0mX_train_cat\u001b[0m\u001b[1;33m.\u001b[0m\u001b[0mv71\u001b[0m\u001b[1;33m\u001b[0m\u001b[1;33m\u001b[0m\u001b[0m\n\u001b[0m",
      "\u001b[1;32m~\\Anaconda3\\lib\\site-packages\\pandas\\core\\generic.py\u001b[0m in \u001b[0;36m__getattr__\u001b[1;34m(self, name)\u001b[0m\n\u001b[0;32m   5177\u001b[0m             \u001b[1;32mif\u001b[0m \u001b[0mself\u001b[0m\u001b[1;33m.\u001b[0m\u001b[0m_info_axis\u001b[0m\u001b[1;33m.\u001b[0m\u001b[0m_can_hold_identifiers_and_holds_name\u001b[0m\u001b[1;33m(\u001b[0m\u001b[0mname\u001b[0m\u001b[1;33m)\u001b[0m\u001b[1;33m:\u001b[0m\u001b[1;33m\u001b[0m\u001b[1;33m\u001b[0m\u001b[0m\n\u001b[0;32m   5178\u001b[0m                 \u001b[1;32mreturn\u001b[0m \u001b[0mself\u001b[0m\u001b[1;33m[\u001b[0m\u001b[0mname\u001b[0m\u001b[1;33m]\u001b[0m\u001b[1;33m\u001b[0m\u001b[1;33m\u001b[0m\u001b[0m\n\u001b[1;32m-> 5179\u001b[1;33m             \u001b[1;32mreturn\u001b[0m \u001b[0mobject\u001b[0m\u001b[1;33m.\u001b[0m\u001b[0m__getattribute__\u001b[0m\u001b[1;33m(\u001b[0m\u001b[0mself\u001b[0m\u001b[1;33m,\u001b[0m \u001b[0mname\u001b[0m\u001b[1;33m)\u001b[0m\u001b[1;33m\u001b[0m\u001b[1;33m\u001b[0m\u001b[0m\n\u001b[0m\u001b[0;32m   5180\u001b[0m \u001b[1;33m\u001b[0m\u001b[0m\n\u001b[0;32m   5181\u001b[0m     \u001b[1;32mdef\u001b[0m \u001b[0m__setattr__\u001b[0m\u001b[1;33m(\u001b[0m\u001b[0mself\u001b[0m\u001b[1;33m,\u001b[0m \u001b[0mname\u001b[0m\u001b[1;33m,\u001b[0m \u001b[0mvalue\u001b[0m\u001b[1;33m)\u001b[0m\u001b[1;33m:\u001b[0m\u001b[1;33m\u001b[0m\u001b[1;33m\u001b[0m\u001b[0m\n",
      "\u001b[1;31mAttributeError\u001b[0m: 'DataFrame' object has no attribute 'v71'"
     ]
    }
   ],
   "source": [
    "X_train_cat.v71"
   ]
  },
  {
   "cell_type": "code",
   "execution_count": 175,
   "metadata": {},
   "outputs": [],
   "source": [
    "#le6 = LabelEncoder()\n",
    "#print(Counter(X_train_cat.v71))\n",
    "#print(Counter(X_test_cat.v71))\n",
    "#X_train_cat.v71 = le6.fit_transform(X_train_cat.v71)\n",
    "#X_test_cat.v71 = le6.transform(X_test_cat.v71)\n",
    "#print(Counter(X_train_cat.v71))\n",
    "#print(Counter(X_test_cat.v71))"
   ]
  },
  {
   "cell_type": "code",
   "execution_count": 176,
   "metadata": {},
   "outputs": [
    {
     "name": "stdout",
     "output_type": "stream",
     "text": [
      "Counter({1: 60483, 2: 19648, 3: 5768, 0: 2688, 4: 1778, 5: 568, 6: 221, 7: 102, 8: 65, 9: 55, 10: 43, 12: 25, 11: 12})\n",
      "Counter({1: 15284, 2: 4693, 3: 1501, 0: 667, 4: 443, 5: 117, 6: 67, 7: 29, 8: 24, 9: 16, 10: 13, 12: 7, 11: 4})\n",
      "Counter({1: 60483, 2: 19648, 3: 5768, 0: 2688, 4: 1778, 5: 568, 6: 221, 7: 102, 8: 65, 9: 55, 10: 43, 12: 25, 11: 12})\n",
      "Counter({1: 15284, 2: 4693, 3: 1501, 0: 667, 4: 443, 5: 117, 6: 67, 7: 29, 8: 24, 9: 16, 10: 13, 12: 7, 11: 4})\n"
     ]
    }
   ],
   "source": [
    "le7 = LabelEncoder()\n",
    "print(Counter(X_train_cat.v72))\n",
    "print(Counter(X_test_cat.v72))\n",
    "X_train_cat.v72 = le7.fit_transform(X_train_cat.v72)\n",
    "X_test_cat.v72 = le7.transform(X_test_cat.v72)\n",
    "print(Counter(X_train_cat.v72))\n",
    "print(Counter(X_test_cat.v72))"
   ]
  },
  {
   "cell_type": "code",
   "execution_count": 177,
   "metadata": {},
   "outputs": [
    {
     "name": "stdout",
     "output_type": "stream",
     "text": [
      "Counter({'D': 59958, 'B': 31459, 'C': 22, 'A': 17})\n",
      "Counter({'D': 15129, 'B': 7733, 'C': 2, 'A': 1})\n",
      "Counter({3: 59958, 1: 31459, 2: 22, 0: 17})\n",
      "Counter({3: 15129, 1: 7733, 2: 2, 0: 1})\n"
     ]
    }
   ],
   "source": [
    "le8 = LabelEncoder()\n",
    "print(Counter(X_train_cat.v75))\n",
    "print(Counter(X_test_cat.v75))\n",
    "X_train_cat.v75 = le8.fit_transform(X_train_cat.v75)\n",
    "X_test_cat.v75 = le8.transform(X_test_cat.v75)\n",
    "print(Counter(X_train_cat.v75))\n",
    "print(Counter(X_test_cat.v75))"
   ]
  },
  {
   "cell_type": "code",
   "execution_count": 181,
   "metadata": {},
   "outputs": [
    {
     "data": {
      "text/plain": [
       "Index(['v24', 'v31', 'v47', 'v62', 'v66', 'v72', 'v75'], dtype='object')"
      ]
     },
     "execution_count": 181,
     "metadata": {},
     "output_type": "execute_result"
    }
   ],
   "source": [
    "X_train_cat.columns"
   ]
  },
  {
   "cell_type": "code",
   "execution_count": 182,
   "metadata": {},
   "outputs": [
    {
     "name": "stdout",
     "output_type": "stream",
     "text": [
      "(91456, 29)\n",
      "(22865, 29)\n"
     ]
    }
   ],
   "source": [
    "# apply one hot encoding on state and area\n",
    "from sklearn.preprocessing import OneHotEncoder\n",
    "# columns 2,3represent state and area code\n",
    "#OHE = OneHotEncoder(categories = [[\"A\",\"B\",\"C\",\"D\",\"E\"],[\"A\",\"B\",\"C\"],[\"F\",\"B\",\"C\"],\n",
    "#                                  [\"C\",\"D\",\"E\",\"F\",\"G\",\"I\",\"J\"],\n",
    "#                                  [0,1,2,3],[\"A\",\"B\",\"C\"],[0,1,2,3,4],[\"B\",\"D\"]],\n",
    "#                    sparse = False, handle_unknown = 'error')\n",
    "OHE = OneHotEncoder(categories = [[0,1,2,3,4],[0,1,2],\n",
    "                                  [2,3,4,5,6,8,9],\n",
    "                                  [0,1,2,3],[0,1,2],[0,1,2,3,4],[1,3]],\n",
    "                    sparse = False, handle_unknown = 'ignore')\n",
    "X_train_cat2 = OHE.fit_transform(X_train_cat)\n",
    "print(X_train_cat2.shape)\n",
    "X_test_cat2 = OHE.transform(X_test_cat)\n",
    "print(X_test_cat2.shape)"
   ]
  },
  {
   "cell_type": "code",
   "execution_count": 183,
   "metadata": {},
   "outputs": [
    {
     "name": "stdout",
     "output_type": "stream",
     "text": [
      "RangeIndex(start=0, stop=91456, step=1)\n",
      "(91456, 29)\n",
      "(22865, 29)\n"
     ]
    }
   ],
   "source": [
    "# convert test as dataframe\n",
    "X_train_cat3 = pd.DataFrame(X_train_cat2)\n",
    "print(X_train_cat3.index)\n",
    "print(X_train_cat3.shape)\n",
    "X_test_cat3 = pd.DataFrame(X_test_cat2)\n",
    "print(X_test_cat3.shape)"
   ]
  },
  {
   "cell_type": "code",
   "execution_count": 184,
   "metadata": {},
   "outputs": [
    {
     "name": "stdout",
     "output_type": "stream",
     "text": [
      "(91456, 36)\n",
      "(22865, 36)\n"
     ]
    }
   ],
   "source": [
    "X_train_final = pd.concat([X_train_cont3,X_train_cat3],axis=1,join='outer',ignore_index=True)\n",
    "X_test_final = pd.concat([X_test_cont3,X_test_cat3],axis=1,join='outer',ignore_index=True)\n",
    "print(X_train_final.shape)\n",
    "print(X_test_final.shape)"
   ]
  },
  {
   "cell_type": "code",
   "execution_count": 185,
   "metadata": {},
   "outputs": [
    {
     "name": "stdout",
     "output_type": "stream",
     "text": [
      "Fitting 5 folds for each of 5 candidates, totalling 25 fits\n",
      "[CV] C=0.05 ..........................................................\n"
     ]
    },
    {
     "name": "stderr",
     "output_type": "stream",
     "text": [
      "[Parallel(n_jobs=1)]: Using backend SequentialBackend with 1 concurrent workers.\n"
     ]
    },
    {
     "name": "stdout",
     "output_type": "stream",
     "text": [
      "[CV] .......... C=0.05, score=(train=0.596, test=0.593), total=   1.5s\n",
      "[CV] C=0.05 ..........................................................\n"
     ]
    },
    {
     "name": "stderr",
     "output_type": "stream",
     "text": [
      "[Parallel(n_jobs=1)]: Done   1 out of   1 | elapsed:    1.5s remaining:    0.0s\n"
     ]
    },
    {
     "name": "stdout",
     "output_type": "stream",
     "text": [
      "[CV] .......... C=0.05, score=(train=0.595, test=0.595), total=   1.4s\n",
      "[CV] C=0.05 ..........................................................\n"
     ]
    },
    {
     "name": "stderr",
     "output_type": "stream",
     "text": [
      "[Parallel(n_jobs=1)]: Done   2 out of   2 | elapsed:    2.9s remaining:    0.0s\n"
     ]
    },
    {
     "name": "stdout",
     "output_type": "stream",
     "text": [
      "[CV] .......... C=0.05, score=(train=0.596, test=0.591), total=   1.4s\n",
      "[CV] C=0.05 ..........................................................\n"
     ]
    },
    {
     "name": "stderr",
     "output_type": "stream",
     "text": [
      "[Parallel(n_jobs=1)]: Done   3 out of   3 | elapsed:    4.3s remaining:    0.0s\n"
     ]
    },
    {
     "name": "stdout",
     "output_type": "stream",
     "text": [
      "[CV] .......... C=0.05, score=(train=0.595, test=0.600), total=   1.3s\n",
      "[CV] C=0.05 ..........................................................\n"
     ]
    },
    {
     "name": "stderr",
     "output_type": "stream",
     "text": [
      "[Parallel(n_jobs=1)]: Done   4 out of   4 | elapsed:    5.7s remaining:    0.0s\n"
     ]
    },
    {
     "name": "stdout",
     "output_type": "stream",
     "text": [
      "[CV] .......... C=0.05, score=(train=0.596, test=0.596), total=   1.5s\n",
      "[CV] C=0.2 ...........................................................\n"
     ]
    },
    {
     "name": "stderr",
     "output_type": "stream",
     "text": [
      "[Parallel(n_jobs=1)]: Done   5 out of   5 | elapsed:    7.2s remaining:    0.0s\n"
     ]
    },
    {
     "name": "stdout",
     "output_type": "stream",
     "text": [
      "[CV] ........... C=0.2, score=(train=0.596, test=0.594), total=   1.6s\n",
      "[CV] C=0.2 ...........................................................\n"
     ]
    },
    {
     "name": "stderr",
     "output_type": "stream",
     "text": [
      "[Parallel(n_jobs=1)]: Done   6 out of   6 | elapsed:    8.8s remaining:    0.0s\n"
     ]
    },
    {
     "name": "stdout",
     "output_type": "stream",
     "text": [
      "[CV] ........... C=0.2, score=(train=0.596, test=0.595), total=   1.7s\n",
      "[CV] C=0.2 ...........................................................\n"
     ]
    },
    {
     "name": "stderr",
     "output_type": "stream",
     "text": [
      "[Parallel(n_jobs=1)]: Done   7 out of   7 | elapsed:   10.5s remaining:    0.0s\n"
     ]
    },
    {
     "name": "stdout",
     "output_type": "stream",
     "text": [
      "[CV] ........... C=0.2, score=(train=0.597, test=0.592), total=   1.6s\n",
      "[CV] C=0.2 ...........................................................\n"
     ]
    },
    {
     "name": "stderr",
     "output_type": "stream",
     "text": [
      "[Parallel(n_jobs=1)]: Done   8 out of   8 | elapsed:   12.1s remaining:    0.0s\n"
     ]
    },
    {
     "name": "stdout",
     "output_type": "stream",
     "text": [
      "[CV] ........... C=0.2, score=(train=0.595, test=0.600), total=   1.9s\n",
      "[CV] C=0.2 ...........................................................\n"
     ]
    },
    {
     "name": "stderr",
     "output_type": "stream",
     "text": [
      "[Parallel(n_jobs=1)]: Done   9 out of   9 | elapsed:   14.1s remaining:    0.0s\n"
     ]
    },
    {
     "name": "stdout",
     "output_type": "stream",
     "text": [
      "[CV] ........... C=0.2, score=(train=0.596, test=0.596), total=   1.5s\n",
      "[CV] C=0.5 ...........................................................\n",
      "[CV] ........... C=0.5, score=(train=0.596, test=0.594), total=   1.5s\n",
      "[CV] C=0.5 ...........................................................\n",
      "[CV] ........... C=0.5, score=(train=0.595, test=0.595), total=   1.4s\n",
      "[CV] C=0.5 ...........................................................\n",
      "[CV] ........... C=0.5, score=(train=0.597, test=0.592), total=   1.4s\n",
      "[CV] C=0.5 ...........................................................\n",
      "[CV] ........... C=0.5, score=(train=0.596, test=0.600), total=   1.4s\n",
      "[CV] C=0.5 ...........................................................\n",
      "[CV] ........... C=0.5, score=(train=0.596, test=0.595), total=   1.5s\n",
      "[CV] C=1 .............................................................\n",
      "[CV] ............. C=1, score=(train=0.596, test=0.595), total=   2.3s\n",
      "[CV] C=1 .............................................................\n",
      "[CV] ............. C=1, score=(train=0.595, test=0.595), total=   2.1s\n",
      "[CV] C=1 .............................................................\n",
      "[CV] ............. C=1, score=(train=0.597, test=0.592), total=   2.3s\n",
      "[CV] C=1 .............................................................\n",
      "[CV] ............. C=1, score=(train=0.596, test=0.600), total=   2.2s\n",
      "[CV] C=1 .............................................................\n",
      "[CV] ............. C=1, score=(train=0.596, test=0.595), total=   2.1s\n",
      "[CV] C=2 .............................................................\n",
      "[CV] ............. C=2, score=(train=0.596, test=0.595), total=   3.3s\n",
      "[CV] C=2 .............................................................\n",
      "[CV] ............. C=2, score=(train=0.595, test=0.595), total=   3.8s\n",
      "[CV] C=2 .............................................................\n",
      "[CV] ............. C=2, score=(train=0.596, test=0.592), total=   3.4s\n",
      "[CV] C=2 .............................................................\n",
      "[CV] ............. C=2, score=(train=0.596, test=0.599), total=   3.9s\n",
      "[CV] C=2 .............................................................\n",
      "[CV] ............. C=2, score=(train=0.596, test=0.595), total=   3.8s\n"
     ]
    },
    {
     "name": "stderr",
     "output_type": "stream",
     "text": [
      "[Parallel(n_jobs=1)]: Done  25 out of  25 | elapsed:   52.5s finished\n"
     ]
    },
    {
     "data": {
      "text/plain": [
       "GridSearchCV(cv=5, error_score='raise-deprecating',\n",
       "             estimator=LogisticRegression(C=1.0, class_weight='balanced',\n",
       "                                          dual=False, fit_intercept=True,\n",
       "                                          intercept_scaling=1, l1_ratio=None,\n",
       "                                          max_iter=500, multi_class='warn',\n",
       "                                          n_jobs=None, penalty='l1',\n",
       "                                          random_state=None, solver='saga',\n",
       "                                          tol=0.0001, verbose=0,\n",
       "                                          warm_start=False),\n",
       "             iid='warn', n_jobs=None, param_grid={'C': [0.05, 0.2, 0.5, 1, 2]},\n",
       "             pre_dispatch='2*n_jobs', refit=True, return_train_score=True,\n",
       "             scoring='f1_macro', verbose=10)"
      ]
     },
     "execution_count": 185,
     "metadata": {},
     "output_type": "execute_result"
    }
   ],
   "source": [
    "# logistic model\n",
    "from sklearn.linear_model import LogisticRegression\n",
    "lgr = LogisticRegression(class_weight = 'balanced',solver='saga',max_iter=500,\n",
    "                         penalty = 'l1')\n",
    "parms = {'C': [0.05,0.2,0.5,1,2]} \n",
    "# perform grid search with cross validation\n",
    "from sklearn.model_selection import GridSearchCV\n",
    "CV = GridSearchCV(estimator = lgr,param_grid = parms, scoring = 'f1_macro',\n",
    "                  cv=5,refit=True,return_train_score = True,verbose=10)\n",
    "CV.fit(X_train_final,Y_train.target)"
   ]
  },
  {
   "cell_type": "code",
   "execution_count": 186,
   "metadata": {},
   "outputs": [
    {
     "name": "stdout",
     "output_type": "stream",
     "text": [
      "LogisticRegression(C=0.5, class_weight='balanced', dual=False,\n",
      "                   fit_intercept=True, intercept_scaling=1, l1_ratio=None,\n",
      "                   max_iter=500, multi_class='warn', n_jobs=None, penalty='l1',\n",
      "                   random_state=None, solver='saga', tol=0.0001, verbose=0,\n",
      "                   warm_start=False)\n"
     ]
    }
   ],
   "source": [
    "print(CV.best_estimator_)"
   ]
  },
  {
   "cell_type": "code",
   "execution_count": 187,
   "metadata": {},
   "outputs": [
    {
     "name": "stdout",
     "output_type": "stream",
     "text": [
      "[[ 6.33027097e-03  5.28691232e-02  0.00000000e+00  1.00920001e+00\n",
      "   0.00000000e+00  3.80841545e-01  9.12074489e+00 -5.95705486e-02\n",
      "   0.00000000e+00  2.30709275e-01 -4.01383818e-02  2.46378253e-01\n",
      "  -1.06657965e-01  0.00000000e+00  3.00678707e-01  5.37515991e-01\n",
      "  -3.87458009e-01 -8.11768566e-02  6.95846864e-02 -6.79145643e-02\n",
      "   1.41805895e-02  3.10172001e-02  6.33695116e-01  3.57753921e-01\n",
      "   2.37827412e-01  6.06426679e-02 -1.32556921e-06 -3.19838040e-01\n",
      "   8.25364628e-01 -7.06642938e-01 -5.48925983e-01 -4.41912126e-01\n",
      "  -1.85495185e-01 -8.70764705e-02  1.44539116e-01  1.65008046e-01]]\n",
      "[-2.08623771]\n"
     ]
    }
   ],
   "source": [
    "print(CV.best_estimator_.coef_)\n",
    "print(CV.best_estimator_.intercept_)"
   ]
  },
  {
   "cell_type": "code",
   "execution_count": 188,
   "metadata": {},
   "outputs": [
    {
     "name": "stdout",
     "output_type": "stream",
     "text": [
      "0.5954262222406067\n",
      "{'C': 0.5}\n"
     ]
    }
   ],
   "source": [
    "print(CV.best_score_)\n",
    "print(CV.best_params_)"
   ]
  },
  {
   "cell_type": "code",
   "execution_count": 189,
   "metadata": {},
   "outputs": [
    {
     "name": "stdout",
     "output_type": "stream",
     "text": [
      "[0 0 0 0 1 0 0 0 0 0]\n"
     ]
    }
   ],
   "source": [
    "# Preidct on Test data and check the confusion matrix\n",
    "predictTest = CV.predict(X_test_final)\n",
    "print(predictTest[0:10])"
   ]
  },
  {
   "cell_type": "code",
   "execution_count": 190,
   "metadata": {},
   "outputs": [
    {
     "name": "stdout",
     "output_type": "stream",
     "text": [
      "[[0.79000846 0.20999154]\n",
      " [0.56238573 0.43761427]\n",
      " [0.56191157 0.43808843]\n",
      " [0.77493621 0.22506379]\n",
      " [0.36026135 0.63973865]\n",
      " [0.54445374 0.45554626]\n",
      " [0.67670999 0.32329001]\n",
      " [0.55403287 0.44596713]\n",
      " [0.70972559 0.29027441]\n",
      " [0.62291383 0.37708617]]\n"
     ]
    }
   ],
   "source": [
    "PredictProb = CV.predict_proba(X_test_final)\n",
    "print(PredictProb[0:10])\n",
    "PProb = pd.DataFrame(PredictProb)"
   ]
  },
  {
   "cell_type": "code",
   "execution_count": 191,
   "metadata": {},
   "outputs": [
    {
     "name": "stdout",
     "output_type": "stream",
     "text": [
      "[[ 3968  1484]\n",
      " [ 7010 10403]]\n",
      "              precision    recall  f1-score   support\n",
      "\n",
      "           0       0.36      0.73      0.48      5452\n",
      "           1       0.88      0.60      0.71     17413\n",
      "\n",
      "    accuracy                           0.63     22865\n",
      "   macro avg       0.62      0.66      0.60     22865\n",
      "weighted avg       0.75      0.63      0.66     22865\n",
      "\n"
     ]
    }
   ],
   "source": [
    "from sklearn.metrics import confusion_matrix, classification_report\n",
    "print (confusion_matrix(Y_test,predictTest))\n",
    "print (classification_report(Y_test,predictTest))"
   ]
  },
  {
   "cell_type": "code",
   "execution_count": 192,
   "metadata": {},
   "outputs": [],
   "source": [
    "CVResults = pd.DataFrame(CV.cv_results_)\n",
    "CVResults.to_excel('CVResutls_CART1.xlsx')"
   ]
  },
  {
   "cell_type": "code",
   "execution_count": 193,
   "metadata": {},
   "outputs": [
    {
     "data": {
      "text/html": [
       "<div>\n",
       "<style scoped>\n",
       "    .dataframe tbody tr th:only-of-type {\n",
       "        vertical-align: middle;\n",
       "    }\n",
       "\n",
       "    .dataframe tbody tr th {\n",
       "        vertical-align: top;\n",
       "    }\n",
       "\n",
       "    .dataframe thead th {\n",
       "        text-align: right;\n",
       "    }\n",
       "</style>\n",
       "<table border=\"1\" class=\"dataframe\">\n",
       "  <thead>\n",
       "    <tr style=\"text-align: right;\">\n",
       "      <th></th>\n",
       "      <th>v10</th>\n",
       "      <th>v114</th>\n",
       "      <th>v12</th>\n",
       "      <th>v14</th>\n",
       "      <th>v34</th>\n",
       "      <th>v40</th>\n",
       "      <th>v50</th>\n",
       "    </tr>\n",
       "  </thead>\n",
       "  <tbody>\n",
       "    <tr>\n",
       "      <td>v10</td>\n",
       "      <td>1.000000</td>\n",
       "      <td>-0.101933</td>\n",
       "      <td>0.911763</td>\n",
       "      <td>0.676972</td>\n",
       "      <td>0.242370</td>\n",
       "      <td>0.197517</td>\n",
       "      <td>0.429846</td>\n",
       "    </tr>\n",
       "    <tr>\n",
       "      <td>v114</td>\n",
       "      <td>-0.101933</td>\n",
       "      <td>1.000000</td>\n",
       "      <td>-0.166459</td>\n",
       "      <td>-0.063292</td>\n",
       "      <td>0.911896</td>\n",
       "      <td>-0.966383</td>\n",
       "      <td>0.117898</td>\n",
       "    </tr>\n",
       "    <tr>\n",
       "      <td>v12</td>\n",
       "      <td>0.911763</td>\n",
       "      <td>-0.166459</td>\n",
       "      <td>1.000000</td>\n",
       "      <td>0.610689</td>\n",
       "      <td>0.217244</td>\n",
       "      <td>0.183854</td>\n",
       "      <td>0.021263</td>\n",
       "    </tr>\n",
       "    <tr>\n",
       "      <td>v14</td>\n",
       "      <td>0.676972</td>\n",
       "      <td>-0.063292</td>\n",
       "      <td>0.610689</td>\n",
       "      <td>1.000000</td>\n",
       "      <td>0.157617</td>\n",
       "      <td>0.139082</td>\n",
       "      <td>0.304775</td>\n",
       "    </tr>\n",
       "    <tr>\n",
       "      <td>v34</td>\n",
       "      <td>0.242370</td>\n",
       "      <td>0.911896</td>\n",
       "      <td>0.217244</td>\n",
       "      <td>0.157617</td>\n",
       "      <td>1.000000</td>\n",
       "      <td>-0.903124</td>\n",
       "      <td>0.112363</td>\n",
       "    </tr>\n",
       "    <tr>\n",
       "      <td>v40</td>\n",
       "      <td>0.197517</td>\n",
       "      <td>-0.966383</td>\n",
       "      <td>0.183854</td>\n",
       "      <td>0.139082</td>\n",
       "      <td>-0.903124</td>\n",
       "      <td>1.000000</td>\n",
       "      <td>0.076682</td>\n",
       "    </tr>\n",
       "    <tr>\n",
       "      <td>v50</td>\n",
       "      <td>0.429846</td>\n",
       "      <td>0.117898</td>\n",
       "      <td>0.021263</td>\n",
       "      <td>0.304775</td>\n",
       "      <td>0.112363</td>\n",
       "      <td>0.076682</td>\n",
       "      <td>1.000000</td>\n",
       "    </tr>\n",
       "  </tbody>\n",
       "</table>\n",
       "</div>"
      ],
      "text/plain": [
       "           v10      v114       v12       v14       v34       v40       v50\n",
       "v10   1.000000 -0.101933  0.911763  0.676972  0.242370  0.197517  0.429846\n",
       "v114 -0.101933  1.000000 -0.166459 -0.063292  0.911896 -0.966383  0.117898\n",
       "v12   0.911763 -0.166459  1.000000  0.610689  0.217244  0.183854  0.021263\n",
       "v14   0.676972 -0.063292  0.610689  1.000000  0.157617  0.139082  0.304775\n",
       "v34   0.242370  0.911896  0.217244  0.157617  1.000000 -0.903124  0.112363\n",
       "v40   0.197517 -0.966383  0.183854  0.139082 -0.903124  1.000000  0.076682\n",
       "v50   0.429846  0.117898  0.021263  0.304775  0.112363  0.076682  1.000000"
      ]
     },
     "execution_count": 193,
     "metadata": {},
     "output_type": "execute_result"
    }
   ],
   "source": [
    "contX.corr()"
   ]
  },
  {
   "cell_type": "code",
   "execution_count": 194,
   "metadata": {},
   "outputs": [
    {
     "name": "stdout",
     "output_type": "stream",
     "text": [
      "10.033983540471969\n",
      "0.8541013200038816\n",
      "1.9419872293427787\n",
      "4.0973836178177185\n",
      "2.0849093753400054\n",
      "6.8271898340167265\n"
     ]
    },
    {
     "ename": "AttributeError",
     "evalue": "'DataFrame' object has no attribute 'v21'",
     "output_type": "error",
     "traceback": [
      "\u001b[1;31m---------------------------------------------------------------------------\u001b[0m",
      "\u001b[1;31mAttributeError\u001b[0m                            Traceback (most recent call last)",
      "\u001b[1;32m<ipython-input-194-5c9be6146d12>\u001b[0m in \u001b[0;36m<module>\u001b[1;34m\u001b[0m\n\u001b[0;32m     11\u001b[0m \u001b[0mvar6\u001b[0m \u001b[1;33m=\u001b[0m \u001b[0mnp\u001b[0m\u001b[1;33m.\u001b[0m\u001b[0mvar\u001b[0m\u001b[1;33m(\u001b[0m\u001b[0mcontX\u001b[0m\u001b[1;33m.\u001b[0m\u001b[0mv114\u001b[0m\u001b[1;33m,\u001b[0m\u001b[0mddof\u001b[0m\u001b[1;33m=\u001b[0m\u001b[1;36m1\u001b[0m\u001b[1;33m)\u001b[0m\u001b[1;33m\u001b[0m\u001b[1;33m\u001b[0m\u001b[0m\n\u001b[0;32m     12\u001b[0m \u001b[0mprint\u001b[0m\u001b[1;33m(\u001b[0m\u001b[0mvar6\u001b[0m\u001b[1;33m)\u001b[0m\u001b[1;33m\u001b[0m\u001b[1;33m\u001b[0m\u001b[0m\n\u001b[1;32m---> 13\u001b[1;33m \u001b[0mvar7\u001b[0m \u001b[1;33m=\u001b[0m \u001b[0mnp\u001b[0m\u001b[1;33m.\u001b[0m\u001b[0mvar\u001b[0m\u001b[1;33m(\u001b[0m\u001b[0mcontX\u001b[0m\u001b[1;33m.\u001b[0m\u001b[0mv21\u001b[0m\u001b[1;33m,\u001b[0m\u001b[0mddof\u001b[0m\u001b[1;33m=\u001b[0m\u001b[1;36m1\u001b[0m\u001b[1;33m)\u001b[0m\u001b[1;33m\u001b[0m\u001b[1;33m\u001b[0m\u001b[0m\n\u001b[0m\u001b[0;32m     14\u001b[0m \u001b[0mprint\u001b[0m\u001b[1;33m(\u001b[0m\u001b[0mvar7\u001b[0m\u001b[1;33m)\u001b[0m\u001b[1;33m\u001b[0m\u001b[1;33m\u001b[0m\u001b[0m\n\u001b[0;32m     15\u001b[0m \u001b[0mvar8\u001b[0m \u001b[1;33m=\u001b[0m \u001b[0mnp\u001b[0m\u001b[1;33m.\u001b[0m\u001b[0mvar\u001b[0m\u001b[1;33m(\u001b[0m\u001b[0mcontX\u001b[0m\u001b[1;33m.\u001b[0m\u001b[0mv50\u001b[0m\u001b[1;33m,\u001b[0m\u001b[0mddof\u001b[0m\u001b[1;33m=\u001b[0m\u001b[1;36m1\u001b[0m\u001b[1;33m)\u001b[0m\u001b[1;33m\u001b[0m\u001b[1;33m\u001b[0m\u001b[0m\n",
      "\u001b[1;32m~\\Anaconda3\\lib\\site-packages\\pandas\\core\\generic.py\u001b[0m in \u001b[0;36m__getattr__\u001b[1;34m(self, name)\u001b[0m\n\u001b[0;32m   5177\u001b[0m             \u001b[1;32mif\u001b[0m \u001b[0mself\u001b[0m\u001b[1;33m.\u001b[0m\u001b[0m_info_axis\u001b[0m\u001b[1;33m.\u001b[0m\u001b[0m_can_hold_identifiers_and_holds_name\u001b[0m\u001b[1;33m(\u001b[0m\u001b[0mname\u001b[0m\u001b[1;33m)\u001b[0m\u001b[1;33m:\u001b[0m\u001b[1;33m\u001b[0m\u001b[1;33m\u001b[0m\u001b[0m\n\u001b[0;32m   5178\u001b[0m                 \u001b[1;32mreturn\u001b[0m \u001b[0mself\u001b[0m\u001b[1;33m[\u001b[0m\u001b[0mname\u001b[0m\u001b[1;33m]\u001b[0m\u001b[1;33m\u001b[0m\u001b[1;33m\u001b[0m\u001b[0m\n\u001b[1;32m-> 5179\u001b[1;33m             \u001b[1;32mreturn\u001b[0m \u001b[0mobject\u001b[0m\u001b[1;33m.\u001b[0m\u001b[0m__getattribute__\u001b[0m\u001b[1;33m(\u001b[0m\u001b[0mself\u001b[0m\u001b[1;33m,\u001b[0m \u001b[0mname\u001b[0m\u001b[1;33m)\u001b[0m\u001b[1;33m\u001b[0m\u001b[1;33m\u001b[0m\u001b[0m\n\u001b[0m\u001b[0;32m   5180\u001b[0m \u001b[1;33m\u001b[0m\u001b[0m\n\u001b[0;32m   5181\u001b[0m     \u001b[1;32mdef\u001b[0m \u001b[0m__setattr__\u001b[0m\u001b[1;33m(\u001b[0m\u001b[0mself\u001b[0m\u001b[1;33m,\u001b[0m \u001b[0mname\u001b[0m\u001b[1;33m,\u001b[0m \u001b[0mvalue\u001b[0m\u001b[1;33m)\u001b[0m\u001b[1;33m:\u001b[0m\u001b[1;33m\u001b[0m\u001b[1;33m\u001b[0m\u001b[0m\n",
      "\u001b[1;31mAttributeError\u001b[0m: 'DataFrame' object has no attribute 'v21'"
     ]
    }
   ],
   "source": [
    "var1 = np.var(contX.v40,ddof=1)\n",
    "print(var1)\n",
    "var2 = np.var(contX.v12,ddof=1)\n",
    "print(var2)\n",
    "var3 = np.var(contX.v10,ddof=1)\n",
    "print(var3)\n",
    "var4 = np.var(contX.v34,ddof=1)\n",
    "print(var4)\n",
    "var5 = np.var(contX.v14,ddof=1)\n",
    "print(var5)\n",
    "var6 = np.var(contX.v114,ddof=1)\n",
    "print(var6)\n",
    "var7 = np.var(contX.v21,ddof=1)\n",
    "print(var7)\n",
    "var8 = np.var(contX.v50,ddof=1)\n",
    "print(var8)\n",
    "totalvar = var1 + var2 + var3 + var4 + var5 + var6 + var7 + var8 \n",
    "print(totalvar)"
   ]
  },
  {
   "cell_type": "code",
   "execution_count": 195,
   "metadata": {},
   "outputs": [],
   "source": [
    "from sklearn.decomposition import PCA\n",
    "# create PCA object\n",
    "modelPCA3 = PCA(n_components = 2)\n",
    "# apply PCA model on iris\n",
    "X_PCA3 = modelPCA3.fit_transform(contX)"
   ]
  },
  {
   "cell_type": "code",
   "execution_count": 196,
   "metadata": {},
   "outputs": [
    {
     "name": "stdout",
     "output_type": "stream",
     "text": [
      "[[ 0.03269421 -0.57432127  0.02561369  0.0249468  -0.42184412  0.69988243\n",
      "  -0.00445928]\n",
      " [ 0.61274742  0.01536362  0.35796282  0.56595931  0.30371205  0.13539598\n",
      "   0.25550765]]\n",
      "[1518.46389959  733.01783136]\n"
     ]
    }
   ],
   "source": [
    "# print PCA weights\n",
    "print(modelPCA3.components_)                      \n",
    "print(modelPCA3.singular_values_)"
   ]
  },
  {
   "cell_type": "code",
   "execution_count": 197,
   "metadata": {},
   "outputs": [
    {
     "name": "stdout",
     "output_type": "stream",
     "text": [
      "[20.16910964  4.70009746]\n",
      "[0.74141364 0.17277492]\n"
     ]
    }
   ],
   "source": [
    "print(modelPCA3.explained_variance_)              \n",
    "print(modelPCA3.explained_variance_ratio_)"
   ]
  },
  {
   "cell_type": "code",
   "execution_count": 198,
   "metadata": {},
   "outputs": [
    {
     "name": "stdout",
     "output_type": "stream",
     "text": [
      "[[-3.54959145 -1.62247482]\n",
      " [ 5.70199084 -1.15183526]\n",
      " [ 4.07750149 -2.90183359]\n",
      " [-0.08079069  6.28785103]\n",
      " [-0.46101011 -1.50520392]]\n"
     ]
    }
   ],
   "source": [
    "print(X_PCA3[0:5])"
   ]
  },
  {
   "cell_type": "code",
   "execution_count": 199,
   "metadata": {},
   "outputs": [
    {
     "name": "stdout",
     "output_type": "stream",
     "text": [
      "              0             1\n",
      "0  1.000000e+00 -8.970508e-17\n",
      "1 -8.970508e-17  1.000000e+00\n"
     ]
    }
   ],
   "source": [
    "# check the correlation between PCAs\n",
    "print(pd.DataFrame(X_PCA3).corr())"
   ]
  },
  {
   "cell_type": "code",
   "execution_count": 200,
   "metadata": {},
   "outputs": [
    {
     "data": {
      "text/plain": [
       "<seaborn.axisgrid.FacetGrid at 0x24182460ec8>"
      ]
     },
     "execution_count": 200,
     "metadata": {},
     "output_type": "execute_result"
    },
    {
     "data": {
      "image/png": "[encoded data removed]",
      "text/plain": [
       "<Figure size 360x360 with 1 Axes>"
      ]
     },
     "metadata": {
      "needs_background": "light"
     },
     "output_type": "display_data"
    }
   ],
   "source": [
    "# inser the transformed data into original dataset and plot the graph\n",
    "contX[\"PCA1\"] = X_PCA3[:,0]\n",
    "contX[\"PCA2\"] = X_PCA3[:,1]\n",
    "import seaborn as sns\n",
    "sns.lmplot(\"PCA1\", \"PCA2\",data = contX, fit_reg = False)"
   ]
  },
  {
   "cell_type": "code",
   "execution_count": 201,
   "metadata": {},
   "outputs": [],
   "source": [
    "# apply PCA to reduce the number of features such that 90% variance is captures\n",
    "from sklearn.decomposition import PCA\n",
    "# create PCA object\n",
    "modelPCA = PCA(n_components = 0.98)\n",
    "# apply PCA model on iris\n",
    "X_2D = modelPCA.fit_transform(contX)"
   ]
  },
  {
   "cell_type": "code",
   "execution_count": 202,
   "metadata": {},
   "outputs": [
    {
     "name": "stdout",
     "output_type": "stream",
     "text": [
      "[[-5.01988037 -2.29452589 -0.1377932 ]\n",
      " [ 8.06383278 -1.62894105  0.21813208]\n",
      " [ 5.76645791 -4.10381242 -0.23615246]\n",
      " ...\n",
      " [11.29989217  0.05324476  0.92444405]\n",
      " [ 3.21398754 -0.77808525 -0.42634674]\n",
      " [-2.23148875 -1.62517708 -0.09603924]]\n"
     ]
    }
   ],
   "source": [
    "print(X_2D)"
   ]
  },
  {
   "cell_type": "code",
   "execution_count": 203,
   "metadata": {},
   "outputs": [
    {
     "name": "stdout",
     "output_type": "stream",
     "text": [
      "[[ 2.31182950e-02 -4.06106463e-01  1.81116119e-02  1.76400507e-02\n",
      "  -2.98288839e-01  4.94891613e-01 -3.15318962e-03  7.07106781e-01\n",
      "   9.39858806e-17]\n",
      " [ 4.33277856e-01  1.08637233e-02  2.53117937e-01  4.00193663e-01\n",
      "   2.14756852e-01  9.57394184e-02  1.80671192e-01 -5.42980126e-18\n",
      "   7.07106781e-01]\n",
      " [-5.69875647e-02  2.69081141e-01 -3.53114768e-01 -7.74531035e-02\n",
      "  -1.37976016e-01  1.61502383e-01  8.65181099e-01  2.30145027e-16\n",
      "  -1.20120816e-16]]\n",
      "[40.33821929  9.40019491  1.38506021]\n",
      "[0.77465058 0.18052028 0.02659854]\n",
      "[2147.43224078 1036.64375857  397.91969457]\n"
     ]
    }
   ],
   "source": [
    "# print PCA weights\n",
    "print(modelPCA.components_)\n",
    "print(modelPCA.explained_variance_)\n",
    "print(modelPCA.explained_variance_ratio_)\n",
    "print(modelPCA.singular_values_)"
   ]
  },
  {
   "cell_type": "code",
   "execution_count": 204,
   "metadata": {},
   "outputs": [
    {
     "name": "stdout",
     "output_type": "stream",
     "text": [
      "(91456, 3)\n",
      "(91456, 1)\n",
      "(22865, 3)\n",
      "(22865, 1)\n",
      "        target\n",
      "110073       1\n",
      "56578        0\n",
      "108549       1\n",
      "107918       1\n",
      "30611        1\n",
      "15734        1\n",
      "56147        0\n",
      "9506         1\n",
      "94349        0\n",
      "99683        1\n"
     ]
    }
   ],
   "source": [
    "# splitting the data into Train and Test\n",
    "from sklearn.model_selection import train_test_split\n",
    "X_train, X_test, Y_train, Y_test = train_test_split(X_2D, depX,\n",
    "                                                    test_size = 0.20,\n",
    "                                                    random_state = 0)\n",
    "#random state is used to fix the split\n",
    "print(X_train.shape)\n",
    "print(Y_train.shape)\n",
    "print(X_test.shape)\n",
    "print(Y_test.shape)\n",
    "print(Y_train[0:10])"
   ]
  },
  {
   "cell_type": "code",
   "execution_count": 205,
   "metadata": {},
   "outputs": [
    {
     "name": "stdout",
     "output_type": "stream",
     "text": [
      "(91456, 3)\n",
      "(22865, 3)\n"
     ]
    }
   ],
   "source": [
    "# extract only continuous columns\n",
    "ContColumns = list(X_2D)\n",
    "X_train_cont = pd.DataFrame(X_train,columns=ContColumns)\n",
    "print(X_train_cont.shape)\n",
    "X_test_cont = pd.DataFrame(X_test,columns=ContColumns)\n",
    "print(X_test_cont.shape)"
   ]
  },
  {
   "cell_type": "code",
   "execution_count": 206,
   "metadata": {},
   "outputs": [],
   "source": [
    "# apply sclaing on continuous variables\n",
    "from sklearn.preprocessing import MinMaxScaler\n",
    "MMS = MinMaxScaler()\n",
    "X_train_cont2 = MMS.fit_transform(X_train_cont)\n",
    "X_test_cont2 = MMS.transform(X_test_cont)"
   ]
  },
  {
   "cell_type": "code",
   "execution_count": 207,
   "metadata": {},
   "outputs": [
    {
     "name": "stdout",
     "output_type": "stream",
     "text": [
      "Fitting 5 folds for each of 5 candidates, totalling 25 fits\n",
      "[CV] C=0.05 ..........................................................\n"
     ]
    },
    {
     "name": "stderr",
     "output_type": "stream",
     "text": [
      "[Parallel(n_jobs=1)]: Using backend SequentialBackend with 1 concurrent workers.\n"
     ]
    },
    {
     "name": "stdout",
     "output_type": "stream",
     "text": [
      "[CV] .......... C=0.05, score=(train=0.566, test=0.563), total=   0.5s\n",
      "[CV] C=0.05 ..........................................................\n"
     ]
    },
    {
     "name": "stderr",
     "output_type": "stream",
     "text": [
      "[Parallel(n_jobs=1)]: Done   1 out of   1 | elapsed:    0.5s remaining:    0.0s\n"
     ]
    },
    {
     "name": "stdout",
     "output_type": "stream",
     "text": [
      "[CV] .......... C=0.05, score=(train=0.566, test=0.563), total=   0.5s\n",
      "[CV] C=0.05 ..........................................................\n"
     ]
    },
    {
     "name": "stderr",
     "output_type": "stream",
     "text": [
      "[Parallel(n_jobs=1)]: Done   2 out of   2 | elapsed:    1.0s remaining:    0.0s\n"
     ]
    },
    {
     "name": "stdout",
     "output_type": "stream",
     "text": [
      "[CV] .......... C=0.05, score=(train=0.565, test=0.568), total=   0.5s\n",
      "[CV] C=0.05 ..........................................................\n"
     ]
    },
    {
     "name": "stderr",
     "output_type": "stream",
     "text": [
      "[Parallel(n_jobs=1)]: Done   3 out of   3 | elapsed:    1.6s remaining:    0.0s\n"
     ]
    },
    {
     "name": "stdout",
     "output_type": "stream",
     "text": [
      "[CV] .......... C=0.05, score=(train=0.565, test=0.569), total=   0.5s\n",
      "[CV] C=0.05 ..........................................................\n"
     ]
    },
    {
     "name": "stderr",
     "output_type": "stream",
     "text": [
      "[Parallel(n_jobs=1)]: Done   4 out of   4 | elapsed:    2.1s remaining:    0.0s\n"
     ]
    },
    {
     "name": "stdout",
     "output_type": "stream",
     "text": [
      "[CV] .......... C=0.05, score=(train=0.565, test=0.566), total=   0.4s\n",
      "[CV] C=0.2 ...........................................................\n"
     ]
    },
    {
     "name": "stderr",
     "output_type": "stream",
     "text": [
      "[Parallel(n_jobs=1)]: Done   5 out of   5 | elapsed:    2.6s remaining:    0.0s\n"
     ]
    },
    {
     "name": "stdout",
     "output_type": "stream",
     "text": [
      "[CV] ........... C=0.2, score=(train=0.567, test=0.563), total=   0.4s\n",
      "[CV] C=0.2 ...........................................................\n"
     ]
    },
    {
     "name": "stderr",
     "output_type": "stream",
     "text": [
      "[Parallel(n_jobs=1)]: Done   6 out of   6 | elapsed:    3.1s remaining:    0.0s\n"
     ]
    },
    {
     "name": "stdout",
     "output_type": "stream",
     "text": [
      "[CV] ........... C=0.2, score=(train=0.567, test=0.563), total=   0.4s\n",
      "[CV] C=0.2 ...........................................................\n"
     ]
    },
    {
     "name": "stderr",
     "output_type": "stream",
     "text": [
      "[Parallel(n_jobs=1)]: Done   7 out of   7 | elapsed:    3.5s remaining:    0.0s\n"
     ]
    },
    {
     "name": "stdout",
     "output_type": "stream",
     "text": [
      "[CV] ........... C=0.2, score=(train=0.565, test=0.568), total=   0.4s\n",
      "[CV] C=0.2 ...........................................................\n"
     ]
    },
    {
     "name": "stderr",
     "output_type": "stream",
     "text": [
      "[Parallel(n_jobs=1)]: Done   8 out of   8 | elapsed:    3.9s remaining:    0.0s\n"
     ]
    },
    {
     "name": "stdout",
     "output_type": "stream",
     "text": [
      "[CV] ........... C=0.2, score=(train=0.565, test=0.569), total=   0.5s\n",
      "[CV] C=0.2 ...........................................................\n"
     ]
    },
    {
     "name": "stderr",
     "output_type": "stream",
     "text": [
      "[Parallel(n_jobs=1)]: Done   9 out of   9 | elapsed:    4.4s remaining:    0.0s\n"
     ]
    },
    {
     "name": "stdout",
     "output_type": "stream",
     "text": [
      "[CV] ........... C=0.2, score=(train=0.566, test=0.567), total=   0.5s\n",
      "[CV] C=0.5 ...........................................................\n",
      "[CV] ........... C=0.5, score=(train=0.567, test=0.564), total=   0.6s\n",
      "[CV] C=0.5 ...........................................................\n",
      "[CV] ........... C=0.5, score=(train=0.567, test=0.563), total=   0.7s\n",
      "[CV] C=0.5 ...........................................................\n",
      "[CV] ........... C=0.5, score=(train=0.565, test=0.568), total=   0.5s\n",
      "[CV] C=0.5 ...........................................................\n",
      "[CV] ........... C=0.5, score=(train=0.565, test=0.569), total=   0.5s\n",
      "[CV] C=0.5 ...........................................................\n",
      "[CV] ........... C=0.5, score=(train=0.566, test=0.567), total=   0.5s\n",
      "[CV] C=1 .............................................................\n",
      "[CV] ............. C=1, score=(train=0.567, test=0.563), total=   0.5s\n",
      "[CV] C=1 .............................................................\n",
      "[CV] ............. C=1, score=(train=0.567, test=0.563), total=   0.6s\n",
      "[CV] C=1 .............................................................\n",
      "[CV] ............. C=1, score=(train=0.565, test=0.568), total=   0.5s\n",
      "[CV] C=1 .............................................................\n",
      "[CV] ............. C=1, score=(train=0.565, test=0.569), total=   0.4s\n",
      "[CV] C=1 .............................................................\n",
      "[CV] ............. C=1, score=(train=0.566, test=0.567), total=   0.4s\n",
      "[CV] C=2 .............................................................\n",
      "[CV] ............. C=2, score=(train=0.567, test=0.563), total=   0.5s\n",
      "[CV] C=2 .............................................................\n",
      "[CV] ............. C=2, score=(train=0.567, test=0.563), total=   0.5s\n",
      "[CV] C=2 .............................................................\n",
      "[CV] ............. C=2, score=(train=0.565, test=0.568), total=   0.4s\n",
      "[CV] C=2 .............................................................\n",
      "[CV] ............. C=2, score=(train=0.565, test=0.569), total=   0.4s\n",
      "[CV] C=2 .............................................................\n",
      "[CV] ............. C=2, score=(train=0.566, test=0.567), total=   0.4s\n"
     ]
    },
    {
     "name": "stderr",
     "output_type": "stream",
     "text": [
      "[Parallel(n_jobs=1)]: Done  25 out of  25 | elapsed:   13.1s finished\n"
     ]
    },
    {
     "data": {
      "text/plain": [
       "GridSearchCV(cv=5, error_score='raise-deprecating',\n",
       "             estimator=LogisticRegression(C=1.0, class_weight='balanced',\n",
       "                                          dual=False, fit_intercept=True,\n",
       "                                          intercept_scaling=1, l1_ratio=None,\n",
       "                                          max_iter=500, multi_class='warn',\n",
       "                                          n_jobs=None, penalty='l1',\n",
       "                                          random_state=None, solver='saga',\n",
       "                                          tol=0.0001, verbose=0,\n",
       "                                          warm_start=False),\n",
       "             iid='warn', n_jobs=None, param_grid={'C': [0.05, 0.2, 0.5, 1, 2]},\n",
       "             pre_dispatch='2*n_jobs', refit=True, return_train_score=True,\n",
       "             scoring='f1_macro', verbose=10)"
      ]
     },
     "execution_count": 207,
     "metadata": {},
     "output_type": "execute_result"
    }
   ],
   "source": [
    "# logistic model\n",
    "from sklearn.linear_model import LogisticRegression\n",
    "lgr = LogisticRegression(class_weight = 'balanced',solver='saga',max_iter=500,\n",
    "                         penalty = 'l1')\n",
    "parms = {'C': [0.05,0.2,0.5,1,2]} \n",
    "# perform grid search with cross validation\n",
    "from sklearn.model_selection import GridSearchCV\n",
    "CV = GridSearchCV(estimator = lgr,param_grid = parms, scoring = 'f1_macro',\n",
    "                  cv=5,refit=True,return_train_score = True,verbose=10)\n",
    "CV.fit(X_train_cont2,Y_train.target)"
   ]
  },
  {
   "cell_type": "code",
   "execution_count": 208,
   "metadata": {},
   "outputs": [
    {
     "name": "stdout",
     "output_type": "stream",
     "text": [
      "LogisticRegression(C=2, class_weight='balanced', dual=False, fit_intercept=True,\n",
      "                   intercept_scaling=1, l1_ratio=None, max_iter=500,\n",
      "                   multi_class='warn', n_jobs=None, penalty='l1',\n",
      "                   random_state=None, solver='saga', tol=0.0001, verbose=0,\n",
      "                   warm_start=False)\n"
     ]
    }
   ],
   "source": [
    "print(CV.best_estimator_)"
   ]
  },
  {
   "cell_type": "code",
   "execution_count": 209,
   "metadata": {},
   "outputs": [
    {
     "name": "stdout",
     "output_type": "stream",
     "text": [
      "[[-0.73101506  4.34262625 10.17122191]]\n",
      "[-3.85435206]\n"
     ]
    }
   ],
   "source": [
    "print(CV.best_estimator_.coef_)\n",
    "print(CV.best_estimator_.intercept_)"
   ]
  },
  {
   "cell_type": "code",
   "execution_count": 210,
   "metadata": {},
   "outputs": [
    {
     "name": "stdout",
     "output_type": "stream",
     "text": [
      "0.5660433299920331\n",
      "{'C': 2}\n"
     ]
    }
   ],
   "source": [
    "print(CV.best_score_)\n",
    "print(CV.best_params_)"
   ]
  },
  {
   "cell_type": "code",
   "execution_count": 211,
   "metadata": {},
   "outputs": [
    {
     "name": "stdout",
     "output_type": "stream",
     "text": [
      "[0 1 0 0 0 0 0 0 0 0]\n"
     ]
    }
   ],
   "source": [
    "# Preidct on Test data and check the confusion matrix\n",
    "predictTest = CV.predict(X_test_cont)\n",
    "print(predictTest[0:10])"
   ]
  },
  {
   "cell_type": "code",
   "execution_count": 212,
   "metadata": {},
   "outputs": [
    {
     "name": "stdout",
     "output_type": "stream",
     "text": [
      "[[1.00000000e+00 7.47880630e-12]\n",
      " [1.93318838e-04 9.99806681e-01]\n",
      " [9.99999808e-01 1.91888045e-07]\n",
      " [9.99999720e-01 2.80466643e-07]\n",
      " [7.01450694e-01 2.98549306e-01]\n",
      " [9.99989080e-01 1.09195688e-05]\n",
      " [9.99989669e-01 1.03311502e-05]\n",
      " [9.99997299e-01 2.70149360e-06]\n",
      " [9.99577381e-01 4.22618885e-04]\n",
      " [9.99999923e-01 7.73393022e-08]]\n"
     ]
    }
   ],
   "source": [
    "PredictProb = CV.predict_proba(X_test_cont)\n",
    "print(PredictProb[0:10])\n",
    "PProb = pd.DataFrame(PredictProb)"
   ]
  },
  {
   "cell_type": "code",
   "execution_count": 213,
   "metadata": {},
   "outputs": [
    {
     "name": "stdout",
     "output_type": "stream",
     "text": [
      "[[ 4610   842]\n",
      " [10726  6687]]\n",
      "              precision    recall  f1-score   support\n",
      "\n",
      "           0       0.30      0.85      0.44      5452\n",
      "           1       0.89      0.38      0.54     17413\n",
      "\n",
      "    accuracy                           0.49     22865\n",
      "   macro avg       0.59      0.61      0.49     22865\n",
      "weighted avg       0.75      0.49      0.51     22865\n",
      "\n"
     ]
    }
   ],
   "source": [
    "from sklearn.metrics import confusion_matrix, classification_report\n",
    "print (confusion_matrix(Y_test,predictTest))\n",
    "print (classification_report(Y_test,predictTest))"
   ]
  },
  {
   "cell_type": "code",
   "execution_count": 214,
   "metadata": {},
   "outputs": [],
   "source": [
    "CVResults = pd.DataFrame(CV.cv_results_)\n",
    "CVResults.to_excel('CVResutls_CART2.xlsx')"
   ]
  },
  {
   "cell_type": "code",
   "execution_count": 215,
   "metadata": {},
   "outputs": [],
   "source": [
    "catX = pd.DataFrame(BNP,columns=impcatcols)\n",
    "contX = pd.DataFrame(BNP,columns=impcontcols)"
   ]
  },
  {
   "cell_type": "code",
   "execution_count": 216,
   "metadata": {},
   "outputs": [],
   "source": [
    "# splitting the data into Train and Test\n",
    "#from sklearn.model_selection import train_test_split\n",
    "#X_train, X_test, Y_train, Y_test = train_test_split(contX, depX,\n",
    " #                                              test_size = 0.20,\n",
    "  #                                                  random_state = 0)\n",
    "#random state is used to fix the split\n",
    "#print(X_train.shape)\n",
    "#print(Y_train.shape)\n",
    "#print(X_test.shape)\n",
    "#print(Y_test.shape)\n",
    "#print(Y_train[0:10])"
   ]
  },
  {
   "cell_type": "code",
   "execution_count": 217,
   "metadata": {},
   "outputs": [],
   "source": [
    "# extract only continuous columns\n",
    "#ContColumns = list(contX)\n",
    "#X_train_cont = pd.DataFrame(X_train,columns=ContColumns)\n",
    "#print(X_train_cont.shape)\n",
    "#X_test_cont = pd.DataFrame(X_test,columns=ContColumns)\n",
    "#print(X_test_cont.shape)"
   ]
  },
  {
   "cell_type": "code",
   "execution_count": 218,
   "metadata": {},
   "outputs": [
    {
     "name": "stdout",
     "output_type": "stream",
     "text": [
      "Fitting 3 folds for each of 9 candidates, totalling 27 fits\n",
      "[CV] max_depth=2 .....................................................\n",
      "[CV] ..... max_depth=2, score=(train=0.566, test=0.562), total=   0.1s\n",
      "[CV] max_depth=2 .....................................................\n"
     ]
    },
    {
     "name": "stderr",
     "output_type": "stream",
     "text": [
      "[Parallel(n_jobs=1)]: Using backend SequentialBackend with 1 concurrent workers.\n",
      "[Parallel(n_jobs=1)]: Done   1 out of   1 | elapsed:    0.0s remaining:    0.0s\n"
     ]
    },
    {
     "name": "stdout",
     "output_type": "stream",
     "text": [
      "[CV] ..... max_depth=2, score=(train=0.548, test=0.545), total=   0.1s\n",
      "[CV] max_depth=2 .....................................................\n",
      "[CV] ..... max_depth=2, score=(train=0.571, test=0.571), total=   0.1s\n",
      "[CV] max_depth=3 .....................................................\n"
     ]
    },
    {
     "name": "stderr",
     "output_type": "stream",
     "text": [
      "[Parallel(n_jobs=1)]: Done   2 out of   2 | elapsed:    0.2s remaining:    0.0s\n",
      "[Parallel(n_jobs=1)]: Done   3 out of   3 | elapsed:    0.3s remaining:    0.0s\n"
     ]
    },
    {
     "name": "stdout",
     "output_type": "stream",
     "text": [
      "[CV] ..... max_depth=3, score=(train=0.566, test=0.562), total=   0.1s\n",
      "[CV] max_depth=3 .....................................................\n",
      "[CV] ..... max_depth=3, score=(train=0.548, test=0.545), total=   0.1s\n",
      "[CV] max_depth=3 .....................................................\n"
     ]
    },
    {
     "name": "stderr",
     "output_type": "stream",
     "text": [
      "[Parallel(n_jobs=1)]: Done   4 out of   4 | elapsed:    0.5s remaining:    0.0s\n",
      "[Parallel(n_jobs=1)]: Done   5 out of   5 | elapsed:    0.6s remaining:    0.0s\n"
     ]
    },
    {
     "name": "stdout",
     "output_type": "stream",
     "text": [
      "[CV] ..... max_depth=3, score=(train=0.571, test=0.571), total=   0.1s\n",
      "[CV] max_depth=4 .....................................................\n"
     ]
    },
    {
     "name": "stderr",
     "output_type": "stream",
     "text": [
      "[Parallel(n_jobs=1)]: Done   6 out of   6 | elapsed:    0.8s remaining:    0.0s\n"
     ]
    },
    {
     "name": "stdout",
     "output_type": "stream",
     "text": [
      "[CV] ..... max_depth=4, score=(train=0.599, test=0.592), total=   0.2s\n",
      "[CV] max_depth=4 .....................................................\n",
      "[CV] ..... max_depth=4, score=(train=0.564, test=0.560), total=   0.1s\n",
      "[CV] max_depth=4 .....................................................\n"
     ]
    },
    {
     "name": "stderr",
     "output_type": "stream",
     "text": [
      "[Parallel(n_jobs=1)]: Done   7 out of   7 | elapsed:    1.0s remaining:    0.0s\n",
      "[Parallel(n_jobs=1)]: Done   8 out of   8 | elapsed:    1.2s remaining:    0.0s\n"
     ]
    },
    {
     "name": "stdout",
     "output_type": "stream",
     "text": [
      "[CV] ..... max_depth=4, score=(train=0.598, test=0.597), total=   0.2s\n",
      "[CV] max_depth=5 .....................................................\n",
      "[CV] ..... max_depth=5, score=(train=0.576, test=0.571), total=   0.2s\n",
      "[CV] max_depth=5 .....................................................\n"
     ]
    },
    {
     "name": "stderr",
     "output_type": "stream",
     "text": [
      "[Parallel(n_jobs=1)]: Done   9 out of   9 | elapsed:    1.4s remaining:    0.0s\n"
     ]
    },
    {
     "name": "stdout",
     "output_type": "stream",
     "text": [
      "[CV] ..... max_depth=5, score=(train=0.587, test=0.587), total=   0.2s\n",
      "[CV] max_depth=5 .....................................................\n",
      "[CV] ..... max_depth=5, score=(train=0.584, test=0.583), total=   0.2s\n",
      "[CV] max_depth=6 .....................................................\n",
      "[CV] ..... max_depth=6, score=(train=0.594, test=0.586), total=   0.2s\n",
      "[CV] max_depth=6 .....................................................\n",
      "[CV] ..... max_depth=6, score=(train=0.583, test=0.577), total=   0.2s\n",
      "[CV] max_depth=6 .....................................................\n",
      "[CV] ..... max_depth=6, score=(train=0.593, test=0.590), total=   0.2s\n",
      "[CV] max_depth=7 .....................................................\n",
      "[CV] ..... max_depth=7, score=(train=0.604, test=0.589), total=   0.2s\n",
      "[CV] max_depth=7 .....................................................\n",
      "[CV] ..... max_depth=7, score=(train=0.589, test=0.581), total=   0.2s\n",
      "[CV] max_depth=7 .....................................................\n",
      "[CV] ..... max_depth=7, score=(train=0.588, test=0.581), total=   0.3s\n",
      "[CV] max_depth=8 .....................................................\n",
      "[CV] ..... max_depth=8, score=(train=0.608, test=0.585), total=   0.3s\n",
      "[CV] max_depth=8 .....................................................\n",
      "[CV] ..... max_depth=8, score=(train=0.589, test=0.574), total=   0.3s\n",
      "[CV] max_depth=8 .....................................................\n",
      "[CV] ..... max_depth=8, score=(train=0.591, test=0.580), total=   0.3s\n",
      "[CV] max_depth=9 .....................................................\n",
      "[CV] ..... max_depth=9, score=(train=0.603, test=0.574), total=   0.2s\n",
      "[CV] max_depth=9 .....................................................\n",
      "[CV] ..... max_depth=9, score=(train=0.599, test=0.577), total=   0.2s\n",
      "[CV] max_depth=9 .....................................................\n",
      "[CV] ..... max_depth=9, score=(train=0.582, test=0.565), total=   0.3s\n",
      "[CV] max_depth=10 ....................................................\n",
      "[CV] .... max_depth=10, score=(train=0.606, test=0.568), total=   0.3s\n",
      "[CV] max_depth=10 ....................................................\n",
      "[CV] .... max_depth=10, score=(train=0.601, test=0.571), total=   0.4s\n",
      "[CV] max_depth=10 ....................................................\n",
      "[CV] .... max_depth=10, score=(train=0.588, test=0.565), total=   0.4s\n"
     ]
    },
    {
     "name": "stderr",
     "output_type": "stream",
     "text": [
      "[Parallel(n_jobs=1)]: Done  27 out of  27 | elapsed:    6.4s finished\n"
     ]
    },
    {
     "data": {
      "text/plain": [
       "GridSearchCV(cv=3, error_score='raise-deprecating',\n",
       "             estimator=DecisionTreeClassifier(class_weight='balanced',\n",
       "                                              criterion='gini', max_depth=None,\n",
       "                                              max_features=None,\n",
       "                                              max_leaf_nodes=None,\n",
       "                                              min_impurity_decrease=0.0,\n",
       "                                              min_impurity_split=None,\n",
       "                                              min_samples_leaf=1,\n",
       "                                              min_samples_split=2,\n",
       "                                              min_weight_fraction_leaf=0.0,\n",
       "                                              presort=False, random_state=None,\n",
       "                                              splitter='best'),\n",
       "             iid='warn', n_jobs=1,\n",
       "             param_grid={'max_depth': [2, 3, 4, 5, 6, 7, 8, 9, 10]},\n",
       "             pre_dispatch='2*n_jobs', refit=True, return_train_score=True,\n",
       "             scoring='f1_macro', verbose=10)"
      ]
     },
     "execution_count": 218,
     "metadata": {},
     "output_type": "execute_result"
    }
   ],
   "source": [
    "# DecisionTree Classifier\n",
    "from sklearn.tree import DecisionTreeClassifier\n",
    "CART = DecisionTreeClassifier(class_weight='balanced')\n",
    "# build grid search parameters\n",
    "##parms = {'min_samples_split': [10,8,5], \n",
    "#         'min_samples_leaf': [2,3,5],\n",
    "#         'min_impurity_decrease': [0.005,0.01],\n",
    "#         'max_depth':[2,3,4]} \n",
    "parms = {'max_depth':[2,3,4,5,6,7,8,9,10]} \n",
    "\n",
    "# grid search\n",
    "from sklearn.model_selection import GridSearchCV\n",
    "CV = GridSearchCV(estimator = CART,param_grid = parms, scoring = 'f1_macro',\n",
    "                  cv=3,refit=True,\n",
    "                  return_train_score = True,verbose=10,n_jobs=1)\n",
    "CV.fit(X_train_cont,Y_train.target)"
   ]
  },
  {
   "cell_type": "code",
   "execution_count": 219,
   "metadata": {},
   "outputs": [
    {
     "name": "stdout",
     "output_type": "stream",
     "text": [
      "DecisionTreeClassifier(class_weight='balanced', criterion='gini', max_depth=6,\n",
      "                       max_features=None, max_leaf_nodes=None,\n",
      "                       min_impurity_decrease=0.0, min_impurity_split=None,\n",
      "                       min_samples_leaf=1, min_samples_split=2,\n",
      "                       min_weight_fraction_leaf=0.0, presort=False,\n",
      "                       random_state=None, splitter='best')\n"
     ]
    }
   ],
   "source": [
    "print(CV.best_estimator_)"
   ]
  },
  {
   "cell_type": "code",
   "execution_count": 220,
   "metadata": {},
   "outputs": [
    {
     "name": "stdout",
     "output_type": "stream",
     "text": [
      "[0.08217074 0.36546407 0.55236519]\n"
     ]
    }
   ],
   "source": [
    "print(CV.best_estimator_.feature_importances_)"
   ]
  },
  {
   "cell_type": "code",
   "execution_count": 221,
   "metadata": {},
   "outputs": [
    {
     "name": "stdout",
     "output_type": "stream",
     "text": [
      "[0 1 1 0 1 0 0 1 0 0]\n"
     ]
    }
   ],
   "source": [
    "# Preidct on Test data and check the confusion matrix\n",
    "predictTest = CV.predict(X_test_cont)\n",
    "print(predictTest[0:10])"
   ]
  },
  {
   "cell_type": "code",
   "execution_count": 222,
   "metadata": {},
   "outputs": [
    {
     "name": "stdout",
     "output_type": "stream",
     "text": [
      "[[0.57101399 0.42898601]\n",
      " [0.2507981  0.7492019 ]\n",
      " [0.47790124 0.52209876]\n",
      " [0.6871197  0.3128803 ]\n",
      " [0.36283235 0.63716765]\n",
      " [0.62595304 0.37404696]\n",
      " [0.57101399 0.42898601]\n",
      " [0.47790124 0.52209876]\n",
      " [0.57101399 0.42898601]\n",
      " [0.62089826 0.37910174]]\n"
     ]
    }
   ],
   "source": [
    "predictProb = CV.predict_proba(X_test_cont)\n",
    "print(predictProb[0:10])\n",
    "PProb = pd.DataFrame(predictProb)"
   ]
  },
  {
   "cell_type": "code",
   "execution_count": 223,
   "metadata": {},
   "outputs": [
    {
     "name": "stdout",
     "output_type": "stream",
     "text": [
      "[[ 3559  1893]\n",
      " [ 6465 10948]]\n",
      "              precision    recall  f1-score   support\n",
      "\n",
      "           0       0.36      0.65      0.46      5452\n",
      "           1       0.85      0.63      0.72     17413\n",
      "\n",
      "    accuracy                           0.63     22865\n",
      "   macro avg       0.60      0.64      0.59     22865\n",
      "weighted avg       0.73      0.63      0.66     22865\n",
      "\n"
     ]
    }
   ],
   "source": [
    "# generate confusion matrix\n",
    "# import confusion matrix and classification report\n",
    "from sklearn.metrics import confusion_matrix, classification_report\n",
    "print (confusion_matrix(Y_test,predictTest))\n",
    "print (classification_report(Y_test,predictTest))"
   ]
  },
  {
   "cell_type": "code",
   "execution_count": 224,
   "metadata": {},
   "outputs": [
    {
     "name": "stdout",
     "output_type": "stream",
     "text": [
      "Fitting 3 folds for each of 18 candidates, totalling 54 fits\n",
      "[CV] bootstrap=True, max_features=1.0, max_samples=0.3, n_estimators=5 \n",
      "Building estimator 1 of 5 for this parallel run (total 5)...\n",
      "Building estimator 2 of 5 for this parallel run (total 5)...\n",
      "Building estimator 3 of 5 for this parallel run (total 5)...\n"
     ]
    },
    {
     "name": "stderr",
     "output_type": "stream",
     "text": [
      "[Parallel(n_jobs=1)]: Using backend SequentialBackend with 1 concurrent workers.\n",
      "[Parallel(n_jobs=1)]: Using backend SequentialBackend with 1 concurrent workers.\n"
     ]
    },
    {
     "name": "stdout",
     "output_type": "stream",
     "text": [
      "Building estimator 4 of 5 for this parallel run (total 5)...\n",
      "Building estimator 5 of 5 for this parallel run (total 5)...\n"
     ]
    },
    {
     "name": "stderr",
     "output_type": "stream",
     "text": [
      "[Parallel(n_jobs=1)]: Done   1 out of   1 | elapsed:    0.2s remaining:    0.0s\n",
      "[Parallel(n_jobs=1)]: Done   1 out of   1 | elapsed:    0.2s finished\n",
      "[Parallel(n_jobs=1)]: Using backend SequentialBackend with 1 concurrent workers.\n",
      "[Parallel(n_jobs=1)]: Done   1 out of   1 | elapsed:    0.0s remaining:    0.0s\n",
      "[Parallel(n_jobs=1)]: Done   1 out of   1 | elapsed:    0.0s finished\n",
      "[Parallel(n_jobs=1)]: Using backend SequentialBackend with 1 concurrent workers.\n",
      "[Parallel(n_jobs=1)]: Done   1 out of   1 | elapsed:    0.0s remaining:    0.0s\n",
      "[Parallel(n_jobs=1)]: Done   1 out of   1 | elapsed:    0.0s finished\n",
      "[Parallel(n_jobs=1)]: Done   1 out of   1 | elapsed:    0.3s remaining:    0.0s\n",
      "[Parallel(n_jobs=1)]: Using backend SequentialBackend with 1 concurrent workers.\n"
     ]
    },
    {
     "name": "stdout",
     "output_type": "stream",
     "text": [
      "[CV]  bootstrap=True, max_features=1.0, max_samples=0.3, n_estimators=5, score=(train=0.586, test=0.581), total=   0.3s\n",
      "[CV] bootstrap=True, max_features=1.0, max_samples=0.3, n_estimators=5 \n",
      "Building estimator 1 of 5 for this parallel run (total 5)...\n",
      "Building estimator 2 of 5 for this parallel run (total 5)...\n",
      "Building estimator 3 of 5 for this parallel run (total 5)...\n",
      "Building estimator 4 of 5 for this parallel run (total 5)...\n",
      "Building estimator 5 of 5 for this parallel run (total 5)...\n",
      "[CV]  bootstrap=True, max_features=1.0, max_samples=0.3, n_estimators=5, score=(train=0.578, test=0.577), total=   0.3s\n",
      "[CV] bootstrap=True, max_features=1.0, max_samples=0.3, n_estimators=5 \n",
      "Building estimator 1 of 5 for this parallel run (total 5)...\n"
     ]
    },
    {
     "name": "stderr",
     "output_type": "stream",
     "text": [
      "[Parallel(n_jobs=1)]: Done   1 out of   1 | elapsed:    0.2s remaining:    0.0s\n",
      "[Parallel(n_jobs=1)]: Done   1 out of   1 | elapsed:    0.2s finished\n",
      "[Parallel(n_jobs=1)]: Using backend SequentialBackend with 1 concurrent workers.\n",
      "[Parallel(n_jobs=1)]: Done   1 out of   1 | elapsed:    0.0s remaining:    0.0s\n",
      "[Parallel(n_jobs=1)]: Done   1 out of   1 | elapsed:    0.0s finished\n",
      "[Parallel(n_jobs=1)]: Using backend SequentialBackend with 1 concurrent workers.\n",
      "[Parallel(n_jobs=1)]: Done   1 out of   1 | elapsed:    0.0s remaining:    0.0s\n",
      "[Parallel(n_jobs=1)]: Done   1 out of   1 | elapsed:    0.0s finished\n",
      "[Parallel(n_jobs=1)]: Done   2 out of   2 | elapsed:    0.6s remaining:    0.0s\n",
      "[Parallel(n_jobs=1)]: Using backend SequentialBackend with 1 concurrent workers.\n"
     ]
    },
    {
     "name": "stdout",
     "output_type": "stream",
     "text": [
      "Building estimator 2 of 5 for this parallel run (total 5)...\n",
      "Building estimator 3 of 5 for this parallel run (total 5)...\n",
      "Building estimator 4 of 5 for this parallel run (total 5)...\n",
      "Building estimator 5 of 5 for this parallel run (total 5)...\n",
      "[CV]  bootstrap=True, max_features=1.0, max_samples=0.3, n_estimators=5, score=(train=0.579, test=0.582), total=   0.3s\n",
      "[CV] bootstrap=True, max_features=1.0, max_samples=0.3, n_estimators=10 \n",
      "Building estimator 1 of 10 for this parallel run (total 10)...\n",
      "Building estimator 2 of 10 for this parallel run (total 10)...\n"
     ]
    },
    {
     "name": "stderr",
     "output_type": "stream",
     "text": [
      "[Parallel(n_jobs=1)]: Done   1 out of   1 | elapsed:    0.2s remaining:    0.0s\n",
      "[Parallel(n_jobs=1)]: Done   1 out of   1 | elapsed:    0.2s finished\n",
      "[Parallel(n_jobs=1)]: Using backend SequentialBackend with 1 concurrent workers.\n",
      "[Parallel(n_jobs=1)]: Done   1 out of   1 | elapsed:    0.0s remaining:    0.0s\n",
      "[Parallel(n_jobs=1)]: Done   1 out of   1 | elapsed:    0.0s finished\n",
      "[Parallel(n_jobs=1)]: Using backend SequentialBackend with 1 concurrent workers.\n",
      "[Parallel(n_jobs=1)]: Done   1 out of   1 | elapsed:    0.0s remaining:    0.0s\n",
      "[Parallel(n_jobs=1)]: Done   1 out of   1 | elapsed:    0.0s finished\n",
      "[Parallel(n_jobs=1)]: Done   3 out of   3 | elapsed:    1.0s remaining:    0.0s\n",
      "[Parallel(n_jobs=1)]: Using backend SequentialBackend with 1 concurrent workers.\n"
     ]
    },
    {
     "name": "stdout",
     "output_type": "stream",
     "text": [
      "Building estimator 3 of 10 for this parallel run (total 10)...\n",
      "Building estimator 4 of 10 for this parallel run (total 10)...\n",
      "Building estimator 5 of 10 for this parallel run (total 10)...\n",
      "Building estimator 6 of 10 for this parallel run (total 10)...\n",
      "Building estimator 7 of 10 for this parallel run (total 10)...\n",
      "Building estimator 8 of 10 for this parallel run (total 10)...\n",
      "Building estimator 9 of 10 for this parallel run (total 10)...\n",
      "Building estimator 10 of 10 for this parallel run (total 10)...\n"
     ]
    },
    {
     "name": "stderr",
     "output_type": "stream",
     "text": [
      "[Parallel(n_jobs=1)]: Done   1 out of   1 | elapsed:    0.4s remaining:    0.0s\n",
      "[Parallel(n_jobs=1)]: Done   1 out of   1 | elapsed:    0.4s finished\n",
      "[Parallel(n_jobs=1)]: Using backend SequentialBackend with 1 concurrent workers.\n",
      "[Parallel(n_jobs=1)]: Done   1 out of   1 | elapsed:    0.0s remaining:    0.0s\n",
      "[Parallel(n_jobs=1)]: Done   1 out of   1 | elapsed:    0.0s finished\n",
      "[Parallel(n_jobs=1)]: Using backend SequentialBackend with 1 concurrent workers.\n",
      "[Parallel(n_jobs=1)]: Done   1 out of   1 | elapsed:    0.0s remaining:    0.0s\n",
      "[Parallel(n_jobs=1)]: Done   1 out of   1 | elapsed:    0.0s finished\n",
      "[Parallel(n_jobs=1)]: Done   4 out of   4 | elapsed:    1.7s remaining:    0.0s\n",
      "[Parallel(n_jobs=1)]: Using backend SequentialBackend with 1 concurrent workers.\n"
     ]
    },
    {
     "name": "stdout",
     "output_type": "stream",
     "text": [
      "[CV]  bootstrap=True, max_features=1.0, max_samples=0.3, n_estimators=10, score=(train=0.579, test=0.575), total=   0.6s\n",
      "[CV] bootstrap=True, max_features=1.0, max_samples=0.3, n_estimators=10 \n",
      "Building estimator 1 of 10 for this parallel run (total 10)...\n",
      "Building estimator 2 of 10 for this parallel run (total 10)...\n",
      "Building estimator 3 of 10 for this parallel run (total 10)...\n",
      "Building estimator 4 of 10 for this parallel run (total 10)...\n",
      "Building estimator 5 of 10 for this parallel run (total 10)...\n",
      "Building estimator 6 of 10 for this parallel run (total 10)...\n",
      "Building estimator 7 of 10 for this parallel run (total 10)...\n",
      "Building estimator 8 of 10 for this parallel run (total 10)...\n",
      "Building estimator 9 of 10 for this parallel run (total 10)...\n",
      "Building estimator 10 of 10 for this parallel run (total 10)...\n"
     ]
    },
    {
     "name": "stderr",
     "output_type": "stream",
     "text": [
      "[Parallel(n_jobs=1)]: Done   1 out of   1 | elapsed:    0.4s remaining:    0.0s\n",
      "[Parallel(n_jobs=1)]: Done   1 out of   1 | elapsed:    0.4s finished\n",
      "[Parallel(n_jobs=1)]: Using backend SequentialBackend with 1 concurrent workers.\n",
      "[Parallel(n_jobs=1)]: Done   1 out of   1 | elapsed:    0.0s remaining:    0.0s\n",
      "[Parallel(n_jobs=1)]: Done   1 out of   1 | elapsed:    0.0s finished\n",
      "[Parallel(n_jobs=1)]: Using backend SequentialBackend with 1 concurrent workers.\n",
      "[Parallel(n_jobs=1)]: Done   1 out of   1 | elapsed:    0.0s remaining:    0.0s\n",
      "[Parallel(n_jobs=1)]: Done   1 out of   1 | elapsed:    0.0s finished\n",
      "[Parallel(n_jobs=1)]: Done   5 out of   5 | elapsed:    2.3s remaining:    0.0s\n",
      "[Parallel(n_jobs=1)]: Using backend SequentialBackend with 1 concurrent workers.\n"
     ]
    },
    {
     "name": "stdout",
     "output_type": "stream",
     "text": [
      "[CV]  bootstrap=True, max_features=1.0, max_samples=0.3, n_estimators=10, score=(train=0.576, test=0.574), total=   0.6s\n",
      "[CV] bootstrap=True, max_features=1.0, max_samples=0.3, n_estimators=10 \n",
      "Building estimator 1 of 10 for this parallel run (total 10)...\n",
      "Building estimator 2 of 10 for this parallel run (total 10)...\n",
      "Building estimator 3 of 10 for this parallel run (total 10)...\n",
      "Building estimator 4 of 10 for this parallel run (total 10)...\n",
      "Building estimator 5 of 10 for this parallel run (total 10)...\n",
      "Building estimator 6 of 10 for this parallel run (total 10)...\n",
      "Building estimator 7 of 10 for this parallel run (total 10)...\n",
      "Building estimator 8 of 10 for this parallel run (total 10)...\n",
      "Building estimator 9 of 10 for this parallel run (total 10)...\n",
      "Building estimator 10 of 10 for this parallel run (total 10)...\n"
     ]
    },
    {
     "name": "stderr",
     "output_type": "stream",
     "text": [
      "[Parallel(n_jobs=1)]: Done   1 out of   1 | elapsed:    0.4s remaining:    0.0s\n",
      "[Parallel(n_jobs=1)]: Done   1 out of   1 | elapsed:    0.4s finished\n",
      "[Parallel(n_jobs=1)]: Using backend SequentialBackend with 1 concurrent workers.\n",
      "[Parallel(n_jobs=1)]: Done   1 out of   1 | elapsed:    0.0s remaining:    0.0s\n",
      "[Parallel(n_jobs=1)]: Done   1 out of   1 | elapsed:    0.0s finished\n",
      "[Parallel(n_jobs=1)]: Using backend SequentialBackend with 1 concurrent workers.\n",
      "[Parallel(n_jobs=1)]: Done   1 out of   1 | elapsed:    0.0s remaining:    0.0s\n",
      "[Parallel(n_jobs=1)]: Done   1 out of   1 | elapsed:    0.0s finished\n",
      "[Parallel(n_jobs=1)]: Done   6 out of   6 | elapsed:    3.0s remaining:    0.0s\n",
      "[Parallel(n_jobs=1)]: Using backend SequentialBackend with 1 concurrent workers.\n"
     ]
    },
    {
     "name": "stdout",
     "output_type": "stream",
     "text": [
      "[CV]  bootstrap=True, max_features=1.0, max_samples=0.3, n_estimators=10, score=(train=0.579, test=0.580), total=   0.6s\n",
      "[CV] bootstrap=True, max_features=1.0, max_samples=0.3, n_estimators=15 \n",
      "Building estimator 1 of 15 for this parallel run (total 15)...\n",
      "Building estimator 2 of 15 for this parallel run (total 15)...\n",
      "Building estimator 3 of 15 for this parallel run (total 15)...\n",
      "Building estimator 4 of 15 for this parallel run (total 15)...\n",
      "Building estimator 5 of 15 for this parallel run (total 15)...\n",
      "Building estimator 6 of 15 for this parallel run (total 15)...\n",
      "Building estimator 7 of 15 for this parallel run (total 15)...\n",
      "Building estimator 8 of 15 for this parallel run (total 15)...\n",
      "Building estimator 9 of 15 for this parallel run (total 15)...\n",
      "Building estimator 10 of 15 for this parallel run (total 15)...\n",
      "Building estimator 11 of 15 for this parallel run (total 15)...\n",
      "Building estimator 12 of 15 for this parallel run (total 15)...\n",
      "Building estimator 13 of 15 for this parallel run (total 15)...\n",
      "Building estimator 14 of 15 for this parallel run (total 15)...\n",
      "Building estimator 15 of 15 for this parallel run (total 15)...\n"
     ]
    },
    {
     "name": "stderr",
     "output_type": "stream",
     "text": [
      "[Parallel(n_jobs=1)]: Done   1 out of   1 | elapsed:    0.7s remaining:    0.0s\n",
      "[Parallel(n_jobs=1)]: Done   1 out of   1 | elapsed:    0.7s finished\n",
      "[Parallel(n_jobs=1)]: Using backend SequentialBackend with 1 concurrent workers.\n",
      "[Parallel(n_jobs=1)]: Done   1 out of   1 | elapsed:    0.0s remaining:    0.0s\n",
      "[Parallel(n_jobs=1)]: Done   1 out of   1 | elapsed:    0.0s finished\n",
      "[Parallel(n_jobs=1)]: Using backend SequentialBackend with 1 concurrent workers.\n",
      "[Parallel(n_jobs=1)]: Done   1 out of   1 | elapsed:    0.0s remaining:    0.0s\n",
      "[Parallel(n_jobs=1)]: Done   1 out of   1 | elapsed:    0.0s finished\n"
     ]
    },
    {
     "name": "stdout",
     "output_type": "stream",
     "text": [
      "[CV]  bootstrap=True, max_features=1.0, max_samples=0.3, n_estimators=15, score=(train=0.580, test=0.575), total=   0.9s\n",
      "[CV] bootstrap=True, max_features=1.0, max_samples=0.3, n_estimators=15 \n",
      "Building estimator 1 of 15 for this parallel run (total 15)...\n",
      "Building estimator 2 of 15 for this parallel run (total 15)...\n",
      "Building estimator 3 of 15 for this parallel run (total 15)...\n",
      "Building estimator 4 of 15 for this parallel run (total 15)..."
     ]
    },
    {
     "name": "stderr",
     "output_type": "stream",
     "text": [
      "[Parallel(n_jobs=1)]: Done   7 out of   7 | elapsed:    4.0s remaining:    0.0s\n",
      "[Parallel(n_jobs=1)]: Using backend SequentialBackend with 1 concurrent workers.\n"
     ]
    },
    {
     "name": "stdout",
     "output_type": "stream",
     "text": [
      "\n",
      "Building estimator 5 of 15 for this parallel run (total 15)...\n",
      "Building estimator 6 of 15 for this parallel run (total 15)...\n",
      "Building estimator 7 of 15 for this parallel run (total 15)...\n",
      "Building estimator 8 of 15 for this parallel run (total 15)...\n",
      "Building estimator 9 of 15 for this parallel run (total 15)...\n",
      "Building estimator 10 of 15 for this parallel run (total 15)...\n",
      "Building estimator 11 of 15 for this parallel run (total 15)...\n",
      "Building estimator 12 of 15 for this parallel run (total 15)...\n",
      "Building estimator 13 of 15 for this parallel run (total 15)...\n",
      "Building estimator 14 of 15 for this parallel run (total 15)...\n",
      "Building estimator 15 of 15 for this parallel run (total 15)...\n"
     ]
    },
    {
     "name": "stderr",
     "output_type": "stream",
     "text": [
      "[Parallel(n_jobs=1)]: Done   1 out of   1 | elapsed:    0.7s remaining:    0.0s\n",
      "[Parallel(n_jobs=1)]: Done   1 out of   1 | elapsed:    0.7s finished\n",
      "[Parallel(n_jobs=1)]: Using backend SequentialBackend with 1 concurrent workers.\n",
      "[Parallel(n_jobs=1)]: Done   1 out of   1 | elapsed:    0.0s remaining:    0.0s\n",
      "[Parallel(n_jobs=1)]: Done   1 out of   1 | elapsed:    0.0s finished\n",
      "[Parallel(n_jobs=1)]: Using backend SequentialBackend with 1 concurrent workers.\n",
      "[Parallel(n_jobs=1)]: Done   1 out of   1 | elapsed:    0.0s remaining:    0.0s\n",
      "[Parallel(n_jobs=1)]: Done   1 out of   1 | elapsed:    0.0s finished\n"
     ]
    },
    {
     "name": "stdout",
     "output_type": "stream",
     "text": [
      "[CV]  bootstrap=True, max_features=1.0, max_samples=0.3, n_estimators=15, score=(train=0.576, test=0.573), total=   0.9s\n",
      "[CV] bootstrap=True, max_features=1.0, max_samples=0.3, n_estimators=15 \n",
      "Building estimator 1 of 15 for this parallel run (total 15)...\n",
      "Building estimator 2 of 15 for this parallel run (total 15)...\n",
      "Building estimator 3 of 15 for this parallel run (total 15)...\n",
      "Building estimator 4 of 15 for this parallel run (total 15)...\n"
     ]
    },
    {
     "name": "stderr",
     "output_type": "stream",
     "text": [
      "[Parallel(n_jobs=1)]: Done   8 out of   8 | elapsed:    5.0s remaining:    0.0s\n",
      "[Parallel(n_jobs=1)]: Using backend SequentialBackend with 1 concurrent workers.\n"
     ]
    },
    {
     "name": "stdout",
     "output_type": "stream",
     "text": [
      "Building estimator 5 of 15 for this parallel run (total 15)...\n",
      "Building estimator 6 of 15 for this parallel run (total 15)...\n",
      "Building estimator 7 of 15 for this parallel run (total 15)...\n",
      "Building estimator 8 of 15 for this parallel run (total 15)...\n",
      "Building estimator 9 of 15 for this parallel run (total 15)...\n",
      "Building estimator 10 of 15 for this parallel run (total 15)...\n",
      "Building estimator 11 of 15 for this parallel run (total 15)...\n",
      "Building estimator 12 of 15 for this parallel run (total 15)...\n",
      "Building estimator 13 of 15 for this parallel run (total 15)...\n",
      "Building estimator 14 of 15 for this parallel run (total 15)...\n",
      "Building estimator 15 of 15 for this parallel run (total 15)...\n"
     ]
    },
    {
     "name": "stderr",
     "output_type": "stream",
     "text": [
      "[Parallel(n_jobs=1)]: Done   1 out of   1 | elapsed:    0.6s remaining:    0.0s\n",
      "[Parallel(n_jobs=1)]: Done   1 out of   1 | elapsed:    0.6s finished\n",
      "[Parallel(n_jobs=1)]: Using backend SequentialBackend with 1 concurrent workers.\n",
      "[Parallel(n_jobs=1)]: Done   1 out of   1 | elapsed:    0.0s remaining:    0.0s\n",
      "[Parallel(n_jobs=1)]: Done   1 out of   1 | elapsed:    0.0s finished\n",
      "[Parallel(n_jobs=1)]: Using backend SequentialBackend with 1 concurrent workers.\n",
      "[Parallel(n_jobs=1)]: Done   1 out of   1 | elapsed:    0.0s remaining:    0.0s\n",
      "[Parallel(n_jobs=1)]: Done   1 out of   1 | elapsed:    0.0s finished\n",
      "[Parallel(n_jobs=1)]: Done   9 out of   9 | elapsed:    5.8s remaining:    0.0s\n",
      "[Parallel(n_jobs=1)]: Using backend SequentialBackend with 1 concurrent workers.\n"
     ]
    },
    {
     "name": "stdout",
     "output_type": "stream",
     "text": [
      "[CV]  bootstrap=True, max_features=1.0, max_samples=0.3, n_estimators=15, score=(train=0.580, test=0.583), total=   0.7s\n",
      "[CV] bootstrap=True, max_features=1.0, max_samples=0.6, n_estimators=5 \n",
      "Building estimator 1 of 5 for this parallel run (total 5)...\n",
      "Building estimator 2 of 5 for this parallel run (total 5)...\n",
      "Building estimator 3 of 5 for this parallel run (total 5)...\n",
      "Building estimator 4 of 5 for this parallel run (total 5)...\n",
      "Building estimator 5 of 5 for this parallel run (total 5)...\n"
     ]
    },
    {
     "name": "stderr",
     "output_type": "stream",
     "text": [
      "[Parallel(n_jobs=1)]: Done   1 out of   1 | elapsed:    0.3s remaining:    0.0s\n",
      "[Parallel(n_jobs=1)]: Done   1 out of   1 | elapsed:    0.3s finished\n",
      "[Parallel(n_jobs=1)]: Using backend SequentialBackend with 1 concurrent workers.\n",
      "[Parallel(n_jobs=1)]: Done   1 out of   1 | elapsed:    0.0s remaining:    0.0s\n",
      "[Parallel(n_jobs=1)]: Done   1 out of   1 | elapsed:    0.0s finished\n",
      "[Parallel(n_jobs=1)]: Using backend SequentialBackend with 1 concurrent workers.\n",
      "[Parallel(n_jobs=1)]: Done   1 out of   1 | elapsed:    0.0s remaining:    0.0s\n",
      "[Parallel(n_jobs=1)]: Done   1 out of   1 | elapsed:    0.0s finished\n",
      "[Parallel(n_jobs=1)]: Using backend SequentialBackend with 1 concurrent workers.\n"
     ]
    },
    {
     "name": "stdout",
     "output_type": "stream",
     "text": [
      "[CV]  bootstrap=True, max_features=1.0, max_samples=0.6, n_estimators=5, score=(train=0.572, test=0.568), total=   0.4s\n",
      "[CV] bootstrap=True, max_features=1.0, max_samples=0.6, n_estimators=5 \n",
      "Building estimator 1 of 5 for this parallel run (total 5)...\n",
      "Building estimator 2 of 5 for this parallel run (total 5)...\n",
      "Building estimator 3 of 5 for this parallel run (total 5)...\n",
      "Building estimator 4 of 5 for this parallel run (total 5)...\n",
      "Building estimator 5 of 5 for this parallel run (total 5)...\n"
     ]
    },
    {
     "name": "stderr",
     "output_type": "stream",
     "text": [
      "[Parallel(n_jobs=1)]: Done   1 out of   1 | elapsed:    0.3s remaining:    0.0s\n",
      "[Parallel(n_jobs=1)]: Done   1 out of   1 | elapsed:    0.3s finished\n",
      "[Parallel(n_jobs=1)]: Using backend SequentialBackend with 1 concurrent workers.\n",
      "[Parallel(n_jobs=1)]: Done   1 out of   1 | elapsed:    0.0s remaining:    0.0s\n",
      "[Parallel(n_jobs=1)]: Done   1 out of   1 | elapsed:    0.0s finished\n",
      "[Parallel(n_jobs=1)]: Using backend SequentialBackend with 1 concurrent workers.\n",
      "[Parallel(n_jobs=1)]: Done   1 out of   1 | elapsed:    0.0s remaining:    0.0s\n",
      "[Parallel(n_jobs=1)]: Done   1 out of   1 | elapsed:    0.0s finished\n",
      "[Parallel(n_jobs=1)]: Using backend SequentialBackend with 1 concurrent workers.\n"
     ]
    },
    {
     "name": "stdout",
     "output_type": "stream",
     "text": [
      "[CV]  bootstrap=True, max_features=1.0, max_samples=0.6, n_estimators=5, score=(train=0.581, test=0.580), total=   0.5s\n",
      "[CV] bootstrap=True, max_features=1.0, max_samples=0.6, n_estimators=5 \n",
      "Building estimator 1 of 5 for this parallel run (total 5)...\n",
      "Building estimator 2 of 5 for this parallel run (total 5)...\n",
      "Building estimator 3 of 5 for this parallel run (total 5)...\n",
      "Building estimator 4 of 5 for this parallel run (total 5)...\n",
      "Building estimator 5 of 5 for this parallel run (total 5)...\n"
     ]
    },
    {
     "name": "stderr",
     "output_type": "stream",
     "text": [
      "[Parallel(n_jobs=1)]: Done   1 out of   1 | elapsed:    0.3s remaining:    0.0s\n",
      "[Parallel(n_jobs=1)]: Done   1 out of   1 | elapsed:    0.3s finished\n",
      "[Parallel(n_jobs=1)]: Using backend SequentialBackend with 1 concurrent workers.\n",
      "[Parallel(n_jobs=1)]: Done   1 out of   1 | elapsed:    0.0s remaining:    0.0s\n",
      "[Parallel(n_jobs=1)]: Done   1 out of   1 | elapsed:    0.0s finished\n",
      "[Parallel(n_jobs=1)]: Using backend SequentialBackend with 1 concurrent workers.\n",
      "[Parallel(n_jobs=1)]: Done   1 out of   1 | elapsed:    0.0s remaining:    0.0s\n",
      "[Parallel(n_jobs=1)]: Done   1 out of   1 | elapsed:    0.0s finished\n",
      "[Parallel(n_jobs=1)]: Using backend SequentialBackend with 1 concurrent workers.\n"
     ]
    },
    {
     "name": "stdout",
     "output_type": "stream",
     "text": [
      "[CV]  bootstrap=True, max_features=1.0, max_samples=0.6, n_estimators=5, score=(train=0.583, test=0.585), total=   0.4s\n",
      "[CV] bootstrap=True, max_features=1.0, max_samples=0.6, n_estimators=10 \n",
      "Building estimator 1 of 10 for this parallel run (total 10)...\n",
      "Building estimator 2 of 10 for this parallel run (total 10)...\n",
      "Building estimator 3 of 10 for this parallel run (total 10)...\n",
      "Building estimator 4 of 10 for this parallel run (total 10)...\n",
      "Building estimator 5 of 10 for this parallel run (total 10)...\n",
      "Building estimator 6 of 10 for this parallel run (total 10)...\n",
      "Building estimator 7 of 10 for this parallel run (total 10)...\n",
      "Building estimator 8 of 10 for this parallel run (total 10)...\n",
      "Building estimator 9 of 10 for this parallel run (total 10)...\n",
      "Building estimator 10 of 10 for this parallel run (total 10)...\n"
     ]
    },
    {
     "name": "stderr",
     "output_type": "stream",
     "text": [
      "[Parallel(n_jobs=1)]: Done   1 out of   1 | elapsed:    0.6s remaining:    0.0s\n",
      "[Parallel(n_jobs=1)]: Done   1 out of   1 | elapsed:    0.6s finished\n",
      "[Parallel(n_jobs=1)]: Using backend SequentialBackend with 1 concurrent workers.\n",
      "[Parallel(n_jobs=1)]: Done   1 out of   1 | elapsed:    0.0s remaining:    0.0s\n",
      "[Parallel(n_jobs=1)]: Done   1 out of   1 | elapsed:    0.0s finished\n",
      "[Parallel(n_jobs=1)]: Using backend SequentialBackend with 1 concurrent workers.\n",
      "[Parallel(n_jobs=1)]: Done   1 out of   1 | elapsed:    0.0s remaining:    0.0s\n",
      "[Parallel(n_jobs=1)]: Done   1 out of   1 | elapsed:    0.0s finished\n",
      "[Parallel(n_jobs=1)]: Using backend SequentialBackend with 1 concurrent workers.\n"
     ]
    },
    {
     "name": "stdout",
     "output_type": "stream",
     "text": [
      "[CV]  bootstrap=True, max_features=1.0, max_samples=0.6, n_estimators=10, score=(train=0.582, test=0.579), total=   0.7s\n",
      "[CV] bootstrap=True, max_features=1.0, max_samples=0.6, n_estimators=10 \n",
      "Building estimator 1 of 10 for this parallel run (total 10)...\n",
      "Building estimator 2 of 10 for this parallel run (total 10)...\n",
      "Building estimator 3 of 10 for this parallel run (total 10)...\n",
      "Building estimator 4 of 10 for this parallel run (total 10)...\n",
      "Building estimator 5 of 10 for this parallel run (total 10)...\n",
      "Building estimator 6 of 10 for this parallel run (total 10)...\n",
      "Building estimator 7 of 10 for this parallel run (total 10)...\n",
      "Building estimator 8 of 10 for this parallel run (total 10)...\n",
      "Building estimator 9 of 10 for this parallel run (total 10)...\n",
      "Building estimator 10 of 10 for this parallel run (total 10)...\n",
      "[CV]  bootstrap=True, max_features=1.0, max_samples=0.6, n_estimators=10, score=(train=0.576, test=0.574), total=   0.8s"
     ]
    },
    {
     "name": "stderr",
     "output_type": "stream",
     "text": [
      "[Parallel(n_jobs=1)]: Done   1 out of   1 | elapsed:    0.6s remaining:    0.0s\n",
      "[Parallel(n_jobs=1)]: Done   1 out of   1 | elapsed:    0.6s finished\n",
      "[Parallel(n_jobs=1)]: Using backend SequentialBackend with 1 concurrent workers.\n",
      "[Parallel(n_jobs=1)]: Done   1 out of   1 | elapsed:    0.0s remaining:    0.0s\n",
      "[Parallel(n_jobs=1)]: Done   1 out of   1 | elapsed:    0.0s finished\n",
      "[Parallel(n_jobs=1)]: Using backend SequentialBackend with 1 concurrent workers.\n",
      "[Parallel(n_jobs=1)]: Done   1 out of   1 | elapsed:    0.0s remaining:    0.0s\n",
      "[Parallel(n_jobs=1)]: Done   1 out of   1 | elapsed:    0.0s finished\n",
      "[Parallel(n_jobs=1)]: Using backend SequentialBackend with 1 concurrent workers.\n"
     ]
    },
    {
     "name": "stdout",
     "output_type": "stream",
     "text": [
      "\n",
      "[CV] bootstrap=True, max_features=1.0, max_samples=0.6, n_estimators=10 \n",
      "Building estimator 1 of 10 for this parallel run (total 10)...\n",
      "Building estimator 2 of 10 for this parallel run (total 10)...\n",
      "Building estimator 3 of 10 for this parallel run (total 10)...\n",
      "Building estimator 4 of 10 for this parallel run (total 10)...\n",
      "Building estimator 5 of 10 for this parallel run (total 10)...\n",
      "Building estimator 6 of 10 for this parallel run (total 10)...\n",
      "Building estimator 7 of 10 for this parallel run (total 10)...\n",
      "Building estimator 8 of 10 for this parallel run (total 10)...\n",
      "Building estimator 9 of 10 for this parallel run (total 10)...\n",
      "Building estimator 10 of 10 for this parallel run (total 10)...\n"
     ]
    },
    {
     "name": "stderr",
     "output_type": "stream",
     "text": [
      "[Parallel(n_jobs=1)]: Done   1 out of   1 | elapsed:    0.7s remaining:    0.0s\n",
      "[Parallel(n_jobs=1)]: Done   1 out of   1 | elapsed:    0.7s finished\n",
      "[Parallel(n_jobs=1)]: Using backend SequentialBackend with 1 concurrent workers.\n",
      "[Parallel(n_jobs=1)]: Done   1 out of   1 | elapsed:    0.0s remaining:    0.0s\n",
      "[Parallel(n_jobs=1)]: Done   1 out of   1 | elapsed:    0.0s finished\n",
      "[Parallel(n_jobs=1)]: Using backend SequentialBackend with 1 concurrent workers.\n",
      "[Parallel(n_jobs=1)]: Done   1 out of   1 | elapsed:    0.0s remaining:    0.0s\n",
      "[Parallel(n_jobs=1)]: Done   1 out of   1 | elapsed:    0.0s finished\n",
      "[Parallel(n_jobs=1)]: Using backend SequentialBackend with 1 concurrent workers.\n"
     ]
    },
    {
     "name": "stdout",
     "output_type": "stream",
     "text": [
      "[CV]  bootstrap=True, max_features=1.0, max_samples=0.6, n_estimators=10, score=(train=0.585, test=0.585), total=   0.8s\n",
      "[CV] bootstrap=True, max_features=1.0, max_samples=0.6, n_estimators=15 \n",
      "Building estimator 1 of 15 for this parallel run (total 15)...\n",
      "Building estimator 2 of 15 for this parallel run (total 15)...\n",
      "Building estimator 3 of 15 for this parallel run (total 15)...\n",
      "Building estimator 4 of 15 for this parallel run (total 15)...\n",
      "Building estimator 5 of 15 for this parallel run (total 15)...\n",
      "Building estimator 6 of 15 for this parallel run (total 15)...\n",
      "Building estimator 7 of 15 for this parallel run (total 15)...\n",
      "Building estimator 8 of 15 for this parallel run (total 15)...\n",
      "Building estimator 9 of 15 for this parallel run (total 15)...\n",
      "Building estimator 10 of 15 for this parallel run (total 15)...\n",
      "Building estimator 11 of 15 for this parallel run (total 15)...\n",
      "Building estimator 12 of 15 for this parallel run (total 15)...\n",
      "Building estimator 13 of 15 for this parallel run (total 15)...\n",
      "Building estimator 14 of 15 for this parallel run (total 15)...\n",
      "Building estimator 15 of 15 for this parallel run (total 15)...\n"
     ]
    },
    {
     "name": "stderr",
     "output_type": "stream",
     "text": [
      "[Parallel(n_jobs=1)]: Done   1 out of   1 | elapsed:    1.1s remaining:    0.0s\n",
      "[Parallel(n_jobs=1)]: Done   1 out of   1 | elapsed:    1.1s finished\n",
      "[Parallel(n_jobs=1)]: Using backend SequentialBackend with 1 concurrent workers.\n",
      "[Parallel(n_jobs=1)]: Done   1 out of   1 | elapsed:    0.0s remaining:    0.0s\n",
      "[Parallel(n_jobs=1)]: Done   1 out of   1 | elapsed:    0.0s finished\n",
      "[Parallel(n_jobs=1)]: Using backend SequentialBackend with 1 concurrent workers.\n",
      "[Parallel(n_jobs=1)]: Done   1 out of   1 | elapsed:    0.0s remaining:    0.0s\n",
      "[Parallel(n_jobs=1)]: Done   1 out of   1 | elapsed:    0.0s finished\n",
      "[Parallel(n_jobs=1)]: Using backend SequentialBackend with 1 concurrent workers.\n"
     ]
    },
    {
     "name": "stdout",
     "output_type": "stream",
     "text": [
      "[CV]  bootstrap=True, max_features=1.0, max_samples=0.6, n_estimators=15, score=(train=0.584, test=0.578), total=   1.2s\n",
      "[CV] bootstrap=True, max_features=1.0, max_samples=0.6, n_estimators=15 \n",
      "Building estimator 1 of 15 for this parallel run (total 15)...\n",
      "Building estimator 2 of 15 for this parallel run (total 15)...\n",
      "Building estimator 3 of 15 for this parallel run (total 15)...\n",
      "Building estimator 4 of 15 for this parallel run (total 15)...\n",
      "Building estimator 5 of 15 for this parallel run (total 15)...\n",
      "Building estimator 6 of 15 for this parallel run (total 15)...\n",
      "Building estimator 7 of 15 for this parallel run (total 15)...\n",
      "Building estimator 8 of 15 for this parallel run (total 15)...\n",
      "Building estimator 9 of 15 for this parallel run (total 15)...\n",
      "Building estimator 10 of 15 for this parallel run (total 15)...\n",
      "Building estimator 11 of 15 for this parallel run (total 15)...\n",
      "Building estimator 12 of 15 for this parallel run (total 15)...\n",
      "Building estimator 13 of 15 for this parallel run (total 15)...\n",
      "Building estimator 14 of 15 for this parallel run (total 15)...\n",
      "Building estimator 15 of 15 for this parallel run (total 15)...\n"
     ]
    },
    {
     "name": "stderr",
     "output_type": "stream",
     "text": [
      "[Parallel(n_jobs=1)]: Done   1 out of   1 | elapsed:    0.9s remaining:    0.0s\n",
      "[Parallel(n_jobs=1)]: Done   1 out of   1 | elapsed:    0.9s finished\n",
      "[Parallel(n_jobs=1)]: Using backend SequentialBackend with 1 concurrent workers.\n",
      "[Parallel(n_jobs=1)]: Done   1 out of   1 | elapsed:    0.0s remaining:    0.0s\n",
      "[Parallel(n_jobs=1)]: Done   1 out of   1 | elapsed:    0.0s finished\n",
      "[Parallel(n_jobs=1)]: Using backend SequentialBackend with 1 concurrent workers.\n",
      "[Parallel(n_jobs=1)]: Done   1 out of   1 | elapsed:    0.0s remaining:    0.0s\n",
      "[Parallel(n_jobs=1)]: Done   1 out of   1 | elapsed:    0.0s finished\n"
     ]
    },
    {
     "name": "stdout",
     "output_type": "stream",
     "text": [
      "[CV]  bootstrap=True, max_features=1.0, max_samples=0.6, n_estimators=15, score=(train=0.575, test=0.574), total=   1.0s\n",
      "[CV] bootstrap=True, max_features=1.0, max_samples=0.6, n_estimators=15 \n",
      "Building estimator 1 of 15 for this parallel run (total 15)...\n",
      "Building estimator 2 of 15 for this parallel run (total 15)...\n",
      "Building estimator 3 of 15 for this parallel run (total 15)...\n"
     ]
    },
    {
     "name": "stderr",
     "output_type": "stream",
     "text": [
      "[Parallel(n_jobs=1)]: Using backend SequentialBackend with 1 concurrent workers.\n"
     ]
    },
    {
     "name": "stdout",
     "output_type": "stream",
     "text": [
      "Building estimator 4 of 15 for this parallel run (total 15)...\n",
      "Building estimator 5 of 15 for this parallel run (total 15)...\n",
      "Building estimator 6 of 15 for this parallel run (total 15)...\n",
      "Building estimator 7 of 15 for this parallel run (total 15)...\n",
      "Building estimator 8 of 15 for this parallel run (total 15)...\n",
      "Building estimator 9 of 15 for this parallel run (total 15)...\n",
      "Building estimator 10 of 15 for this parallel run (total 15)...\n",
      "Building estimator 11 of 15 for this parallel run (total 15)...\n",
      "Building estimator 12 of 15 for this parallel run (total 15)...\n",
      "Building estimator 13 of 15 for this parallel run (total 15)...\n",
      "Building estimator 14 of 15 for this parallel run (total 15)...\n",
      "Building estimator 15 of 15 for this parallel run (total 15)...\n"
     ]
    },
    {
     "name": "stderr",
     "output_type": "stream",
     "text": [
      "[Parallel(n_jobs=1)]: Done   1 out of   1 | elapsed:    1.1s remaining:    0.0s\n",
      "[Parallel(n_jobs=1)]: Done   1 out of   1 | elapsed:    1.1s finished\n",
      "[Parallel(n_jobs=1)]: Using backend SequentialBackend with 1 concurrent workers.\n",
      "[Parallel(n_jobs=1)]: Done   1 out of   1 | elapsed:    0.0s remaining:    0.0s\n",
      "[Parallel(n_jobs=1)]: Done   1 out of   1 | elapsed:    0.0s finished\n",
      "[Parallel(n_jobs=1)]: Using backend SequentialBackend with 1 concurrent workers.\n",
      "[Parallel(n_jobs=1)]: Done   1 out of   1 | elapsed:    0.0s remaining:    0.0s\n",
      "[Parallel(n_jobs=1)]: Done   1 out of   1 | elapsed:    0.0s finished\n",
      "[Parallel(n_jobs=1)]: Using backend SequentialBackend with 1 concurrent workers.\n"
     ]
    },
    {
     "name": "stdout",
     "output_type": "stream",
     "text": [
      "[CV]  bootstrap=True, max_features=1.0, max_samples=0.6, n_estimators=15, score=(train=0.587, test=0.588), total=   1.2s\n",
      "[CV] bootstrap=True, max_features=1.0, max_samples=0.9, n_estimators=5 \n",
      "Building estimator 1 of 5 for this parallel run (total 5)...\n",
      "Building estimator 2 of 5 for this parallel run (total 5)...\n",
      "Building estimator 3 of 5 for this parallel run (total 5)...\n",
      "Building estimator 4 of 5 for this parallel run (total 5)...\n",
      "Building estimator 5 of 5 for this parallel run (total 5)...\n",
      "[CV]  bootstrap=True, max_features=1.0, max_samples=0.9, n_estimators=5, score=(train=0.581, test=0.576), total=   0.6s"
     ]
    },
    {
     "name": "stderr",
     "output_type": "stream",
     "text": [
      "[Parallel(n_jobs=1)]: Done   1 out of   1 | elapsed:    0.4s remaining:    0.0s\n",
      "[Parallel(n_jobs=1)]: Done   1 out of   1 | elapsed:    0.4s finished\n",
      "[Parallel(n_jobs=1)]: Using backend SequentialBackend with 1 concurrent workers.\n",
      "[Parallel(n_jobs=1)]: Done   1 out of   1 | elapsed:    0.0s remaining:    0.0s\n",
      "[Parallel(n_jobs=1)]: Done   1 out of   1 | elapsed:    0.0s finished\n",
      "[Parallel(n_jobs=1)]: Using backend SequentialBackend with 1 concurrent workers.\n",
      "[Parallel(n_jobs=1)]: Done   1 out of   1 | elapsed:    0.0s remaining:    0.0s\n",
      "[Parallel(n_jobs=1)]: Done   1 out of   1 | elapsed:    0.0s finished\n",
      "[Parallel(n_jobs=1)]: Using backend SequentialBackend with 1 concurrent workers.\n"
     ]
    },
    {
     "name": "stdout",
     "output_type": "stream",
     "text": [
      "\n",
      "[CV] bootstrap=True, max_features=1.0, max_samples=0.9, n_estimators=5 \n",
      "Building estimator 1 of 5 for this parallel run (total 5)...\n",
      "Building estimator 2 of 5 for this parallel run (total 5)...\n",
      "Building estimator 3 of 5 for this parallel run (total 5)...\n",
      "Building estimator 4 of 5 for this parallel run (total 5)...\n",
      "Building estimator 5 of 5 for this parallel run (total 5)...\n"
     ]
    },
    {
     "name": "stderr",
     "output_type": "stream",
     "text": [
      "[Parallel(n_jobs=1)]: Done   1 out of   1 | elapsed:    0.4s remaining:    0.0s\n",
      "[Parallel(n_jobs=1)]: Done   1 out of   1 | elapsed:    0.4s finished\n",
      "[Parallel(n_jobs=1)]: Using backend SequentialBackend with 1 concurrent workers.\n",
      "[Parallel(n_jobs=1)]: Done   1 out of   1 | elapsed:    0.0s remaining:    0.0s\n",
      "[Parallel(n_jobs=1)]: Done   1 out of   1 | elapsed:    0.0s finished\n",
      "[Parallel(n_jobs=1)]: Using backend SequentialBackend with 1 concurrent workers.\n",
      "[Parallel(n_jobs=1)]: Done   1 out of   1 | elapsed:    0.0s remaining:    0.0s\n",
      "[Parallel(n_jobs=1)]: Done   1 out of   1 | elapsed:    0.0s finished\n",
      "[Parallel(n_jobs=1)]: Using backend SequentialBackend with 1 concurrent workers.\n"
     ]
    },
    {
     "name": "stdout",
     "output_type": "stream",
     "text": [
      "[CV]  bootstrap=True, max_features=1.0, max_samples=0.9, n_estimators=5, score=(train=0.577, test=0.573), total=   0.5s\n",
      "[CV] bootstrap=True, max_features=1.0, max_samples=0.9, n_estimators=5 \n",
      "Building estimator 1 of 5 for this parallel run (total 5)...\n",
      "Building estimator 2 of 5 for this parallel run (total 5)...\n",
      "Building estimator 3 of 5 for this parallel run (total 5)...\n",
      "Building estimator 4 of 5 for this parallel run (total 5)...\n",
      "Building estimator 5 of 5 for this parallel run (total 5)...\n"
     ]
    },
    {
     "name": "stderr",
     "output_type": "stream",
     "text": [
      "[Parallel(n_jobs=1)]: Done   1 out of   1 | elapsed:    0.3s remaining:    0.0s\n",
      "[Parallel(n_jobs=1)]: Done   1 out of   1 | elapsed:    0.3s finished\n",
      "[Parallel(n_jobs=1)]: Using backend SequentialBackend with 1 concurrent workers.\n",
      "[Parallel(n_jobs=1)]: Done   1 out of   1 | elapsed:    0.0s remaining:    0.0s\n",
      "[Parallel(n_jobs=1)]: Done   1 out of   1 | elapsed:    0.0s finished\n",
      "[Parallel(n_jobs=1)]: Using backend SequentialBackend with 1 concurrent workers.\n",
      "[Parallel(n_jobs=1)]: Done   1 out of   1 | elapsed:    0.0s remaining:    0.0s\n",
      "[Parallel(n_jobs=1)]: Done   1 out of   1 | elapsed:    0.0s finished\n",
      "[Parallel(n_jobs=1)]: Using backend SequentialBackend with 1 concurrent workers.\n"
     ]
    },
    {
     "name": "stdout",
     "output_type": "stream",
     "text": [
      "[CV]  bootstrap=True, max_features=1.0, max_samples=0.9, n_estimators=5, score=(train=0.583, test=0.584), total=   0.5s\n",
      "[CV] bootstrap=True, max_features=1.0, max_samples=0.9, n_estimators=10 \n",
      "Building estimator 1 of 10 for this parallel run (total 10)...\n",
      "Building estimator 2 of 10 for this parallel run (total 10)...\n",
      "Building estimator 3 of 10 for this parallel run (total 10)...\n",
      "Building estimator 4 of 10 for this parallel run (total 10)...\n",
      "Building estimator 5 of 10 for this parallel run (total 10)...\n",
      "Building estimator 6 of 10 for this parallel run (total 10)...\n",
      "Building estimator 7 of 10 for this parallel run (total 10)...\n",
      "Building estimator 8 of 10 for this parallel run (total 10)...\n",
      "Building estimator 9 of 10 for this parallel run (total 10)...\n",
      "Building estimator 10 of 10 for this parallel run (total 10)...\n"
     ]
    },
    {
     "name": "stderr",
     "output_type": "stream",
     "text": [
      "[Parallel(n_jobs=1)]: Done   1 out of   1 | elapsed:    0.7s remaining:    0.0s\n",
      "[Parallel(n_jobs=1)]: Done   1 out of   1 | elapsed:    0.7s finished\n",
      "[Parallel(n_jobs=1)]: Using backend SequentialBackend with 1 concurrent workers.\n",
      "[Parallel(n_jobs=1)]: Done   1 out of   1 | elapsed:    0.0s remaining:    0.0s\n",
      "[Parallel(n_jobs=1)]: Done   1 out of   1 | elapsed:    0.0s finished\n",
      "[Parallel(n_jobs=1)]: Using backend SequentialBackend with 1 concurrent workers.\n",
      "[Parallel(n_jobs=1)]: Done   1 out of   1 | elapsed:    0.0s remaining:    0.0s\n",
      "[Parallel(n_jobs=1)]: Done   1 out of   1 | elapsed:    0.0s finished\n",
      "[Parallel(n_jobs=1)]: Using backend SequentialBackend with 1 concurrent workers.\n"
     ]
    },
    {
     "name": "stdout",
     "output_type": "stream",
     "text": [
      "[CV]  bootstrap=True, max_features=1.0, max_samples=0.9, n_estimators=10, score=(train=0.582, test=0.577), total=   0.9s\n",
      "[CV] bootstrap=True, max_features=1.0, max_samples=0.9, n_estimators=10 \n",
      "Building estimator 1 of 10 for this parallel run (total 10)...\n",
      "Building estimator 2 of 10 for this parallel run (total 10)...\n",
      "Building estimator 3 of 10 for this parallel run (total 10)...\n",
      "Building estimator 4 of 10 for this parallel run (total 10)...\n",
      "Building estimator 5 of 10 for this parallel run (total 10)...\n",
      "Building estimator 6 of 10 for this parallel run (total 10)...\n",
      "Building estimator 7 of 10 for this parallel run (total 10)...\n",
      "Building estimator 8 of 10 for this parallel run (total 10)...\n",
      "Building estimator 9 of 10 for this parallel run (total 10)...\n",
      "Building estimator 10 of 10 for this parallel run (total 10)...\n",
      "[CV]  bootstrap=True, max_features=1.0, max_samples=0.9, n_estimators=10, score=(train=0.576, test=0.573), total=   0.9s\n"
     ]
    },
    {
     "name": "stderr",
     "output_type": "stream",
     "text": [
      "[Parallel(n_jobs=1)]: Done   1 out of   1 | elapsed:    0.7s remaining:    0.0s\n",
      "[Parallel(n_jobs=1)]: Done   1 out of   1 | elapsed:    0.7s finished\n",
      "[Parallel(n_jobs=1)]: Using backend SequentialBackend with 1 concurrent workers.\n",
      "[Parallel(n_jobs=1)]: Done   1 out of   1 | elapsed:    0.0s remaining:    0.0s\n",
      "[Parallel(n_jobs=1)]: Done   1 out of   1 | elapsed:    0.0s finished\n",
      "[Parallel(n_jobs=1)]: Using backend SequentialBackend with 1 concurrent workers.\n",
      "[Parallel(n_jobs=1)]: Done   1 out of   1 | elapsed:    0.0s remaining:    0.0s\n",
      "[Parallel(n_jobs=1)]: Done   1 out of   1 | elapsed:    0.0s finished\n",
      "[Parallel(n_jobs=1)]: Using backend SequentialBackend with 1 concurrent workers.\n"
     ]
    },
    {
     "name": "stdout",
     "output_type": "stream",
     "text": [
      "[CV] bootstrap=True, max_features=1.0, max_samples=0.9, n_estimators=10 \n",
      "Building estimator 1 of 10 for this parallel run (total 10)...\n",
      "Building estimator 2 of 10 for this parallel run (total 10)...\n",
      "Building estimator 3 of 10 for this parallel run (total 10)...\n",
      "Building estimator 4 of 10 for this parallel run (total 10)...\n",
      "Building estimator 5 of 10 for this parallel run (total 10)...\n",
      "Building estimator 6 of 10 for this parallel run (total 10)...\n",
      "Building estimator 7 of 10 for this parallel run (total 10)...\n",
      "Building estimator 8 of 10 for this parallel run (total 10)...\n",
      "Building estimator 9 of 10 for this parallel run (total 10)...\n",
      "Building estimator 10 of 10 for this parallel run (total 10)...\n"
     ]
    },
    {
     "name": "stderr",
     "output_type": "stream",
     "text": [
      "[Parallel(n_jobs=1)]: Done   1 out of   1 | elapsed:    0.7s remaining:    0.0s\n",
      "[Parallel(n_jobs=1)]: Done   1 out of   1 | elapsed:    0.7s finished\n",
      "[Parallel(n_jobs=1)]: Using backend SequentialBackend with 1 concurrent workers.\n",
      "[Parallel(n_jobs=1)]: Done   1 out of   1 | elapsed:    0.0s remaining:    0.0s\n",
      "[Parallel(n_jobs=1)]: Done   1 out of   1 | elapsed:    0.0s finished\n",
      "[Parallel(n_jobs=1)]: Using backend SequentialBackend with 1 concurrent workers.\n",
      "[Parallel(n_jobs=1)]: Done   1 out of   1 | elapsed:    0.0s remaining:    0.0s\n",
      "[Parallel(n_jobs=1)]: Done   1 out of   1 | elapsed:    0.0s finished\n",
      "[Parallel(n_jobs=1)]: Using backend SequentialBackend with 1 concurrent workers.\n"
     ]
    },
    {
     "name": "stdout",
     "output_type": "stream",
     "text": [
      "[CV]  bootstrap=True, max_features=1.0, max_samples=0.9, n_estimators=10, score=(train=0.584, test=0.584), total=   0.9s\n",
      "[CV] bootstrap=True, max_features=1.0, max_samples=0.9, n_estimators=15 \n",
      "Building estimator 1 of 15 for this parallel run (total 15)...\n",
      "Building estimator 2 of 15 for this parallel run (total 15)...\n",
      "Building estimator 3 of 15 for this parallel run (total 15)...\n",
      "Building estimator 4 of 15 for this parallel run (total 15)...\n",
      "Building estimator 5 of 15 for this parallel run (total 15)...\n",
      "Building estimator 6 of 15 for this parallel run (total 15)...\n",
      "Building estimator 7 of 15 for this parallel run (total 15)...\n",
      "Building estimator 8 of 15 for this parallel run (total 15)...\n",
      "Building estimator 9 of 15 for this parallel run (total 15)...\n",
      "Building estimator 10 of 15 for this parallel run (total 15)...\n",
      "Building estimator 11 of 15 for this parallel run (total 15)...\n",
      "Building estimator 12 of 15 for this parallel run (total 15)...\n",
      "Building estimator 13 of 15 for this parallel run (total 15)...\n",
      "Building estimator 14 of 15 for this parallel run (total 15)...\n",
      "Building estimator 15 of 15 for this parallel run (total 15)...\n"
     ]
    },
    {
     "name": "stderr",
     "output_type": "stream",
     "text": [
      "[Parallel(n_jobs=1)]: Done   1 out of   1 | elapsed:    1.1s remaining:    0.0s\n",
      "[Parallel(n_jobs=1)]: Done   1 out of   1 | elapsed:    1.1s finished\n",
      "[Parallel(n_jobs=1)]: Using backend SequentialBackend with 1 concurrent workers.\n",
      "[Parallel(n_jobs=1)]: Done   1 out of   1 | elapsed:    0.0s remaining:    0.0s\n",
      "[Parallel(n_jobs=1)]: Done   1 out of   1 | elapsed:    0.0s finished\n",
      "[Parallel(n_jobs=1)]: Using backend SequentialBackend with 1 concurrent workers.\n",
      "[Parallel(n_jobs=1)]: Done   1 out of   1 | elapsed:    0.0s remaining:    0.0s\n",
      "[Parallel(n_jobs=1)]: Done   1 out of   1 | elapsed:    0.0s finished\n",
      "[Parallel(n_jobs=1)]: Using backend SequentialBackend with 1 concurrent workers.\n"
     ]
    },
    {
     "name": "stdout",
     "output_type": "stream",
     "text": [
      "[CV]  bootstrap=True, max_features=1.0, max_samples=0.9, n_estimators=15, score=(train=0.580, test=0.574), total=   1.3s\n",
      "[CV] bootstrap=True, max_features=1.0, max_samples=0.9, n_estimators=15 \n",
      "Building estimator 1 of 15 for this parallel run (total 15)...\n",
      "Building estimator 2 of 15 for this parallel run (total 15)...\n",
      "Building estimator 3 of 15 for this parallel run (total 15)...\n",
      "Building estimator 4 of 15 for this parallel run (total 15)...\n",
      "Building estimator 5 of 15 for this parallel run (total 15)...\n",
      "Building estimator 6 of 15 for this parallel run (total 15)...\n",
      "Building estimator 7 of 15 for this parallel run (total 15)...\n",
      "Building estimator 8 of 15 for this parallel run (total 15)...\n",
      "Building estimator 9 of 15 for this parallel run (total 15)...\n",
      "Building estimator 10 of 15 for this parallel run (total 15)...\n",
      "Building estimator 11 of 15 for this parallel run (total 15)...\n",
      "Building estimator 12 of 15 for this parallel run (total 15)...\n",
      "Building estimator 13 of 15 for this parallel run (total 15)...\n",
      "Building estimator 14 of 15 for this parallel run (total 15)...\n",
      "Building estimator 15 of 15 for this parallel run (total 15)...\n"
     ]
    },
    {
     "name": "stderr",
     "output_type": "stream",
     "text": [
      "[Parallel(n_jobs=1)]: Done   1 out of   1 | elapsed:    1.1s remaining:    0.0s\n",
      "[Parallel(n_jobs=1)]: Done   1 out of   1 | elapsed:    1.1s finished\n",
      "[Parallel(n_jobs=1)]: Using backend SequentialBackend with 1 concurrent workers.\n",
      "[Parallel(n_jobs=1)]: Done   1 out of   1 | elapsed:    0.0s remaining:    0.0s\n",
      "[Parallel(n_jobs=1)]: Done   1 out of   1 | elapsed:    0.0s finished\n",
      "[Parallel(n_jobs=1)]: Using backend SequentialBackend with 1 concurrent workers.\n",
      "[Parallel(n_jobs=1)]: Done   1 out of   1 | elapsed:    0.0s remaining:    0.0s\n",
      "[Parallel(n_jobs=1)]: Done   1 out of   1 | elapsed:    0.0s finished\n"
     ]
    },
    {
     "name": "stdout",
     "output_type": "stream",
     "text": [
      "[CV]  bootstrap=True, max_features=1.0, max_samples=0.9, n_estimators=15, score=(train=0.574, test=0.571), total=   1.3s\n",
      "[CV] bootstrap=True, max_features=1.0, max_samples=0.9, n_estimators=15 \n",
      "Building estimator 1 of 15 for this parallel run (total 15)...\n",
      "Building estimator 2 of 15 for this parallel run (total 15)...\n"
     ]
    },
    {
     "name": "stderr",
     "output_type": "stream",
     "text": [
      "[Parallel(n_jobs=1)]: Using backend SequentialBackend with 1 concurrent workers.\n"
     ]
    },
    {
     "name": "stdout",
     "output_type": "stream",
     "text": [
      "Building estimator 3 of 15 for this parallel run (total 15)...\n",
      "Building estimator 4 of 15 for this parallel run (total 15)...\n",
      "Building estimator 5 of 15 for this parallel run (total 15)...\n",
      "Building estimator 6 of 15 for this parallel run (total 15)...\n",
      "Building estimator 7 of 15 for this parallel run (total 15)...\n",
      "Building estimator 8 of 15 for this parallel run (total 15)...\n",
      "Building estimator 9 of 15 for this parallel run (total 15)...\n",
      "Building estimator 10 of 15 for this parallel run (total 15)...\n",
      "Building estimator 11 of 15 for this parallel run (total 15)...\n",
      "Building estimator 12 of 15 for this parallel run (total 15)...\n",
      "Building estimator 13 of 15 for this parallel run (total 15)...\n",
      "Building estimator 14 of 15 for this parallel run (total 15)...\n",
      "Building estimator 15 of 15 for this parallel run (total 15)...\n"
     ]
    },
    {
     "name": "stderr",
     "output_type": "stream",
     "text": [
      "[Parallel(n_jobs=1)]: Done   1 out of   1 | elapsed:    1.3s remaining:    0.0s\n",
      "[Parallel(n_jobs=1)]: Done   1 out of   1 | elapsed:    1.3s finished\n",
      "[Parallel(n_jobs=1)]: Using backend SequentialBackend with 1 concurrent workers.\n",
      "[Parallel(n_jobs=1)]: Done   1 out of   1 | elapsed:    0.0s remaining:    0.0s\n",
      "[Parallel(n_jobs=1)]: Done   1 out of   1 | elapsed:    0.0s finished\n",
      "[Parallel(n_jobs=1)]: Using backend SequentialBackend with 1 concurrent workers.\n",
      "[Parallel(n_jobs=1)]: Done   1 out of   1 | elapsed:    0.0s remaining:    0.0s\n",
      "[Parallel(n_jobs=1)]: Done   1 out of   1 | elapsed:    0.0s finished\n",
      "[Parallel(n_jobs=1)]: Using backend SequentialBackend with 1 concurrent workers.\n"
     ]
    },
    {
     "name": "stdout",
     "output_type": "stream",
     "text": [
      "[CV]  bootstrap=True, max_features=1.0, max_samples=0.9, n_estimators=15, score=(train=0.584, test=0.585), total=   1.4s\n",
      "[CV] bootstrap=False, max_features=1.0, max_samples=0.3, n_estimators=5 \n",
      "Building estimator 1 of 5 for this parallel run (total 5)...\n",
      "Building estimator 2 of 5 for this parallel run (total 5)...\n",
      "Building estimator 3 of 5 for this parallel run (total 5)...\n",
      "Building estimator 4 of 5 for this parallel run (total 5)...\n",
      "Building estimator 5 of 5 for this parallel run (total 5)...\n"
     ]
    },
    {
     "name": "stderr",
     "output_type": "stream",
     "text": [
      "[Parallel(n_jobs=1)]: Done   1 out of   1 | elapsed:    0.2s remaining:    0.0s\n",
      "[Parallel(n_jobs=1)]: Done   1 out of   1 | elapsed:    0.2s finished\n",
      "[Parallel(n_jobs=1)]: Using backend SequentialBackend with 1 concurrent workers.\n",
      "[Parallel(n_jobs=1)]: Done   1 out of   1 | elapsed:    0.0s remaining:    0.0s\n",
      "[Parallel(n_jobs=1)]: Done   1 out of   1 | elapsed:    0.0s finished\n",
      "[Parallel(n_jobs=1)]: Using backend SequentialBackend with 1 concurrent workers.\n",
      "[Parallel(n_jobs=1)]: Done   1 out of   1 | elapsed:    0.0s remaining:    0.0s\n",
      "[Parallel(n_jobs=1)]: Done   1 out of   1 | elapsed:    0.0s finished\n",
      "[Parallel(n_jobs=1)]: Using backend SequentialBackend with 1 concurrent workers.\n"
     ]
    },
    {
     "name": "stdout",
     "output_type": "stream",
     "text": [
      "[CV]  bootstrap=False, max_features=1.0, max_samples=0.3, n_estimators=5, score=(train=0.581, test=0.575), total=   0.3s\n",
      "[CV] bootstrap=False, max_features=1.0, max_samples=0.3, n_estimators=5 \n",
      "Building estimator 1 of 5 for this parallel run (total 5)...\n",
      "Building estimator 2 of 5 for this parallel run (total 5)...\n",
      "Building estimator 3 of 5 for this parallel run (total 5)...\n",
      "Building estimator 4 of 5 for this parallel run (total 5)...\n",
      "Building estimator 5 of 5 for this parallel run (total 5)...\n",
      "[CV]  bootstrap=False, max_features=1.0, max_samples=0.3, n_estimators=5, score=(train=0.574, test=0.570), total=   0.3s"
     ]
    },
    {
     "name": "stderr",
     "output_type": "stream",
     "text": [
      "[Parallel(n_jobs=1)]: Done   1 out of   1 | elapsed:    0.2s remaining:    0.0s\n",
      "[Parallel(n_jobs=1)]: Done   1 out of   1 | elapsed:    0.2s finished\n",
      "[Parallel(n_jobs=1)]: Using backend SequentialBackend with 1 concurrent workers.\n",
      "[Parallel(n_jobs=1)]: Done   1 out of   1 | elapsed:    0.0s remaining:    0.0s\n",
      "[Parallel(n_jobs=1)]: Done   1 out of   1 | elapsed:    0.0s finished\n",
      "[Parallel(n_jobs=1)]: Using backend SequentialBackend with 1 concurrent workers.\n",
      "[Parallel(n_jobs=1)]: Done   1 out of   1 | elapsed:    0.0s remaining:    0.0s\n",
      "[Parallel(n_jobs=1)]: Done   1 out of   1 | elapsed:    0.0s finished\n",
      "[Parallel(n_jobs=1)]: Using backend SequentialBackend with 1 concurrent workers.\n"
     ]
    },
    {
     "name": "stdout",
     "output_type": "stream",
     "text": [
      "\n",
      "[CV] bootstrap=False, max_features=1.0, max_samples=0.3, n_estimators=5 \n",
      "Building estimator 1 of 5 for this parallel run (total 5)...\n",
      "Building estimator 2 of 5 for this parallel run (total 5)...\n",
      "Building estimator 3 of 5 for this parallel run (total 5)...\n",
      "Building estimator 4 of 5 for this parallel run (total 5)...\n",
      "Building estimator 5 of 5 for this parallel run (total 5)...\n",
      "[CV]  bootstrap=False, max_features=1.0, max_samples=0.3, n_estimators=5, score=(train=0.581, test=0.582), total=   0.3s"
     ]
    },
    {
     "name": "stderr",
     "output_type": "stream",
     "text": [
      "[Parallel(n_jobs=1)]: Done   1 out of   1 | elapsed:    0.2s remaining:    0.0s\n",
      "[Parallel(n_jobs=1)]: Done   1 out of   1 | elapsed:    0.2s finished\n",
      "[Parallel(n_jobs=1)]: Using backend SequentialBackend with 1 concurrent workers.\n",
      "[Parallel(n_jobs=1)]: Done   1 out of   1 | elapsed:    0.0s remaining:    0.0s\n",
      "[Parallel(n_jobs=1)]: Done   1 out of   1 | elapsed:    0.0s finished\n",
      "[Parallel(n_jobs=1)]: Using backend SequentialBackend with 1 concurrent workers.\n",
      "[Parallel(n_jobs=1)]: Done   1 out of   1 | elapsed:    0.0s remaining:    0.0s\n",
      "[Parallel(n_jobs=1)]: Done   1 out of   1 | elapsed:    0.0s finished\n",
      "[Parallel(n_jobs=1)]: Using backend SequentialBackend with 1 concurrent workers.\n"
     ]
    },
    {
     "name": "stdout",
     "output_type": "stream",
     "text": [
      "\n",
      "[CV] bootstrap=False, max_features=1.0, max_samples=0.3, n_estimators=10 \n",
      "Building estimator 1 of 10 for this parallel run (total 10)...\n",
      "Building estimator 2 of 10 for this parallel run (total 10)...\n",
      "Building estimator 3 of 10 for this parallel run (total 10)...\n",
      "Building estimator 4 of 10 for this parallel run (total 10)...\n",
      "Building estimator 5 of 10 for this parallel run (total 10)...\n",
      "Building estimator 6 of 10 for this parallel run (total 10)...\n",
      "Building estimator 7 of 10 for this parallel run (total 10)...\n",
      "Building estimator 8 of 10 for this parallel run (total 10)...\n",
      "Building estimator 9 of 10 for this parallel run (total 10)...\n",
      "Building estimator 10 of 10 for this parallel run (total 10)...\n"
     ]
    },
    {
     "name": "stderr",
     "output_type": "stream",
     "text": [
      "[Parallel(n_jobs=1)]: Done   1 out of   1 | elapsed:    0.5s remaining:    0.0s\n",
      "[Parallel(n_jobs=1)]: Done   1 out of   1 | elapsed:    0.5s finished\n",
      "[Parallel(n_jobs=1)]: Using backend SequentialBackend with 1 concurrent workers.\n",
      "[Parallel(n_jobs=1)]: Done   1 out of   1 | elapsed:    0.0s remaining:    0.0s\n",
      "[Parallel(n_jobs=1)]: Done   1 out of   1 | elapsed:    0.0s finished\n",
      "[Parallel(n_jobs=1)]: Using backend SequentialBackend with 1 concurrent workers.\n",
      "[Parallel(n_jobs=1)]: Done   1 out of   1 | elapsed:    0.0s remaining:    0.0s\n",
      "[Parallel(n_jobs=1)]: Done   1 out of   1 | elapsed:    0.0s finished\n",
      "[Parallel(n_jobs=1)]: Using backend SequentialBackend with 1 concurrent workers.\n"
     ]
    },
    {
     "name": "stdout",
     "output_type": "stream",
     "text": [
      "[CV]  bootstrap=False, max_features=1.0, max_samples=0.3, n_estimators=10, score=(train=0.578, test=0.573), total=   0.7s\n",
      "[CV] bootstrap=False, max_features=1.0, max_samples=0.3, n_estimators=10 \n",
      "Building estimator 1 of 10 for this parallel run (total 10)...\n",
      "Building estimator 2 of 10 for this parallel run (total 10)...\n",
      "Building estimator 3 of 10 for this parallel run (total 10)...\n",
      "Building estimator 4 of 10 for this parallel run (total 10)...\n",
      "Building estimator 5 of 10 for this parallel run (total 10)...\n",
      "Building estimator 6 of 10 for this parallel run (total 10)...\n",
      "Building estimator 7 of 10 for this parallel run (total 10)...\n",
      "Building estimator 8 of 10 for this parallel run (total 10)...\n",
      "Building estimator 9 of 10 for this parallel run (total 10)...\n",
      "Building estimator 10 of 10 for this parallel run (total 10)...\n"
     ]
    },
    {
     "name": "stderr",
     "output_type": "stream",
     "text": [
      "[Parallel(n_jobs=1)]: Done   1 out of   1 | elapsed:    0.5s remaining:    0.0s\n",
      "[Parallel(n_jobs=1)]: Done   1 out of   1 | elapsed:    0.5s finished\n",
      "[Parallel(n_jobs=1)]: Using backend SequentialBackend with 1 concurrent workers.\n",
      "[Parallel(n_jobs=1)]: Done   1 out of   1 | elapsed:    0.0s remaining:    0.0s\n",
      "[Parallel(n_jobs=1)]: Done   1 out of   1 | elapsed:    0.0s finished\n",
      "[Parallel(n_jobs=1)]: Using backend SequentialBackend with 1 concurrent workers.\n",
      "[Parallel(n_jobs=1)]: Done   1 out of   1 | elapsed:    0.0s remaining:    0.0s\n",
      "[Parallel(n_jobs=1)]: Done   1 out of   1 | elapsed:    0.0s finished\n",
      "[Parallel(n_jobs=1)]: Using backend SequentialBackend with 1 concurrent workers.\n"
     ]
    },
    {
     "name": "stdout",
     "output_type": "stream",
     "text": [
      "[CV]  bootstrap=False, max_features=1.0, max_samples=0.3, n_estimators=10, score=(train=0.570, test=0.567), total=   0.6s\n",
      "[CV] bootstrap=False, max_features=1.0, max_samples=0.3, n_estimators=10 \n",
      "Building estimator 1 of 10 for this parallel run (total 10)...\n",
      "Building estimator 2 of 10 for this parallel run (total 10)...\n",
      "Building estimator 3 of 10 for this parallel run (total 10)...\n",
      "Building estimator 4 of 10 for this parallel run (total 10)...\n",
      "Building estimator 5 of 10 for this parallel run (total 10)...\n",
      "Building estimator 6 of 10 for this parallel run (total 10)...\n",
      "Building estimator 7 of 10 for this parallel run (total 10)...\n",
      "Building estimator 8 of 10 for this parallel run (total 10)...\n",
      "Building estimator 9 of 10 for this parallel run (total 10)...\n",
      "Building estimator 10 of 10 for this parallel run (total 10)...\n"
     ]
    },
    {
     "name": "stderr",
     "output_type": "stream",
     "text": [
      "[Parallel(n_jobs=1)]: Done   1 out of   1 | elapsed:    0.5s remaining:    0.0s\n",
      "[Parallel(n_jobs=1)]: Done   1 out of   1 | elapsed:    0.5s finished\n",
      "[Parallel(n_jobs=1)]: Using backend SequentialBackend with 1 concurrent workers.\n",
      "[Parallel(n_jobs=1)]: Done   1 out of   1 | elapsed:    0.0s remaining:    0.0s\n",
      "[Parallel(n_jobs=1)]: Done   1 out of   1 | elapsed:    0.0s finished\n",
      "[Parallel(n_jobs=1)]: Using backend SequentialBackend with 1 concurrent workers.\n",
      "[Parallel(n_jobs=1)]: Done   1 out of   1 | elapsed:    0.0s remaining:    0.0s\n",
      "[Parallel(n_jobs=1)]: Done   1 out of   1 | elapsed:    0.0s finished\n",
      "[Parallel(n_jobs=1)]: Using backend SequentialBackend with 1 concurrent workers.\n"
     ]
    },
    {
     "name": "stdout",
     "output_type": "stream",
     "text": [
      "[CV]  bootstrap=False, max_features=1.0, max_samples=0.3, n_estimators=10, score=(train=0.580, test=0.581), total=   0.7s\n",
      "[CV] bootstrap=False, max_features=1.0, max_samples=0.3, n_estimators=15 \n",
      "Building estimator 1 of 15 for this parallel run (total 15)...\n",
      "Building estimator 2 of 15 for this parallel run (total 15)...\n",
      "Building estimator 3 of 15 for this parallel run (total 15)...\n",
      "Building estimator 4 of 15 for this parallel run (total 15)...\n",
      "Building estimator 5 of 15 for this parallel run (total 15)...\n",
      "Building estimator 6 of 15 for this parallel run (total 15)...\n",
      "Building estimator 7 of 15 for this parallel run (total 15)...\n",
      "Building estimator 8 of 15 for this parallel run (total 15)...\n",
      "Building estimator 9 of 15 for this parallel run (total 15)...\n",
      "Building estimator 10 of 15 for this parallel run (total 15)...\n",
      "Building estimator 11 of 15 for this parallel run (total 15)...\n",
      "Building estimator 12 of 15 for this parallel run (total 15)...\n",
      "Building estimator 13 of 15 for this parallel run (total 15)...\n",
      "Building estimator 14 of 15 for this parallel run (total 15)...\n",
      "Building estimator 15 of 15 for this parallel run (total 15)...\n"
     ]
    },
    {
     "name": "stderr",
     "output_type": "stream",
     "text": [
      "[Parallel(n_jobs=1)]: Done   1 out of   1 | elapsed:    0.8s remaining:    0.0s\n",
      "[Parallel(n_jobs=1)]: Done   1 out of   1 | elapsed:    0.8s finished\n",
      "[Parallel(n_jobs=1)]: Using backend SequentialBackend with 1 concurrent workers.\n",
      "[Parallel(n_jobs=1)]: Done   1 out of   1 | elapsed:    0.0s remaining:    0.0s\n",
      "[Parallel(n_jobs=1)]: Done   1 out of   1 | elapsed:    0.0s finished\n",
      "[Parallel(n_jobs=1)]: Using backend SequentialBackend with 1 concurrent workers.\n",
      "[Parallel(n_jobs=1)]: Done   1 out of   1 | elapsed:    0.0s remaining:    0.0s\n",
      "[Parallel(n_jobs=1)]: Done   1 out of   1 | elapsed:    0.0s finished\n",
      "[Parallel(n_jobs=1)]: Using backend SequentialBackend with 1 concurrent workers.\n"
     ]
    },
    {
     "name": "stdout",
     "output_type": "stream",
     "text": [
      "[CV]  bootstrap=False, max_features=1.0, max_samples=0.3, n_estimators=15, score=(train=0.577, test=0.571), total=   0.9s\n",
      "[CV] bootstrap=False, max_features=1.0, max_samples=0.3, n_estimators=15 \n",
      "Building estimator 1 of 15 for this parallel run (total 15)...\n",
      "Building estimator 2 of 15 for this parallel run (total 15)...\n",
      "Building estimator 3 of 15 for this parallel run (total 15)...\n",
      "Building estimator 4 of 15 for this parallel run (total 15)...\n",
      "Building estimator 5 of 15 for this parallel run (total 15)...\n",
      "Building estimator 6 of 15 for this parallel run (total 15)...\n",
      "Building estimator 7 of 15 for this parallel run (total 15)...\n",
      "Building estimator 8 of 15 for this parallel run (total 15)...\n",
      "Building estimator 9 of 15 for this parallel run (total 15)...\n",
      "Building estimator 10 of 15 for this parallel run (total 15)...\n",
      "Building estimator 11 of 15 for this parallel run (total 15)...\n",
      "Building estimator 12 of 15 for this parallel run (total 15)...\n",
      "Building estimator 13 of 15 for this parallel run (total 15)...\n",
      "Building estimator 14 of 15 for this parallel run (total 15)...\n",
      "Building estimator 15 of 15 for this parallel run (total 15)...\n"
     ]
    },
    {
     "name": "stderr",
     "output_type": "stream",
     "text": [
      "[Parallel(n_jobs=1)]: Done   1 out of   1 | elapsed:    0.8s remaining:    0.0s\n",
      "[Parallel(n_jobs=1)]: Done   1 out of   1 | elapsed:    0.8s finished\n",
      "[Parallel(n_jobs=1)]: Using backend SequentialBackend with 1 concurrent workers.\n",
      "[Parallel(n_jobs=1)]: Done   1 out of   1 | elapsed:    0.0s remaining:    0.0s\n",
      "[Parallel(n_jobs=1)]: Done   1 out of   1 | elapsed:    0.0s finished\n",
      "[Parallel(n_jobs=1)]: Using backend SequentialBackend with 1 concurrent workers.\n",
      "[Parallel(n_jobs=1)]: Done   1 out of   1 | elapsed:    0.0s remaining:    0.0s\n",
      "[Parallel(n_jobs=1)]: Done   1 out of   1 | elapsed:    0.0s finished\n",
      "[Parallel(n_jobs=1)]: Using backend SequentialBackend with 1 concurrent workers.\n"
     ]
    },
    {
     "name": "stdout",
     "output_type": "stream",
     "text": [
      "[CV]  bootstrap=False, max_features=1.0, max_samples=0.3, n_estimators=15, score=(train=0.575, test=0.573), total=   0.9s\n",
      "[CV] bootstrap=False, max_features=1.0, max_samples=0.3, n_estimators=15 \n",
      "Building estimator 1 of 15 for this parallel run (total 15)...\n",
      "Building estimator 2 of 15 for this parallel run (total 15)...\n",
      "Building estimator 3 of 15 for this parallel run (total 15)...\n",
      "Building estimator 4 of 15 for this parallel run (total 15)...\n",
      "Building estimator 5 of 15 for this parallel run (total 15)...\n",
      "Building estimator 6 of 15 for this parallel run (total 15)...\n",
      "Building estimator 7 of 15 for this parallel run (total 15)...\n",
      "Building estimator 8 of 15 for this parallel run (total 15)...\n",
      "Building estimator 9 of 15 for this parallel run (total 15)...\n",
      "Building estimator 10 of 15 for this parallel run (total 15)...\n",
      "Building estimator 11 of 15 for this parallel run (total 15)...\n",
      "Building estimator 12 of 15 for this parallel run (total 15)...\n",
      "Building estimator 13 of 15 for this parallel run (total 15)...\n",
      "Building estimator 14 of 15 for this parallel run (total 15)...\n",
      "Building estimator 15 of 15 for this parallel run (total 15)...\n"
     ]
    },
    {
     "name": "stderr",
     "output_type": "stream",
     "text": [
      "[Parallel(n_jobs=1)]: Done   1 out of   1 | elapsed:    0.8s remaining:    0.0s\n",
      "[Parallel(n_jobs=1)]: Done   1 out of   1 | elapsed:    0.8s finished\n",
      "[Parallel(n_jobs=1)]: Using backend SequentialBackend with 1 concurrent workers.\n",
      "[Parallel(n_jobs=1)]: Done   1 out of   1 | elapsed:    0.0s remaining:    0.0s\n",
      "[Parallel(n_jobs=1)]: Done   1 out of   1 | elapsed:    0.0s finished\n",
      "[Parallel(n_jobs=1)]: Using backend SequentialBackend with 1 concurrent workers.\n",
      "[Parallel(n_jobs=1)]: Done   1 out of   1 | elapsed:    0.0s remaining:    0.0s\n",
      "[Parallel(n_jobs=1)]: Done   1 out of   1 | elapsed:    0.0s finished\n",
      "[Parallel(n_jobs=1)]: Using backend SequentialBackend with 1 concurrent workers.\n"
     ]
    },
    {
     "name": "stdout",
     "output_type": "stream",
     "text": [
      "[CV]  bootstrap=False, max_features=1.0, max_samples=0.3, n_estimators=15, score=(train=0.583, test=0.584), total=   0.9s\n",
      "[CV] bootstrap=False, max_features=1.0, max_samples=0.6, n_estimators=5 \n",
      "Building estimator 1 of 5 for this parallel run (total 5)...\n",
      "Building estimator 2 of 5 for this parallel run (total 5)...\n",
      "Building estimator 3 of 5 for this parallel run (total 5)...\n",
      "Building estimator 4 of 5 for this parallel run (total 5)...\n",
      "Building estimator 5 of 5 for this parallel run (total 5)...\n"
     ]
    },
    {
     "name": "stderr",
     "output_type": "stream",
     "text": [
      "[Parallel(n_jobs=1)]: Done   1 out of   1 | elapsed:    0.5s remaining:    0.0s\n",
      "[Parallel(n_jobs=1)]: Done   1 out of   1 | elapsed:    0.5s finished\n",
      "[Parallel(n_jobs=1)]: Using backend SequentialBackend with 1 concurrent workers.\n",
      "[Parallel(n_jobs=1)]: Done   1 out of   1 | elapsed:    0.0s remaining:    0.0s\n",
      "[Parallel(n_jobs=1)]: Done   1 out of   1 | elapsed:    0.0s finished\n",
      "[Parallel(n_jobs=1)]: Using backend SequentialBackend with 1 concurrent workers.\n",
      "[Parallel(n_jobs=1)]: Done   1 out of   1 | elapsed:    0.0s remaining:    0.0s\n",
      "[Parallel(n_jobs=1)]: Done   1 out of   1 | elapsed:    0.0s finished\n",
      "[Parallel(n_jobs=1)]: Using backend SequentialBackend with 1 concurrent workers.\n"
     ]
    },
    {
     "name": "stdout",
     "output_type": "stream",
     "text": [
      "[CV]  bootstrap=False, max_features=1.0, max_samples=0.6, n_estimators=5, score=(train=0.570, test=0.567), total=   0.6s\n",
      "[CV] bootstrap=False, max_features=1.0, max_samples=0.6, n_estimators=5 \n",
      "Building estimator 1 of 5 for this parallel run (total 5)...\n",
      "Building estimator 2 of 5 for this parallel run (total 5)...\n",
      "Building estimator 3 of 5 for this parallel run (total 5)...\n",
      "Building estimator 4 of 5 for this parallel run (total 5)...\n",
      "Building estimator 5 of 5 for this parallel run (total 5)...\n",
      "[CV]  bootstrap=False, max_features=1.0, max_samples=0.6, n_estimators=5, score=(train=0.573, test=0.570), total=   0.7s\n",
      "[CV] bootstrap=False, max_features=1.0, max_samples=0.6, n_estimators=5 \n",
      "Building estimator 1 of 5 for this parallel run (total 5)...\n"
     ]
    },
    {
     "name": "stderr",
     "output_type": "stream",
     "text": [
      "[Parallel(n_jobs=1)]: Done   1 out of   1 | elapsed:    0.5s remaining:    0.0s\n",
      "[Parallel(n_jobs=1)]: Done   1 out of   1 | elapsed:    0.5s finished\n",
      "[Parallel(n_jobs=1)]: Using backend SequentialBackend with 1 concurrent workers.\n",
      "[Parallel(n_jobs=1)]: Done   1 out of   1 | elapsed:    0.0s remaining:    0.0s\n",
      "[Parallel(n_jobs=1)]: Done   1 out of   1 | elapsed:    0.0s finished\n",
      "[Parallel(n_jobs=1)]: Using backend SequentialBackend with 1 concurrent workers.\n",
      "[Parallel(n_jobs=1)]: Done   1 out of   1 | elapsed:    0.0s remaining:    0.0s\n",
      "[Parallel(n_jobs=1)]: Done   1 out of   1 | elapsed:    0.0s finished\n",
      "[Parallel(n_jobs=1)]: Using backend SequentialBackend with 1 concurrent workers.\n"
     ]
    },
    {
     "name": "stdout",
     "output_type": "stream",
     "text": [
      "Building estimator 2 of 5 for this parallel run (total 5)...\n",
      "Building estimator 3 of 5 for this parallel run (total 5)...\n",
      "Building estimator 4 of 5 for this parallel run (total 5)...\n",
      "Building estimator 5 of 5 for this parallel run (total 5)...\n"
     ]
    },
    {
     "name": "stderr",
     "output_type": "stream",
     "text": [
      "[Parallel(n_jobs=1)]: Done   1 out of   1 | elapsed:    0.4s remaining:    0.0s\n",
      "[Parallel(n_jobs=1)]: Done   1 out of   1 | elapsed:    0.4s finished\n",
      "[Parallel(n_jobs=1)]: Using backend SequentialBackend with 1 concurrent workers.\n",
      "[Parallel(n_jobs=1)]: Done   1 out of   1 | elapsed:    0.0s remaining:    0.0s\n",
      "[Parallel(n_jobs=1)]: Done   1 out of   1 | elapsed:    0.0s finished\n",
      "[Parallel(n_jobs=1)]: Using backend SequentialBackend with 1 concurrent workers.\n",
      "[Parallel(n_jobs=1)]: Done   1 out of   1 | elapsed:    0.0s remaining:    0.0s\n",
      "[Parallel(n_jobs=1)]: Done   1 out of   1 | elapsed:    0.0s finished\n",
      "[Parallel(n_jobs=1)]: Using backend SequentialBackend with 1 concurrent workers.\n"
     ]
    },
    {
     "name": "stdout",
     "output_type": "stream",
     "text": [
      "[CV]  bootstrap=False, max_features=1.0, max_samples=0.6, n_estimators=5, score=(train=0.596, test=0.596), total=   0.5s\n",
      "[CV] bootstrap=False, max_features=1.0, max_samples=0.6, n_estimators=10 \n",
      "Building estimator 1 of 10 for this parallel run (total 10)...\n",
      "Building estimator 2 of 10 for this parallel run (total 10)...\n",
      "Building estimator 3 of 10 for this parallel run (total 10)...\n",
      "Building estimator 4 of 10 for this parallel run (total 10)...\n",
      "Building estimator 5 of 10 for this parallel run (total 10)...\n",
      "Building estimator 6 of 10 for this parallel run (total 10)...\n",
      "Building estimator 7 of 10 for this parallel run (total 10)...\n",
      "Building estimator 8 of 10 for this parallel run (total 10)...\n",
      "Building estimator 9 of 10 for this parallel run (total 10)...\n",
      "Building estimator 10 of 10 for this parallel run (total 10)...\n"
     ]
    },
    {
     "name": "stderr",
     "output_type": "stream",
     "text": [
      "[Parallel(n_jobs=1)]: Done   1 out of   1 | elapsed:    0.8s remaining:    0.0s\n",
      "[Parallel(n_jobs=1)]: Done   1 out of   1 | elapsed:    0.8s finished\n",
      "[Parallel(n_jobs=1)]: Using backend SequentialBackend with 1 concurrent workers.\n",
      "[Parallel(n_jobs=1)]: Done   1 out of   1 | elapsed:    0.0s remaining:    0.0s\n",
      "[Parallel(n_jobs=1)]: Done   1 out of   1 | elapsed:    0.0s finished\n",
      "[Parallel(n_jobs=1)]: Using backend SequentialBackend with 1 concurrent workers.\n",
      "[Parallel(n_jobs=1)]: Done   1 out of   1 | elapsed:    0.0s remaining:    0.0s\n",
      "[Parallel(n_jobs=1)]: Done   1 out of   1 | elapsed:    0.0s finished\n",
      "[Parallel(n_jobs=1)]: Using backend SequentialBackend with 1 concurrent workers.\n"
     ]
    },
    {
     "name": "stdout",
     "output_type": "stream",
     "text": [
      "[CV]  bootstrap=False, max_features=1.0, max_samples=0.6, n_estimators=10, score=(train=0.576, test=0.570), total=   1.0s\n",
      "[CV] bootstrap=False, max_features=1.0, max_samples=0.6, n_estimators=10 \n",
      "Building estimator 1 of 10 for this parallel run (total 10)...\n",
      "Building estimator 2 of 10 for this parallel run (total 10)...\n",
      "Building estimator 3 of 10 for this parallel run (total 10)...\n",
      "Building estimator 4 of 10 for this parallel run (total 10)...\n",
      "Building estimator 5 of 10 for this parallel run (total 10)...\n",
      "Building estimator 6 of 10 for this parallel run (total 10)...\n",
      "Building estimator 7 of 10 for this parallel run (total 10)...\n",
      "Building estimator 8 of 10 for this parallel run (total 10)...\n",
      "Building estimator 9 of 10 for this parallel run (total 10)...\n",
      "Building estimator 10 of 10 for this parallel run (total 10)...\n"
     ]
    },
    {
     "name": "stderr",
     "output_type": "stream",
     "text": [
      "[Parallel(n_jobs=1)]: Done   1 out of   1 | elapsed:    0.8s remaining:    0.0s\n",
      "[Parallel(n_jobs=1)]: Done   1 out of   1 | elapsed:    0.8s finished\n",
      "[Parallel(n_jobs=1)]: Using backend SequentialBackend with 1 concurrent workers.\n",
      "[Parallel(n_jobs=1)]: Done   1 out of   1 | elapsed:    0.0s remaining:    0.0s\n",
      "[Parallel(n_jobs=1)]: Done   1 out of   1 | elapsed:    0.0s finished\n",
      "[Parallel(n_jobs=1)]: Using backend SequentialBackend with 1 concurrent workers.\n",
      "[Parallel(n_jobs=1)]: Done   1 out of   1 | elapsed:    0.0s remaining:    0.0s\n",
      "[Parallel(n_jobs=1)]: Done   1 out of   1 | elapsed:    0.0s finished\n",
      "[Parallel(n_jobs=1)]: Using backend SequentialBackend with 1 concurrent workers.\n"
     ]
    },
    {
     "name": "stdout",
     "output_type": "stream",
     "text": [
      "[CV]  bootstrap=False, max_features=1.0, max_samples=0.6, n_estimators=10, score=(train=0.573, test=0.571), total=   1.0s\n",
      "[CV] bootstrap=False, max_features=1.0, max_samples=0.6, n_estimators=10 \n",
      "Building estimator 1 of 10 for this parallel run (total 10)...\n",
      "Building estimator 2 of 10 for this parallel run (total 10)...\n",
      "Building estimator 3 of 10 for this parallel run (total 10)...\n",
      "Building estimator 4 of 10 for this parallel run (total 10)...\n",
      "Building estimator 5 of 10 for this parallel run (total 10)...\n",
      "Building estimator 6 of 10 for this parallel run (total 10)...\n",
      "Building estimator 7 of 10 for this parallel run (total 10)...\n",
      "Building estimator 8 of 10 for this parallel run (total 10)...\n",
      "Building estimator 9 of 10 for this parallel run (total 10)...\n",
      "Building estimator 10 of 10 for this parallel run (total 10)...\n"
     ]
    },
    {
     "name": "stderr",
     "output_type": "stream",
     "text": [
      "[Parallel(n_jobs=1)]: Done   1 out of   1 | elapsed:    0.9s remaining:    0.0s\n",
      "[Parallel(n_jobs=1)]: Done   1 out of   1 | elapsed:    0.9s finished\n",
      "[Parallel(n_jobs=1)]: Using backend SequentialBackend with 1 concurrent workers.\n",
      "[Parallel(n_jobs=1)]: Done   1 out of   1 | elapsed:    0.0s remaining:    0.0s\n",
      "[Parallel(n_jobs=1)]: Done   1 out of   1 | elapsed:    0.0s finished\n",
      "[Parallel(n_jobs=1)]: Using backend SequentialBackend with 1 concurrent workers.\n",
      "[Parallel(n_jobs=1)]: Done   1 out of   1 | elapsed:    0.0s remaining:    0.0s\n",
      "[Parallel(n_jobs=1)]: Done   1 out of   1 | elapsed:    0.0s finished\n",
      "[Parallel(n_jobs=1)]: Using backend SequentialBackend with 1 concurrent workers.\n"
     ]
    },
    {
     "name": "stdout",
     "output_type": "stream",
     "text": [
      "[CV]  bootstrap=False, max_features=1.0, max_samples=0.6, n_estimators=10, score=(train=0.584, test=0.584), total=   1.0s\n",
      "[CV] bootstrap=False, max_features=1.0, max_samples=0.6, n_estimators=15 \n",
      "Building estimator 1 of 15 for this parallel run (total 15)...\n",
      "Building estimator 2 of 15 for this parallel run (total 15)...\n",
      "Building estimator 3 of 15 for this parallel run (total 15)...\n",
      "Building estimator 4 of 15 for this parallel run (total 15)...\n",
      "Building estimator 5 of 15 for this parallel run (total 15)...\n",
      "Building estimator 6 of 15 for this parallel run (total 15)...\n",
      "Building estimator 7 of 15 for this parallel run (total 15)...\n",
      "Building estimator 8 of 15 for this parallel run (total 15)...\n",
      "Building estimator 9 of 15 for this parallel run (total 15)...\n",
      "Building estimator 10 of 15 for this parallel run (total 15)...\n",
      "Building estimator 11 of 15 for this parallel run (total 15)...\n",
      "Building estimator 12 of 15 for this parallel run (total 15)...\n",
      "Building estimator 13 of 15 for this parallel run (total 15)...\n",
      "Building estimator 14 of 15 for this parallel run (total 15)...\n",
      "Building estimator 15 of 15 for this parallel run (total 15)...\n"
     ]
    },
    {
     "name": "stderr",
     "output_type": "stream",
     "text": [
      "[Parallel(n_jobs=1)]: Done   1 out of   1 | elapsed:    1.3s remaining:    0.0s\n",
      "[Parallel(n_jobs=1)]: Done   1 out of   1 | elapsed:    1.3s finished\n",
      "[Parallel(n_jobs=1)]: Using backend SequentialBackend with 1 concurrent workers.\n",
      "[Parallel(n_jobs=1)]: Done   1 out of   1 | elapsed:    0.0s remaining:    0.0s\n",
      "[Parallel(n_jobs=1)]: Done   1 out of   1 | elapsed:    0.0s finished\n",
      "[Parallel(n_jobs=1)]: Using backend SequentialBackend with 1 concurrent workers.\n",
      "[Parallel(n_jobs=1)]: Done   1 out of   1 | elapsed:    0.0s remaining:    0.0s\n",
      "[Parallel(n_jobs=1)]: Done   1 out of   1 | elapsed:    0.0s finished\n",
      "[Parallel(n_jobs=1)]: Using backend SequentialBackend with 1 concurrent workers.\n"
     ]
    },
    {
     "name": "stdout",
     "output_type": "stream",
     "text": [
      "[CV]  bootstrap=False, max_features=1.0, max_samples=0.6, n_estimators=15, score=(train=0.577, test=0.571), total=   1.4s\n",
      "[CV] bootstrap=False, max_features=1.0, max_samples=0.6, n_estimators=15 \n",
      "Building estimator 1 of 15 for this parallel run (total 15)...\n",
      "Building estimator 2 of 15 for this parallel run (total 15)...\n",
      "Building estimator 3 of 15 for this parallel run (total 15)...\n",
      "Building estimator 4 of 15 for this parallel run (total 15)...\n",
      "Building estimator 5 of 15 for this parallel run (total 15)...\n",
      "Building estimator 6 of 15 for this parallel run (total 15)...\n",
      "Building estimator 7 of 15 for this parallel run (total 15)...\n",
      "Building estimator 8 of 15 for this parallel run (total 15)...\n",
      "Building estimator 9 of 15 for this parallel run (total 15)...\n",
      "Building estimator 10 of 15 for this parallel run (total 15)...\n",
      "Building estimator 11 of 15 for this parallel run (total 15)...\n",
      "Building estimator 12 of 15 for this parallel run (total 15)...\n",
      "Building estimator 13 of 15 for this parallel run (total 15)...\n",
      "Building estimator 14 of 15 for this parallel run (total 15)...\n",
      "Building estimator 15 of 15 for this parallel run (total 15)...\n"
     ]
    },
    {
     "name": "stderr",
     "output_type": "stream",
     "text": [
      "[Parallel(n_jobs=1)]: Done   1 out of   1 | elapsed:    1.2s remaining:    0.0s\n",
      "[Parallel(n_jobs=1)]: Done   1 out of   1 | elapsed:    1.2s finished\n",
      "[Parallel(n_jobs=1)]: Using backend SequentialBackend with 1 concurrent workers.\n",
      "[Parallel(n_jobs=1)]: Done   1 out of   1 | elapsed:    0.0s remaining:    0.0s\n",
      "[Parallel(n_jobs=1)]: Done   1 out of   1 | elapsed:    0.0s finished\n",
      "[Parallel(n_jobs=1)]: Using backend SequentialBackend with 1 concurrent workers.\n",
      "[Parallel(n_jobs=1)]: Done   1 out of   1 | elapsed:    0.0s remaining:    0.0s\n",
      "[Parallel(n_jobs=1)]: Done   1 out of   1 | elapsed:    0.0s finished\n",
      "[Parallel(n_jobs=1)]: Using backend SequentialBackend with 1 concurrent workers.\n"
     ]
    },
    {
     "name": "stdout",
     "output_type": "stream",
     "text": [
      "[CV]  bootstrap=False, max_features=1.0, max_samples=0.6, n_estimators=15, score=(train=0.573, test=0.571), total=   1.4s\n",
      "[CV] bootstrap=False, max_features=1.0, max_samples=0.6, n_estimators=15 \n",
      "Building estimator 1 of 15 for this parallel run (total 15)...\n",
      "Building estimator 2 of 15 for this parallel run (total 15)...\n",
      "Building estimator 3 of 15 for this parallel run (total 15)...\n",
      "Building estimator 4 of 15 for this parallel run (total 15)...\n",
      "Building estimator 5 of 15 for this parallel run (total 15)...\n",
      "Building estimator 6 of 15 for this parallel run (total 15)...\n",
      "Building estimator 7 of 15 for this parallel run (total 15)...\n",
      "Building estimator 8 of 15 for this parallel run (total 15)...\n",
      "Building estimator 9 of 15 for this parallel run (total 15)...\n",
      "Building estimator 10 of 15 for this parallel run (total 15)...\n",
      "Building estimator 11 of 15 for this parallel run (total 15)...\n",
      "Building estimator 12 of 15 for this parallel run (total 15)...\n",
      "Building estimator 13 of 15 for this parallel run (total 15)...\n",
      "Building estimator 14 of 15 for this parallel run (total 15)...\n",
      "Building estimator 15 of 15 for this parallel run (total 15)...\n"
     ]
    },
    {
     "name": "stderr",
     "output_type": "stream",
     "text": [
      "[Parallel(n_jobs=1)]: Done   1 out of   1 | elapsed:    1.3s remaining:    0.0s\n",
      "[Parallel(n_jobs=1)]: Done   1 out of   1 | elapsed:    1.3s finished\n",
      "[Parallel(n_jobs=1)]: Using backend SequentialBackend with 1 concurrent workers.\n",
      "[Parallel(n_jobs=1)]: Done   1 out of   1 | elapsed:    0.0s remaining:    0.0s\n",
      "[Parallel(n_jobs=1)]: Done   1 out of   1 | elapsed:    0.0s finished\n",
      "[Parallel(n_jobs=1)]: Using backend SequentialBackend with 1 concurrent workers.\n",
      "[Parallel(n_jobs=1)]: Done   1 out of   1 | elapsed:    0.0s remaining:    0.0s\n",
      "[Parallel(n_jobs=1)]: Done   1 out of   1 | elapsed:    0.0s finished\n",
      "[Parallel(n_jobs=1)]: Using backend SequentialBackend with 1 concurrent workers.\n"
     ]
    },
    {
     "name": "stdout",
     "output_type": "stream",
     "text": [
      "[CV]  bootstrap=False, max_features=1.0, max_samples=0.6, n_estimators=15, score=(train=0.585, test=0.586), total=   1.5s\n",
      "[CV] bootstrap=False, max_features=1.0, max_samples=0.9, n_estimators=5 \n",
      "Building estimator 1 of 5 for this parallel run (total 5)...\n",
      "Building estimator 2 of 5 for this parallel run (total 5)...\n",
      "Building estimator 3 of 5 for this parallel run (total 5)...\n",
      "Building estimator 4 of 5 for this parallel run (total 5)...\n",
      "Building estimator 5 of 5 for this parallel run (total 5)...\n"
     ]
    },
    {
     "name": "stderr",
     "output_type": "stream",
     "text": [
      "[Parallel(n_jobs=1)]: Done   1 out of   1 | elapsed:    0.6s remaining:    0.0s\n",
      "[Parallel(n_jobs=1)]: Done   1 out of   1 | elapsed:    0.6s finished\n",
      "[Parallel(n_jobs=1)]: Using backend SequentialBackend with 1 concurrent workers.\n",
      "[Parallel(n_jobs=1)]: Done   1 out of   1 | elapsed:    0.0s remaining:    0.0s\n",
      "[Parallel(n_jobs=1)]: Done   1 out of   1 | elapsed:    0.0s finished\n",
      "[Parallel(n_jobs=1)]: Using backend SequentialBackend with 1 concurrent workers.\n",
      "[Parallel(n_jobs=1)]: Done   1 out of   1 | elapsed:    0.0s remaining:    0.0s\n",
      "[Parallel(n_jobs=1)]: Done   1 out of   1 | elapsed:    0.0s finished\n",
      "[Parallel(n_jobs=1)]: Using backend SequentialBackend with 1 concurrent workers.\n"
     ]
    },
    {
     "name": "stdout",
     "output_type": "stream",
     "text": [
      "[CV]  bootstrap=False, max_features=1.0, max_samples=0.9, n_estimators=5, score=(train=0.590, test=0.583), total=   0.8s\n",
      "[CV] bootstrap=False, max_features=1.0, max_samples=0.9, n_estimators=5 \n",
      "Building estimator 1 of 5 for this parallel run (total 5)...\n",
      "Building estimator 2 of 5 for this parallel run (total 5)...\n",
      "Building estimator 3 of 5 for this parallel run (total 5)...\n",
      "Building estimator 4 of 5 for this parallel run (total 5)...\n",
      "Building estimator 5 of 5 for this parallel run (total 5)...\n"
     ]
    },
    {
     "name": "stderr",
     "output_type": "stream",
     "text": [
      "[Parallel(n_jobs=1)]: Done   1 out of   1 | elapsed:    0.5s remaining:    0.0s\n",
      "[Parallel(n_jobs=1)]: Done   1 out of   1 | elapsed:    0.5s finished\n",
      "[Parallel(n_jobs=1)]: Using backend SequentialBackend with 1 concurrent workers.\n",
      "[Parallel(n_jobs=1)]: Done   1 out of   1 | elapsed:    0.0s remaining:    0.0s\n",
      "[Parallel(n_jobs=1)]: Done   1 out of   1 | elapsed:    0.0s finished\n",
      "[Parallel(n_jobs=1)]: Using backend SequentialBackend with 1 concurrent workers.\n",
      "[Parallel(n_jobs=1)]: Done   1 out of   1 | elapsed:    0.0s remaining:    0.0s\n",
      "[Parallel(n_jobs=1)]: Done   1 out of   1 | elapsed:    0.0s finished\n",
      "[Parallel(n_jobs=1)]: Using backend SequentialBackend with 1 concurrent workers.\n"
     ]
    },
    {
     "name": "stdout",
     "output_type": "stream",
     "text": [
      "[CV]  bootstrap=False, max_features=1.0, max_samples=0.9, n_estimators=5, score=(train=0.565, test=0.561), total=   0.7s\n",
      "[CV] bootstrap=False, max_features=1.0, max_samples=0.9, n_estimators=5 \n",
      "Building estimator 1 of 5 for this parallel run (total 5)...\n",
      "Building estimator 2 of 5 for this parallel run (total 5)...\n",
      "Building estimator 3 of 5 for this parallel run (total 5)...\n",
      "Building estimator 4 of 5 for this parallel run (total 5)...\n",
      "Building estimator 5 of 5 for this parallel run (total 5)...\n",
      "[CV]  bootstrap=False, max_features=1.0, max_samples=0.9, n_estimators=5, score=(train=0.580, test=0.581), total=   0.7s\n",
      "[CV] bootstrap=False, max_features=1.0, max_samples=0.9, n_estimators=10 \n"
     ]
    },
    {
     "name": "stderr",
     "output_type": "stream",
     "text": [
      "[Parallel(n_jobs=1)]: Done   1 out of   1 | elapsed:    0.5s remaining:    0.0s\n",
      "[Parallel(n_jobs=1)]: Done   1 out of   1 | elapsed:    0.5s finished\n",
      "[Parallel(n_jobs=1)]: Using backend SequentialBackend with 1 concurrent workers.\n",
      "[Parallel(n_jobs=1)]: Done   1 out of   1 | elapsed:    0.0s remaining:    0.0s\n",
      "[Parallel(n_jobs=1)]: Done   1 out of   1 | elapsed:    0.0s finished\n",
      "[Parallel(n_jobs=1)]: Using backend SequentialBackend with 1 concurrent workers.\n",
      "[Parallel(n_jobs=1)]: Done   1 out of   1 | elapsed:    0.0s remaining:    0.0s\n",
      "[Parallel(n_jobs=1)]: Done   1 out of   1 | elapsed:    0.0s finished\n",
      "[Parallel(n_jobs=1)]: Using backend SequentialBackend with 1 concurrent workers.\n"
     ]
    },
    {
     "name": "stdout",
     "output_type": "stream",
     "text": [
      "Building estimator 1 of 10 for this parallel run (total 10)...\n",
      "Building estimator 2 of 10 for this parallel run (total 10)...\n",
      "Building estimator 3 of 10 for this parallel run (total 10)...\n",
      "Building estimator 4 of 10 for this parallel run (total 10)...\n",
      "Building estimator 5 of 10 for this parallel run (total 10)...\n",
      "Building estimator 6 of 10 for this parallel run (total 10)...\n",
      "Building estimator 7 of 10 for this parallel run (total 10)...\n",
      "Building estimator 8 of 10 for this parallel run (total 10)...\n",
      "Building estimator 9 of 10 for this parallel run (total 10)...\n",
      "Building estimator 10 of 10 for this parallel run (total 10)...\n"
     ]
    },
    {
     "name": "stderr",
     "output_type": "stream",
     "text": [
      "[Parallel(n_jobs=1)]: Done   1 out of   1 | elapsed:    1.1s remaining:    0.0s\n",
      "[Parallel(n_jobs=1)]: Done   1 out of   1 | elapsed:    1.1s finished\n",
      "[Parallel(n_jobs=1)]: Using backend SequentialBackend with 1 concurrent workers.\n",
      "[Parallel(n_jobs=1)]: Done   1 out of   1 | elapsed:    0.0s remaining:    0.0s\n",
      "[Parallel(n_jobs=1)]: Done   1 out of   1 | elapsed:    0.0s finished\n",
      "[Parallel(n_jobs=1)]: Using backend SequentialBackend with 1 concurrent workers.\n",
      "[Parallel(n_jobs=1)]: Done   1 out of   1 | elapsed:    0.0s remaining:    0.0s\n",
      "[Parallel(n_jobs=1)]: Done   1 out of   1 | elapsed:    0.0s finished\n",
      "[Parallel(n_jobs=1)]: Using backend SequentialBackend with 1 concurrent workers.\n"
     ]
    },
    {
     "name": "stdout",
     "output_type": "stream",
     "text": [
      "[CV]  bootstrap=False, max_features=1.0, max_samples=0.9, n_estimators=10, score=(train=0.582, test=0.575), total=   1.3s\n",
      "[CV] bootstrap=False, max_features=1.0, max_samples=0.9, n_estimators=10 \n",
      "Building estimator 1 of 10 for this parallel run (total 10)...\n",
      "Building estimator 2 of 10 for this parallel run (total 10)...\n",
      "Building estimator 3 of 10 for this parallel run (total 10)...\n",
      "Building estimator 4 of 10 for this parallel run (total 10)...\n",
      "Building estimator 5 of 10 for this parallel run (total 10)...\n",
      "Building estimator 6 of 10 for this parallel run (total 10)...\n",
      "Building estimator 7 of 10 for this parallel run (total 10)...\n",
      "Building estimator 8 of 10 for this parallel run (total 10)...\n",
      "Building estimator 9 of 10 for this parallel run (total 10)...\n",
      "Building estimator 10 of 10 for this parallel run (total 10)...\n"
     ]
    },
    {
     "name": "stderr",
     "output_type": "stream",
     "text": [
      "[Parallel(n_jobs=1)]: Done   1 out of   1 | elapsed:    1.2s remaining:    0.0s\n",
      "[Parallel(n_jobs=1)]: Done   1 out of   1 | elapsed:    1.2s finished\n",
      "[Parallel(n_jobs=1)]: Using backend SequentialBackend with 1 concurrent workers.\n",
      "[Parallel(n_jobs=1)]: Done   1 out of   1 | elapsed:    0.0s remaining:    0.0s\n",
      "[Parallel(n_jobs=1)]: Done   1 out of   1 | elapsed:    0.0s finished\n",
      "[Parallel(n_jobs=1)]: Using backend SequentialBackend with 1 concurrent workers.\n",
      "[Parallel(n_jobs=1)]: Done   1 out of   1 | elapsed:    0.0s remaining:    0.0s\n",
      "[Parallel(n_jobs=1)]: Done   1 out of   1 | elapsed:    0.0s finished\n",
      "[Parallel(n_jobs=1)]: Using backend SequentialBackend with 1 concurrent workers.\n"
     ]
    },
    {
     "name": "stdout",
     "output_type": "stream",
     "text": [
      "[CV]  bootstrap=False, max_features=1.0, max_samples=0.9, n_estimators=10, score=(train=0.564, test=0.560), total=   1.4s\n",
      "[CV] bootstrap=False, max_features=1.0, max_samples=0.9, n_estimators=10 \n",
      "Building estimator 1 of 10 for this parallel run (total 10)...\n",
      "Building estimator 2 of 10 for this parallel run (total 10)...\n",
      "Building estimator 3 of 10 for this parallel run (total 10)...\n",
      "Building estimator 4 of 10 for this parallel run (total 10)...\n",
      "Building estimator 5 of 10 for this parallel run (total 10)...\n",
      "Building estimator 6 of 10 for this parallel run (total 10)...\n",
      "Building estimator 7 of 10 for this parallel run (total 10)...\n",
      "Building estimator 8 of 10 for this parallel run (total 10)...\n",
      "Building estimator 9 of 10 for this parallel run (total 10)...\n",
      "Building estimator 10 of 10 for this parallel run (total 10)...\n"
     ]
    },
    {
     "name": "stderr",
     "output_type": "stream",
     "text": [
      "[Parallel(n_jobs=1)]: Done   1 out of   1 | elapsed:    1.1s remaining:    0.0s\n",
      "[Parallel(n_jobs=1)]: Done   1 out of   1 | elapsed:    1.1s finished\n",
      "[Parallel(n_jobs=1)]: Using backend SequentialBackend with 1 concurrent workers.\n",
      "[Parallel(n_jobs=1)]: Done   1 out of   1 | elapsed:    0.0s remaining:    0.0s\n",
      "[Parallel(n_jobs=1)]: Done   1 out of   1 | elapsed:    0.0s finished\n",
      "[Parallel(n_jobs=1)]: Using backend SequentialBackend with 1 concurrent workers.\n",
      "[Parallel(n_jobs=1)]: Done   1 out of   1 | elapsed:    0.0s remaining:    0.0s\n",
      "[Parallel(n_jobs=1)]: Done   1 out of   1 | elapsed:    0.0s finished\n",
      "[Parallel(n_jobs=1)]: Using backend SequentialBackend with 1 concurrent workers.\n"
     ]
    },
    {
     "name": "stdout",
     "output_type": "stream",
     "text": [
      "[CV]  bootstrap=False, max_features=1.0, max_samples=0.9, n_estimators=10, score=(train=0.583, test=0.583), total=   1.3s\n",
      "[CV] bootstrap=False, max_features=1.0, max_samples=0.9, n_estimators=15 \n",
      "Building estimator 1 of 15 for this parallel run (total 15)...\n",
      "Building estimator 2 of 15 for this parallel run (total 15)...\n",
      "Building estimator 3 of 15 for this parallel run (total 15)...\n",
      "Building estimator 4 of 15 for this parallel run (total 15)...\n",
      "Building estimator 5 of 15 for this parallel run (total 15)...\n",
      "Building estimator 6 of 15 for this parallel run (total 15)...\n",
      "Building estimator 7 of 15 for this parallel run (total 15)...\n",
      "Building estimator 8 of 15 for this parallel run (total 15)...\n",
      "Building estimator 9 of 15 for this parallel run (total 15)...\n",
      "Building estimator 10 of 15 for this parallel run (total 15)...\n",
      "Building estimator 11 of 15 for this parallel run (total 15)...\n",
      "Building estimator 12 of 15 for this parallel run (total 15)...\n",
      "Building estimator 13 of 15 for this parallel run (total 15)...\n",
      "Building estimator 14 of 15 for this parallel run (total 15)...\n",
      "Building estimator 15 of 15 for this parallel run (total 15)...\n"
     ]
    },
    {
     "name": "stderr",
     "output_type": "stream",
     "text": [
      "[Parallel(n_jobs=1)]: Done   1 out of   1 | elapsed:    1.9s remaining:    0.0s\n",
      "[Parallel(n_jobs=1)]: Done   1 out of   1 | elapsed:    1.9s finished\n",
      "[Parallel(n_jobs=1)]: Using backend SequentialBackend with 1 concurrent workers.\n",
      "[Parallel(n_jobs=1)]: Done   1 out of   1 | elapsed:    0.0s remaining:    0.0s\n",
      "[Parallel(n_jobs=1)]: Done   1 out of   1 | elapsed:    0.0s finished\n",
      "[Parallel(n_jobs=1)]: Using backend SequentialBackend with 1 concurrent workers.\n",
      "[Parallel(n_jobs=1)]: Done   1 out of   1 | elapsed:    0.0s remaining:    0.0s\n",
      "[Parallel(n_jobs=1)]: Done   1 out of   1 | elapsed:    0.0s finished\n",
      "[Parallel(n_jobs=1)]: Using backend SequentialBackend with 1 concurrent workers.\n"
     ]
    },
    {
     "name": "stdout",
     "output_type": "stream",
     "text": [
      "[CV]  bootstrap=False, max_features=1.0, max_samples=0.9, n_estimators=15, score=(train=0.582, test=0.576), total=   2.1s\n",
      "[CV] bootstrap=False, max_features=1.0, max_samples=0.9, n_estimators=15 \n",
      "Building estimator 1 of 15 for this parallel run (total 15)...\n",
      "Building estimator 2 of 15 for this parallel run (total 15)...\n",
      "Building estimator 3 of 15 for this parallel run (total 15)...\n",
      "Building estimator 4 of 15 for this parallel run (total 15)...\n",
      "Building estimator 5 of 15 for this parallel run (total 15)...\n",
      "Building estimator 6 of 15 for this parallel run (total 15)...\n",
      "Building estimator 7 of 15 for this parallel run (total 15)...\n",
      "Building estimator 8 of 15 for this parallel run (total 15)...\n",
      "Building estimator 9 of 15 for this parallel run (total 15)...\n",
      "Building estimator 10 of 15 for this parallel run (total 15)...\n",
      "Building estimator 11 of 15 for this parallel run (total 15)...\n",
      "Building estimator 12 of 15 for this parallel run (total 15)...\n",
      "Building estimator 13 of 15 for this parallel run (total 15)...\n",
      "Building estimator 14 of 15 for this parallel run (total 15)...\n",
      "Building estimator 15 of 15 for this parallel run (total 15)...\n"
     ]
    },
    {
     "name": "stderr",
     "output_type": "stream",
     "text": [
      "[Parallel(n_jobs=1)]: Done   1 out of   1 | elapsed:    1.8s remaining:    0.0s\n",
      "[Parallel(n_jobs=1)]: Done   1 out of   1 | elapsed:    1.8s finished\n",
      "[Parallel(n_jobs=1)]: Using backend SequentialBackend with 1 concurrent workers.\n",
      "[Parallel(n_jobs=1)]: Done   1 out of   1 | elapsed:    0.0s remaining:    0.0s\n",
      "[Parallel(n_jobs=1)]: Done   1 out of   1 | elapsed:    0.0s finished\n",
      "[Parallel(n_jobs=1)]: Using backend SequentialBackend with 1 concurrent workers.\n",
      "[Parallel(n_jobs=1)]: Done   1 out of   1 | elapsed:    0.0s remaining:    0.0s\n",
      "[Parallel(n_jobs=1)]: Done   1 out of   1 | elapsed:    0.0s finished\n",
      "[Parallel(n_jobs=1)]: Using backend SequentialBackend with 1 concurrent workers.\n"
     ]
    },
    {
     "name": "stdout",
     "output_type": "stream",
     "text": [
      "[CV]  bootstrap=False, max_features=1.0, max_samples=0.9, n_estimators=15, score=(train=0.564, test=0.560), total=   1.9s\n",
      "[CV] bootstrap=False, max_features=1.0, max_samples=0.9, n_estimators=15 \n",
      "Building estimator 1 of 15 for this parallel run (total 15)...\n",
      "Building estimator 2 of 15 for this parallel run (total 15)...\n",
      "Building estimator 3 of 15 for this parallel run (total 15)...\n",
      "Building estimator 4 of 15 for this parallel run (total 15)...\n",
      "Building estimator 5 of 15 for this parallel run (total 15)...\n",
      "Building estimator 6 of 15 for this parallel run (total 15)...\n",
      "Building estimator 7 of 15 for this parallel run (total 15)...\n",
      "Building estimator 8 of 15 for this parallel run (total 15)...\n",
      "Building estimator 9 of 15 for this parallel run (total 15)...\n",
      "Building estimator 10 of 15 for this parallel run (total 15)...\n",
      "Building estimator 11 of 15 for this parallel run (total 15)...\n",
      "Building estimator 12 of 15 for this parallel run (total 15)...\n",
      "Building estimator 13 of 15 for this parallel run (total 15)...\n",
      "Building estimator 14 of 15 for this parallel run (total 15)...\n",
      "Building estimator 15 of 15 for this parallel run (total 15)...\n"
     ]
    },
    {
     "name": "stderr",
     "output_type": "stream",
     "text": [
      "[Parallel(n_jobs=1)]: Done   1 out of   1 | elapsed:    1.8s remaining:    0.0s\n",
      "[Parallel(n_jobs=1)]: Done   1 out of   1 | elapsed:    1.8s finished\n",
      "[Parallel(n_jobs=1)]: Using backend SequentialBackend with 1 concurrent workers.\n",
      "[Parallel(n_jobs=1)]: Done   1 out of   1 | elapsed:    0.0s remaining:    0.0s\n",
      "[Parallel(n_jobs=1)]: Done   1 out of   1 | elapsed:    0.0s finished\n",
      "[Parallel(n_jobs=1)]: Using backend SequentialBackend with 1 concurrent workers.\n",
      "[Parallel(n_jobs=1)]: Done   1 out of   1 | elapsed:    0.0s remaining:    0.0s\n",
      "[Parallel(n_jobs=1)]: Done   1 out of   1 | elapsed:    0.0s finished\n",
      "[Parallel(n_jobs=1)]: Done  54 out of  54 | elapsed:   52.0s finished\n",
      "[Parallel(n_jobs=1)]: Using backend SequentialBackend with 1 concurrent workers.\n"
     ]
    },
    {
     "name": "stdout",
     "output_type": "stream",
     "text": [
      "[CV]  bootstrap=False, max_features=1.0, max_samples=0.9, n_estimators=15, score=(train=0.583, test=0.583), total=   2.0s\n",
      "Building estimator 1 of 5 for this parallel run (total 5)...\n",
      "Building estimator 2 of 5 for this parallel run (total 5)...\n",
      "Building estimator 3 of 5 for this parallel run (total 5)...\n",
      "Building estimator 4 of 5 for this parallel run (total 5)...\n",
      "Building estimator 5 of 5 for this parallel run (total 5)...\n"
     ]
    },
    {
     "name": "stderr",
     "output_type": "stream",
     "text": [
      "[Parallel(n_jobs=1)]: Done   1 out of   1 | elapsed:    0.4s remaining:    0.0s\n",
      "[Parallel(n_jobs=1)]: Done   1 out of   1 | elapsed:    0.4s finished\n"
     ]
    },
    {
     "data": {
      "text/plain": [
       "GridSearchCV(cv=3, error_score='raise-deprecating',\n",
       "             estimator=BaggingClassifier(base_estimator=DecisionTreeClassifier(class_weight='balanced',\n",
       "                                                                               criterion='gini',\n",
       "                                                                               max_depth=4,\n",
       "                                                                               max_features=None,\n",
       "                                                                               max_leaf_nodes=None,\n",
       "                                                                               min_impurity_decrease=0.0,\n",
       "                                                                               min_impurity_split=None,\n",
       "                                                                               min_samples_leaf=1,\n",
       "                                                                               min_samples_split=2,\n",
       "                                                                               min_weight_fraction_leaf=0.0,\n",
       "                                                                               presort=False,\n",
       "                                                                               random_stat...\n",
       "                                         bootstrap_features=False,\n",
       "                                         max_features=1.0, max_samples=1.0,\n",
       "                                         n_estimators=10, n_jobs=None,\n",
       "                                         oob_score=False, random_state=1,\n",
       "                                         verbose=10, warm_start=False),\n",
       "             iid='warn', n_jobs=None,\n",
       "             param_grid={'bootstrap': [True, False], 'max_features': [1.0],\n",
       "                         'max_samples': [0.3, 0.6, 0.9],\n",
       "                         'n_estimators': [5, 10, 15]},\n",
       "             pre_dispatch='2*n_jobs', refit=True, return_train_score=True,\n",
       "             scoring='f1_macro', verbose=10)"
      ]
     },
     "execution_count": 224,
     "metadata": {},
     "output_type": "execute_result"
    }
   ],
   "source": [
    "# Bagging Classifier\n",
    "# build decision tree object\n",
    "from sklearn.tree import DecisionTreeClassifier\n",
    "CART = DecisionTreeClassifier(class_weight='balanced', max_depth = 4)\n",
    "# build bagging object\n",
    "from sklearn.ensemble import BaggingClassifier\n",
    "Bagging = BaggingClassifier(base_estimator = CART, \n",
    "                           verbose = 10, oob_score = False,\n",
    "                            random_state = 1)\n",
    "# build grid search parameters\n",
    "parms = {'n_estimators' : [5,10,15],\n",
    "          'bootstrap':[True,False],\n",
    "          'max_samples':[0.3,0.6,0.9],\n",
    "          'max_features':[1.0]\n",
    "        }\n",
    "# grid search\n",
    "from sklearn.model_selection import GridSearchCV\n",
    "CV = GridSearchCV(estimator = Bagging,param_grid = parms, scoring = 'f1_macro',\n",
    "                  cv=3, refit=True,return_train_score = True, verbose=10)\n",
    "CV.fit(X_train_cont,Y_train.target)"
   ]
  },
  {
   "cell_type": "code",
   "execution_count": 225,
   "metadata": {},
   "outputs": [
    {
     "name": "stdout",
     "output_type": "stream",
     "text": [
      "BaggingClassifier(base_estimator=DecisionTreeClassifier(class_weight='balanced',\n",
      "                                                        criterion='gini',\n",
      "                                                        max_depth=4,\n",
      "                                                        max_features=None,\n",
      "                                                        max_leaf_nodes=None,\n",
      "                                                        min_impurity_decrease=0.0,\n",
      "                                                        min_impurity_split=None,\n",
      "                                                        min_samples_leaf=1,\n",
      "                                                        min_samples_split=2,\n",
      "                                                        min_weight_fraction_leaf=0.0,\n",
      "                                                        presort=False,\n",
      "                                                        random_state=None,\n",
      "                                                        splitter='best'),\n",
      "                  bootstrap=True, bootstrap_features=False, max_features=1.0,\n",
      "                  max_samples=0.3, n_estimators=5, n_jobs=None, oob_score=False,\n",
      "                  random_state=1, verbose=10, warm_start=False)\n"
     ]
    }
   ],
   "source": [
    "print(CV.best_estimator_)"
   ]
  },
  {
   "cell_type": "code",
   "execution_count": 226,
   "metadata": {},
   "outputs": [],
   "source": [
    "#print(CV.best_estimator_.feature_importances_)"
   ]
  },
  {
   "cell_type": "code",
   "execution_count": 227,
   "metadata": {},
   "outputs": [
    {
     "name": "stdout",
     "output_type": "stream",
     "text": [
      "[0 1 0 0 1 0 0 1 0 0]\n"
     ]
    },
    {
     "name": "stderr",
     "output_type": "stream",
     "text": [
      "[Parallel(n_jobs=1)]: Using backend SequentialBackend with 1 concurrent workers.\n",
      "[Parallel(n_jobs=1)]: Done   1 out of   1 | elapsed:    0.0s remaining:    0.0s\n",
      "[Parallel(n_jobs=1)]: Done   1 out of   1 | elapsed:    0.0s finished\n"
     ]
    }
   ],
   "source": [
    "# Preidct on Test data and check the confusion matrix\n",
    "predictTest = CV.predict(X_test_cont)\n",
    "print(predictTest[0:10])"
   ]
  },
  {
   "cell_type": "code",
   "execution_count": 228,
   "metadata": {},
   "outputs": [
    {
     "name": "stdout",
     "output_type": "stream",
     "text": [
      "[[0.70469904 0.29530096]\n",
      " [0.36289677 0.63710323]\n",
      " [0.53054875 0.46945125]\n",
      " [0.70469904 0.29530096]\n",
      " [0.32566062 0.67433938]\n",
      " [0.53054875 0.46945125]\n",
      " [0.65612121 0.34387879]\n",
      " [0.49630827 0.50369173]\n",
      " [0.70469904 0.29530096]\n",
      " [0.56300561 0.43699439]]\n"
     ]
    },
    {
     "name": "stderr",
     "output_type": "stream",
     "text": [
      "[Parallel(n_jobs=1)]: Using backend SequentialBackend with 1 concurrent workers.\n",
      "[Parallel(n_jobs=1)]: Done   1 out of   1 | elapsed:    0.0s remaining:    0.0s\n",
      "[Parallel(n_jobs=1)]: Done   1 out of   1 | elapsed:    0.0s finished\n"
     ]
    }
   ],
   "source": [
    "predictProb = CV.predict_proba(X_test_cont)\n",
    "print(predictProb[0:10])\n",
    "PProb = pd.DataFrame(predictProb)"
   ]
  },
  {
   "cell_type": "code",
   "execution_count": 229,
   "metadata": {},
   "outputs": [
    {
     "name": "stdout",
     "output_type": "stream",
     "text": [
      "[[ 3622  1830]\n",
      " [ 6707 10706]]\n",
      "              precision    recall  f1-score   support\n",
      "\n",
      "           0       0.35      0.66      0.46      5452\n",
      "           1       0.85      0.61      0.71     17413\n",
      "\n",
      "    accuracy                           0.63     22865\n",
      "   macro avg       0.60      0.64      0.59     22865\n",
      "weighted avg       0.73      0.63      0.65     22865\n",
      "\n"
     ]
    }
   ],
   "source": [
    "# generate confusion matrix\n",
    "# import confusion matrix and classification report\n",
    "from sklearn.metrics import confusion_matrix, classification_report\n",
    "print (confusion_matrix(Y_test,predictTest))\n",
    "print (classification_report(Y_test,predictTest))"
   ]
  },
  {
   "cell_type": "code",
   "execution_count": null,
   "metadata": {},
   "outputs": [],
   "source": []
  },
  {
   "cell_type": "code",
   "execution_count": null,
   "metadata": {},
   "outputs": [],
   "source": []
  },
  {
   "cell_type": "code",
   "execution_count": 230,
   "metadata": {},
   "outputs": [],
   "source": [
    "CVResults = pd.DataFrame(CV.cv_results_)\n",
    "CVResults.to_excel('CVResutls_CART3.xlsx')"
   ]
  },
  {
   "cell_type": "code",
   "execution_count": 231,
   "metadata": {},
   "outputs": [],
   "source": [
    "catX = pd.DataFrame(BNP,columns=impcatcols)\n",
    "contX = pd.DataFrame(BNP,columns=impcontcols)"
   ]
  },
  {
   "cell_type": "code",
   "execution_count": 232,
   "metadata": {},
   "outputs": [
    {
     "name": "stdout",
     "output_type": "stream",
     "text": [
      "(91456, 3)\n",
      "(91456, 1)\n",
      "(22865, 3)\n",
      "(22865, 1)\n",
      "        target\n",
      "110073       1\n",
      "56578        0\n",
      "108549       1\n",
      "107918       1\n",
      "30611        1\n",
      "15734        1\n",
      "56147        0\n",
      "9506         1\n",
      "94349        0\n",
      "99683        1\n"
     ]
    }
   ],
   "source": [
    "# splitting the data into Train and Test\n",
    "#from sklearn.model_selection import train_test_split\n",
    "#X_train, X_test, Y_train, Y_test = train_test_split(contX, depX,\n",
    "#                                                    test_size = 0.20,\n",
    " #                                                   random_state = 0)\n",
    "#random state is used to fix the split\n",
    "print(X_train.shape)\n",
    "print(Y_train.shape)\n",
    "print(X_test.shape)\n",
    "print(Y_test.shape)\n",
    "print(Y_train[0:10])"
   ]
  },
  {
   "cell_type": "code",
   "execution_count": 233,
   "metadata": {},
   "outputs": [
    {
     "ename": "ValueError",
     "evalue": "Shape of passed values is (91456, 3), indices imply (91456, 8)",
     "output_type": "error",
     "traceback": [
      "\u001b[1;31m---------------------------------------------------------------------------\u001b[0m",
      "\u001b[1;31mValueError\u001b[0m                                Traceback (most recent call last)",
      "\u001b[1;32m~\\Anaconda3\\lib\\site-packages\\pandas\\core\\internals\\managers.py\u001b[0m in \u001b[0;36mcreate_block_manager_from_blocks\u001b[1;34m(blocks, axes)\u001b[0m\n\u001b[0;32m   1677\u001b[0m                 blocks = [\n\u001b[1;32m-> 1678\u001b[1;33m                     \u001b[0mmake_block\u001b[0m\u001b[1;33m(\u001b[0m\u001b[0mvalues\u001b[0m\u001b[1;33m=\u001b[0m\u001b[0mblocks\u001b[0m\u001b[1;33m[\u001b[0m\u001b[1;36m0\u001b[0m\u001b[1;33m]\u001b[0m\u001b[1;33m,\u001b[0m \u001b[0mplacement\u001b[0m\u001b[1;33m=\u001b[0m\u001b[0mslice\u001b[0m\u001b[1;33m(\u001b[0m\u001b[1;36m0\u001b[0m\u001b[1;33m,\u001b[0m \u001b[0mlen\u001b[0m\u001b[1;33m(\u001b[0m\u001b[0maxes\u001b[0m\u001b[1;33m[\u001b[0m\u001b[1;36m0\u001b[0m\u001b[1;33m]\u001b[0m\u001b[1;33m)\u001b[0m\u001b[1;33m)\u001b[0m\u001b[1;33m)\u001b[0m\u001b[1;33m\u001b[0m\u001b[1;33m\u001b[0m\u001b[0m\n\u001b[0m\u001b[0;32m   1679\u001b[0m                 ]\n",
      "\u001b[1;32m~\\Anaconda3\\lib\\site-packages\\pandas\\core\\internals\\blocks.py\u001b[0m in \u001b[0;36mmake_block\u001b[1;34m(values, placement, klass, ndim, dtype, fastpath)\u001b[0m\n\u001b[0;32m   3266\u001b[0m \u001b[1;33m\u001b[0m\u001b[0m\n\u001b[1;32m-> 3267\u001b[1;33m     \u001b[1;32mreturn\u001b[0m \u001b[0mklass\u001b[0m\u001b[1;33m(\u001b[0m\u001b[0mvalues\u001b[0m\u001b[1;33m,\u001b[0m \u001b[0mndim\u001b[0m\u001b[1;33m=\u001b[0m\u001b[0mndim\u001b[0m\u001b[1;33m,\u001b[0m \u001b[0mplacement\u001b[0m\u001b[1;33m=\u001b[0m\u001b[0mplacement\u001b[0m\u001b[1;33m)\u001b[0m\u001b[1;33m\u001b[0m\u001b[1;33m\u001b[0m\u001b[0m\n\u001b[0m\u001b[0;32m   3268\u001b[0m \u001b[1;33m\u001b[0m\u001b[0m\n",
      "\u001b[1;32m~\\Anaconda3\\lib\\site-packages\\pandas\\core\\internals\\blocks.py\u001b[0m in \u001b[0;36m__init__\u001b[1;34m(self, values, placement, ndim)\u001b[0m\n\u001b[0;32m    127\u001b[0m                 \u001b[1;34m\"Wrong number of items passed {val}, placement implies \"\u001b[0m\u001b[1;33m\u001b[0m\u001b[1;33m\u001b[0m\u001b[0m\n\u001b[1;32m--> 128\u001b[1;33m                 \u001b[1;34m\"{mgr}\"\u001b[0m\u001b[1;33m.\u001b[0m\u001b[0mformat\u001b[0m\u001b[1;33m(\u001b[0m\u001b[0mval\u001b[0m\u001b[1;33m=\u001b[0m\u001b[0mlen\u001b[0m\u001b[1;33m(\u001b[0m\u001b[0mself\u001b[0m\u001b[1;33m.\u001b[0m\u001b[0mvalues\u001b[0m\u001b[1;33m)\u001b[0m\u001b[1;33m,\u001b[0m \u001b[0mmgr\u001b[0m\u001b[1;33m=\u001b[0m\u001b[0mlen\u001b[0m\u001b[1;33m(\u001b[0m\u001b[0mself\u001b[0m\u001b[1;33m.\u001b[0m\u001b[0mmgr_locs\u001b[0m\u001b[1;33m)\u001b[0m\u001b[1;33m)\u001b[0m\u001b[1;33m\u001b[0m\u001b[1;33m\u001b[0m\u001b[0m\n\u001b[0m\u001b[0;32m    129\u001b[0m             )\n",
      "\u001b[1;31mValueError\u001b[0m: Wrong number of items passed 3, placement implies 8",
      "\nDuring handling of the above exception, another exception occurred:\n",
      "\u001b[1;31mValueError\u001b[0m                                Traceback (most recent call last)",
      "\u001b[1;32m<ipython-input-233-25e00ff73ca0>\u001b[0m in \u001b[0;36m<module>\u001b[1;34m\u001b[0m\n\u001b[0;32m      1\u001b[0m \u001b[1;31m# extract only continuous columns\u001b[0m\u001b[1;33m\u001b[0m\u001b[1;33m\u001b[0m\u001b[1;33m\u001b[0m\u001b[0m\n\u001b[0;32m      2\u001b[0m \u001b[0mContColumns\u001b[0m \u001b[1;33m=\u001b[0m \u001b[0mlist\u001b[0m\u001b[1;33m(\u001b[0m\u001b[0mcontX\u001b[0m\u001b[1;33m)\u001b[0m\u001b[1;33m\u001b[0m\u001b[1;33m\u001b[0m\u001b[0m\n\u001b[1;32m----> 3\u001b[1;33m \u001b[0mX_train_cont\u001b[0m \u001b[1;33m=\u001b[0m \u001b[0mpd\u001b[0m\u001b[1;33m.\u001b[0m\u001b[0mDataFrame\u001b[0m\u001b[1;33m(\u001b[0m\u001b[0mX_train\u001b[0m\u001b[1;33m,\u001b[0m\u001b[0mcolumns\u001b[0m\u001b[1;33m=\u001b[0m\u001b[0mContColumns\u001b[0m\u001b[1;33m)\u001b[0m\u001b[1;33m\u001b[0m\u001b[1;33m\u001b[0m\u001b[0m\n\u001b[0m\u001b[0;32m      4\u001b[0m \u001b[0mprint\u001b[0m\u001b[1;33m(\u001b[0m\u001b[0mX_train_cont\u001b[0m\u001b[1;33m.\u001b[0m\u001b[0mshape\u001b[0m\u001b[1;33m)\u001b[0m\u001b[1;33m\u001b[0m\u001b[1;33m\u001b[0m\u001b[0m\n\u001b[0;32m      5\u001b[0m \u001b[0mX_test_cont\u001b[0m \u001b[1;33m=\u001b[0m \u001b[0mpd\u001b[0m\u001b[1;33m.\u001b[0m\u001b[0mDataFrame\u001b[0m\u001b[1;33m(\u001b[0m\u001b[0mX_test\u001b[0m\u001b[1;33m,\u001b[0m\u001b[0mcolumns\u001b[0m\u001b[1;33m=\u001b[0m\u001b[0mContColumns\u001b[0m\u001b[1;33m)\u001b[0m\u001b[1;33m\u001b[0m\u001b[1;33m\u001b[0m\u001b[0m\n",
      "\u001b[1;32m~\\Anaconda3\\lib\\site-packages\\pandas\\core\\frame.py\u001b[0m in \u001b[0;36m__init__\u001b[1;34m(self, data, index, columns, dtype, copy)\u001b[0m\n\u001b[0;32m    438\u001b[0m                 \u001b[0mmgr\u001b[0m \u001b[1;33m=\u001b[0m \u001b[0minit_dict\u001b[0m\u001b[1;33m(\u001b[0m\u001b[1;33m{\u001b[0m\u001b[0mdata\u001b[0m\u001b[1;33m.\u001b[0m\u001b[0mname\u001b[0m\u001b[1;33m:\u001b[0m \u001b[0mdata\u001b[0m\u001b[1;33m}\u001b[0m\u001b[1;33m,\u001b[0m \u001b[0mindex\u001b[0m\u001b[1;33m,\u001b[0m \u001b[0mcolumns\u001b[0m\u001b[1;33m,\u001b[0m \u001b[0mdtype\u001b[0m\u001b[1;33m=\u001b[0m\u001b[0mdtype\u001b[0m\u001b[1;33m)\u001b[0m\u001b[1;33m\u001b[0m\u001b[1;33m\u001b[0m\u001b[0m\n\u001b[0;32m    439\u001b[0m             \u001b[1;32melse\u001b[0m\u001b[1;33m:\u001b[0m\u001b[1;33m\u001b[0m\u001b[1;33m\u001b[0m\u001b[0m\n\u001b[1;32m--> 440\u001b[1;33m                 \u001b[0mmgr\u001b[0m \u001b[1;33m=\u001b[0m \u001b[0minit_ndarray\u001b[0m\u001b[1;33m(\u001b[0m\u001b[0mdata\u001b[0m\u001b[1;33m,\u001b[0m \u001b[0mindex\u001b[0m\u001b[1;33m,\u001b[0m \u001b[0mcolumns\u001b[0m\u001b[1;33m,\u001b[0m \u001b[0mdtype\u001b[0m\u001b[1;33m=\u001b[0m\u001b[0mdtype\u001b[0m\u001b[1;33m,\u001b[0m \u001b[0mcopy\u001b[0m\u001b[1;33m=\u001b[0m\u001b[0mcopy\u001b[0m\u001b[1;33m)\u001b[0m\u001b[1;33m\u001b[0m\u001b[1;33m\u001b[0m\u001b[0m\n\u001b[0m\u001b[0;32m    441\u001b[0m \u001b[1;33m\u001b[0m\u001b[0m\n\u001b[0;32m    442\u001b[0m         \u001b[1;31m# For data is list-like, or Iterable (will consume into list)\u001b[0m\u001b[1;33m\u001b[0m\u001b[1;33m\u001b[0m\u001b[1;33m\u001b[0m\u001b[0m\n",
      "\u001b[1;32m~\\Anaconda3\\lib\\site-packages\\pandas\\core\\internals\\construction.py\u001b[0m in \u001b[0;36minit_ndarray\u001b[1;34m(values, index, columns, dtype, copy)\u001b[0m\n\u001b[0;32m    211\u001b[0m         \u001b[0mblock_values\u001b[0m \u001b[1;33m=\u001b[0m \u001b[1;33m[\u001b[0m\u001b[0mvalues\u001b[0m\u001b[1;33m]\u001b[0m\u001b[1;33m\u001b[0m\u001b[1;33m\u001b[0m\u001b[0m\n\u001b[0;32m    212\u001b[0m \u001b[1;33m\u001b[0m\u001b[0m\n\u001b[1;32m--> 213\u001b[1;33m     \u001b[1;32mreturn\u001b[0m \u001b[0mcreate_block_manager_from_blocks\u001b[0m\u001b[1;33m(\u001b[0m\u001b[0mblock_values\u001b[0m\u001b[1;33m,\u001b[0m \u001b[1;33m[\u001b[0m\u001b[0mcolumns\u001b[0m\u001b[1;33m,\u001b[0m \u001b[0mindex\u001b[0m\u001b[1;33m]\u001b[0m\u001b[1;33m)\u001b[0m\u001b[1;33m\u001b[0m\u001b[1;33m\u001b[0m\u001b[0m\n\u001b[0m\u001b[0;32m    214\u001b[0m \u001b[1;33m\u001b[0m\u001b[0m\n\u001b[0;32m    215\u001b[0m \u001b[1;33m\u001b[0m\u001b[0m\n",
      "\u001b[1;32m~\\Anaconda3\\lib\\site-packages\\pandas\\core\\internals\\managers.py\u001b[0m in \u001b[0;36mcreate_block_manager_from_blocks\u001b[1;34m(blocks, axes)\u001b[0m\n\u001b[0;32m   1686\u001b[0m         \u001b[0mblocks\u001b[0m \u001b[1;33m=\u001b[0m \u001b[1;33m[\u001b[0m\u001b[0mgetattr\u001b[0m\u001b[1;33m(\u001b[0m\u001b[0mb\u001b[0m\u001b[1;33m,\u001b[0m \u001b[1;34m\"values\"\u001b[0m\u001b[1;33m,\u001b[0m \u001b[0mb\u001b[0m\u001b[1;33m)\u001b[0m \u001b[1;32mfor\u001b[0m \u001b[0mb\u001b[0m \u001b[1;32min\u001b[0m \u001b[0mblocks\u001b[0m\u001b[1;33m]\u001b[0m\u001b[1;33m\u001b[0m\u001b[1;33m\u001b[0m\u001b[0m\n\u001b[0;32m   1687\u001b[0m         \u001b[0mtot_items\u001b[0m \u001b[1;33m=\u001b[0m \u001b[0msum\u001b[0m\u001b[1;33m(\u001b[0m\u001b[0mb\u001b[0m\u001b[1;33m.\u001b[0m\u001b[0mshape\u001b[0m\u001b[1;33m[\u001b[0m\u001b[1;36m0\u001b[0m\u001b[1;33m]\u001b[0m \u001b[1;32mfor\u001b[0m \u001b[0mb\u001b[0m \u001b[1;32min\u001b[0m \u001b[0mblocks\u001b[0m\u001b[1;33m)\u001b[0m\u001b[1;33m\u001b[0m\u001b[1;33m\u001b[0m\u001b[0m\n\u001b[1;32m-> 1688\u001b[1;33m         \u001b[0mconstruction_error\u001b[0m\u001b[1;33m(\u001b[0m\u001b[0mtot_items\u001b[0m\u001b[1;33m,\u001b[0m \u001b[0mblocks\u001b[0m\u001b[1;33m[\u001b[0m\u001b[1;36m0\u001b[0m\u001b[1;33m]\u001b[0m\u001b[1;33m.\u001b[0m\u001b[0mshape\u001b[0m\u001b[1;33m[\u001b[0m\u001b[1;36m1\u001b[0m\u001b[1;33m:\u001b[0m\u001b[1;33m]\u001b[0m\u001b[1;33m,\u001b[0m \u001b[0maxes\u001b[0m\u001b[1;33m,\u001b[0m \u001b[0me\u001b[0m\u001b[1;33m)\u001b[0m\u001b[1;33m\u001b[0m\u001b[1;33m\u001b[0m\u001b[0m\n\u001b[0m\u001b[0;32m   1689\u001b[0m \u001b[1;33m\u001b[0m\u001b[0m\n\u001b[0;32m   1690\u001b[0m \u001b[1;33m\u001b[0m\u001b[0m\n",
      "\u001b[1;32m~\\Anaconda3\\lib\\site-packages\\pandas\\core\\internals\\managers.py\u001b[0m in \u001b[0;36mconstruction_error\u001b[1;34m(tot_items, block_shape, axes, e)\u001b[0m\n\u001b[0;32m   1717\u001b[0m         \u001b[1;32mraise\u001b[0m \u001b[0mValueError\u001b[0m\u001b[1;33m(\u001b[0m\u001b[1;34m\"Empty data passed with indices specified.\"\u001b[0m\u001b[1;33m)\u001b[0m\u001b[1;33m\u001b[0m\u001b[1;33m\u001b[0m\u001b[0m\n\u001b[0;32m   1718\u001b[0m     raise ValueError(\n\u001b[1;32m-> 1719\u001b[1;33m         \u001b[1;34m\"Shape of passed values is {0}, indices imply {1}\"\u001b[0m\u001b[1;33m.\u001b[0m\u001b[0mformat\u001b[0m\u001b[1;33m(\u001b[0m\u001b[0mpassed\u001b[0m\u001b[1;33m,\u001b[0m \u001b[0mimplied\u001b[0m\u001b[1;33m)\u001b[0m\u001b[1;33m\u001b[0m\u001b[1;33m\u001b[0m\u001b[0m\n\u001b[0m\u001b[0;32m   1720\u001b[0m     )\n\u001b[0;32m   1721\u001b[0m \u001b[1;33m\u001b[0m\u001b[0m\n",
      "\u001b[1;31mValueError\u001b[0m: Shape of passed values is (91456, 3), indices imply (91456, 8)"
     ]
    }
   ],
   "source": [
    "# extract only continuous columns\n",
    "ContColumns = list(contX)\n",
    "X_train_cont = pd.DataFrame(X_train,columns=ContColumns)\n",
    "print(X_train_cont.shape)\n",
    "X_test_cont = pd.DataFrame(X_test,columns=ContColumns)\n",
    "print(X_test_cont.shape)"
   ]
  },
  {
   "cell_type": "code",
   "execution_count": 234,
   "metadata": {},
   "outputs": [
    {
     "name": "stdout",
     "output_type": "stream",
     "text": [
      "Fitting 3 folds for each of 18 candidates, totalling 54 fits\n",
      "[CV] bootstrap=True, max_features=1.0, max_samples=0.3, n_estimators=5 \n",
      "Building estimator 1 of 5 for this parallel run (total 5)...\n",
      "Building estimator 2 of 5 for this parallel run (total 5)...\n",
      "Building estimator 3 of 5 for this parallel run (total 5)...\n",
      "Building estimator 4 of 5 for this parallel run (total 5)...\n"
     ]
    },
    {
     "name": "stderr",
     "output_type": "stream",
     "text": [
      "[Parallel(n_jobs=1)]: Using backend SequentialBackend with 1 concurrent workers.\n",
      "[Parallel(n_jobs=1)]: Using backend SequentialBackend with 1 concurrent workers.\n"
     ]
    },
    {
     "name": "stdout",
     "output_type": "stream",
     "text": [
      "Building estimator 5 of 5 for this parallel run (total 5)...\n",
      "[CV]  bootstrap=True, max_features=1.0, max_samples=0.3, n_estimators=5, score=(train=0.586, test=0.581), total=   0.3s\n",
      "[CV] bootstrap=True, max_features=1.0, max_samples=0.3, n_estimators=5 \n",
      "Building estimator 1 of 5 for this parallel run (total 5)...\n"
     ]
    },
    {
     "name": "stderr",
     "output_type": "stream",
     "text": [
      "[Parallel(n_jobs=1)]: Done   1 out of   1 | elapsed:    0.2s remaining:    0.0s\n",
      "[Parallel(n_jobs=1)]: Done   1 out of   1 | elapsed:    0.2s finished\n",
      "[Parallel(n_jobs=1)]: Using backend SequentialBackend with 1 concurrent workers.\n",
      "[Parallel(n_jobs=1)]: Done   1 out of   1 | elapsed:    0.0s remaining:    0.0s\n",
      "[Parallel(n_jobs=1)]: Done   1 out of   1 | elapsed:    0.0s finished\n",
      "[Parallel(n_jobs=1)]: Using backend SequentialBackend with 1 concurrent workers.\n",
      "[Parallel(n_jobs=1)]: Done   1 out of   1 | elapsed:    0.0s remaining:    0.0s\n",
      "[Parallel(n_jobs=1)]: Done   1 out of   1 | elapsed:    0.0s finished\n",
      "[Parallel(n_jobs=1)]: Done   1 out of   1 | elapsed:    0.3s remaining:    0.0s\n",
      "[Parallel(n_jobs=1)]: Using backend SequentialBackend with 1 concurrent workers.\n"
     ]
    },
    {
     "name": "stdout",
     "output_type": "stream",
     "text": [
      "Building estimator 2 of 5 for this parallel run (total 5)...\n",
      "Building estimator 3 of 5 for this parallel run (total 5)...\n",
      "Building estimator 4 of 5 for this parallel run (total 5)...\n",
      "Building estimator 5 of 5 for this parallel run (total 5)...\n",
      "[CV]  bootstrap=True, max_features=1.0, max_samples=0.3, n_estimators=5, score=(train=0.578, test=0.577), total=   0.3s\n",
      "[CV] bootstrap=True, max_features=1.0, max_samples=0.3, n_estimators=5 \n",
      "Building estimator 1 of 5 for this parallel run (total 5)...\n"
     ]
    },
    {
     "name": "stderr",
     "output_type": "stream",
     "text": [
      "[Parallel(n_jobs=1)]: Done   1 out of   1 | elapsed:    0.2s remaining:    0.0s\n",
      "[Parallel(n_jobs=1)]: Done   1 out of   1 | elapsed:    0.2s finished\n",
      "[Parallel(n_jobs=1)]: Using backend SequentialBackend with 1 concurrent workers.\n",
      "[Parallel(n_jobs=1)]: Done   1 out of   1 | elapsed:    0.0s remaining:    0.0s\n",
      "[Parallel(n_jobs=1)]: Done   1 out of   1 | elapsed:    0.0s finished\n",
      "[Parallel(n_jobs=1)]: Using backend SequentialBackend with 1 concurrent workers.\n",
      "[Parallel(n_jobs=1)]: Done   1 out of   1 | elapsed:    0.0s remaining:    0.0s\n",
      "[Parallel(n_jobs=1)]: Done   1 out of   1 | elapsed:    0.0s finished\n",
      "[Parallel(n_jobs=1)]: Done   2 out of   2 | elapsed:    0.7s remaining:    0.0s\n",
      "[Parallel(n_jobs=1)]: Using backend SequentialBackend with 1 concurrent workers.\n"
     ]
    },
    {
     "name": "stdout",
     "output_type": "stream",
     "text": [
      "Building estimator 2 of 5 for this parallel run (total 5)...\n",
      "Building estimator 3 of 5 for this parallel run (total 5)...\n",
      "Building estimator 4 of 5 for this parallel run (total 5)...\n",
      "Building estimator 5 of 5 for this parallel run (total 5)...\n",
      "[CV]  bootstrap=True, max_features=1.0, max_samples=0.3, n_estimators=5, score=(train=0.579, test=0.582), total=   0.4s\n",
      "[CV] bootstrap=True, max_features=1.0, max_samples=0.3, n_estimators=10 \n"
     ]
    },
    {
     "name": "stderr",
     "output_type": "stream",
     "text": [
      "[Parallel(n_jobs=1)]: Done   1 out of   1 | elapsed:    0.2s remaining:    0.0s\n",
      "[Parallel(n_jobs=1)]: Done   1 out of   1 | elapsed:    0.2s finished\n",
      "[Parallel(n_jobs=1)]: Using backend SequentialBackend with 1 concurrent workers.\n",
      "[Parallel(n_jobs=1)]: Done   1 out of   1 | elapsed:    0.0s remaining:    0.0s\n",
      "[Parallel(n_jobs=1)]: Done   1 out of   1 | elapsed:    0.0s finished\n",
      "[Parallel(n_jobs=1)]: Using backend SequentialBackend with 1 concurrent workers.\n",
      "[Parallel(n_jobs=1)]: Done   1 out of   1 | elapsed:    0.0s remaining:    0.0s\n",
      "[Parallel(n_jobs=1)]: Done   1 out of   1 | elapsed:    0.0s finished\n",
      "[Parallel(n_jobs=1)]: Done   3 out of   3 | elapsed:    1.1s remaining:    0.0s\n",
      "[Parallel(n_jobs=1)]: Using backend SequentialBackend with 1 concurrent workers.\n"
     ]
    },
    {
     "name": "stdout",
     "output_type": "stream",
     "text": [
      "Building estimator 1 of 10 for this parallel run (total 10)...\n",
      "Building estimator 2 of 10 for this parallel run (total 10)...\n",
      "Building estimator 3 of 10 for this parallel run (total 10)...\n",
      "Building estimator 4 of 10 for this parallel run (total 10)...\n",
      "Building estimator 5 of 10 for this parallel run (total 10)...\n",
      "Building estimator 6 of 10 for this parallel run (total 10)...\n",
      "Building estimator 7 of 10 for this parallel run (total 10)...\n",
      "Building estimator 8 of 10 for this parallel run (total 10)...\n",
      "Building estimator 9 of 10 for this parallel run (total 10)...\n",
      "Building estimator 10 of 10 for this parallel run (total 10)...\n"
     ]
    },
    {
     "name": "stderr",
     "output_type": "stream",
     "text": [
      "[Parallel(n_jobs=1)]: Done   1 out of   1 | elapsed:    0.5s remaining:    0.0s\n",
      "[Parallel(n_jobs=1)]: Done   1 out of   1 | elapsed:    0.5s finished\n",
      "[Parallel(n_jobs=1)]: Using backend SequentialBackend with 1 concurrent workers.\n",
      "[Parallel(n_jobs=1)]: Done   1 out of   1 | elapsed:    0.0s remaining:    0.0s\n",
      "[Parallel(n_jobs=1)]: Done   1 out of   1 | elapsed:    0.0s finished\n",
      "[Parallel(n_jobs=1)]: Using backend SequentialBackend with 1 concurrent workers.\n",
      "[Parallel(n_jobs=1)]: Done   1 out of   1 | elapsed:    0.0s remaining:    0.0s\n",
      "[Parallel(n_jobs=1)]: Done   1 out of   1 | elapsed:    0.0s finished\n",
      "[Parallel(n_jobs=1)]: Done   4 out of   4 | elapsed:    1.8s remaining:    0.0s\n",
      "[Parallel(n_jobs=1)]: Using backend SequentialBackend with 1 concurrent workers.\n"
     ]
    },
    {
     "name": "stdout",
     "output_type": "stream",
     "text": [
      "[CV]  bootstrap=True, max_features=1.0, max_samples=0.3, n_estimators=10, score=(train=0.579, test=0.575), total=   0.6s\n",
      "[CV] bootstrap=True, max_features=1.0, max_samples=0.3, n_estimators=10 \n",
      "Building estimator 1 of 10 for this parallel run (total 10)...\n",
      "Building estimator 2 of 10 for this parallel run (total 10)...\n",
      "Building estimator 3 of 10 for this parallel run (total 10)...\n",
      "Building estimator 4 of 10 for this parallel run (total 10)...\n",
      "Building estimator 5 of 10 for this parallel run (total 10)...\n",
      "Building estimator 6 of 10 for this parallel run (total 10)...\n",
      "Building estimator 7 of 10 for this parallel run (total 10)...\n",
      "Building estimator 8 of 10 for this parallel run (total 10)...\n",
      "Building estimator 9 of 10 for this parallel run (total 10)...\n",
      "Building estimator 10 of 10 for this parallel run (total 10)...\n",
      "[CV]  bootstrap=True, max_features=1.0, max_samples=0.3, n_estimators=10, score=(train=0.576, test=0.574), total=   0.5s"
     ]
    },
    {
     "name": "stderr",
     "output_type": "stream",
     "text": [
      "[Parallel(n_jobs=1)]: Done   1 out of   1 | elapsed:    0.4s remaining:    0.0s\n",
      "[Parallel(n_jobs=1)]: Done   1 out of   1 | elapsed:    0.4s finished\n",
      "[Parallel(n_jobs=1)]: Using backend SequentialBackend with 1 concurrent workers.\n",
      "[Parallel(n_jobs=1)]: Done   1 out of   1 | elapsed:    0.0s remaining:    0.0s\n",
      "[Parallel(n_jobs=1)]: Done   1 out of   1 | elapsed:    0.0s finished\n",
      "[Parallel(n_jobs=1)]: Using backend SequentialBackend with 1 concurrent workers.\n",
      "[Parallel(n_jobs=1)]: Done   1 out of   1 | elapsed:    0.0s remaining:    0.0s\n",
      "[Parallel(n_jobs=1)]: Done   1 out of   1 | elapsed:    0.0s finished\n",
      "[Parallel(n_jobs=1)]: Done   5 out of   5 | elapsed:    2.5s remaining:    0.0s\n",
      "[Parallel(n_jobs=1)]: Using backend SequentialBackend with 1 concurrent workers.\n"
     ]
    },
    {
     "name": "stdout",
     "output_type": "stream",
     "text": [
      "\n",
      "[CV] bootstrap=True, max_features=1.0, max_samples=0.3, n_estimators=10 \n",
      "Building estimator 1 of 10 for this parallel run (total 10)...\n",
      "Building estimator 2 of 10 for this parallel run (total 10)...\n",
      "Building estimator 3 of 10 for this parallel run (total 10)...\n",
      "Building estimator 4 of 10 for this parallel run (total 10)...\n",
      "Building estimator 5 of 10 for this parallel run (total 10)...\n",
      "Building estimator 6 of 10 for this parallel run (total 10)...\n",
      "Building estimator 7 of 10 for this parallel run (total 10)...\n",
      "Building estimator 8 of 10 for this parallel run (total 10)...\n",
      "Building estimator 9 of 10 for this parallel run (total 10)...\n",
      "Building estimator 10 of 10 for this parallel run (total 10)...\n"
     ]
    },
    {
     "name": "stderr",
     "output_type": "stream",
     "text": [
      "[Parallel(n_jobs=1)]: Done   1 out of   1 | elapsed:    0.5s remaining:    0.0s\n",
      "[Parallel(n_jobs=1)]: Done   1 out of   1 | elapsed:    0.5s finished\n",
      "[Parallel(n_jobs=1)]: Using backend SequentialBackend with 1 concurrent workers.\n",
      "[Parallel(n_jobs=1)]: Done   1 out of   1 | elapsed:    0.0s remaining:    0.0s\n",
      "[Parallel(n_jobs=1)]: Done   1 out of   1 | elapsed:    0.0s finished\n",
      "[Parallel(n_jobs=1)]: Using backend SequentialBackend with 1 concurrent workers.\n",
      "[Parallel(n_jobs=1)]: Done   1 out of   1 | elapsed:    0.0s remaining:    0.0s\n",
      "[Parallel(n_jobs=1)]: Done   1 out of   1 | elapsed:    0.0s finished\n",
      "[Parallel(n_jobs=1)]: Done   6 out of   6 | elapsed:    3.3s remaining:    0.0s\n",
      "[Parallel(n_jobs=1)]: Using backend SequentialBackend with 1 concurrent workers.\n"
     ]
    },
    {
     "name": "stdout",
     "output_type": "stream",
     "text": [
      "[CV]  bootstrap=True, max_features=1.0, max_samples=0.3, n_estimators=10, score=(train=0.579, test=0.580), total=   0.7s\n",
      "[CV] bootstrap=True, max_features=1.0, max_samples=0.3, n_estimators=15 \n",
      "Building estimator 1 of 15 for this parallel run (total 15)...\n",
      "Building estimator 2 of 15 for this parallel run (total 15)...\n",
      "Building estimator 3 of 15 for this parallel run (total 15)...\n",
      "Building estimator 4 of 15 for this parallel run (total 15)...\n",
      "Building estimator 5 of 15 for this parallel run (total 15)...\n",
      "Building estimator 6 of 15 for this parallel run (total 15)...\n",
      "Building estimator 7 of 15 for this parallel run (total 15)...\n",
      "Building estimator 8 of 15 for this parallel run (total 15)...\n",
      "Building estimator 9 of 15 for this parallel run (total 15)...\n",
      "Building estimator 10 of 15 for this parallel run (total 15)...\n",
      "Building estimator 11 of 15 for this parallel run (total 15)...\n",
      "Building estimator 12 of 15 for this parallel run (total 15)...\n",
      "Building estimator 13 of 15 for this parallel run (total 15)...\n",
      "Building estimator 14 of 15 for this parallel run (total 15)...\n",
      "Building estimator 15 of 15 for this parallel run (total 15)...\n"
     ]
    },
    {
     "name": "stderr",
     "output_type": "stream",
     "text": [
      "[Parallel(n_jobs=1)]: Done   1 out of   1 | elapsed:    0.6s remaining:    0.0s\n",
      "[Parallel(n_jobs=1)]: Done   1 out of   1 | elapsed:    0.6s finished\n",
      "[Parallel(n_jobs=1)]: Using backend SequentialBackend with 1 concurrent workers.\n",
      "[Parallel(n_jobs=1)]: Done   1 out of   1 | elapsed:    0.0s remaining:    0.0s\n",
      "[Parallel(n_jobs=1)]: Done   1 out of   1 | elapsed:    0.0s finished\n",
      "[Parallel(n_jobs=1)]: Using backend SequentialBackend with 1 concurrent workers.\n",
      "[Parallel(n_jobs=1)]: Done   1 out of   1 | elapsed:    0.0s remaining:    0.0s\n",
      "[Parallel(n_jobs=1)]: Done   1 out of   1 | elapsed:    0.0s finished\n",
      "[Parallel(n_jobs=1)]: Done   7 out of   7 | elapsed:    4.2s remaining:    0.0s\n",
      "[Parallel(n_jobs=1)]: Using backend SequentialBackend with 1 concurrent workers.\n"
     ]
    },
    {
     "name": "stdout",
     "output_type": "stream",
     "text": [
      "[CV]  bootstrap=True, max_features=1.0, max_samples=0.3, n_estimators=15, score=(train=0.580, test=0.575), total=   0.8s\n",
      "[CV] bootstrap=True, max_features=1.0, max_samples=0.3, n_estimators=15 \n",
      "Building estimator 1 of 15 for this parallel run (total 15)...\n",
      "Building estimator 2 of 15 for this parallel run (total 15)...\n",
      "Building estimator 3 of 15 for this parallel run (total 15)...\n",
      "Building estimator 4 of 15 for this parallel run (total 15)...\n",
      "Building estimator 5 of 15 for this parallel run (total 15)...\n",
      "Building estimator 6 of 15 for this parallel run (total 15)...\n",
      "Building estimator 7 of 15 for this parallel run (total 15)...\n",
      "Building estimator 8 of 15 for this parallel run (total 15)...\n",
      "Building estimator 9 of 15 for this parallel run (total 15)...\n",
      "Building estimator 10 of 15 for this parallel run (total 15)...\n",
      "Building estimator 11 of 15 for this parallel run (total 15)...\n",
      "Building estimator 12 of 15 for this parallel run (total 15)...\n",
      "Building estimator 13 of 15 for this parallel run (total 15)...\n",
      "Building estimator 14 of 15 for this parallel run (total 15)...\n",
      "Building estimator 15 of 15 for this parallel run (total 15)...\n"
     ]
    },
    {
     "name": "stderr",
     "output_type": "stream",
     "text": [
      "[Parallel(n_jobs=1)]: Done   1 out of   1 | elapsed:    0.6s remaining:    0.0s\n",
      "[Parallel(n_jobs=1)]: Done   1 out of   1 | elapsed:    0.6s finished\n",
      "[Parallel(n_jobs=1)]: Using backend SequentialBackend with 1 concurrent workers.\n",
      "[Parallel(n_jobs=1)]: Done   1 out of   1 | elapsed:    0.0s remaining:    0.0s\n",
      "[Parallel(n_jobs=1)]: Done   1 out of   1 | elapsed:    0.0s finished\n",
      "[Parallel(n_jobs=1)]: Using backend SequentialBackend with 1 concurrent workers.\n",
      "[Parallel(n_jobs=1)]: Done   1 out of   1 | elapsed:    0.0s remaining:    0.0s\n",
      "[Parallel(n_jobs=1)]: Done   1 out of   1 | elapsed:    0.0s finished\n",
      "[Parallel(n_jobs=1)]: Done   8 out of   8 | elapsed:    5.1s remaining:    0.0s\n"
     ]
    },
    {
     "name": "stdout",
     "output_type": "stream",
     "text": [
      "[CV]  bootstrap=True, max_features=1.0, max_samples=0.3, n_estimators=15, score=(train=0.576, test=0.573), total=   0.8s\n",
      "[CV] bootstrap=True, max_features=1.0, max_samples=0.3, n_estimators=15 \n",
      "Building estimator 1 of 15 for this parallel run (total 15)...\n",
      "Building estimator 2 of 15 for this parallel run (total 15)...\n",
      "Building estimator 3 of 15 for this parallel run (total 15)...\n",
      "Building estimator 4 of 15 for this parallel run (total 15)...\n",
      "Building estimator 5 of 15 for this parallel run (total 15)...\n"
     ]
    },
    {
     "name": "stderr",
     "output_type": "stream",
     "text": [
      "[Parallel(n_jobs=1)]: Using backend SequentialBackend with 1 concurrent workers.\n"
     ]
    },
    {
     "name": "stdout",
     "output_type": "stream",
     "text": [
      "Building estimator 6 of 15 for this parallel run (total 15)...\n",
      "Building estimator 7 of 15 for this parallel run (total 15)...\n",
      "Building estimator 8 of 15 for this parallel run (total 15)...\n",
      "Building estimator 9 of 15 for this parallel run (total 15)...\n",
      "Building estimator 10 of 15 for this parallel run (total 15)...\n",
      "Building estimator 11 of 15 for this parallel run (total 15)...\n",
      "Building estimator 12 of 15 for this parallel run (total 15)...\n",
      "Building estimator 13 of 15 for this parallel run (total 15)...\n",
      "Building estimator 14 of 15 for this parallel run (total 15)...\n",
      "Building estimator 15 of 15 for this parallel run (total 15)...\n"
     ]
    },
    {
     "name": "stderr",
     "output_type": "stream",
     "text": [
      "[Parallel(n_jobs=1)]: Done   1 out of   1 | elapsed:    0.7s remaining:    0.0s\n",
      "[Parallel(n_jobs=1)]: Done   1 out of   1 | elapsed:    0.7s finished\n",
      "[Parallel(n_jobs=1)]: Using backend SequentialBackend with 1 concurrent workers.\n",
      "[Parallel(n_jobs=1)]: Done   1 out of   1 | elapsed:    0.0s remaining:    0.0s\n",
      "[Parallel(n_jobs=1)]: Done   1 out of   1 | elapsed:    0.0s finished\n",
      "[Parallel(n_jobs=1)]: Using backend SequentialBackend with 1 concurrent workers.\n",
      "[Parallel(n_jobs=1)]: Done   1 out of   1 | elapsed:    0.0s remaining:    0.0s\n",
      "[Parallel(n_jobs=1)]: Done   1 out of   1 | elapsed:    0.0s finished\n"
     ]
    },
    {
     "name": "stdout",
     "output_type": "stream",
     "text": [
      "[CV]  bootstrap=True, max_features=1.0, max_samples=0.3, n_estimators=15, score=(train=0.580, test=0.583), total=   0.9s\n",
      "[CV] bootstrap=True, max_features=1.0, max_samples=0.6, n_estimators=5 \n",
      "Building estimator 1 of 5 for this parallel run (total 5)...\n",
      "Building estimator 2 of 5 for this parallel run (total 5)...\n"
     ]
    },
    {
     "name": "stderr",
     "output_type": "stream",
     "text": [
      "[Parallel(n_jobs=1)]: Done   9 out of   9 | elapsed:    6.1s remaining:    0.0s\n",
      "[Parallel(n_jobs=1)]: Using backend SequentialBackend with 1 concurrent workers.\n"
     ]
    },
    {
     "name": "stdout",
     "output_type": "stream",
     "text": [
      "Building estimator 3 of 5 for this parallel run (total 5)...\n",
      "Building estimator 4 of 5 for this parallel run (total 5)...\n",
      "Building estimator 5 of 5 for this parallel run (total 5)...\n"
     ]
    },
    {
     "name": "stderr",
     "output_type": "stream",
     "text": [
      "[Parallel(n_jobs=1)]: Done   1 out of   1 | elapsed:    0.4s remaining:    0.0s\n",
      "[Parallel(n_jobs=1)]: Done   1 out of   1 | elapsed:    0.4s finished\n",
      "[Parallel(n_jobs=1)]: Using backend SequentialBackend with 1 concurrent workers.\n",
      "[Parallel(n_jobs=1)]: Done   1 out of   1 | elapsed:    0.0s remaining:    0.0s\n",
      "[Parallel(n_jobs=1)]: Done   1 out of   1 | elapsed:    0.0s finished\n",
      "[Parallel(n_jobs=1)]: Using backend SequentialBackend with 1 concurrent workers.\n",
      "[Parallel(n_jobs=1)]: Done   1 out of   1 | elapsed:    0.0s remaining:    0.0s\n",
      "[Parallel(n_jobs=1)]: Done   1 out of   1 | elapsed:    0.0s finished\n",
      "[Parallel(n_jobs=1)]: Using backend SequentialBackend with 1 concurrent workers.\n"
     ]
    },
    {
     "name": "stdout",
     "output_type": "stream",
     "text": [
      "[CV]  bootstrap=True, max_features=1.0, max_samples=0.6, n_estimators=5, score=(train=0.572, test=0.568), total=   0.5s\n",
      "[CV] bootstrap=True, max_features=1.0, max_samples=0.6, n_estimators=5 \n",
      "Building estimator 1 of 5 for this parallel run (total 5)...\n",
      "Building estimator 2 of 5 for this parallel run (total 5)...\n",
      "Building estimator 3 of 5 for this parallel run (total 5)...\n",
      "Building estimator 4 of 5 for this parallel run (total 5)...\n",
      "Building estimator 5 of 5 for this parallel run (total 5)...\n"
     ]
    },
    {
     "name": "stderr",
     "output_type": "stream",
     "text": [
      "[Parallel(n_jobs=1)]: Done   1 out of   1 | elapsed:    0.3s remaining:    0.0s\n",
      "[Parallel(n_jobs=1)]: Done   1 out of   1 | elapsed:    0.3s finished\n",
      "[Parallel(n_jobs=1)]: Using backend SequentialBackend with 1 concurrent workers.\n",
      "[Parallel(n_jobs=1)]: Done   1 out of   1 | elapsed:    0.0s remaining:    0.0s\n",
      "[Parallel(n_jobs=1)]: Done   1 out of   1 | elapsed:    0.0s finished\n",
      "[Parallel(n_jobs=1)]: Using backend SequentialBackend with 1 concurrent workers.\n",
      "[Parallel(n_jobs=1)]: Done   1 out of   1 | elapsed:    0.0s remaining:    0.0s\n",
      "[Parallel(n_jobs=1)]: Done   1 out of   1 | elapsed:    0.0s finished\n",
      "[Parallel(n_jobs=1)]: Using backend SequentialBackend with 1 concurrent workers.\n"
     ]
    },
    {
     "name": "stdout",
     "output_type": "stream",
     "text": [
      "[CV]  bootstrap=True, max_features=1.0, max_samples=0.6, n_estimators=5, score=(train=0.581, test=0.580), total=   0.5s\n",
      "[CV] bootstrap=True, max_features=1.0, max_samples=0.6, n_estimators=5 \n",
      "Building estimator 1 of 5 for this parallel run (total 5)...\n",
      "Building estimator 2 of 5 for this parallel run (total 5)...\n",
      "Building estimator 3 of 5 for this parallel run (total 5)...\n",
      "Building estimator 4 of 5 for this parallel run (total 5)...\n",
      "Building estimator 5 of 5 for this parallel run (total 5)...\n"
     ]
    },
    {
     "name": "stderr",
     "output_type": "stream",
     "text": [
      "[Parallel(n_jobs=1)]: Done   1 out of   1 | elapsed:    0.3s remaining:    0.0s\n",
      "[Parallel(n_jobs=1)]: Done   1 out of   1 | elapsed:    0.3s finished\n",
      "[Parallel(n_jobs=1)]: Using backend SequentialBackend with 1 concurrent workers.\n",
      "[Parallel(n_jobs=1)]: Done   1 out of   1 | elapsed:    0.0s remaining:    0.0s\n",
      "[Parallel(n_jobs=1)]: Done   1 out of   1 | elapsed:    0.0s finished\n",
      "[Parallel(n_jobs=1)]: Using backend SequentialBackend with 1 concurrent workers.\n",
      "[Parallel(n_jobs=1)]: Done   1 out of   1 | elapsed:    0.0s remaining:    0.0s\n",
      "[Parallel(n_jobs=1)]: Done   1 out of   1 | elapsed:    0.0s finished\n",
      "[Parallel(n_jobs=1)]: Using backend SequentialBackend with 1 concurrent workers.\n"
     ]
    },
    {
     "name": "stdout",
     "output_type": "stream",
     "text": [
      "[CV]  bootstrap=True, max_features=1.0, max_samples=0.6, n_estimators=5, score=(train=0.583, test=0.585), total=   0.4s\n",
      "[CV] bootstrap=True, max_features=1.0, max_samples=0.6, n_estimators=10 \n",
      "Building estimator 1 of 10 for this parallel run (total 10)...\n",
      "Building estimator 2 of 10 for this parallel run (total 10)...\n",
      "Building estimator 3 of 10 for this parallel run (total 10)...\n",
      "Building estimator 4 of 10 for this parallel run (total 10)...\n",
      "Building estimator 5 of 10 for this parallel run (total 10)...\n",
      "Building estimator 6 of 10 for this parallel run (total 10)...\n",
      "Building estimator 7 of 10 for this parallel run (total 10)...\n",
      "Building estimator 8 of 10 for this parallel run (total 10)...\n",
      "Building estimator 9 of 10 for this parallel run (total 10)...\n",
      "Building estimator 10 of 10 for this parallel run (total 10)...\n"
     ]
    },
    {
     "name": "stderr",
     "output_type": "stream",
     "text": [
      "[Parallel(n_jobs=1)]: Done   1 out of   1 | elapsed:    0.6s remaining:    0.0s\n",
      "[Parallel(n_jobs=1)]: Done   1 out of   1 | elapsed:    0.7s finished\n",
      "[Parallel(n_jobs=1)]: Using backend SequentialBackend with 1 concurrent workers.\n",
      "[Parallel(n_jobs=1)]: Done   1 out of   1 | elapsed:    0.0s remaining:    0.0s\n",
      "[Parallel(n_jobs=1)]: Done   1 out of   1 | elapsed:    0.0s finished\n",
      "[Parallel(n_jobs=1)]: Using backend SequentialBackend with 1 concurrent workers.\n",
      "[Parallel(n_jobs=1)]: Done   1 out of   1 | elapsed:    0.0s remaining:    0.0s\n",
      "[Parallel(n_jobs=1)]: Done   1 out of   1 | elapsed:    0.0s finished\n",
      "[Parallel(n_jobs=1)]: Using backend SequentialBackend with 1 concurrent workers.\n"
     ]
    },
    {
     "name": "stdout",
     "output_type": "stream",
     "text": [
      "[CV]  bootstrap=True, max_features=1.0, max_samples=0.6, n_estimators=10, score=(train=0.582, test=0.579), total=   0.8s\n",
      "[CV] bootstrap=True, max_features=1.0, max_samples=0.6, n_estimators=10 \n",
      "Building estimator 1 of 10 for this parallel run (total 10)...\n",
      "Building estimator 2 of 10 for this parallel run (total 10)...\n",
      "Building estimator 3 of 10 for this parallel run (total 10)...\n",
      "Building estimator 4 of 10 for this parallel run (total 10)...\n",
      "Building estimator 5 of 10 for this parallel run (total 10)...\n",
      "Building estimator 6 of 10 for this parallel run (total 10)...\n",
      "Building estimator 7 of 10 for this parallel run (total 10)...\n",
      "Building estimator 8 of 10 for this parallel run (total 10)...\n",
      "Building estimator 9 of 10 for this parallel run (total 10)...\n",
      "Building estimator 10 of 10 for this parallel run (total 10)...\n"
     ]
    },
    {
     "name": "stderr",
     "output_type": "stream",
     "text": [
      "[Parallel(n_jobs=1)]: Done   1 out of   1 | elapsed:    0.7s remaining:    0.0s\n",
      "[Parallel(n_jobs=1)]: Done   1 out of   1 | elapsed:    0.7s finished\n",
      "[Parallel(n_jobs=1)]: Using backend SequentialBackend with 1 concurrent workers.\n",
      "[Parallel(n_jobs=1)]: Done   1 out of   1 | elapsed:    0.0s remaining:    0.0s\n",
      "[Parallel(n_jobs=1)]: Done   1 out of   1 | elapsed:    0.0s finished\n",
      "[Parallel(n_jobs=1)]: Using backend SequentialBackend with 1 concurrent workers.\n",
      "[Parallel(n_jobs=1)]: Done   1 out of   1 | elapsed:    0.0s remaining:    0.0s\n",
      "[Parallel(n_jobs=1)]: Done   1 out of   1 | elapsed:    0.0s finished\n",
      "[Parallel(n_jobs=1)]: Using backend SequentialBackend with 1 concurrent workers.\n"
     ]
    },
    {
     "name": "stdout",
     "output_type": "stream",
     "text": [
      "[CV]  bootstrap=True, max_features=1.0, max_samples=0.6, n_estimators=10, score=(train=0.576, test=0.574), total=   0.8s\n",
      "[CV] bootstrap=True, max_features=1.0, max_samples=0.6, n_estimators=10 \n",
      "Building estimator 1 of 10 for this parallel run (total 10)...\n",
      "Building estimator 2 of 10 for this parallel run (total 10)...\n",
      "Building estimator 3 of 10 for this parallel run (total 10)...\n",
      "Building estimator 4 of 10 for this parallel run (total 10)...\n",
      "Building estimator 5 of 10 for this parallel run (total 10)...\n",
      "Building estimator 6 of 10 for this parallel run (total 10)...\n",
      "Building estimator 7 of 10 for this parallel run (total 10)...\n",
      "Building estimator 8 of 10 for this parallel run (total 10)...\n",
      "Building estimator 9 of 10 for this parallel run (total 10)...\n",
      "Building estimator 10 of 10 for this parallel run (total 10)...\n"
     ]
    },
    {
     "name": "stderr",
     "output_type": "stream",
     "text": [
      "[Parallel(n_jobs=1)]: Done   1 out of   1 | elapsed:    0.7s remaining:    0.0s\n",
      "[Parallel(n_jobs=1)]: Done   1 out of   1 | elapsed:    0.7s finished\n",
      "[Parallel(n_jobs=1)]: Using backend SequentialBackend with 1 concurrent workers.\n",
      "[Parallel(n_jobs=1)]: Done   1 out of   1 | elapsed:    0.0s remaining:    0.0s\n",
      "[Parallel(n_jobs=1)]: Done   1 out of   1 | elapsed:    0.0s finished\n",
      "[Parallel(n_jobs=1)]: Using backend SequentialBackend with 1 concurrent workers.\n",
      "[Parallel(n_jobs=1)]: Done   1 out of   1 | elapsed:    0.0s remaining:    0.0s\n",
      "[Parallel(n_jobs=1)]: Done   1 out of   1 | elapsed:    0.0s finished\n",
      "[Parallel(n_jobs=1)]: Using backend SequentialBackend with 1 concurrent workers.\n"
     ]
    },
    {
     "name": "stdout",
     "output_type": "stream",
     "text": [
      "[CV]  bootstrap=True, max_features=1.0, max_samples=0.6, n_estimators=10, score=(train=0.585, test=0.585), total=   0.8s\n",
      "[CV] bootstrap=True, max_features=1.0, max_samples=0.6, n_estimators=15 \n",
      "Building estimator 1 of 15 for this parallel run (total 15)...\n",
      "Building estimator 2 of 15 for this parallel run (total 15)...\n",
      "Building estimator 3 of 15 for this parallel run (total 15)...\n",
      "Building estimator 4 of 15 for this parallel run (total 15)...\n",
      "Building estimator 5 of 15 for this parallel run (total 15)...\n",
      "Building estimator 6 of 15 for this parallel run (total 15)...\n",
      "Building estimator 7 of 15 for this parallel run (total 15)...\n",
      "Building estimator 8 of 15 for this parallel run (total 15)...\n",
      "Building estimator 9 of 15 for this parallel run (total 15)...\n",
      "Building estimator 10 of 15 for this parallel run (total 15)...\n",
      "Building estimator 11 of 15 for this parallel run (total 15)...\n",
      "Building estimator 12 of 15 for this parallel run (total 15)...\n",
      "Building estimator 13 of 15 for this parallel run (total 15)...\n",
      "Building estimator 14 of 15 for this parallel run (total 15)...\n",
      "Building estimator 15 of 15 for this parallel run (total 15)...\n"
     ]
    },
    {
     "name": "stderr",
     "output_type": "stream",
     "text": [
      "[Parallel(n_jobs=1)]: Done   1 out of   1 | elapsed:    1.0s remaining:    0.0s\n",
      "[Parallel(n_jobs=1)]: Done   1 out of   1 | elapsed:    1.0s finished\n",
      "[Parallel(n_jobs=1)]: Using backend SequentialBackend with 1 concurrent workers.\n",
      "[Parallel(n_jobs=1)]: Done   1 out of   1 | elapsed:    0.0s remaining:    0.0s\n",
      "[Parallel(n_jobs=1)]: Done   1 out of   1 | elapsed:    0.0s finished\n",
      "[Parallel(n_jobs=1)]: Using backend SequentialBackend with 1 concurrent workers.\n",
      "[Parallel(n_jobs=1)]: Done   1 out of   1 | elapsed:    0.0s remaining:    0.0s\n",
      "[Parallel(n_jobs=1)]: Done   1 out of   1 | elapsed:    0.0s finished\n"
     ]
    },
    {
     "name": "stdout",
     "output_type": "stream",
     "text": [
      "[CV]  bootstrap=True, max_features=1.0, max_samples=0.6, n_estimators=15, score=(train=0.584, test=0.578), total=   1.2s\n",
      "[CV] bootstrap=True, max_features=1.0, max_samples=0.6, n_estimators=15 \n",
      "Building estimator 1 of 15 for this parallel run (total 15)...\n",
      "Building estimator 2 of 15 for this parallel run (total 15)...\n",
      "Building estimator 3 of 15 for this parallel run (total 15)..."
     ]
    },
    {
     "name": "stderr",
     "output_type": "stream",
     "text": [
      "[Parallel(n_jobs=1)]: Using backend SequentialBackend with 1 concurrent workers.\n"
     ]
    },
    {
     "name": "stdout",
     "output_type": "stream",
     "text": [
      "\n",
      "Building estimator 4 of 15 for this parallel run (total 15)...\n",
      "Building estimator 5 of 15 for this parallel run (total 15)...\n",
      "Building estimator 6 of 15 for this parallel run (total 15)...\n",
      "Building estimator 7 of 15 for this parallel run (total 15)...\n",
      "Building estimator 8 of 15 for this parallel run (total 15)...\n",
      "Building estimator 9 of 15 for this parallel run (total 15)...\n",
      "Building estimator 10 of 15 for this parallel run (total 15)...\n",
      "Building estimator 11 of 15 for this parallel run (total 15)...\n",
      "Building estimator 12 of 15 for this parallel run (total 15)...\n",
      "Building estimator 13 of 15 for this parallel run (total 15)...\n",
      "Building estimator 14 of 15 for this parallel run (total 15)...\n",
      "Building estimator 15 of 15 for this parallel run (total 15)...\n"
     ]
    },
    {
     "name": "stderr",
     "output_type": "stream",
     "text": [
      "[Parallel(n_jobs=1)]: Done   1 out of   1 | elapsed:    1.1s remaining:    0.0s\n",
      "[Parallel(n_jobs=1)]: Done   1 out of   1 | elapsed:    1.1s finished\n",
      "[Parallel(n_jobs=1)]: Using backend SequentialBackend with 1 concurrent workers.\n",
      "[Parallel(n_jobs=1)]: Done   1 out of   1 | elapsed:    0.0s remaining:    0.0s\n",
      "[Parallel(n_jobs=1)]: Done   1 out of   1 | elapsed:    0.0s finished\n",
      "[Parallel(n_jobs=1)]: Using backend SequentialBackend with 1 concurrent workers.\n",
      "[Parallel(n_jobs=1)]: Done   1 out of   1 | elapsed:    0.0s remaining:    0.0s\n",
      "[Parallel(n_jobs=1)]: Done   1 out of   1 | elapsed:    0.0s finished\n"
     ]
    },
    {
     "name": "stdout",
     "output_type": "stream",
     "text": [
      "[CV]  bootstrap=True, max_features=1.0, max_samples=0.6, n_estimators=15, score=(train=0.575, test=0.574), total=   1.3s\n",
      "[CV] bootstrap=True, max_features=1.0, max_samples=0.6, n_estimators=15 \n",
      "Building estimator 1 of 15 for this parallel run (total 15)...\n",
      "Building estimator 2 of 15 for this parallel run (total 15)...\n",
      "Building estimator 3 of 15 for this parallel run (total 15)...\n"
     ]
    },
    {
     "name": "stderr",
     "output_type": "stream",
     "text": [
      "[Parallel(n_jobs=1)]: Using backend SequentialBackend with 1 concurrent workers.\n"
     ]
    },
    {
     "name": "stdout",
     "output_type": "stream",
     "text": [
      "Building estimator 4 of 15 for this parallel run (total 15)...\n",
      "Building estimator 5 of 15 for this parallel run (total 15)...\n",
      "Building estimator 6 of 15 for this parallel run (total 15)...\n",
      "Building estimator 7 of 15 for this parallel run (total 15)...\n",
      "Building estimator 8 of 15 for this parallel run (total 15)...\n",
      "Building estimator 9 of 15 for this parallel run (total 15)...\n",
      "Building estimator 10 of 15 for this parallel run (total 15)...\n",
      "Building estimator 11 of 15 for this parallel run (total 15)...\n",
      "Building estimator 12 of 15 for this parallel run (total 15)...\n",
      "Building estimator 13 of 15 for this parallel run (total 15)...\n",
      "Building estimator 14 of 15 for this parallel run (total 15)...\n",
      "Building estimator 15 of 15 for this parallel run (total 15)...\n"
     ]
    },
    {
     "name": "stderr",
     "output_type": "stream",
     "text": [
      "[Parallel(n_jobs=1)]: Done   1 out of   1 | elapsed:    0.9s remaining:    0.0s\n",
      "[Parallel(n_jobs=1)]: Done   1 out of   1 | elapsed:    0.9s finished\n",
      "[Parallel(n_jobs=1)]: Using backend SequentialBackend with 1 concurrent workers.\n",
      "[Parallel(n_jobs=1)]: Done   1 out of   1 | elapsed:    0.0s remaining:    0.0s\n",
      "[Parallel(n_jobs=1)]: Done   1 out of   1 | elapsed:    0.0s finished\n",
      "[Parallel(n_jobs=1)]: Using backend SequentialBackend with 1 concurrent workers.\n",
      "[Parallel(n_jobs=1)]: Done   1 out of   1 | elapsed:    0.0s remaining:    0.0s\n",
      "[Parallel(n_jobs=1)]: Done   1 out of   1 | elapsed:    0.0s finished\n"
     ]
    },
    {
     "name": "stdout",
     "output_type": "stream",
     "text": [
      "[CV]  bootstrap=True, max_features=1.0, max_samples=0.6, n_estimators=15, score=(train=0.587, test=0.588), total=   1.1s\n",
      "[CV] bootstrap=True, max_features=1.0, max_samples=0.9, n_estimators=5 \n",
      "Building estimator 1 of 5 for this parallel run (total 5)...\n",
      "Building estimator 2 of 5 for this parallel run (total 5)...\n",
      "Building estimator 3 of 5 for this parallel run (total 5)...\n"
     ]
    },
    {
     "name": "stderr",
     "output_type": "stream",
     "text": [
      "[Parallel(n_jobs=1)]: Using backend SequentialBackend with 1 concurrent workers.\n"
     ]
    },
    {
     "name": "stdout",
     "output_type": "stream",
     "text": [
      "Building estimator 4 of 5 for this parallel run (total 5)...\n",
      "Building estimator 5 of 5 for this parallel run (total 5)...\n"
     ]
    },
    {
     "name": "stderr",
     "output_type": "stream",
     "text": [
      "[Parallel(n_jobs=1)]: Done   1 out of   1 | elapsed:    0.3s remaining:    0.0s\n",
      "[Parallel(n_jobs=1)]: Done   1 out of   1 | elapsed:    0.3s finished\n",
      "[Parallel(n_jobs=1)]: Using backend SequentialBackend with 1 concurrent workers.\n",
      "[Parallel(n_jobs=1)]: Done   1 out of   1 | elapsed:    0.0s remaining:    0.0s\n",
      "[Parallel(n_jobs=1)]: Done   1 out of   1 | elapsed:    0.0s finished\n",
      "[Parallel(n_jobs=1)]: Using backend SequentialBackend with 1 concurrent workers.\n",
      "[Parallel(n_jobs=1)]: Done   1 out of   1 | elapsed:    0.0s remaining:    0.0s\n",
      "[Parallel(n_jobs=1)]: Done   1 out of   1 | elapsed:    0.0s finished\n",
      "[Parallel(n_jobs=1)]: Using backend SequentialBackend with 1 concurrent workers.\n"
     ]
    },
    {
     "name": "stdout",
     "output_type": "stream",
     "text": [
      "[CV]  bootstrap=True, max_features=1.0, max_samples=0.9, n_estimators=5, score=(train=0.581, test=0.576), total=   0.5s\n",
      "[CV] bootstrap=True, max_features=1.0, max_samples=0.9, n_estimators=5 \n",
      "Building estimator 1 of 5 for this parallel run (total 5)...\n",
      "Building estimator 2 of 5 for this parallel run (total 5)...\n",
      "Building estimator 3 of 5 for this parallel run (total 5)...\n",
      "Building estimator 4 of 5 for this parallel run (total 5)...\n",
      "Building estimator 5 of 5 for this parallel run (total 5)...\n"
     ]
    },
    {
     "name": "stderr",
     "output_type": "stream",
     "text": [
      "[Parallel(n_jobs=1)]: Done   1 out of   1 | elapsed:    0.3s remaining:    0.0s\n",
      "[Parallel(n_jobs=1)]: Done   1 out of   1 | elapsed:    0.3s finished\n",
      "[Parallel(n_jobs=1)]: Using backend SequentialBackend with 1 concurrent workers.\n",
      "[Parallel(n_jobs=1)]: Done   1 out of   1 | elapsed:    0.0s remaining:    0.0s\n",
      "[Parallel(n_jobs=1)]: Done   1 out of   1 | elapsed:    0.0s finished\n",
      "[Parallel(n_jobs=1)]: Using backend SequentialBackend with 1 concurrent workers.\n",
      "[Parallel(n_jobs=1)]: Done   1 out of   1 | elapsed:    0.0s remaining:    0.0s\n",
      "[Parallel(n_jobs=1)]: Done   1 out of   1 | elapsed:    0.0s finished\n",
      "[Parallel(n_jobs=1)]: Using backend SequentialBackend with 1 concurrent workers.\n"
     ]
    },
    {
     "name": "stdout",
     "output_type": "stream",
     "text": [
      "[CV]  bootstrap=True, max_features=1.0, max_samples=0.9, n_estimators=5, score=(train=0.577, test=0.573), total=   0.4s\n",
      "[CV] bootstrap=True, max_features=1.0, max_samples=0.9, n_estimators=5 \n",
      "Building estimator 1 of 5 for this parallel run (total 5)...\n",
      "Building estimator 2 of 5 for this parallel run (total 5)...\n",
      "Building estimator 3 of 5 for this parallel run (total 5)...\n",
      "Building estimator 4 of 5 for this parallel run (total 5)...\n",
      "Building estimator 5 of 5 for this parallel run (total 5)...\n"
     ]
    },
    {
     "name": "stderr",
     "output_type": "stream",
     "text": [
      "[Parallel(n_jobs=1)]: Done   1 out of   1 | elapsed:    0.4s remaining:    0.0s\n",
      "[Parallel(n_jobs=1)]: Done   1 out of   1 | elapsed:    0.4s finished\n",
      "[Parallel(n_jobs=1)]: Using backend SequentialBackend with 1 concurrent workers.\n",
      "[Parallel(n_jobs=1)]: Done   1 out of   1 | elapsed:    0.0s remaining:    0.0s\n",
      "[Parallel(n_jobs=1)]: Done   1 out of   1 | elapsed:    0.0s finished\n",
      "[Parallel(n_jobs=1)]: Using backend SequentialBackend with 1 concurrent workers.\n",
      "[Parallel(n_jobs=1)]: Done   1 out of   1 | elapsed:    0.0s remaining:    0.0s\n",
      "[Parallel(n_jobs=1)]: Done   1 out of   1 | elapsed:    0.0s finished\n",
      "[Parallel(n_jobs=1)]: Using backend SequentialBackend with 1 concurrent workers.\n"
     ]
    },
    {
     "name": "stdout",
     "output_type": "stream",
     "text": [
      "[CV]  bootstrap=True, max_features=1.0, max_samples=0.9, n_estimators=5, score=(train=0.583, test=0.584), total=   0.5s\n",
      "[CV] bootstrap=True, max_features=1.0, max_samples=0.9, n_estimators=10 \n",
      "Building estimator 1 of 10 for this parallel run (total 10)...\n",
      "Building estimator 2 of 10 for this parallel run (total 10)...\n",
      "Building estimator 3 of 10 for this parallel run (total 10)...\n",
      "Building estimator 4 of 10 for this parallel run (total 10)...\n",
      "Building estimator 5 of 10 for this parallel run (total 10)...\n",
      "Building estimator 6 of 10 for this parallel run (total 10)...\n",
      "Building estimator 7 of 10 for this parallel run (total 10)...\n",
      "Building estimator 8 of 10 for this parallel run (total 10)...\n",
      "Building estimator 9 of 10 for this parallel run (total 10)...\n",
      "Building estimator 10 of 10 for this parallel run (total 10)...\n"
     ]
    },
    {
     "name": "stderr",
     "output_type": "stream",
     "text": [
      "[Parallel(n_jobs=1)]: Done   1 out of   1 | elapsed:    0.8s remaining:    0.0s\n",
      "[Parallel(n_jobs=1)]: Done   1 out of   1 | elapsed:    0.8s finished\n",
      "[Parallel(n_jobs=1)]: Using backend SequentialBackend with 1 concurrent workers.\n",
      "[Parallel(n_jobs=1)]: Done   1 out of   1 | elapsed:    0.0s remaining:    0.0s\n",
      "[Parallel(n_jobs=1)]: Done   1 out of   1 | elapsed:    0.0s finished\n",
      "[Parallel(n_jobs=1)]: Using backend SequentialBackend with 1 concurrent workers.\n",
      "[Parallel(n_jobs=1)]: Done   1 out of   1 | elapsed:    0.0s remaining:    0.0s\n",
      "[Parallel(n_jobs=1)]: Done   1 out of   1 | elapsed:    0.0s finished\n",
      "[Parallel(n_jobs=1)]: Using backend SequentialBackend with 1 concurrent workers.\n"
     ]
    },
    {
     "name": "stdout",
     "output_type": "stream",
     "text": [
      "[CV]  bootstrap=True, max_features=1.0, max_samples=0.9, n_estimators=10, score=(train=0.582, test=0.577), total=   1.0s\n",
      "[CV] bootstrap=True, max_features=1.0, max_samples=0.9, n_estimators=10 \n",
      "Building estimator 1 of 10 for this parallel run (total 10)...\n",
      "Building estimator 2 of 10 for this parallel run (total 10)...\n",
      "Building estimator 3 of 10 for this parallel run (total 10)...\n",
      "Building estimator 4 of 10 for this parallel run (total 10)...\n",
      "Building estimator 5 of 10 for this parallel run (total 10)...\n",
      "Building estimator 6 of 10 for this parallel run (total 10)...\n",
      "Building estimator 7 of 10 for this parallel run (total 10)...\n",
      "Building estimator 8 of 10 for this parallel run (total 10)...\n",
      "Building estimator 9 of 10 for this parallel run (total 10)...\n",
      "Building estimator 10 of 10 for this parallel run (total 10)...\n"
     ]
    },
    {
     "name": "stderr",
     "output_type": "stream",
     "text": [
      "[Parallel(n_jobs=1)]: Done   1 out of   1 | elapsed:    0.8s remaining:    0.0s\n",
      "[Parallel(n_jobs=1)]: Done   1 out of   1 | elapsed:    0.8s finished\n",
      "[Parallel(n_jobs=1)]: Using backend SequentialBackend with 1 concurrent workers.\n",
      "[Parallel(n_jobs=1)]: Done   1 out of   1 | elapsed:    0.0s remaining:    0.0s\n",
      "[Parallel(n_jobs=1)]: Done   1 out of   1 | elapsed:    0.0s finished\n",
      "[Parallel(n_jobs=1)]: Using backend SequentialBackend with 1 concurrent workers.\n",
      "[Parallel(n_jobs=1)]: Done   1 out of   1 | elapsed:    0.0s remaining:    0.0s\n",
      "[Parallel(n_jobs=1)]: Done   1 out of   1 | elapsed:    0.0s finished\n",
      "[Parallel(n_jobs=1)]: Using backend SequentialBackend with 1 concurrent workers.\n"
     ]
    },
    {
     "name": "stdout",
     "output_type": "stream",
     "text": [
      "[CV]  bootstrap=True, max_features=1.0, max_samples=0.9, n_estimators=10, score=(train=0.576, test=0.573), total=   1.0s\n",
      "[CV] bootstrap=True, max_features=1.0, max_samples=0.9, n_estimators=10 \n",
      "Building estimator 1 of 10 for this parallel run (total 10)...\n",
      "Building estimator 2 of 10 for this parallel run (total 10)...\n",
      "Building estimator 3 of 10 for this parallel run (total 10)...\n",
      "Building estimator 4 of 10 for this parallel run (total 10)...\n",
      "Building estimator 5 of 10 for this parallel run (total 10)...\n",
      "Building estimator 6 of 10 for this parallel run (total 10)...\n",
      "Building estimator 7 of 10 for this parallel run (total 10)...\n",
      "Building estimator 8 of 10 for this parallel run (total 10)...\n",
      "Building estimator 9 of 10 for this parallel run (total 10)...\n",
      "Building estimator 10 of 10 for this parallel run (total 10)...\n"
     ]
    },
    {
     "name": "stderr",
     "output_type": "stream",
     "text": [
      "[Parallel(n_jobs=1)]: Done   1 out of   1 | elapsed:    0.8s remaining:    0.0s\n",
      "[Parallel(n_jobs=1)]: Done   1 out of   1 | elapsed:    0.8s finished\n",
      "[Parallel(n_jobs=1)]: Using backend SequentialBackend with 1 concurrent workers.\n",
      "[Parallel(n_jobs=1)]: Done   1 out of   1 | elapsed:    0.0s remaining:    0.0s\n",
      "[Parallel(n_jobs=1)]: Done   1 out of   1 | elapsed:    0.0s finished\n",
      "[Parallel(n_jobs=1)]: Using backend SequentialBackend with 1 concurrent workers.\n",
      "[Parallel(n_jobs=1)]: Done   1 out of   1 | elapsed:    0.0s remaining:    0.0s\n",
      "[Parallel(n_jobs=1)]: Done   1 out of   1 | elapsed:    0.0s finished\n",
      "[Parallel(n_jobs=1)]: Using backend SequentialBackend with 1 concurrent workers.\n"
     ]
    },
    {
     "name": "stdout",
     "output_type": "stream",
     "text": [
      "[CV]  bootstrap=True, max_features=1.0, max_samples=0.9, n_estimators=10, score=(train=0.584, test=0.584), total=   1.0s\n",
      "[CV] bootstrap=True, max_features=1.0, max_samples=0.9, n_estimators=15 \n",
      "Building estimator 1 of 15 for this parallel run (total 15)...\n",
      "Building estimator 2 of 15 for this parallel run (total 15)...\n",
      "Building estimator 3 of 15 for this parallel run (total 15)...\n",
      "Building estimator 4 of 15 for this parallel run (total 15)...\n",
      "Building estimator 5 of 15 for this parallel run (total 15)...\n",
      "Building estimator 6 of 15 for this parallel run (total 15)...\n",
      "Building estimator 7 of 15 for this parallel run (total 15)...\n",
      "Building estimator 8 of 15 for this parallel run (total 15)...\n",
      "Building estimator 9 of 15 for this parallel run (total 15)...\n",
      "Building estimator 10 of 15 for this parallel run (total 15)...\n",
      "Building estimator 11 of 15 for this parallel run (total 15)...\n",
      "Building estimator 12 of 15 for this parallel run (total 15)...\n",
      "Building estimator 13 of 15 for this parallel run (total 15)...\n",
      "Building estimator 14 of 15 for this parallel run (total 15)...\n",
      "Building estimator 15 of 15 for this parallel run (total 15)...\n"
     ]
    },
    {
     "name": "stderr",
     "output_type": "stream",
     "text": [
      "[Parallel(n_jobs=1)]: Done   1 out of   1 | elapsed:    1.2s remaining:    0.0s\n",
      "[Parallel(n_jobs=1)]: Done   1 out of   1 | elapsed:    1.2s finished\n",
      "[Parallel(n_jobs=1)]: Using backend SequentialBackend with 1 concurrent workers.\n",
      "[Parallel(n_jobs=1)]: Done   1 out of   1 | elapsed:    0.0s remaining:    0.0s\n",
      "[Parallel(n_jobs=1)]: Done   1 out of   1 | elapsed:    0.0s finished\n",
      "[Parallel(n_jobs=1)]: Using backend SequentialBackend with 1 concurrent workers.\n",
      "[Parallel(n_jobs=1)]: Done   1 out of   1 | elapsed:    0.0s remaining:    0.0s\n",
      "[Parallel(n_jobs=1)]: Done   1 out of   1 | elapsed:    0.0s finished\n"
     ]
    },
    {
     "name": "stdout",
     "output_type": "stream",
     "text": [
      "[CV]  bootstrap=True, max_features=1.0, max_samples=0.9, n_estimators=15, score=(train=0.580, test=0.574), total=   1.4s\n",
      "[CV] bootstrap=True, max_features=1.0, max_samples=0.9, n_estimators=15 \n",
      "Building estimator 1 of 15 for this parallel run (total 15)...\n",
      "Building estimator 2 of 15 for this parallel run (total 15)...\n"
     ]
    },
    {
     "name": "stderr",
     "output_type": "stream",
     "text": [
      "[Parallel(n_jobs=1)]: Using backend SequentialBackend with 1 concurrent workers.\n"
     ]
    },
    {
     "name": "stdout",
     "output_type": "stream",
     "text": [
      "Building estimator 3 of 15 for this parallel run (total 15)...\n",
      "Building estimator 4 of 15 for this parallel run (total 15)...\n",
      "Building estimator 5 of 15 for this parallel run (total 15)...\n",
      "Building estimator 6 of 15 for this parallel run (total 15)...\n",
      "Building estimator 7 of 15 for this parallel run (total 15)...\n",
      "Building estimator 8 of 15 for this parallel run (total 15)...\n",
      "Building estimator 9 of 15 for this parallel run (total 15)...\n",
      "Building estimator 10 of 15 for this parallel run (total 15)...\n",
      "Building estimator 11 of 15 for this parallel run (total 15)...\n",
      "Building estimator 12 of 15 for this parallel run (total 15)...\n",
      "Building estimator 13 of 15 for this parallel run (total 15)...\n",
      "Building estimator 14 of 15 for this parallel run (total 15)...\n",
      "Building estimator 15 of 15 for this parallel run (total 15)...\n"
     ]
    },
    {
     "name": "stderr",
     "output_type": "stream",
     "text": [
      "[Parallel(n_jobs=1)]: Done   1 out of   1 | elapsed:    1.3s remaining:    0.0s\n",
      "[Parallel(n_jobs=1)]: Done   1 out of   1 | elapsed:    1.3s finished\n",
      "[Parallel(n_jobs=1)]: Using backend SequentialBackend with 1 concurrent workers.\n",
      "[Parallel(n_jobs=1)]: Done   1 out of   1 | elapsed:    0.0s remaining:    0.0s\n",
      "[Parallel(n_jobs=1)]: Done   1 out of   1 | elapsed:    0.0s finished\n",
      "[Parallel(n_jobs=1)]: Using backend SequentialBackend with 1 concurrent workers.\n",
      "[Parallel(n_jobs=1)]: Done   1 out of   1 | elapsed:    0.0s remaining:    0.0s\n",
      "[Parallel(n_jobs=1)]: Done   1 out of   1 | elapsed:    0.0s finished\n",
      "[Parallel(n_jobs=1)]: Using backend SequentialBackend with 1 concurrent workers.\n"
     ]
    },
    {
     "name": "stdout",
     "output_type": "stream",
     "text": [
      "[CV]  bootstrap=True, max_features=1.0, max_samples=0.9, n_estimators=15, score=(train=0.574, test=0.571), total=   1.5s\n",
      "[CV] bootstrap=True, max_features=1.0, max_samples=0.9, n_estimators=15 \n",
      "Building estimator 1 of 15 for this parallel run (total 15)...\n",
      "Building estimator 2 of 15 for this parallel run (total 15)...\n",
      "Building estimator 3 of 15 for this parallel run (total 15)...\n",
      "Building estimator 4 of 15 for this parallel run (total 15)...\n",
      "Building estimator 5 of 15 for this parallel run (total 15)...\n",
      "Building estimator 6 of 15 for this parallel run (total 15)...\n",
      "Building estimator 7 of 15 for this parallel run (total 15)...\n",
      "Building estimator 8 of 15 for this parallel run (total 15)...\n",
      "Building estimator 9 of 15 for this parallel run (total 15)...\n",
      "Building estimator 10 of 15 for this parallel run (total 15)...\n",
      "Building estimator 11 of 15 for this parallel run (total 15)...\n",
      "Building estimator 12 of 15 for this parallel run (total 15)...\n",
      "Building estimator 13 of 15 for this parallel run (total 15)...\n",
      "Building estimator 14 of 15 for this parallel run (total 15)...\n",
      "Building estimator 15 of 15 for this parallel run (total 15)...\n"
     ]
    },
    {
     "name": "stderr",
     "output_type": "stream",
     "text": [
      "[Parallel(n_jobs=1)]: Done   1 out of   1 | elapsed:    1.3s remaining:    0.0s\n",
      "[Parallel(n_jobs=1)]: Done   1 out of   1 | elapsed:    1.3s finished\n",
      "[Parallel(n_jobs=1)]: Using backend SequentialBackend with 1 concurrent workers.\n",
      "[Parallel(n_jobs=1)]: Done   1 out of   1 | elapsed:    0.0s remaining:    0.0s\n",
      "[Parallel(n_jobs=1)]: Done   1 out of   1 | elapsed:    0.0s finished\n",
      "[Parallel(n_jobs=1)]: Using backend SequentialBackend with 1 concurrent workers.\n",
      "[Parallel(n_jobs=1)]: Done   1 out of   1 | elapsed:    0.0s remaining:    0.0s\n",
      "[Parallel(n_jobs=1)]: Done   1 out of   1 | elapsed:    0.0s finished\n"
     ]
    },
    {
     "name": "stdout",
     "output_type": "stream",
     "text": [
      "[CV]  bootstrap=True, max_features=1.0, max_samples=0.9, n_estimators=15, score=(train=0.584, test=0.585), total=   1.5s\n",
      "[CV] bootstrap=False, max_features=1.0, max_samples=0.3, n_estimators=5 \n",
      "Building estimator 1 of 5 for this parallel run (total 5)...\n",
      "Building estimator 2 of 5 for this parallel run (total 5)...\n",
      "Building estimator 3 of 5 for this parallel run (total 5)...\n",
      "Building estimator 4 of 5 for this parallel run (total 5)..."
     ]
    },
    {
     "name": "stderr",
     "output_type": "stream",
     "text": [
      "[Parallel(n_jobs=1)]: Using backend SequentialBackend with 1 concurrent workers.\n"
     ]
    },
    {
     "name": "stdout",
     "output_type": "stream",
     "text": [
      "\n",
      "Building estimator 5 of 5 for this parallel run (total 5)...\n",
      "[CV]  bootstrap=False, max_features=1.0, max_samples=0.3, n_estimators=5, score=(train=0.581, test=0.575), total=   0.3s\n",
      "[CV] bootstrap=False, max_features=1.0, max_samples=0.3, n_estimators=5 "
     ]
    },
    {
     "name": "stderr",
     "output_type": "stream",
     "text": [
      "[Parallel(n_jobs=1)]: Done   1 out of   1 | elapsed:    0.2s remaining:    0.0s\n",
      "[Parallel(n_jobs=1)]: Done   1 out of   1 | elapsed:    0.2s finished\n",
      "[Parallel(n_jobs=1)]: Using backend SequentialBackend with 1 concurrent workers.\n",
      "[Parallel(n_jobs=1)]: Done   1 out of   1 | elapsed:    0.0s remaining:    0.0s\n",
      "[Parallel(n_jobs=1)]: Done   1 out of   1 | elapsed:    0.0s finished\n",
      "[Parallel(n_jobs=1)]: Using backend SequentialBackend with 1 concurrent workers.\n",
      "[Parallel(n_jobs=1)]: Done   1 out of   1 | elapsed:    0.0s remaining:    0.0s\n",
      "[Parallel(n_jobs=1)]: Done   1 out of   1 | elapsed:    0.0s finished\n",
      "[Parallel(n_jobs=1)]: Using backend SequentialBackend with 1 concurrent workers.\n"
     ]
    },
    {
     "name": "stdout",
     "output_type": "stream",
     "text": [
      "\n",
      "Building estimator 1 of 5 for this parallel run (total 5)...\n",
      "Building estimator 2 of 5 for this parallel run (total 5)...\n",
      "Building estimator 3 of 5 for this parallel run (total 5)...\n",
      "Building estimator 4 of 5 for this parallel run (total 5)...\n",
      "Building estimator 5 of 5 for this parallel run (total 5)...\n"
     ]
    },
    {
     "name": "stderr",
     "output_type": "stream",
     "text": [
      "[Parallel(n_jobs=1)]: Done   1 out of   1 | elapsed:    0.2s remaining:    0.0s\n",
      "[Parallel(n_jobs=1)]: Done   1 out of   1 | elapsed:    0.2s finished\n",
      "[Parallel(n_jobs=1)]: Using backend SequentialBackend with 1 concurrent workers.\n",
      "[Parallel(n_jobs=1)]: Done   1 out of   1 | elapsed:    0.0s remaining:    0.0s\n",
      "[Parallel(n_jobs=1)]: Done   1 out of   1 | elapsed:    0.0s finished\n",
      "[Parallel(n_jobs=1)]: Using backend SequentialBackend with 1 concurrent workers.\n",
      "[Parallel(n_jobs=1)]: Done   1 out of   1 | elapsed:    0.0s remaining:    0.0s\n",
      "[Parallel(n_jobs=1)]: Done   1 out of   1 | elapsed:    0.0s finished\n",
      "[Parallel(n_jobs=1)]: Using backend SequentialBackend with 1 concurrent workers.\n"
     ]
    },
    {
     "name": "stdout",
     "output_type": "stream",
     "text": [
      "[CV]  bootstrap=False, max_features=1.0, max_samples=0.3, n_estimators=5, score=(train=0.574, test=0.570), total=   0.3s\n",
      "[CV] bootstrap=False, max_features=1.0, max_samples=0.3, n_estimators=5 \n",
      "Building estimator 1 of 5 for this parallel run (total 5)...\n",
      "Building estimator 2 of 5 for this parallel run (total 5)...\n",
      "Building estimator 3 of 5 for this parallel run (total 5)...\n",
      "Building estimator 4 of 5 for this parallel run (total 5)...\n",
      "Building estimator 5 of 5 for this parallel run (total 5)...\n"
     ]
    },
    {
     "name": "stderr",
     "output_type": "stream",
     "text": [
      "[Parallel(n_jobs=1)]: Done   1 out of   1 | elapsed:    0.2s remaining:    0.0s\n",
      "[Parallel(n_jobs=1)]: Done   1 out of   1 | elapsed:    0.2s finished\n",
      "[Parallel(n_jobs=1)]: Using backend SequentialBackend with 1 concurrent workers.\n",
      "[Parallel(n_jobs=1)]: Done   1 out of   1 | elapsed:    0.0s remaining:    0.0s\n",
      "[Parallel(n_jobs=1)]: Done   1 out of   1 | elapsed:    0.0s finished\n",
      "[Parallel(n_jobs=1)]: Using backend SequentialBackend with 1 concurrent workers.\n",
      "[Parallel(n_jobs=1)]: Done   1 out of   1 | elapsed:    0.0s remaining:    0.0s\n",
      "[Parallel(n_jobs=1)]: Done   1 out of   1 | elapsed:    0.0s finished\n",
      "[Parallel(n_jobs=1)]: Using backend SequentialBackend with 1 concurrent workers.\n"
     ]
    },
    {
     "name": "stdout",
     "output_type": "stream",
     "text": [
      "[CV]  bootstrap=False, max_features=1.0, max_samples=0.3, n_estimators=5, score=(train=0.581, test=0.582), total=   0.3s\n",
      "[CV] bootstrap=False, max_features=1.0, max_samples=0.3, n_estimators=10 \n",
      "Building estimator 1 of 10 for this parallel run (total 10)...\n",
      "Building estimator 2 of 10 for this parallel run (total 10)...\n",
      "Building estimator 3 of 10 for this parallel run (total 10)...\n",
      "Building estimator 4 of 10 for this parallel run (total 10)...\n",
      "Building estimator 5 of 10 for this parallel run (total 10)...\n",
      "Building estimator 6 of 10 for this parallel run (total 10)...\n",
      "Building estimator 7 of 10 for this parallel run (total 10)...\n",
      "Building estimator 8 of 10 for this parallel run (total 10)...\n",
      "Building estimator 9 of 10 for this parallel run (total 10)...\n",
      "Building estimator 10 of 10 for this parallel run (total 10)...\n"
     ]
    },
    {
     "name": "stderr",
     "output_type": "stream",
     "text": [
      "[Parallel(n_jobs=1)]: Done   1 out of   1 | elapsed:    0.5s remaining:    0.0s\n",
      "[Parallel(n_jobs=1)]: Done   1 out of   1 | elapsed:    0.5s finished\n",
      "[Parallel(n_jobs=1)]: Using backend SequentialBackend with 1 concurrent workers.\n",
      "[Parallel(n_jobs=1)]: Done   1 out of   1 | elapsed:    0.0s remaining:    0.0s\n",
      "[Parallel(n_jobs=1)]: Done   1 out of   1 | elapsed:    0.0s finished\n",
      "[Parallel(n_jobs=1)]: Using backend SequentialBackend with 1 concurrent workers.\n",
      "[Parallel(n_jobs=1)]: Done   1 out of   1 | elapsed:    0.0s remaining:    0.0s\n",
      "[Parallel(n_jobs=1)]: Done   1 out of   1 | elapsed:    0.0s finished\n",
      "[Parallel(n_jobs=1)]: Using backend SequentialBackend with 1 concurrent workers.\n"
     ]
    },
    {
     "name": "stdout",
     "output_type": "stream",
     "text": [
      "[CV]  bootstrap=False, max_features=1.0, max_samples=0.3, n_estimators=10, score=(train=0.578, test=0.573), total=   0.7s\n",
      "[CV] bootstrap=False, max_features=1.0, max_samples=0.3, n_estimators=10 \n",
      "Building estimator 1 of 10 for this parallel run (total 10)...\n",
      "Building estimator 2 of 10 for this parallel run (total 10)...\n",
      "Building estimator 3 of 10 for this parallel run (total 10)...\n",
      "Building estimator 4 of 10 for this parallel run (total 10)...\n",
      "Building estimator 5 of 10 for this parallel run (total 10)...\n",
      "Building estimator 6 of 10 for this parallel run (total 10)...\n",
      "Building estimator 7 of 10 for this parallel run (total 10)...\n",
      "Building estimator 8 of 10 for this parallel run (total 10)...\n",
      "Building estimator 9 of 10 for this parallel run (total 10)...\n",
      "Building estimator 10 of 10 for this parallel run (total 10)...\n"
     ]
    },
    {
     "name": "stderr",
     "output_type": "stream",
     "text": [
      "[Parallel(n_jobs=1)]: Done   1 out of   1 | elapsed:    0.5s remaining:    0.0s\n",
      "[Parallel(n_jobs=1)]: Done   1 out of   1 | elapsed:    0.5s finished\n",
      "[Parallel(n_jobs=1)]: Using backend SequentialBackend with 1 concurrent workers.\n",
      "[Parallel(n_jobs=1)]: Done   1 out of   1 | elapsed:    0.0s remaining:    0.0s\n",
      "[Parallel(n_jobs=1)]: Done   1 out of   1 | elapsed:    0.0s finished\n",
      "[Parallel(n_jobs=1)]: Using backend SequentialBackend with 1 concurrent workers.\n",
      "[Parallel(n_jobs=1)]: Done   1 out of   1 | elapsed:    0.0s remaining:    0.0s\n",
      "[Parallel(n_jobs=1)]: Done   1 out of   1 | elapsed:    0.0s finished\n",
      "[Parallel(n_jobs=1)]: Using backend SequentialBackend with 1 concurrent workers.\n"
     ]
    },
    {
     "name": "stdout",
     "output_type": "stream",
     "text": [
      "[CV]  bootstrap=False, max_features=1.0, max_samples=0.3, n_estimators=10, score=(train=0.570, test=0.567), total=   0.7s\n",
      "[CV] bootstrap=False, max_features=1.0, max_samples=0.3, n_estimators=10 \n",
      "Building estimator 1 of 10 for this parallel run (total 10)...\n",
      "Building estimator 2 of 10 for this parallel run (total 10)...\n",
      "Building estimator 3 of 10 for this parallel run (total 10)...\n",
      "Building estimator 4 of 10 for this parallel run (total 10)...\n",
      "Building estimator 5 of 10 for this parallel run (total 10)...\n",
      "Building estimator 6 of 10 for this parallel run (total 10)...\n",
      "Building estimator 7 of 10 for this parallel run (total 10)...\n",
      "Building estimator 8 of 10 for this parallel run (total 10)...\n",
      "Building estimator 9 of 10 for this parallel run (total 10)...\n",
      "Building estimator 10 of 10 for this parallel run (total 10)...\n"
     ]
    },
    {
     "name": "stderr",
     "output_type": "stream",
     "text": [
      "[Parallel(n_jobs=1)]: Done   1 out of   1 | elapsed:    0.5s remaining:    0.0s\n",
      "[Parallel(n_jobs=1)]: Done   1 out of   1 | elapsed:    0.5s finished\n",
      "[Parallel(n_jobs=1)]: Using backend SequentialBackend with 1 concurrent workers.\n",
      "[Parallel(n_jobs=1)]: Done   1 out of   1 | elapsed:    0.0s remaining:    0.0s\n",
      "[Parallel(n_jobs=1)]: Done   1 out of   1 | elapsed:    0.0s finished\n",
      "[Parallel(n_jobs=1)]: Using backend SequentialBackend with 1 concurrent workers.\n",
      "[Parallel(n_jobs=1)]: Done   1 out of   1 | elapsed:    0.0s remaining:    0.0s\n",
      "[Parallel(n_jobs=1)]: Done   1 out of   1 | elapsed:    0.0s finished\n",
      "[Parallel(n_jobs=1)]: Using backend SequentialBackend with 1 concurrent workers.\n"
     ]
    },
    {
     "name": "stdout",
     "output_type": "stream",
     "text": [
      "[CV]  bootstrap=False, max_features=1.0, max_samples=0.3, n_estimators=10, score=(train=0.580, test=0.581), total=   0.6s\n",
      "[CV] bootstrap=False, max_features=1.0, max_samples=0.3, n_estimators=15 \n",
      "Building estimator 1 of 15 for this parallel run (total 15)...\n",
      "Building estimator 2 of 15 for this parallel run (total 15)...\n",
      "Building estimator 3 of 15 for this parallel run (total 15)...\n",
      "Building estimator 4 of 15 for this parallel run (total 15)...\n",
      "Building estimator 5 of 15 for this parallel run (total 15)...\n",
      "Building estimator 6 of 15 for this parallel run (total 15)...\n",
      "Building estimator 7 of 15 for this parallel run (total 15)...\n",
      "Building estimator 8 of 15 for this parallel run (total 15)...\n",
      "Building estimator 9 of 15 for this parallel run (total 15)...\n",
      "Building estimator 10 of 15 for this parallel run (total 15)...\n",
      "Building estimator 11 of 15 for this parallel run (total 15)...\n",
      "Building estimator 12 of 15 for this parallel run (total 15)...\n",
      "Building estimator 13 of 15 for this parallel run (total 15)...\n",
      "Building estimator 14 of 15 for this parallel run (total 15)...\n",
      "Building estimator 15 of 15 for this parallel run (total 15)...\n"
     ]
    },
    {
     "name": "stderr",
     "output_type": "stream",
     "text": [
      "[Parallel(n_jobs=1)]: Done   1 out of   1 | elapsed:    0.8s remaining:    0.0s\n",
      "[Parallel(n_jobs=1)]: Done   1 out of   1 | elapsed:    0.8s finished\n",
      "[Parallel(n_jobs=1)]: Using backend SequentialBackend with 1 concurrent workers.\n",
      "[Parallel(n_jobs=1)]: Done   1 out of   1 | elapsed:    0.0s remaining:    0.0s\n",
      "[Parallel(n_jobs=1)]: Done   1 out of   1 | elapsed:    0.0s finished\n",
      "[Parallel(n_jobs=1)]: Using backend SequentialBackend with 1 concurrent workers.\n",
      "[Parallel(n_jobs=1)]: Done   1 out of   1 | elapsed:    0.0s remaining:    0.0s\n",
      "[Parallel(n_jobs=1)]: Done   1 out of   1 | elapsed:    0.0s finished\n"
     ]
    },
    {
     "name": "stdout",
     "output_type": "stream",
     "text": [
      "[CV]  bootstrap=False, max_features=1.0, max_samples=0.3, n_estimators=15, score=(train=0.577, test=0.571), total=   1.0s\n",
      "[CV] bootstrap=False, max_features=1.0, max_samples=0.3, n_estimators=15 \n",
      "Building estimator 1 of 15 for this parallel run (total 15)...\n",
      "Building estimator 2 of 15 for this parallel run (total 15)...\n",
      "Building estimator 3 of 15 for this parallel run (total 15)...\n",
      "Building estimator 4 of 15 for this parallel run (total 15)...\n"
     ]
    },
    {
     "name": "stderr",
     "output_type": "stream",
     "text": [
      "[Parallel(n_jobs=1)]: Using backend SequentialBackend with 1 concurrent workers.\n"
     ]
    },
    {
     "name": "stdout",
     "output_type": "stream",
     "text": [
      "Building estimator 5 of 15 for this parallel run (total 15)...\n",
      "Building estimator 6 of 15 for this parallel run (total 15)...\n",
      "Building estimator 7 of 15 for this parallel run (total 15)...\n",
      "Building estimator 8 of 15 for this parallel run (total 15)...\n",
      "Building estimator 9 of 15 for this parallel run (total 15)...\n",
      "Building estimator 10 of 15 for this parallel run (total 15)...\n",
      "Building estimator 11 of 15 for this parallel run (total 15)...\n",
      "Building estimator 12 of 15 for this parallel run (total 15)...\n",
      "Building estimator 13 of 15 for this parallel run (total 15)...\n",
      "Building estimator 14 of 15 for this parallel run (total 15)...\n",
      "Building estimator 15 of 15 for this parallel run (total 15)...\n"
     ]
    },
    {
     "name": "stderr",
     "output_type": "stream",
     "text": [
      "[Parallel(n_jobs=1)]: Done   1 out of   1 | elapsed:    0.8s remaining:    0.0s\n",
      "[Parallel(n_jobs=1)]: Done   1 out of   1 | elapsed:    0.8s finished\n",
      "[Parallel(n_jobs=1)]: Using backend SequentialBackend with 1 concurrent workers.\n",
      "[Parallel(n_jobs=1)]: Done   1 out of   1 | elapsed:    0.0s remaining:    0.0s\n",
      "[Parallel(n_jobs=1)]: Done   1 out of   1 | elapsed:    0.0s finished\n",
      "[Parallel(n_jobs=1)]: Using backend SequentialBackend with 1 concurrent workers.\n",
      "[Parallel(n_jobs=1)]: Done   1 out of   1 | elapsed:    0.0s remaining:    0.0s\n",
      "[Parallel(n_jobs=1)]: Done   1 out of   1 | elapsed:    0.0s finished\n"
     ]
    },
    {
     "name": "stdout",
     "output_type": "stream",
     "text": [
      "[CV]  bootstrap=False, max_features=1.0, max_samples=0.3, n_estimators=15, score=(train=0.575, test=0.573), total=   0.9s\n",
      "[CV] bootstrap=False, max_features=1.0, max_samples=0.3, n_estimators=15 \n",
      "Building estimator 1 of 15 for this parallel run (total 15)...\n",
      "Building estimator 2 of 15 for this parallel run (total 15)...\n",
      "Building estimator 3 of 15 for this parallel run (total 15)...\n"
     ]
    },
    {
     "name": "stderr",
     "output_type": "stream",
     "text": [
      "[Parallel(n_jobs=1)]: Using backend SequentialBackend with 1 concurrent workers.\n"
     ]
    },
    {
     "name": "stdout",
     "output_type": "stream",
     "text": [
      "Building estimator 4 of 15 for this parallel run (total 15)...\n",
      "Building estimator 5 of 15 for this parallel run (total 15)...\n",
      "Building estimator 6 of 15 for this parallel run (total 15)...\n",
      "Building estimator 7 of 15 for this parallel run (total 15)...\n",
      "Building estimator 8 of 15 for this parallel run (total 15)...\n",
      "Building estimator 9 of 15 for this parallel run (total 15)...\n",
      "Building estimator 10 of 15 for this parallel run (total 15)...\n",
      "Building estimator 11 of 15 for this parallel run (total 15)...\n",
      "Building estimator 12 of 15 for this parallel run (total 15)...\n",
      "Building estimator 13 of 15 for this parallel run (total 15)...\n",
      "Building estimator 14 of 15 for this parallel run (total 15)...\n",
      "Building estimator 15 of 15 for this parallel run (total 15)...\n"
     ]
    },
    {
     "name": "stderr",
     "output_type": "stream",
     "text": [
      "[Parallel(n_jobs=1)]: Done   1 out of   1 | elapsed:    0.8s remaining:    0.0s\n",
      "[Parallel(n_jobs=1)]: Done   1 out of   1 | elapsed:    0.8s finished\n",
      "[Parallel(n_jobs=1)]: Using backend SequentialBackend with 1 concurrent workers.\n",
      "[Parallel(n_jobs=1)]: Done   1 out of   1 | elapsed:    0.0s remaining:    0.0s\n",
      "[Parallel(n_jobs=1)]: Done   1 out of   1 | elapsed:    0.0s finished\n",
      "[Parallel(n_jobs=1)]: Using backend SequentialBackend with 1 concurrent workers.\n",
      "[Parallel(n_jobs=1)]: Done   1 out of   1 | elapsed:    0.0s remaining:    0.0s\n",
      "[Parallel(n_jobs=1)]: Done   1 out of   1 | elapsed:    0.0s finished\n"
     ]
    },
    {
     "name": "stdout",
     "output_type": "stream",
     "text": [
      "[CV]  bootstrap=False, max_features=1.0, max_samples=0.3, n_estimators=15, score=(train=0.583, test=0.584), total=   1.0s\n",
      "[CV] bootstrap=False, max_features=1.0, max_samples=0.6, n_estimators=5 \n",
      "Building estimator 1 of 5 for this parallel run (total 5)...\n",
      "Building estimator 2 of 5 for this parallel run (total 5)...\n"
     ]
    },
    {
     "name": "stderr",
     "output_type": "stream",
     "text": [
      "[Parallel(n_jobs=1)]: Using backend SequentialBackend with 1 concurrent workers.\n"
     ]
    },
    {
     "name": "stdout",
     "output_type": "stream",
     "text": [
      "Building estimator 3 of 5 for this parallel run (total 5)...\n",
      "Building estimator 4 of 5 for this parallel run (total 5)...\n",
      "Building estimator 5 of 5 for this parallel run (total 5)...\n"
     ]
    },
    {
     "name": "stderr",
     "output_type": "stream",
     "text": [
      "[Parallel(n_jobs=1)]: Done   1 out of   1 | elapsed:    0.4s remaining:    0.0s\n",
      "[Parallel(n_jobs=1)]: Done   1 out of   1 | elapsed:    0.4s finished\n",
      "[Parallel(n_jobs=1)]: Using backend SequentialBackend with 1 concurrent workers.\n",
      "[Parallel(n_jobs=1)]: Done   1 out of   1 | elapsed:    0.0s remaining:    0.0s\n",
      "[Parallel(n_jobs=1)]: Done   1 out of   1 | elapsed:    0.0s finished\n",
      "[Parallel(n_jobs=1)]: Using backend SequentialBackend with 1 concurrent workers.\n",
      "[Parallel(n_jobs=1)]: Done   1 out of   1 | elapsed:    0.0s remaining:    0.0s\n",
      "[Parallel(n_jobs=1)]: Done   1 out of   1 | elapsed:    0.0s finished\n",
      "[Parallel(n_jobs=1)]: Using backend SequentialBackend with 1 concurrent workers.\n"
     ]
    },
    {
     "name": "stdout",
     "output_type": "stream",
     "text": [
      "[CV]  bootstrap=False, max_features=1.0, max_samples=0.6, n_estimators=5, score=(train=0.570, test=0.567), total=   0.5s\n",
      "[CV] bootstrap=False, max_features=1.0, max_samples=0.6, n_estimators=5 \n",
      "Building estimator 1 of 5 for this parallel run (total 5)...\n",
      "Building estimator 2 of 5 for this parallel run (total 5)...\n",
      "Building estimator 3 of 5 for this parallel run (total 5)...\n",
      "Building estimator 4 of 5 for this parallel run (total 5)...\n",
      "Building estimator 5 of 5 for this parallel run (total 5)...\n",
      "[CV]  bootstrap=False, max_features=1.0, max_samples=0.6, n_estimators=5, score=(train=0.573, test=0.570), total=   0.5s\n",
      "[CV] bootstrap=False, max_features=1.0, max_samples=0.6, n_estimators=5 \n"
     ]
    },
    {
     "name": "stderr",
     "output_type": "stream",
     "text": [
      "[Parallel(n_jobs=1)]: Done   1 out of   1 | elapsed:    0.4s remaining:    0.0s\n",
      "[Parallel(n_jobs=1)]: Done   1 out of   1 | elapsed:    0.4s finished\n",
      "[Parallel(n_jobs=1)]: Using backend SequentialBackend with 1 concurrent workers.\n",
      "[Parallel(n_jobs=1)]: Done   1 out of   1 | elapsed:    0.0s remaining:    0.0s\n",
      "[Parallel(n_jobs=1)]: Done   1 out of   1 | elapsed:    0.0s finished\n",
      "[Parallel(n_jobs=1)]: Using backend SequentialBackend with 1 concurrent workers.\n",
      "[Parallel(n_jobs=1)]: Done   1 out of   1 | elapsed:    0.0s remaining:    0.0s\n",
      "[Parallel(n_jobs=1)]: Done   1 out of   1 | elapsed:    0.0s finished\n",
      "[Parallel(n_jobs=1)]: Using backend SequentialBackend with 1 concurrent workers.\n"
     ]
    },
    {
     "name": "stdout",
     "output_type": "stream",
     "text": [
      "Building estimator 1 of 5 for this parallel run (total 5)...\n",
      "Building estimator 2 of 5 for this parallel run (total 5)...\n",
      "Building estimator 3 of 5 for this parallel run (total 5)...\n",
      "Building estimator 4 of 5 for this parallel run (total 5)...\n",
      "Building estimator 5 of 5 for this parallel run (total 5)...\n",
      "[CV]  bootstrap=False, max_features=1.0, max_samples=0.6, n_estimators=5, score=(train=0.596, test=0.596), total=   0.5s\n",
      "[CV] bootstrap=False, max_features=1.0, max_samples=0.6, n_estimators=10 "
     ]
    },
    {
     "name": "stderr",
     "output_type": "stream",
     "text": [
      "[Parallel(n_jobs=1)]: Done   1 out of   1 | elapsed:    0.4s remaining:    0.0s\n",
      "[Parallel(n_jobs=1)]: Done   1 out of   1 | elapsed:    0.4s finished\n",
      "[Parallel(n_jobs=1)]: Using backend SequentialBackend with 1 concurrent workers.\n",
      "[Parallel(n_jobs=1)]: Done   1 out of   1 | elapsed:    0.0s remaining:    0.0s\n",
      "[Parallel(n_jobs=1)]: Done   1 out of   1 | elapsed:    0.0s finished\n",
      "[Parallel(n_jobs=1)]: Using backend SequentialBackend with 1 concurrent workers.\n",
      "[Parallel(n_jobs=1)]: Done   1 out of   1 | elapsed:    0.0s remaining:    0.0s\n",
      "[Parallel(n_jobs=1)]: Done   1 out of   1 | elapsed:    0.0s finished\n",
      "[Parallel(n_jobs=1)]: Using backend SequentialBackend with 1 concurrent workers.\n"
     ]
    },
    {
     "name": "stdout",
     "output_type": "stream",
     "text": [
      "\n",
      "Building estimator 1 of 10 for this parallel run (total 10)...\n",
      "Building estimator 2 of 10 for this parallel run (total 10)...\n",
      "Building estimator 3 of 10 for this parallel run (total 10)...\n",
      "Building estimator 4 of 10 for this parallel run (total 10)...\n",
      "Building estimator 5 of 10 for this parallel run (total 10)...\n",
      "Building estimator 6 of 10 for this parallel run (total 10)...\n",
      "Building estimator 7 of 10 for this parallel run (total 10)...\n",
      "Building estimator 8 of 10 for this parallel run (total 10)...\n",
      "Building estimator 9 of 10 for this parallel run (total 10)...\n",
      "Building estimator 10 of 10 for this parallel run (total 10)...\n"
     ]
    },
    {
     "name": "stderr",
     "output_type": "stream",
     "text": [
      "[Parallel(n_jobs=1)]: Done   1 out of   1 | elapsed:    0.9s remaining:    0.0s\n",
      "[Parallel(n_jobs=1)]: Done   1 out of   1 | elapsed:    0.9s finished\n",
      "[Parallel(n_jobs=1)]: Using backend SequentialBackend with 1 concurrent workers.\n",
      "[Parallel(n_jobs=1)]: Done   1 out of   1 | elapsed:    0.0s remaining:    0.0s\n",
      "[Parallel(n_jobs=1)]: Done   1 out of   1 | elapsed:    0.0s finished\n",
      "[Parallel(n_jobs=1)]: Using backend SequentialBackend with 1 concurrent workers.\n",
      "[Parallel(n_jobs=1)]: Done   1 out of   1 | elapsed:    0.0s remaining:    0.0s\n",
      "[Parallel(n_jobs=1)]: Done   1 out of   1 | elapsed:    0.0s finished\n",
      "[Parallel(n_jobs=1)]: Using backend SequentialBackend with 1 concurrent workers.\n"
     ]
    },
    {
     "name": "stdout",
     "output_type": "stream",
     "text": [
      "[CV]  bootstrap=False, max_features=1.0, max_samples=0.6, n_estimators=10, score=(train=0.576, test=0.570), total=   1.1s\n",
      "[CV] bootstrap=False, max_features=1.0, max_samples=0.6, n_estimators=10 \n",
      "Building estimator 1 of 10 for this parallel run (total 10)...\n",
      "Building estimator 2 of 10 for this parallel run (total 10)...\n",
      "Building estimator 3 of 10 for this parallel run (total 10)...\n",
      "Building estimator 4 of 10 for this parallel run (total 10)...\n",
      "Building estimator 5 of 10 for this parallel run (total 10)...\n",
      "Building estimator 6 of 10 for this parallel run (total 10)...\n",
      "Building estimator 7 of 10 for this parallel run (total 10)...\n",
      "Building estimator 8 of 10 for this parallel run (total 10)...\n",
      "Building estimator 9 of 10 for this parallel run (total 10)...\n",
      "Building estimator 10 of 10 for this parallel run (total 10)...\n"
     ]
    },
    {
     "name": "stderr",
     "output_type": "stream",
     "text": [
      "[Parallel(n_jobs=1)]: Done   1 out of   1 | elapsed:    0.8s remaining:    0.0s\n",
      "[Parallel(n_jobs=1)]: Done   1 out of   1 | elapsed:    0.8s finished\n",
      "[Parallel(n_jobs=1)]: Using backend SequentialBackend with 1 concurrent workers.\n",
      "[Parallel(n_jobs=1)]: Done   1 out of   1 | elapsed:    0.0s remaining:    0.0s\n",
      "[Parallel(n_jobs=1)]: Done   1 out of   1 | elapsed:    0.0s finished\n",
      "[Parallel(n_jobs=1)]: Using backend SequentialBackend with 1 concurrent workers.\n",
      "[Parallel(n_jobs=1)]: Done   1 out of   1 | elapsed:    0.0s remaining:    0.0s\n",
      "[Parallel(n_jobs=1)]: Done   1 out of   1 | elapsed:    0.0s finished\n",
      "[Parallel(n_jobs=1)]: Using backend SequentialBackend with 1 concurrent workers.\n"
     ]
    },
    {
     "name": "stdout",
     "output_type": "stream",
     "text": [
      "[CV]  bootstrap=False, max_features=1.0, max_samples=0.6, n_estimators=10, score=(train=0.573, test=0.571), total=   1.0s\n",
      "[CV] bootstrap=False, max_features=1.0, max_samples=0.6, n_estimators=10 \n",
      "Building estimator 1 of 10 for this parallel run (total 10)...\n",
      "Building estimator 2 of 10 for this parallel run (total 10)...\n",
      "Building estimator 3 of 10 for this parallel run (total 10)...\n",
      "Building estimator 4 of 10 for this parallel run (total 10)...\n",
      "Building estimator 5 of 10 for this parallel run (total 10)...\n",
      "Building estimator 6 of 10 for this parallel run (total 10)...\n",
      "Building estimator 7 of 10 for this parallel run (total 10)...\n",
      "Building estimator 8 of 10 for this parallel run (total 10)...\n",
      "Building estimator 9 of 10 for this parallel run (total 10)...\n",
      "Building estimator 10 of 10 for this parallel run (total 10)...\n"
     ]
    },
    {
     "name": "stderr",
     "output_type": "stream",
     "text": [
      "[Parallel(n_jobs=1)]: Done   1 out of   1 | elapsed:    0.7s remaining:    0.0s\n",
      "[Parallel(n_jobs=1)]: Done   1 out of   1 | elapsed:    0.7s finished\n",
      "[Parallel(n_jobs=1)]: Using backend SequentialBackend with 1 concurrent workers.\n",
      "[Parallel(n_jobs=1)]: Done   1 out of   1 | elapsed:    0.0s remaining:    0.0s\n",
      "[Parallel(n_jobs=1)]: Done   1 out of   1 | elapsed:    0.0s finished\n",
      "[Parallel(n_jobs=1)]: Using backend SequentialBackend with 1 concurrent workers.\n",
      "[Parallel(n_jobs=1)]: Done   1 out of   1 | elapsed:    0.0s remaining:    0.0s\n",
      "[Parallel(n_jobs=1)]: Done   1 out of   1 | elapsed:    0.0s finished\n"
     ]
    },
    {
     "name": "stdout",
     "output_type": "stream",
     "text": [
      "[CV]  bootstrap=False, max_features=1.0, max_samples=0.6, n_estimators=10, score=(train=0.584, test=0.584), total=   0.9s\n",
      "[CV] bootstrap=False, max_features=1.0, max_samples=0.6, n_estimators=15 \n",
      "Building estimator 1 of 15 for this parallel run (total 15)...\n",
      "Building estimator 2 of 15 for this parallel run (total 15)...\n"
     ]
    },
    {
     "name": "stderr",
     "output_type": "stream",
     "text": [
      "[Parallel(n_jobs=1)]: Using backend SequentialBackend with 1 concurrent workers.\n"
     ]
    },
    {
     "name": "stdout",
     "output_type": "stream",
     "text": [
      "Building estimator 3 of 15 for this parallel run (total 15)...\n",
      "Building estimator 4 of 15 for this parallel run (total 15)...\n",
      "Building estimator 5 of 15 for this parallel run (total 15)...\n",
      "Building estimator 6 of 15 for this parallel run (total 15)...\n",
      "Building estimator 7 of 15 for this parallel run (total 15)...\n",
      "Building estimator 8 of 15 for this parallel run (total 15)...\n",
      "Building estimator 9 of 15 for this parallel run (total 15)...\n",
      "Building estimator 10 of 15 for this parallel run (total 15)...\n",
      "Building estimator 11 of 15 for this parallel run (total 15)...\n",
      "Building estimator 12 of 15 for this parallel run (total 15)...\n",
      "Building estimator 13 of 15 for this parallel run (total 15)...\n",
      "Building estimator 14 of 15 for this parallel run (total 15)...\n",
      "Building estimator 15 of 15 for this parallel run (total 15)...\n"
     ]
    },
    {
     "name": "stderr",
     "output_type": "stream",
     "text": [
      "[Parallel(n_jobs=1)]: Done   1 out of   1 | elapsed:    1.2s remaining:    0.0s\n",
      "[Parallel(n_jobs=1)]: Done   1 out of   1 | elapsed:    1.2s finished\n",
      "[Parallel(n_jobs=1)]: Using backend SequentialBackend with 1 concurrent workers.\n",
      "[Parallel(n_jobs=1)]: Done   1 out of   1 | elapsed:    0.0s remaining:    0.0s\n",
      "[Parallel(n_jobs=1)]: Done   1 out of   1 | elapsed:    0.0s finished\n",
      "[Parallel(n_jobs=1)]: Using backend SequentialBackend with 1 concurrent workers.\n",
      "[Parallel(n_jobs=1)]: Done   1 out of   1 | elapsed:    0.0s remaining:    0.0s\n",
      "[Parallel(n_jobs=1)]: Done   1 out of   1 | elapsed:    0.0s finished\n"
     ]
    },
    {
     "name": "stdout",
     "output_type": "stream",
     "text": [
      "[CV]  bootstrap=False, max_features=1.0, max_samples=0.6, n_estimators=15, score=(train=0.577, test=0.571), total=   1.4s\n",
      "[CV] bootstrap=False, max_features=1.0, max_samples=0.6, n_estimators=15 \n",
      "Building estimator 1 of 15 for this parallel run (total 15)...\n",
      "Building estimator 2 of 15 for this parallel run (total 15)...\n",
      "Building estimator 3 of 15 for this parallel run (total 15)..."
     ]
    },
    {
     "name": "stderr",
     "output_type": "stream",
     "text": [
      "[Parallel(n_jobs=1)]: Using backend SequentialBackend with 1 concurrent workers.\n"
     ]
    },
    {
     "name": "stdout",
     "output_type": "stream",
     "text": [
      "\n",
      "Building estimator 4 of 15 for this parallel run (total 15)...\n",
      "Building estimator 5 of 15 for this parallel run (total 15)...\n",
      "Building estimator 6 of 15 for this parallel run (total 15)...\n",
      "Building estimator 7 of 15 for this parallel run (total 15)...\n",
      "Building estimator 8 of 15 for this parallel run (total 15)...\n",
      "Building estimator 9 of 15 for this parallel run (total 15)...\n",
      "Building estimator 10 of 15 for this parallel run (total 15)...\n",
      "Building estimator 11 of 15 for this parallel run (total 15)...\n",
      "Building estimator 12 of 15 for this parallel run (total 15)...\n",
      "Building estimator 13 of 15 for this parallel run (total 15)...\n",
      "Building estimator 14 of 15 for this parallel run (total 15)...\n",
      "Building estimator 15 of 15 for this parallel run (total 15)...\n"
     ]
    },
    {
     "name": "stderr",
     "output_type": "stream",
     "text": [
      "[Parallel(n_jobs=1)]: Done   1 out of   1 | elapsed:    1.5s remaining:    0.0s\n",
      "[Parallel(n_jobs=1)]: Done   1 out of   1 | elapsed:    1.5s finished\n",
      "[Parallel(n_jobs=1)]: Using backend SequentialBackend with 1 concurrent workers.\n",
      "[Parallel(n_jobs=1)]: Done   1 out of   1 | elapsed:    0.0s remaining:    0.0s\n",
      "[Parallel(n_jobs=1)]: Done   1 out of   1 | elapsed:    0.0s finished\n",
      "[Parallel(n_jobs=1)]: Using backend SequentialBackend with 1 concurrent workers.\n",
      "[Parallel(n_jobs=1)]: Done   1 out of   1 | elapsed:    0.0s remaining:    0.0s\n",
      "[Parallel(n_jobs=1)]: Done   1 out of   1 | elapsed:    0.0s finished\n",
      "[Parallel(n_jobs=1)]: Using backend SequentialBackend with 1 concurrent workers.\n"
     ]
    },
    {
     "name": "stdout",
     "output_type": "stream",
     "text": [
      "[CV]  bootstrap=False, max_features=1.0, max_samples=0.6, n_estimators=15, score=(train=0.573, test=0.571), total=   1.7s\n",
      "[CV] bootstrap=False, max_features=1.0, max_samples=0.6, n_estimators=15 \n",
      "Building estimator 1 of 15 for this parallel run (total 15)...\n",
      "Building estimator 2 of 15 for this parallel run (total 15)...\n",
      "Building estimator 3 of 15 for this parallel run (total 15)...\n",
      "Building estimator 4 of 15 for this parallel run (total 15)...\n",
      "Building estimator 5 of 15 for this parallel run (total 15)...\n",
      "Building estimator 6 of 15 for this parallel run (total 15)...\n",
      "Building estimator 7 of 15 for this parallel run (total 15)...\n",
      "Building estimator 8 of 15 for this parallel run (total 15)...\n",
      "Building estimator 9 of 15 for this parallel run (total 15)...\n",
      "Building estimator 10 of 15 for this parallel run (total 15)...\n",
      "Building estimator 11 of 15 for this parallel run (total 15)...\n",
      "Building estimator 12 of 15 for this parallel run (total 15)...\n",
      "Building estimator 13 of 15 for this parallel run (total 15)...\n",
      "Building estimator 14 of 15 for this parallel run (total 15)...\n",
      "Building estimator 15 of 15 for this parallel run (total 15)...\n"
     ]
    },
    {
     "name": "stderr",
     "output_type": "stream",
     "text": [
      "[Parallel(n_jobs=1)]: Done   1 out of   1 | elapsed:    1.3s remaining:    0.0s\n",
      "[Parallel(n_jobs=1)]: Done   1 out of   1 | elapsed:    1.3s finished\n",
      "[Parallel(n_jobs=1)]: Using backend SequentialBackend with 1 concurrent workers.\n",
      "[Parallel(n_jobs=1)]: Done   1 out of   1 | elapsed:    0.0s remaining:    0.0s\n",
      "[Parallel(n_jobs=1)]: Done   1 out of   1 | elapsed:    0.0s finished\n",
      "[Parallel(n_jobs=1)]: Using backend SequentialBackend with 1 concurrent workers.\n",
      "[Parallel(n_jobs=1)]: Done   1 out of   1 | elapsed:    0.0s remaining:    0.0s\n",
      "[Parallel(n_jobs=1)]: Done   1 out of   1 | elapsed:    0.0s finished\n",
      "[Parallel(n_jobs=1)]: Using backend SequentialBackend with 1 concurrent workers.\n"
     ]
    },
    {
     "name": "stdout",
     "output_type": "stream",
     "text": [
      "[CV]  bootstrap=False, max_features=1.0, max_samples=0.6, n_estimators=15, score=(train=0.585, test=0.586), total=   1.4s\n",
      "[CV] bootstrap=False, max_features=1.0, max_samples=0.9, n_estimators=5 \n",
      "Building estimator 1 of 5 for this parallel run (total 5)...\n",
      "Building estimator 2 of 5 for this parallel run (total 5)...\n",
      "Building estimator 3 of 5 for this parallel run (total 5)...\n",
      "Building estimator 4 of 5 for this parallel run (total 5)...\n",
      "Building estimator 5 of 5 for this parallel run (total 5)...\n"
     ]
    },
    {
     "name": "stderr",
     "output_type": "stream",
     "text": [
      "[Parallel(n_jobs=1)]: Done   1 out of   1 | elapsed:    0.6s remaining:    0.0s\n",
      "[Parallel(n_jobs=1)]: Done   1 out of   1 | elapsed:    0.6s finished\n",
      "[Parallel(n_jobs=1)]: Using backend SequentialBackend with 1 concurrent workers.\n",
      "[Parallel(n_jobs=1)]: Done   1 out of   1 | elapsed:    0.0s remaining:    0.0s\n",
      "[Parallel(n_jobs=1)]: Done   1 out of   1 | elapsed:    0.0s finished\n",
      "[Parallel(n_jobs=1)]: Using backend SequentialBackend with 1 concurrent workers.\n",
      "[Parallel(n_jobs=1)]: Done   1 out of   1 | elapsed:    0.0s remaining:    0.0s\n",
      "[Parallel(n_jobs=1)]: Done   1 out of   1 | elapsed:    0.0s finished\n",
      "[Parallel(n_jobs=1)]: Using backend SequentialBackend with 1 concurrent workers.\n"
     ]
    },
    {
     "name": "stdout",
     "output_type": "stream",
     "text": [
      "[CV]  bootstrap=False, max_features=1.0, max_samples=0.9, n_estimators=5, score=(train=0.590, test=0.583), total=   0.7s\n",
      "[CV] bootstrap=False, max_features=1.0, max_samples=0.9, n_estimators=5 \n",
      "Building estimator 1 of 5 for this parallel run (total 5)...\n",
      "Building estimator 2 of 5 for this parallel run (total 5)...\n",
      "Building estimator 3 of 5 for this parallel run (total 5)...\n",
      "Building estimator 4 of 5 for this parallel run (total 5)...\n",
      "Building estimator 5 of 5 for this parallel run (total 5)...\n",
      "[CV]  bootstrap=False, max_features=1.0, max_samples=0.9, n_estimators=5, score=(train=0.565, test=0.561), total=   0.6s"
     ]
    },
    {
     "name": "stderr",
     "output_type": "stream",
     "text": [
      "[Parallel(n_jobs=1)]: Done   1 out of   1 | elapsed:    0.5s remaining:    0.0s\n",
      "[Parallel(n_jobs=1)]: Done   1 out of   1 | elapsed:    0.5s finished\n",
      "[Parallel(n_jobs=1)]: Using backend SequentialBackend with 1 concurrent workers.\n",
      "[Parallel(n_jobs=1)]: Done   1 out of   1 | elapsed:    0.0s remaining:    0.0s\n",
      "[Parallel(n_jobs=1)]: Done   1 out of   1 | elapsed:    0.0s finished\n",
      "[Parallel(n_jobs=1)]: Using backend SequentialBackend with 1 concurrent workers.\n",
      "[Parallel(n_jobs=1)]: Done   1 out of   1 | elapsed:    0.0s remaining:    0.0s\n",
      "[Parallel(n_jobs=1)]: Done   1 out of   1 | elapsed:    0.0s finished\n",
      "[Parallel(n_jobs=1)]: Using backend SequentialBackend with 1 concurrent workers.\n"
     ]
    },
    {
     "name": "stdout",
     "output_type": "stream",
     "text": [
      "\n",
      "[CV] bootstrap=False, max_features=1.0, max_samples=0.9, n_estimators=5 \n",
      "Building estimator 1 of 5 for this parallel run (total 5)...\n",
      "Building estimator 2 of 5 for this parallel run (total 5)...\n",
      "Building estimator 3 of 5 for this parallel run (total 5)...\n",
      "Building estimator 4 of 5 for this parallel run (total 5)...\n",
      "Building estimator 5 of 5 for this parallel run (total 5)...\n"
     ]
    },
    {
     "name": "stderr",
     "output_type": "stream",
     "text": [
      "[Parallel(n_jobs=1)]: Done   1 out of   1 | elapsed:    0.5s remaining:    0.0s\n",
      "[Parallel(n_jobs=1)]: Done   1 out of   1 | elapsed:    0.5s finished\n",
      "[Parallel(n_jobs=1)]: Using backend SequentialBackend with 1 concurrent workers.\n",
      "[Parallel(n_jobs=1)]: Done   1 out of   1 | elapsed:    0.0s remaining:    0.0s\n",
      "[Parallel(n_jobs=1)]: Done   1 out of   1 | elapsed:    0.0s finished\n",
      "[Parallel(n_jobs=1)]: Using backend SequentialBackend with 1 concurrent workers.\n",
      "[Parallel(n_jobs=1)]: Done   1 out of   1 | elapsed:    0.0s remaining:    0.0s\n",
      "[Parallel(n_jobs=1)]: Done   1 out of   1 | elapsed:    0.0s finished\n",
      "[Parallel(n_jobs=1)]: Using backend SequentialBackend with 1 concurrent workers.\n"
     ]
    },
    {
     "name": "stdout",
     "output_type": "stream",
     "text": [
      "[CV]  bootstrap=False, max_features=1.0, max_samples=0.9, n_estimators=5, score=(train=0.580, test=0.581), total=   0.6s\n",
      "[CV] bootstrap=False, max_features=1.0, max_samples=0.9, n_estimators=10 \n",
      "Building estimator 1 of 10 for this parallel run (total 10)...\n",
      "Building estimator 2 of 10 for this parallel run (total 10)...\n",
      "Building estimator 3 of 10 for this parallel run (total 10)...\n",
      "Building estimator 4 of 10 for this parallel run (total 10)...\n",
      "Building estimator 5 of 10 for this parallel run (total 10)...\n",
      "Building estimator 6 of 10 for this parallel run (total 10)...\n",
      "Building estimator 7 of 10 for this parallel run (total 10)...\n",
      "Building estimator 8 of 10 for this parallel run (total 10)...\n",
      "Building estimator 9 of 10 for this parallel run (total 10)...\n",
      "Building estimator 10 of 10 for this parallel run (total 10)...\n"
     ]
    },
    {
     "name": "stderr",
     "output_type": "stream",
     "text": [
      "[Parallel(n_jobs=1)]: Done   1 out of   1 | elapsed:    1.0s remaining:    0.0s\n",
      "[Parallel(n_jobs=1)]: Done   1 out of   1 | elapsed:    1.0s finished\n",
      "[Parallel(n_jobs=1)]: Using backend SequentialBackend with 1 concurrent workers.\n",
      "[Parallel(n_jobs=1)]: Done   1 out of   1 | elapsed:    0.0s remaining:    0.0s\n",
      "[Parallel(n_jobs=1)]: Done   1 out of   1 | elapsed:    0.0s finished\n",
      "[Parallel(n_jobs=1)]: Using backend SequentialBackend with 1 concurrent workers.\n",
      "[Parallel(n_jobs=1)]: Done   1 out of   1 | elapsed:    0.0s remaining:    0.0s\n",
      "[Parallel(n_jobs=1)]: Done   1 out of   1 | elapsed:    0.0s finished\n",
      "[Parallel(n_jobs=1)]: Using backend SequentialBackend with 1 concurrent workers.\n"
     ]
    },
    {
     "name": "stdout",
     "output_type": "stream",
     "text": [
      "[CV]  bootstrap=False, max_features=1.0, max_samples=0.9, n_estimators=10, score=(train=0.582, test=0.575), total=   1.2s\n",
      "[CV] bootstrap=False, max_features=1.0, max_samples=0.9, n_estimators=10 \n",
      "Building estimator 1 of 10 for this parallel run (total 10)...\n",
      "Building estimator 2 of 10 for this parallel run (total 10)...\n",
      "Building estimator 3 of 10 for this parallel run (total 10)...\n",
      "Building estimator 4 of 10 for this parallel run (total 10)...\n",
      "Building estimator 5 of 10 for this parallel run (total 10)...\n",
      "Building estimator 6 of 10 for this parallel run (total 10)...\n",
      "Building estimator 7 of 10 for this parallel run (total 10)...\n",
      "Building estimator 8 of 10 for this parallel run (total 10)...\n",
      "Building estimator 9 of 10 for this parallel run (total 10)...\n",
      "Building estimator 10 of 10 for this parallel run (total 10)...\n"
     ]
    },
    {
     "name": "stderr",
     "output_type": "stream",
     "text": [
      "[Parallel(n_jobs=1)]: Done   1 out of   1 | elapsed:    1.1s remaining:    0.0s\n",
      "[Parallel(n_jobs=1)]: Done   1 out of   1 | elapsed:    1.1s finished\n",
      "[Parallel(n_jobs=1)]: Using backend SequentialBackend with 1 concurrent workers.\n",
      "[Parallel(n_jobs=1)]: Done   1 out of   1 | elapsed:    0.0s remaining:    0.0s\n",
      "[Parallel(n_jobs=1)]: Done   1 out of   1 | elapsed:    0.0s finished\n",
      "[Parallel(n_jobs=1)]: Using backend SequentialBackend with 1 concurrent workers.\n",
      "[Parallel(n_jobs=1)]: Done   1 out of   1 | elapsed:    0.0s remaining:    0.0s\n",
      "[Parallel(n_jobs=1)]: Done   1 out of   1 | elapsed:    0.0s finished\n",
      "[Parallel(n_jobs=1)]: Using backend SequentialBackend with 1 concurrent workers.\n"
     ]
    },
    {
     "name": "stdout",
     "output_type": "stream",
     "text": [
      "[CV]  bootstrap=False, max_features=1.0, max_samples=0.9, n_estimators=10, score=(train=0.564, test=0.560), total=   1.3s\n",
      "[CV] bootstrap=False, max_features=1.0, max_samples=0.9, n_estimators=10 \n",
      "Building estimator 1 of 10 for this parallel run (total 10)...\n",
      "Building estimator 2 of 10 for this parallel run (total 10)...\n",
      "Building estimator 3 of 10 for this parallel run (total 10)...\n",
      "Building estimator 4 of 10 for this parallel run (total 10)...\n",
      "Building estimator 5 of 10 for this parallel run (total 10)...\n",
      "Building estimator 6 of 10 for this parallel run (total 10)...\n",
      "Building estimator 7 of 10 for this parallel run (total 10)...\n",
      "Building estimator 8 of 10 for this parallel run (total 10)...\n",
      "Building estimator 9 of 10 for this parallel run (total 10)...\n",
      "Building estimator 10 of 10 for this parallel run (total 10)...\n"
     ]
    },
    {
     "name": "stderr",
     "output_type": "stream",
     "text": [
      "[Parallel(n_jobs=1)]: Done   1 out of   1 | elapsed:    1.2s remaining:    0.0s\n",
      "[Parallel(n_jobs=1)]: Done   1 out of   1 | elapsed:    1.2s finished\n",
      "[Parallel(n_jobs=1)]: Using backend SequentialBackend with 1 concurrent workers.\n",
      "[Parallel(n_jobs=1)]: Done   1 out of   1 | elapsed:    0.0s remaining:    0.0s\n",
      "[Parallel(n_jobs=1)]: Done   1 out of   1 | elapsed:    0.0s finished\n",
      "[Parallel(n_jobs=1)]: Using backend SequentialBackend with 1 concurrent workers.\n",
      "[Parallel(n_jobs=1)]: Done   1 out of   1 | elapsed:    0.0s remaining:    0.0s\n",
      "[Parallel(n_jobs=1)]: Done   1 out of   1 | elapsed:    0.0s finished\n",
      "[Parallel(n_jobs=1)]: Using backend SequentialBackend with 1 concurrent workers.\n"
     ]
    },
    {
     "name": "stdout",
     "output_type": "stream",
     "text": [
      "[CV]  bootstrap=False, max_features=1.0, max_samples=0.9, n_estimators=10, score=(train=0.583, test=0.583), total=   1.3s\n",
      "[CV] bootstrap=False, max_features=1.0, max_samples=0.9, n_estimators=15 \n",
      "Building estimator 1 of 15 for this parallel run (total 15)...\n",
      "Building estimator 2 of 15 for this parallel run (total 15)...\n",
      "Building estimator 3 of 15 for this parallel run (total 15)...\n",
      "Building estimator 4 of 15 for this parallel run (total 15)...\n",
      "Building estimator 5 of 15 for this parallel run (total 15)...\n",
      "Building estimator 6 of 15 for this parallel run (total 15)...\n",
      "Building estimator 7 of 15 for this parallel run (total 15)...\n",
      "Building estimator 8 of 15 for this parallel run (total 15)...\n",
      "Building estimator 9 of 15 for this parallel run (total 15)...\n",
      "Building estimator 10 of 15 for this parallel run (total 15)...\n",
      "Building estimator 11 of 15 for this parallel run (total 15)...\n",
      "Building estimator 12 of 15 for this parallel run (total 15)...\n",
      "Building estimator 13 of 15 for this parallel run (total 15)...\n",
      "Building estimator 14 of 15 for this parallel run (total 15)...\n",
      "Building estimator 15 of 15 for this parallel run (total 15)...\n"
     ]
    },
    {
     "name": "stderr",
     "output_type": "stream",
     "text": [
      "[Parallel(n_jobs=1)]: Done   1 out of   1 | elapsed:    1.7s remaining:    0.0s\n",
      "[Parallel(n_jobs=1)]: Done   1 out of   1 | elapsed:    1.7s finished\n",
      "[Parallel(n_jobs=1)]: Using backend SequentialBackend with 1 concurrent workers.\n",
      "[Parallel(n_jobs=1)]: Done   1 out of   1 | elapsed:    0.0s remaining:    0.0s\n",
      "[Parallel(n_jobs=1)]: Done   1 out of   1 | elapsed:    0.0s finished\n",
      "[Parallel(n_jobs=1)]: Using backend SequentialBackend with 1 concurrent workers.\n",
      "[Parallel(n_jobs=1)]: Done   1 out of   1 | elapsed:    0.0s remaining:    0.0s\n",
      "[Parallel(n_jobs=1)]: Done   1 out of   1 | elapsed:    0.0s finished\n"
     ]
    },
    {
     "name": "stdout",
     "output_type": "stream",
     "text": [
      "[CV]  bootstrap=False, max_features=1.0, max_samples=0.9, n_estimators=15, score=(train=0.582, test=0.576), total=   1.8s\n",
      "[CV] bootstrap=False, max_features=1.0, max_samples=0.9, n_estimators=15 \n",
      "Building estimator 1 of 15 for this parallel run (total 15)...\n",
      "Building estimator 2 of 15 for this parallel run (total 15)..."
     ]
    },
    {
     "name": "stderr",
     "output_type": "stream",
     "text": [
      "[Parallel(n_jobs=1)]: Using backend SequentialBackend with 1 concurrent workers.\n"
     ]
    },
    {
     "name": "stdout",
     "output_type": "stream",
     "text": [
      "\n",
      "Building estimator 3 of 15 for this parallel run (total 15)...\n",
      "Building estimator 4 of 15 for this parallel run (total 15)...\n",
      "Building estimator 5 of 15 for this parallel run (total 15)...\n",
      "Building estimator 6 of 15 for this parallel run (total 15)...\n",
      "Building estimator 7 of 15 for this parallel run (total 15)...\n",
      "Building estimator 8 of 15 for this parallel run (total 15)...\n",
      "Building estimator 9 of 15 for this parallel run (total 15)...\n",
      "Building estimator 10 of 15 for this parallel run (total 15)...\n",
      "Building estimator 11 of 15 for this parallel run (total 15)...\n",
      "Building estimator 12 of 15 for this parallel run (total 15)...\n",
      "Building estimator 13 of 15 for this parallel run (total 15)...\n",
      "Building estimator 14 of 15 for this parallel run (total 15)...\n",
      "Building estimator 15 of 15 for this parallel run (total 15)...\n"
     ]
    },
    {
     "name": "stderr",
     "output_type": "stream",
     "text": [
      "[Parallel(n_jobs=1)]: Done   1 out of   1 | elapsed:    1.8s remaining:    0.0s\n",
      "[Parallel(n_jobs=1)]: Done   1 out of   1 | elapsed:    1.8s finished\n",
      "[Parallel(n_jobs=1)]: Using backend SequentialBackend with 1 concurrent workers.\n",
      "[Parallel(n_jobs=1)]: Done   1 out of   1 | elapsed:    0.0s remaining:    0.0s\n",
      "[Parallel(n_jobs=1)]: Done   1 out of   1 | elapsed:    0.0s finished\n",
      "[Parallel(n_jobs=1)]: Using backend SequentialBackend with 1 concurrent workers.\n",
      "[Parallel(n_jobs=1)]: Done   1 out of   1 | elapsed:    0.0s remaining:    0.0s\n",
      "[Parallel(n_jobs=1)]: Done   1 out of   1 | elapsed:    0.0s finished\n",
      "[Parallel(n_jobs=1)]: Using backend SequentialBackend with 1 concurrent workers.\n"
     ]
    },
    {
     "name": "stdout",
     "output_type": "stream",
     "text": [
      "[CV]  bootstrap=False, max_features=1.0, max_samples=0.9, n_estimators=15, score=(train=0.564, test=0.560), total=   2.0s\n",
      "[CV] bootstrap=False, max_features=1.0, max_samples=0.9, n_estimators=15 \n",
      "Building estimator 1 of 15 for this parallel run (total 15)...\n",
      "Building estimator 2 of 15 for this parallel run (total 15)...\n",
      "Building estimator 3 of 15 for this parallel run (total 15)...\n",
      "Building estimator 4 of 15 for this parallel run (total 15)...\n",
      "Building estimator 5 of 15 for this parallel run (total 15)...\n",
      "Building estimator 6 of 15 for this parallel run (total 15)...\n",
      "Building estimator 7 of 15 for this parallel run (total 15)...\n",
      "Building estimator 8 of 15 for this parallel run (total 15)...\n",
      "Building estimator 9 of 15 for this parallel run (total 15)...\n",
      "Building estimator 10 of 15 for this parallel run (total 15)...\n",
      "Building estimator 11 of 15 for this parallel run (total 15)...\n",
      "Building estimator 12 of 15 for this parallel run (total 15)...\n",
      "Building estimator 13 of 15 for this parallel run (total 15)...\n",
      "Building estimator 14 of 15 for this parallel run (total 15)...\n",
      "Building estimator 15 of 15 for this parallel run (total 15)...\n"
     ]
    },
    {
     "name": "stderr",
     "output_type": "stream",
     "text": [
      "[Parallel(n_jobs=1)]: Done   1 out of   1 | elapsed:    1.8s remaining:    0.0s\n",
      "[Parallel(n_jobs=1)]: Done   1 out of   1 | elapsed:    1.8s finished\n",
      "[Parallel(n_jobs=1)]: Using backend SequentialBackend with 1 concurrent workers.\n",
      "[Parallel(n_jobs=1)]: Done   1 out of   1 | elapsed:    0.0s remaining:    0.0s\n",
      "[Parallel(n_jobs=1)]: Done   1 out of   1 | elapsed:    0.0s finished\n",
      "[Parallel(n_jobs=1)]: Using backend SequentialBackend with 1 concurrent workers.\n",
      "[Parallel(n_jobs=1)]: Done   1 out of   1 | elapsed:    0.0s remaining:    0.0s\n",
      "[Parallel(n_jobs=1)]: Done   1 out of   1 | elapsed:    0.0s finished\n"
     ]
    },
    {
     "name": "stdout",
     "output_type": "stream",
     "text": [
      "[CV]  bootstrap=False, max_features=1.0, max_samples=0.9, n_estimators=15, score=(train=0.583, test=0.583), total=   2.0s\n",
      "Building estimator 1 of 5 for this parallel run (total 5)...\n",
      "Building estimator 2 of 5 for this parallel run (total 5)...\n",
      "Building estimator 3 of 5 for this parallel run (total 5)..."
     ]
    },
    {
     "name": "stderr",
     "output_type": "stream",
     "text": [
      "[Parallel(n_jobs=1)]: Done  54 out of  54 | elapsed:   53.2s finished\n",
      "[Parallel(n_jobs=1)]: Using backend SequentialBackend with 1 concurrent workers.\n"
     ]
    },
    {
     "name": "stdout",
     "output_type": "stream",
     "text": [
      "\n",
      "Building estimator 4 of 5 for this parallel run (total 5)...\n",
      "Building estimator 5 of 5 for this parallel run (total 5)...\n"
     ]
    },
    {
     "name": "stderr",
     "output_type": "stream",
     "text": [
      "[Parallel(n_jobs=1)]: Done   1 out of   1 | elapsed:    0.3s remaining:    0.0s\n",
      "[Parallel(n_jobs=1)]: Done   1 out of   1 | elapsed:    0.3s finished\n"
     ]
    },
    {
     "data": {
      "text/plain": [
       "GridSearchCV(cv=3, error_score='raise-deprecating',\n",
       "             estimator=BaggingClassifier(base_estimator=DecisionTreeClassifier(class_weight='balanced',\n",
       "                                                                               criterion='gini',\n",
       "                                                                               max_depth=4,\n",
       "                                                                               max_features=None,\n",
       "                                                                               max_leaf_nodes=None,\n",
       "                                                                               min_impurity_decrease=0.0,\n",
       "                                                                               min_impurity_split=None,\n",
       "                                                                               min_samples_leaf=1,\n",
       "                                                                               min_samples_split=2,\n",
       "                                                                               min_weight_fraction_leaf=0.0,\n",
       "                                                                               presort=False,\n",
       "                                                                               random_stat...\n",
       "                                         bootstrap_features=False,\n",
       "                                         max_features=1.0, max_samples=1.0,\n",
       "                                         n_estimators=10, n_jobs=None,\n",
       "                                         oob_score=False, random_state=1,\n",
       "                                         verbose=10, warm_start=False),\n",
       "             iid='warn', n_jobs=None,\n",
       "             param_grid={'bootstrap': [True, False], 'max_features': [1.0],\n",
       "                         'max_samples': [0.3, 0.6, 0.9],\n",
       "                         'n_estimators': [5, 10, 15]},\n",
       "             pre_dispatch='2*n_jobs', refit=True, return_train_score=True,\n",
       "             scoring='f1_macro', verbose=10)"
      ]
     },
     "execution_count": 234,
     "metadata": {},
     "output_type": "execute_result"
    }
   ],
   "source": [
    "# Bagging Classifier\n",
    "# build decision tree object\n",
    "from sklearn.tree import DecisionTreeClassifier\n",
    "CART = DecisionTreeClassifier(class_weight='balanced', max_depth = 4)\n",
    "# build bagging object\n",
    "from sklearn.ensemble import BaggingClassifier\n",
    "Bagging = BaggingClassifier(base_estimator = CART, \n",
    "                           verbose = 10, oob_score = False,\n",
    "                            random_state = 1)\n",
    "# build grid search parameters\n",
    "parms = {'n_estimators' : [5,10,15],\n",
    "          'bootstrap':[True,False],\n",
    "          'max_samples':[0.3,0.6,0.9],\n",
    "          'max_features':[1.0]\n",
    "        }\n",
    "# grid search\n",
    "from sklearn.model_selection import GridSearchCV\n",
    "CV = GridSearchCV(estimator = Bagging,param_grid = parms, scoring = 'f1_macro',\n",
    "                  cv=3, refit=True,return_train_score = True, verbose=10)\n",
    "CV.fit(X_train_cont,Y_train.target)"
   ]
  },
  {
   "cell_type": "code",
   "execution_count": 235,
   "metadata": {},
   "outputs": [],
   "source": [
    "# check CV results\n",
    "CVResults = pd.DataFrame(CV.cv_results_)\n",
    "CVResults.to_excel('CVResutls_Bagging_1.xlsx')"
   ]
  },
  {
   "cell_type": "code",
   "execution_count": 236,
   "metadata": {},
   "outputs": [
    {
     "data": {
      "text/plain": [
       "{'bootstrap': True, 'max_features': 1.0, 'max_samples': 0.3, 'n_estimators': 5}"
      ]
     },
     "execution_count": 236,
     "metadata": {},
     "output_type": "execute_result"
    }
   ],
   "source": [
    "CV.best_params_"
   ]
  },
  {
   "cell_type": "code",
   "execution_count": 237,
   "metadata": {},
   "outputs": [
    {
     "name": "stdout",
     "output_type": "stream",
     "text": [
      "0.5799936965124436\n"
     ]
    }
   ],
   "source": [
    "print(CV.best_score_)"
   ]
  },
  {
   "cell_type": "code",
   "execution_count": 238,
   "metadata": {},
   "outputs": [
    {
     "name": "stdout",
     "output_type": "stream",
     "text": [
      "[[0.70469904 0.29530096]\n",
      " [0.36289677 0.63710323]\n",
      " [0.53054875 0.46945125]\n",
      " [0.70469904 0.29530096]\n",
      " [0.32566062 0.67433938]]\n",
      "[0 1 0 0 1]\n"
     ]
    },
    {
     "name": "stderr",
     "output_type": "stream",
     "text": [
      "[Parallel(n_jobs=1)]: Using backend SequentialBackend with 1 concurrent workers.\n",
      "[Parallel(n_jobs=1)]: Done   1 out of   1 | elapsed:    0.0s remaining:    0.0s\n",
      "[Parallel(n_jobs=1)]: Done   1 out of   1 | elapsed:    0.0s finished\n",
      "[Parallel(n_jobs=1)]: Using backend SequentialBackend with 1 concurrent workers.\n",
      "[Parallel(n_jobs=1)]: Done   1 out of   1 | elapsed:    0.0s remaining:    0.0s\n",
      "[Parallel(n_jobs=1)]: Done   1 out of   1 | elapsed:    0.0s finished\n"
     ]
    }
   ],
   "source": [
    "# Preidct on Test data and check the confusion matrix\n",
    "predictProb = CV.predict_proba(X_test_cont)\n",
    "print(predictProb[0:5])\n",
    "PProb = pd.DataFrame(predictProb,columns=[\"class0\",\"class1\"])\n",
    "predictTest = CV.predict(X_test_cont)\n",
    "print(predictTest[0:5])"
   ]
  },
  {
   "cell_type": "code",
   "execution_count": 239,
   "metadata": {},
   "outputs": [
    {
     "name": "stdout",
     "output_type": "stream",
     "text": [
      "[[ 3622  1830]\n",
      " [ 6707 10706]]\n",
      "              precision    recall  f1-score   support\n",
      "\n",
      "           0       0.35      0.66      0.46      5452\n",
      "           1       0.85      0.61      0.71     17413\n",
      "\n",
      "    accuracy                           0.63     22865\n",
      "   macro avg       0.60      0.64      0.59     22865\n",
      "weighted avg       0.73      0.63      0.65     22865\n",
      "\n"
     ]
    }
   ],
   "source": [
    "# generate confusion matrix\n",
    "from sklearn.metrics import confusion_matrix, classification_report\n",
    "print (confusion_matrix(Y_test,predictTest))\n",
    "print (classification_report(Y_test,predictTest))"
   ]
  },
  {
   "cell_type": "code",
   "execution_count": 240,
   "metadata": {},
   "outputs": [
    {
     "name": "stdout",
     "output_type": "stream",
     "text": [
      "0.6867975954582133\n"
     ]
    }
   ],
   "source": [
    "# generate ROC curve\n",
    "from sklearn.metrics import roc_auc_score, roc_curve\n",
    "# AUC for class 1\n",
    "AUC = roc_auc_score(Y_test, PProb.class1)\n",
    "print(AUC)\n",
    "# define variables for True Positive Rate and Falst Positive Rate & threshold value\n",
    "FPR, TPR, THR = roc_curve(Y_test, PProb.class1)"
   ]
  },
  {
   "cell_type": "code",
   "execution_count": 241,
   "metadata": {},
   "outputs": [
    {
     "data": {
      "image/png": "[encoded data removed]",
      "text/plain": [
       "<Figure size 432x288 with 1 Axes>"
      ]
     },
     "metadata": {
      "needs_background": "light"
     },
     "output_type": "display_data"
    }
   ],
   "source": [
    "plt.figure()\n",
    "# plot the FPR as X-axis and TPR as Y-axis\n",
    "plt.plot(FPR, TPR)\n",
    "# plot the minimum line \n",
    "plt.plot([0,1], [0,1], color='navy', linestyle = '--')\n",
    "# set X and Y limits\n",
    "plt.xlim([0.0, 1.05])\n",
    "plt.ylim([0.0, 1.05])\n",
    "# mention lables for X and Y\n",
    "plt.xlabel('False Positive Rate')\n",
    "plt.ylabel('True Positive Rate')\n",
    "plt.title('ROC for bagging')\n",
    "plt.show()"
   ]
  },
  {
   "cell_type": "code",
   "execution_count": 242,
   "metadata": {},
   "outputs": [],
   "source": [
    "catX = pd.DataFrame(BNP,columns=impcatcols)\n",
    "contX = pd.DataFrame(BNP,columns=impcontcols)"
   ]
  },
  {
   "cell_type": "code",
   "execution_count": 245,
   "metadata": {},
   "outputs": [
    {
     "ename": "IndentationError",
     "evalue": "unexpected indent (<ipython-input-245-e0d1610ee0ad>, line 4)",
     "output_type": "error",
     "traceback": [
      "\u001b[1;36m  File \u001b[1;32m\"<ipython-input-245-e0d1610ee0ad>\"\u001b[1;36m, line \u001b[1;32m4\u001b[0m\n\u001b[1;33m    test_size = 0.20,\u001b[0m\n\u001b[1;37m    ^\u001b[0m\n\u001b[1;31mIndentationError\u001b[0m\u001b[1;31m:\u001b[0m unexpected indent\n"
     ]
    }
   ],
   "source": [
    "\n",
    "# splitting the data into Train and Test\n",
    "#from sklearn.model_selection import train_test_split\n",
    "#X_train, X_test, Y_train, Y_test = train_test_split(contX, depX,\n",
    "                                                    test_size = 0.20,\n",
    "                                                    random_state = 0)\n",
    "#random state is used to fix the split\n",
    "#print(X_train.shape)\n",
    "print(Y_train.shape)\n",
    "print(X_test.shape)\n",
    "print(Y_test.shape)\n",
    "print(Y_train[0:10])\n"
   ]
  },
  {
   "cell_type": "code",
   "execution_count": 246,
   "metadata": {},
   "outputs": [
    {
     "ename": "ValueError",
     "evalue": "Shape of passed values is (91456, 3), indices imply (91456, 8)",
     "output_type": "error",
     "traceback": [
      "\u001b[1;31m---------------------------------------------------------------------------\u001b[0m",
      "\u001b[1;31mValueError\u001b[0m                                Traceback (most recent call last)",
      "\u001b[1;32m~\\Anaconda3\\lib\\site-packages\\pandas\\core\\internals\\managers.py\u001b[0m in \u001b[0;36mcreate_block_manager_from_blocks\u001b[1;34m(blocks, axes)\u001b[0m\n\u001b[0;32m   1677\u001b[0m                 blocks = [\n\u001b[1;32m-> 1678\u001b[1;33m                     \u001b[0mmake_block\u001b[0m\u001b[1;33m(\u001b[0m\u001b[0mvalues\u001b[0m\u001b[1;33m=\u001b[0m\u001b[0mblocks\u001b[0m\u001b[1;33m[\u001b[0m\u001b[1;36m0\u001b[0m\u001b[1;33m]\u001b[0m\u001b[1;33m,\u001b[0m \u001b[0mplacement\u001b[0m\u001b[1;33m=\u001b[0m\u001b[0mslice\u001b[0m\u001b[1;33m(\u001b[0m\u001b[1;36m0\u001b[0m\u001b[1;33m,\u001b[0m \u001b[0mlen\u001b[0m\u001b[1;33m(\u001b[0m\u001b[0maxes\u001b[0m\u001b[1;33m[\u001b[0m\u001b[1;36m0\u001b[0m\u001b[1;33m]\u001b[0m\u001b[1;33m)\u001b[0m\u001b[1;33m)\u001b[0m\u001b[1;33m)\u001b[0m\u001b[1;33m\u001b[0m\u001b[1;33m\u001b[0m\u001b[0m\n\u001b[0m\u001b[0;32m   1679\u001b[0m                 ]\n",
      "\u001b[1;32m~\\Anaconda3\\lib\\site-packages\\pandas\\core\\internals\\blocks.py\u001b[0m in \u001b[0;36mmake_block\u001b[1;34m(values, placement, klass, ndim, dtype, fastpath)\u001b[0m\n\u001b[0;32m   3266\u001b[0m \u001b[1;33m\u001b[0m\u001b[0m\n\u001b[1;32m-> 3267\u001b[1;33m     \u001b[1;32mreturn\u001b[0m \u001b[0mklass\u001b[0m\u001b[1;33m(\u001b[0m\u001b[0mvalues\u001b[0m\u001b[1;33m,\u001b[0m \u001b[0mndim\u001b[0m\u001b[1;33m=\u001b[0m\u001b[0mndim\u001b[0m\u001b[1;33m,\u001b[0m \u001b[0mplacement\u001b[0m\u001b[1;33m=\u001b[0m\u001b[0mplacement\u001b[0m\u001b[1;33m)\u001b[0m\u001b[1;33m\u001b[0m\u001b[1;33m\u001b[0m\u001b[0m\n\u001b[0m\u001b[0;32m   3268\u001b[0m \u001b[1;33m\u001b[0m\u001b[0m\n",
      "\u001b[1;32m~\\Anaconda3\\lib\\site-packages\\pandas\\core\\internals\\blocks.py\u001b[0m in \u001b[0;36m__init__\u001b[1;34m(self, values, placement, ndim)\u001b[0m\n\u001b[0;32m    127\u001b[0m                 \u001b[1;34m\"Wrong number of items passed {val}, placement implies \"\u001b[0m\u001b[1;33m\u001b[0m\u001b[1;33m\u001b[0m\u001b[0m\n\u001b[1;32m--> 128\u001b[1;33m                 \u001b[1;34m\"{mgr}\"\u001b[0m\u001b[1;33m.\u001b[0m\u001b[0mformat\u001b[0m\u001b[1;33m(\u001b[0m\u001b[0mval\u001b[0m\u001b[1;33m=\u001b[0m\u001b[0mlen\u001b[0m\u001b[1;33m(\u001b[0m\u001b[0mself\u001b[0m\u001b[1;33m.\u001b[0m\u001b[0mvalues\u001b[0m\u001b[1;33m)\u001b[0m\u001b[1;33m,\u001b[0m \u001b[0mmgr\u001b[0m\u001b[1;33m=\u001b[0m\u001b[0mlen\u001b[0m\u001b[1;33m(\u001b[0m\u001b[0mself\u001b[0m\u001b[1;33m.\u001b[0m\u001b[0mmgr_locs\u001b[0m\u001b[1;33m)\u001b[0m\u001b[1;33m)\u001b[0m\u001b[1;33m\u001b[0m\u001b[1;33m\u001b[0m\u001b[0m\n\u001b[0m\u001b[0;32m    129\u001b[0m             )\n",
      "\u001b[1;31mValueError\u001b[0m: Wrong number of items passed 3, placement implies 8",
      "\nDuring handling of the above exception, another exception occurred:\n",
      "\u001b[1;31mValueError\u001b[0m                                Traceback (most recent call last)",
      "\u001b[1;32m<ipython-input-246-25e00ff73ca0>\u001b[0m in \u001b[0;36m<module>\u001b[1;34m\u001b[0m\n\u001b[0;32m      1\u001b[0m \u001b[1;31m# extract only continuous columns\u001b[0m\u001b[1;33m\u001b[0m\u001b[1;33m\u001b[0m\u001b[1;33m\u001b[0m\u001b[0m\n\u001b[0;32m      2\u001b[0m \u001b[0mContColumns\u001b[0m \u001b[1;33m=\u001b[0m \u001b[0mlist\u001b[0m\u001b[1;33m(\u001b[0m\u001b[0mcontX\u001b[0m\u001b[1;33m)\u001b[0m\u001b[1;33m\u001b[0m\u001b[1;33m\u001b[0m\u001b[0m\n\u001b[1;32m----> 3\u001b[1;33m \u001b[0mX_train_cont\u001b[0m \u001b[1;33m=\u001b[0m \u001b[0mpd\u001b[0m\u001b[1;33m.\u001b[0m\u001b[0mDataFrame\u001b[0m\u001b[1;33m(\u001b[0m\u001b[0mX_train\u001b[0m\u001b[1;33m,\u001b[0m\u001b[0mcolumns\u001b[0m\u001b[1;33m=\u001b[0m\u001b[0mContColumns\u001b[0m\u001b[1;33m)\u001b[0m\u001b[1;33m\u001b[0m\u001b[1;33m\u001b[0m\u001b[0m\n\u001b[0m\u001b[0;32m      4\u001b[0m \u001b[0mprint\u001b[0m\u001b[1;33m(\u001b[0m\u001b[0mX_train_cont\u001b[0m\u001b[1;33m.\u001b[0m\u001b[0mshape\u001b[0m\u001b[1;33m)\u001b[0m\u001b[1;33m\u001b[0m\u001b[1;33m\u001b[0m\u001b[0m\n\u001b[0;32m      5\u001b[0m \u001b[0mX_test_cont\u001b[0m \u001b[1;33m=\u001b[0m \u001b[0mpd\u001b[0m\u001b[1;33m.\u001b[0m\u001b[0mDataFrame\u001b[0m\u001b[1;33m(\u001b[0m\u001b[0mX_test\u001b[0m\u001b[1;33m,\u001b[0m\u001b[0mcolumns\u001b[0m\u001b[1;33m=\u001b[0m\u001b[0mContColumns\u001b[0m\u001b[1;33m)\u001b[0m\u001b[1;33m\u001b[0m\u001b[1;33m\u001b[0m\u001b[0m\n",
      "\u001b[1;32m~\\Anaconda3\\lib\\site-packages\\pandas\\core\\frame.py\u001b[0m in \u001b[0;36m__init__\u001b[1;34m(self, data, index, columns, dtype, copy)\u001b[0m\n\u001b[0;32m    438\u001b[0m                 \u001b[0mmgr\u001b[0m \u001b[1;33m=\u001b[0m \u001b[0minit_dict\u001b[0m\u001b[1;33m(\u001b[0m\u001b[1;33m{\u001b[0m\u001b[0mdata\u001b[0m\u001b[1;33m.\u001b[0m\u001b[0mname\u001b[0m\u001b[1;33m:\u001b[0m \u001b[0mdata\u001b[0m\u001b[1;33m}\u001b[0m\u001b[1;33m,\u001b[0m \u001b[0mindex\u001b[0m\u001b[1;33m,\u001b[0m \u001b[0mcolumns\u001b[0m\u001b[1;33m,\u001b[0m \u001b[0mdtype\u001b[0m\u001b[1;33m=\u001b[0m\u001b[0mdtype\u001b[0m\u001b[1;33m)\u001b[0m\u001b[1;33m\u001b[0m\u001b[1;33m\u001b[0m\u001b[0m\n\u001b[0;32m    439\u001b[0m             \u001b[1;32melse\u001b[0m\u001b[1;33m:\u001b[0m\u001b[1;33m\u001b[0m\u001b[1;33m\u001b[0m\u001b[0m\n\u001b[1;32m--> 440\u001b[1;33m                 \u001b[0mmgr\u001b[0m \u001b[1;33m=\u001b[0m \u001b[0minit_ndarray\u001b[0m\u001b[1;33m(\u001b[0m\u001b[0mdata\u001b[0m\u001b[1;33m,\u001b[0m \u001b[0mindex\u001b[0m\u001b[1;33m,\u001b[0m \u001b[0mcolumns\u001b[0m\u001b[1;33m,\u001b[0m \u001b[0mdtype\u001b[0m\u001b[1;33m=\u001b[0m\u001b[0mdtype\u001b[0m\u001b[1;33m,\u001b[0m \u001b[0mcopy\u001b[0m\u001b[1;33m=\u001b[0m\u001b[0mcopy\u001b[0m\u001b[1;33m)\u001b[0m\u001b[1;33m\u001b[0m\u001b[1;33m\u001b[0m\u001b[0m\n\u001b[0m\u001b[0;32m    441\u001b[0m \u001b[1;33m\u001b[0m\u001b[0m\n\u001b[0;32m    442\u001b[0m         \u001b[1;31m# For data is list-like, or Iterable (will consume into list)\u001b[0m\u001b[1;33m\u001b[0m\u001b[1;33m\u001b[0m\u001b[1;33m\u001b[0m\u001b[0m\n",
      "\u001b[1;32m~\\Anaconda3\\lib\\site-packages\\pandas\\core\\internals\\construction.py\u001b[0m in \u001b[0;36minit_ndarray\u001b[1;34m(values, index, columns, dtype, copy)\u001b[0m\n\u001b[0;32m    211\u001b[0m         \u001b[0mblock_values\u001b[0m \u001b[1;33m=\u001b[0m \u001b[1;33m[\u001b[0m\u001b[0mvalues\u001b[0m\u001b[1;33m]\u001b[0m\u001b[1;33m\u001b[0m\u001b[1;33m\u001b[0m\u001b[0m\n\u001b[0;32m    212\u001b[0m \u001b[1;33m\u001b[0m\u001b[0m\n\u001b[1;32m--> 213\u001b[1;33m     \u001b[1;32mreturn\u001b[0m \u001b[0mcreate_block_manager_from_blocks\u001b[0m\u001b[1;33m(\u001b[0m\u001b[0mblock_values\u001b[0m\u001b[1;33m,\u001b[0m \u001b[1;33m[\u001b[0m\u001b[0mcolumns\u001b[0m\u001b[1;33m,\u001b[0m \u001b[0mindex\u001b[0m\u001b[1;33m]\u001b[0m\u001b[1;33m)\u001b[0m\u001b[1;33m\u001b[0m\u001b[1;33m\u001b[0m\u001b[0m\n\u001b[0m\u001b[0;32m    214\u001b[0m \u001b[1;33m\u001b[0m\u001b[0m\n\u001b[0;32m    215\u001b[0m \u001b[1;33m\u001b[0m\u001b[0m\n",
      "\u001b[1;32m~\\Anaconda3\\lib\\site-packages\\pandas\\core\\internals\\managers.py\u001b[0m in \u001b[0;36mcreate_block_manager_from_blocks\u001b[1;34m(blocks, axes)\u001b[0m\n\u001b[0;32m   1686\u001b[0m         \u001b[0mblocks\u001b[0m \u001b[1;33m=\u001b[0m \u001b[1;33m[\u001b[0m\u001b[0mgetattr\u001b[0m\u001b[1;33m(\u001b[0m\u001b[0mb\u001b[0m\u001b[1;33m,\u001b[0m \u001b[1;34m\"values\"\u001b[0m\u001b[1;33m,\u001b[0m \u001b[0mb\u001b[0m\u001b[1;33m)\u001b[0m \u001b[1;32mfor\u001b[0m \u001b[0mb\u001b[0m \u001b[1;32min\u001b[0m \u001b[0mblocks\u001b[0m\u001b[1;33m]\u001b[0m\u001b[1;33m\u001b[0m\u001b[1;33m\u001b[0m\u001b[0m\n\u001b[0;32m   1687\u001b[0m         \u001b[0mtot_items\u001b[0m \u001b[1;33m=\u001b[0m \u001b[0msum\u001b[0m\u001b[1;33m(\u001b[0m\u001b[0mb\u001b[0m\u001b[1;33m.\u001b[0m\u001b[0mshape\u001b[0m\u001b[1;33m[\u001b[0m\u001b[1;36m0\u001b[0m\u001b[1;33m]\u001b[0m \u001b[1;32mfor\u001b[0m \u001b[0mb\u001b[0m \u001b[1;32min\u001b[0m \u001b[0mblocks\u001b[0m\u001b[1;33m)\u001b[0m\u001b[1;33m\u001b[0m\u001b[1;33m\u001b[0m\u001b[0m\n\u001b[1;32m-> 1688\u001b[1;33m         \u001b[0mconstruction_error\u001b[0m\u001b[1;33m(\u001b[0m\u001b[0mtot_items\u001b[0m\u001b[1;33m,\u001b[0m \u001b[0mblocks\u001b[0m\u001b[1;33m[\u001b[0m\u001b[1;36m0\u001b[0m\u001b[1;33m]\u001b[0m\u001b[1;33m.\u001b[0m\u001b[0mshape\u001b[0m\u001b[1;33m[\u001b[0m\u001b[1;36m1\u001b[0m\u001b[1;33m:\u001b[0m\u001b[1;33m]\u001b[0m\u001b[1;33m,\u001b[0m \u001b[0maxes\u001b[0m\u001b[1;33m,\u001b[0m \u001b[0me\u001b[0m\u001b[1;33m)\u001b[0m\u001b[1;33m\u001b[0m\u001b[1;33m\u001b[0m\u001b[0m\n\u001b[0m\u001b[0;32m   1689\u001b[0m \u001b[1;33m\u001b[0m\u001b[0m\n\u001b[0;32m   1690\u001b[0m \u001b[1;33m\u001b[0m\u001b[0m\n",
      "\u001b[1;32m~\\Anaconda3\\lib\\site-packages\\pandas\\core\\internals\\managers.py\u001b[0m in \u001b[0;36mconstruction_error\u001b[1;34m(tot_items, block_shape, axes, e)\u001b[0m\n\u001b[0;32m   1717\u001b[0m         \u001b[1;32mraise\u001b[0m \u001b[0mValueError\u001b[0m\u001b[1;33m(\u001b[0m\u001b[1;34m\"Empty data passed with indices specified.\"\u001b[0m\u001b[1;33m)\u001b[0m\u001b[1;33m\u001b[0m\u001b[1;33m\u001b[0m\u001b[0m\n\u001b[0;32m   1718\u001b[0m     raise ValueError(\n\u001b[1;32m-> 1719\u001b[1;33m         \u001b[1;34m\"Shape of passed values is {0}, indices imply {1}\"\u001b[0m\u001b[1;33m.\u001b[0m\u001b[0mformat\u001b[0m\u001b[1;33m(\u001b[0m\u001b[0mpassed\u001b[0m\u001b[1;33m,\u001b[0m \u001b[0mimplied\u001b[0m\u001b[1;33m)\u001b[0m\u001b[1;33m\u001b[0m\u001b[1;33m\u001b[0m\u001b[0m\n\u001b[0m\u001b[0;32m   1720\u001b[0m     )\n\u001b[0;32m   1721\u001b[0m \u001b[1;33m\u001b[0m\u001b[0m\n",
      "\u001b[1;31mValueError\u001b[0m: Shape of passed values is (91456, 3), indices imply (91456, 8)"
     ]
    }
   ],
   "source": [
    "# extract only continuous columns\n",
    "ContColumns = list(contX)\n",
    "X_train_cont = pd.DataFrame(X_train,columns=ContColumns)\n",
    "print(X_train_cont.shape)\n",
    "X_test_cont = pd.DataFrame(X_test,columns=ContColumns)\n",
    "print(X_test_cont.shape)"
   ]
  },
  {
   "cell_type": "code",
   "execution_count": 249,
   "metadata": {
    "scrolled": true
   },
   "outputs": [
    {
     "name": "stdout",
     "output_type": "stream",
     "text": [
      "Fitting 3 folds for each of 27 candidates, totalling 81 fits\n",
      "[CV] learning_rate=0.1, max_depth=2, n_estimators=5, subsample=1.0 ...\n"
     ]
    },
    {
     "name": "stderr",
     "output_type": "stream",
     "text": [
      "[Parallel(n_jobs=1)]: Using backend SequentialBackend with 1 concurrent workers.\n"
     ]
    },
    {
     "name": "stdout",
     "output_type": "stream",
     "text": [
      "[CV]  learning_rate=0.1, max_depth=2, n_estimators=5, subsample=1.0, score=(train=0.681, test=0.673), total=   7.0s\n",
      "[CV] learning_rate=0.1, max_depth=2, n_estimators=5, subsample=1.0 ...\n"
     ]
    },
    {
     "name": "stderr",
     "output_type": "stream",
     "text": [
      "[Parallel(n_jobs=1)]: Done   1 out of   1 | elapsed:    7.4s remaining:    0.0s\n"
     ]
    },
    {
     "name": "stdout",
     "output_type": "stream",
     "text": [
      "[CV]  learning_rate=0.1, max_depth=2, n_estimators=5, subsample=1.0, score=(train=0.676, test=0.675), total=   0.9s\n",
      "[CV] learning_rate=0.1, max_depth=2, n_estimators=5, subsample=1.0 ...\n"
     ]
    },
    {
     "name": "stderr",
     "output_type": "stream",
     "text": [
      "[Parallel(n_jobs=1)]: Done   2 out of   2 | elapsed:    8.7s remaining:    0.0s\n"
     ]
    },
    {
     "name": "stdout",
     "output_type": "stream",
     "text": [
      "[CV]  learning_rate=0.1, max_depth=2, n_estimators=5, subsample=1.0, score=(train=0.672, test=0.670), total=   0.9s\n",
      "[CV] learning_rate=0.1, max_depth=2, n_estimators=8, subsample=1.0 ...\n"
     ]
    },
    {
     "name": "stderr",
     "output_type": "stream",
     "text": [
      "[Parallel(n_jobs=1)]: Done   3 out of   3 | elapsed:   10.1s remaining:    0.0s\n"
     ]
    },
    {
     "name": "stdout",
     "output_type": "stream",
     "text": [
      "[CV]  learning_rate=0.1, max_depth=2, n_estimators=8, subsample=1.0, score=(train=0.683, test=0.676), total=   1.0s\n",
      "[CV] learning_rate=0.1, max_depth=2, n_estimators=8, subsample=1.0 ...\n"
     ]
    },
    {
     "name": "stderr",
     "output_type": "stream",
     "text": [
      "[Parallel(n_jobs=1)]: Done   4 out of   4 | elapsed:   11.5s remaining:    0.0s\n"
     ]
    },
    {
     "name": "stdout",
     "output_type": "stream",
     "text": [
      "[CV]  learning_rate=0.1, max_depth=2, n_estimators=8, subsample=1.0, score=(train=0.681, test=0.680), total=   1.0s\n",
      "[CV] learning_rate=0.1, max_depth=2, n_estimators=8, subsample=1.0 ...\n"
     ]
    },
    {
     "name": "stderr",
     "output_type": "stream",
     "text": [
      "[Parallel(n_jobs=1)]: Done   5 out of   5 | elapsed:   13.0s remaining:    0.0s\n"
     ]
    },
    {
     "name": "stdout",
     "output_type": "stream",
     "text": [
      "[CV]  learning_rate=0.1, max_depth=2, n_estimators=8, subsample=1.0, score=(train=0.682, test=0.680), total=   1.0s\n",
      "[CV] learning_rate=0.1, max_depth=2, n_estimators=12, subsample=1.0 ..\n"
     ]
    },
    {
     "name": "stderr",
     "output_type": "stream",
     "text": [
      "[Parallel(n_jobs=1)]: Done   6 out of   6 | elapsed:   14.4s remaining:    0.0s\n"
     ]
    },
    {
     "name": "stdout",
     "output_type": "stream",
     "text": [
      "[CV]  learning_rate=0.1, max_depth=2, n_estimators=12, subsample=1.0, score=(train=0.684, test=0.678), total=   1.0s\n",
      "[CV] learning_rate=0.1, max_depth=2, n_estimators=12, subsample=1.0 ..\n"
     ]
    },
    {
     "name": "stderr",
     "output_type": "stream",
     "text": [
      "[Parallel(n_jobs=1)]: Done   7 out of   7 | elapsed:   15.9s remaining:    0.0s\n"
     ]
    },
    {
     "name": "stdout",
     "output_type": "stream",
     "text": [
      "[CV]  learning_rate=0.1, max_depth=2, n_estimators=12, subsample=1.0, score=(train=0.684, test=0.683), total=   1.1s\n",
      "[CV] learning_rate=0.1, max_depth=2, n_estimators=12, subsample=1.0 ..\n"
     ]
    },
    {
     "name": "stderr",
     "output_type": "stream",
     "text": [
      "[Parallel(n_jobs=1)]: Done   8 out of   8 | elapsed:   17.4s remaining:    0.0s\n"
     ]
    },
    {
     "name": "stdout",
     "output_type": "stream",
     "text": [
      "[CV]  learning_rate=0.1, max_depth=2, n_estimators=12, subsample=1.0, score=(train=0.683, test=0.682), total=   1.1s\n",
      "[CV] learning_rate=0.1, max_depth=3, n_estimators=5, subsample=1.0 ...\n"
     ]
    },
    {
     "name": "stderr",
     "output_type": "stream",
     "text": [
      "[Parallel(n_jobs=1)]: Done   9 out of   9 | elapsed:   18.9s remaining:    0.0s\n"
     ]
    },
    {
     "name": "stdout",
     "output_type": "stream",
     "text": [
      "[CV]  learning_rate=0.1, max_depth=3, n_estimators=5, subsample=1.0, score=(train=0.687, test=0.681), total=   0.9s\n",
      "[CV] learning_rate=0.1, max_depth=3, n_estimators=5, subsample=1.0 ...\n",
      "[CV]  learning_rate=0.1, max_depth=3, n_estimators=5, subsample=1.0, score=(train=0.688, test=0.686), total=   1.0s\n",
      "[CV] learning_rate=0.1, max_depth=3, n_estimators=5, subsample=1.0 ...\n",
      "[CV]  learning_rate=0.1, max_depth=3, n_estimators=5, subsample=1.0, score=(train=0.686, test=0.684), total=   1.1s\n",
      "[CV] learning_rate=0.1, max_depth=3, n_estimators=8, subsample=1.0 ...\n",
      "[CV]  learning_rate=0.1, max_depth=3, n_estimators=8, subsample=1.0, score=(train=0.690, test=0.684), total=   1.0s\n",
      "[CV] learning_rate=0.1, max_depth=3, n_estimators=8, subsample=1.0 ...\n",
      "[CV]  learning_rate=0.1, max_depth=3, n_estimators=8, subsample=1.0, score=(train=0.689, test=0.686), total=   1.0s\n",
      "[CV] learning_rate=0.1, max_depth=3, n_estimators=8, subsample=1.0 ...\n",
      "[CV]  learning_rate=0.1, max_depth=3, n_estimators=8, subsample=1.0, score=(train=0.687, test=0.686), total=   1.0s\n",
      "[CV] learning_rate=0.1, max_depth=3, n_estimators=12, subsample=1.0 ..\n",
      "[CV]  learning_rate=0.1, max_depth=3, n_estimators=12, subsample=1.0, score=(train=0.692, test=0.686), total=   1.1s\n",
      "[CV] learning_rate=0.1, max_depth=3, n_estimators=12, subsample=1.0 ..\n",
      "[CV]  learning_rate=0.1, max_depth=3, n_estimators=12, subsample=1.0, score=(train=0.692, test=0.689), total=   1.1s\n",
      "[CV] learning_rate=0.1, max_depth=3, n_estimators=12, subsample=1.0 ..\n",
      "[CV]  learning_rate=0.1, max_depth=3, n_estimators=12, subsample=1.0, score=(train=0.692, test=0.690), total=   1.1s\n",
      "[CV] learning_rate=0.1, max_depth=4, n_estimators=5, subsample=1.0 ...\n",
      "[CV]  learning_rate=0.1, max_depth=4, n_estimators=5, subsample=1.0, score=(train=0.696, test=0.689), total=   1.0s\n",
      "[CV] learning_rate=0.1, max_depth=4, n_estimators=5, subsample=1.0 ...\n",
      "[CV]  learning_rate=0.1, max_depth=4, n_estimators=5, subsample=1.0, score=(train=0.697, test=0.690), total=   1.0s\n",
      "[CV] learning_rate=0.1, max_depth=4, n_estimators=5, subsample=1.0 ...\n",
      "[CV]  learning_rate=0.1, max_depth=4, n_estimators=5, subsample=1.0, score=(train=0.695, test=0.693), total=   1.0s\n",
      "[CV] learning_rate=0.1, max_depth=4, n_estimators=8, subsample=1.0 ...\n",
      "[CV]  learning_rate=0.1, max_depth=4, n_estimators=8, subsample=1.0, score=(train=0.698, test=0.691), total=   1.1s\n",
      "[CV] learning_rate=0.1, max_depth=4, n_estimators=8, subsample=1.0 ...\n",
      "[CV]  learning_rate=0.1, max_depth=4, n_estimators=8, subsample=1.0, score=(train=0.698, test=0.692), total=   1.2s\n",
      "[CV] learning_rate=0.1, max_depth=4, n_estimators=8, subsample=1.0 ...\n",
      "[CV]  learning_rate=0.1, max_depth=4, n_estimators=8, subsample=1.0, score=(train=0.697, test=0.695), total=   1.1s\n",
      "[CV] learning_rate=0.1, max_depth=4, n_estimators=12, subsample=1.0 ..\n",
      "[CV]  learning_rate=0.1, max_depth=4, n_estimators=12, subsample=1.0, score=(train=0.700, test=0.692), total=   1.2s\n",
      "[CV] learning_rate=0.1, max_depth=4, n_estimators=12, subsample=1.0 ..\n",
      "[CV]  learning_rate=0.1, max_depth=4, n_estimators=12, subsample=1.0, score=(train=0.700, test=0.693), total=   1.2s\n",
      "[CV] learning_rate=0.1, max_depth=4, n_estimators=12, subsample=1.0 ..\n",
      "[CV]  learning_rate=0.1, max_depth=4, n_estimators=12, subsample=1.0, score=(train=0.698, test=0.696), total=   1.2s\n",
      "[CV] learning_rate=0.5, max_depth=2, n_estimators=5, subsample=1.0 ...\n",
      "[CV]  learning_rate=0.5, max_depth=2, n_estimators=5, subsample=1.0, score=(train=0.692, test=0.685), total=   0.9s\n",
      "[CV] learning_rate=0.5, max_depth=2, n_estimators=5, subsample=1.0 ...\n",
      "[CV]  learning_rate=0.5, max_depth=2, n_estimators=5, subsample=1.0, score=(train=0.692, test=0.689), total=   0.9s\n",
      "[CV] learning_rate=0.5, max_depth=2, n_estimators=5, subsample=1.0 ...\n",
      "[CV]  learning_rate=0.5, max_depth=2, n_estimators=5, subsample=1.0, score=(train=0.690, test=0.689), total=   0.9s\n",
      "[CV] learning_rate=0.5, max_depth=2, n_estimators=8, subsample=1.0 ...\n",
      "[CV]  learning_rate=0.5, max_depth=2, n_estimators=8, subsample=1.0, score=(train=0.697, test=0.691), total=   1.0s\n",
      "[CV] learning_rate=0.5, max_depth=2, n_estimators=8, subsample=1.0 ...\n",
      "[CV]  learning_rate=0.5, max_depth=2, n_estimators=8, subsample=1.0, score=(train=0.698, test=0.693), total=   1.0s\n",
      "[CV] learning_rate=0.5, max_depth=2, n_estimators=8, subsample=1.0 ...\n",
      "[CV]  learning_rate=0.5, max_depth=2, n_estimators=8, subsample=1.0, score=(train=0.695, test=0.694), total=   1.0s\n",
      "[CV] learning_rate=0.5, max_depth=2, n_estimators=12, subsample=1.0 ..\n",
      "[CV]  learning_rate=0.5, max_depth=2, n_estimators=12, subsample=1.0, score=(train=0.700, test=0.693), total=   1.2s\n",
      "[CV] learning_rate=0.5, max_depth=2, n_estimators=12, subsample=1.0 ..\n",
      "[CV]  learning_rate=0.5, max_depth=2, n_estimators=12, subsample=1.0, score=(train=0.701, test=0.695), total=   1.1s\n",
      "[CV] learning_rate=0.5, max_depth=2, n_estimators=12, subsample=1.0 ..\n",
      "[CV]  learning_rate=0.5, max_depth=2, n_estimators=12, subsample=1.0, score=(train=0.697, test=0.697), total=   1.2s\n",
      "[CV] learning_rate=0.5, max_depth=3, n_estimators=5, subsample=1.0 ...\n",
      "[CV]  learning_rate=0.5, max_depth=3, n_estimators=5, subsample=1.0, score=(train=0.697, test=0.690), total=   1.0s\n",
      "[CV] learning_rate=0.5, max_depth=3, n_estimators=5, subsample=1.0 ...\n",
      "[CV]  learning_rate=0.5, max_depth=3, n_estimators=5, subsample=1.0, score=(train=0.697, test=0.692), total=   1.0s\n",
      "[CV] learning_rate=0.5, max_depth=3, n_estimators=5, subsample=1.0 ...\n",
      "[CV]  learning_rate=0.5, max_depth=3, n_estimators=5, subsample=1.0, score=(train=0.696, test=0.696), total=   1.0s\n",
      "[CV] learning_rate=0.5, max_depth=3, n_estimators=8, subsample=1.0 ...\n",
      "[CV]  learning_rate=0.5, max_depth=3, n_estimators=8, subsample=1.0, score=(train=0.702, test=0.693), total=   1.0s\n",
      "[CV] learning_rate=0.5, max_depth=3, n_estimators=8, subsample=1.0 ...\n",
      "[CV]  learning_rate=0.5, max_depth=3, n_estimators=8, subsample=1.0, score=(train=0.702, test=0.694), total=   1.0s\n",
      "[CV] learning_rate=0.5, max_depth=3, n_estimators=8, subsample=1.0 ...\n",
      "[CV]  learning_rate=0.5, max_depth=3, n_estimators=8, subsample=1.0, score=(train=0.700, test=0.698), total=   1.1s\n",
      "[CV] learning_rate=0.5, max_depth=3, n_estimators=12, subsample=1.0 ..\n",
      "[CV]  learning_rate=0.5, max_depth=3, n_estimators=12, subsample=1.0, score=(train=0.704, test=0.695), total=   1.1s\n",
      "[CV] learning_rate=0.5, max_depth=3, n_estimators=12, subsample=1.0 ..\n",
      "[CV]  learning_rate=0.5, max_depth=3, n_estimators=12, subsample=1.0, score=(train=0.705, test=0.694), total=   1.4s\n",
      "[CV] learning_rate=0.5, max_depth=3, n_estimators=12, subsample=1.0 ..\n",
      "[CV]  learning_rate=0.5, max_depth=3, n_estimators=12, subsample=1.0, score=(train=0.703, test=0.699), total=   1.2s\n",
      "[CV] learning_rate=0.5, max_depth=4, n_estimators=5, subsample=1.0 ...\n",
      "[CV]  learning_rate=0.5, max_depth=4, n_estimators=5, subsample=1.0, score=(train=0.702, test=0.694), total=   1.1s\n",
      "[CV] learning_rate=0.5, max_depth=4, n_estimators=5, subsample=1.0 ...\n",
      "[CV]  learning_rate=0.5, max_depth=4, n_estimators=5, subsample=1.0, score=(train=0.703, test=0.693), total=   1.0s\n",
      "[CV] learning_rate=0.5, max_depth=4, n_estimators=5, subsample=1.0 ...\n",
      "[CV]  learning_rate=0.5, max_depth=4, n_estimators=5, subsample=1.0, score=(train=0.701, test=0.699), total=   1.0s\n",
      "[CV] learning_rate=0.5, max_depth=4, n_estimators=8, subsample=1.0 ...\n",
      "[CV]  learning_rate=0.5, max_depth=4, n_estimators=8, subsample=1.0, score=(train=0.706, test=0.695), total=   1.1s\n",
      "[CV] learning_rate=0.5, max_depth=4, n_estimators=8, subsample=1.0 ...\n",
      "[CV]  learning_rate=0.5, max_depth=4, n_estimators=8, subsample=1.0, score=(train=0.706, test=0.695), total=   1.1s\n",
      "[CV] learning_rate=0.5, max_depth=4, n_estimators=8, subsample=1.0 ...\n",
      "[CV]  learning_rate=0.5, max_depth=4, n_estimators=8, subsample=1.0, score=(train=0.704, test=0.700), total=   1.1s\n",
      "[CV] learning_rate=0.5, max_depth=4, n_estimators=12, subsample=1.0 ..\n",
      "[CV]  learning_rate=0.5, max_depth=4, n_estimators=12, subsample=1.0, score=(train=0.709, test=0.695), total=   1.2s\n",
      "[CV] learning_rate=0.5, max_depth=4, n_estimators=12, subsample=1.0 ..\n",
      "[CV]  learning_rate=0.5, max_depth=4, n_estimators=12, subsample=1.0, score=(train=0.709, test=0.695), total=   1.2s\n",
      "[CV] learning_rate=0.5, max_depth=4, n_estimators=12, subsample=1.0 ..\n"
     ]
    },
    {
     "name": "stdout",
     "output_type": "stream",
     "text": [
      "[CV]  learning_rate=0.5, max_depth=4, n_estimators=12, subsample=1.0, score=(train=0.707, test=0.700), total=   1.2s\n",
      "[CV] learning_rate=0.7, max_depth=2, n_estimators=5, subsample=1.0 ...\n",
      "[CV]  learning_rate=0.7, max_depth=2, n_estimators=5, subsample=1.0, score=(train=0.694, test=0.688), total=   0.9s\n",
      "[CV] learning_rate=0.7, max_depth=2, n_estimators=5, subsample=1.0 ...\n",
      "[CV]  learning_rate=0.7, max_depth=2, n_estimators=5, subsample=1.0, score=(train=0.695, test=0.690), total=   0.9s\n",
      "[CV] learning_rate=0.7, max_depth=2, n_estimators=5, subsample=1.0 ...\n",
      "[CV]  learning_rate=0.7, max_depth=2, n_estimators=5, subsample=1.0, score=(train=0.693, test=0.692), total=   1.0s\n",
      "[CV] learning_rate=0.7, max_depth=2, n_estimators=8, subsample=1.0 ...\n",
      "[CV]  learning_rate=0.7, max_depth=2, n_estimators=8, subsample=1.0, score=(train=0.698, test=0.692), total=   1.0s\n",
      "[CV] learning_rate=0.7, max_depth=2, n_estimators=8, subsample=1.0 ...\n",
      "[CV]  learning_rate=0.7, max_depth=2, n_estimators=8, subsample=1.0, score=(train=0.698, test=0.692), total=   1.0s\n",
      "[CV] learning_rate=0.7, max_depth=2, n_estimators=8, subsample=1.0 ...\n",
      "[CV]  learning_rate=0.7, max_depth=2, n_estimators=8, subsample=1.0, score=(train=0.697, test=0.695), total=   1.0s\n",
      "[CV] learning_rate=0.7, max_depth=2, n_estimators=12, subsample=1.0 ..\n",
      "[CV]  learning_rate=0.7, max_depth=2, n_estimators=12, subsample=1.0, score=(train=0.700, test=0.693), total=   1.0s\n",
      "[CV] learning_rate=0.7, max_depth=2, n_estimators=12, subsample=1.0 ..\n",
      "[CV]  learning_rate=0.7, max_depth=2, n_estimators=12, subsample=1.0, score=(train=0.701, test=0.694), total=   1.0s\n",
      "[CV] learning_rate=0.7, max_depth=2, n_estimators=12, subsample=1.0 ..\n",
      "[CV]  learning_rate=0.7, max_depth=2, n_estimators=12, subsample=1.0, score=(train=0.699, test=0.697), total=   1.1s\n",
      "[CV] learning_rate=0.7, max_depth=3, n_estimators=5, subsample=1.0 ...\n",
      "[CV]  learning_rate=0.7, max_depth=3, n_estimators=5, subsample=1.0, score=(train=0.698, test=0.691), total=   1.0s\n",
      "[CV] learning_rate=0.7, max_depth=3, n_estimators=5, subsample=1.0 ...\n",
      "[CV]  learning_rate=0.7, max_depth=3, n_estimators=5, subsample=1.0, score=(train=0.699, test=0.692), total=   1.0s\n",
      "[CV] learning_rate=0.7, max_depth=3, n_estimators=5, subsample=1.0 ...\n",
      "[CV]  learning_rate=0.7, max_depth=3, n_estimators=5, subsample=1.0, score=(train=0.698, test=0.696), total=   1.0s\n",
      "[CV] learning_rate=0.7, max_depth=3, n_estimators=8, subsample=1.0 ...\n",
      "[CV]  learning_rate=0.7, max_depth=3, n_estimators=8, subsample=1.0, score=(train=0.703, test=0.695), total=   1.0s\n",
      "[CV] learning_rate=0.7, max_depth=3, n_estimators=8, subsample=1.0 ...\n",
      "[CV]  learning_rate=0.7, max_depth=3, n_estimators=8, subsample=1.0, score=(train=0.703, test=0.694), total=   1.0s\n",
      "[CV] learning_rate=0.7, max_depth=3, n_estimators=8, subsample=1.0 ...\n",
      "[CV]  learning_rate=0.7, max_depth=3, n_estimators=8, subsample=1.0, score=(train=0.702, test=0.696), total=   1.0s\n",
      "[CV] learning_rate=0.7, max_depth=3, n_estimators=12, subsample=1.0 ..\n",
      "[CV]  learning_rate=0.7, max_depth=3, n_estimators=12, subsample=1.0, score=(train=0.705, test=0.694), total=   1.1s\n",
      "[CV] learning_rate=0.7, max_depth=3, n_estimators=12, subsample=1.0 ..\n",
      "[CV]  learning_rate=0.7, max_depth=3, n_estimators=12, subsample=1.0, score=(train=0.706, test=0.694), total=   1.1s\n",
      "[CV] learning_rate=0.7, max_depth=3, n_estimators=12, subsample=1.0 ..\n",
      "[CV]  learning_rate=0.7, max_depth=3, n_estimators=12, subsample=1.0, score=(train=0.704, test=0.697), total=   1.1s\n",
      "[CV] learning_rate=0.7, max_depth=4, n_estimators=5, subsample=1.0 ...\n",
      "[CV]  learning_rate=0.7, max_depth=4, n_estimators=5, subsample=1.0, score=(train=0.703, test=0.693), total=   1.0s\n",
      "[CV] learning_rate=0.7, max_depth=4, n_estimators=5, subsample=1.0 ...\n",
      "[CV]  learning_rate=0.7, max_depth=4, n_estimators=5, subsample=1.0, score=(train=0.703, test=0.693), total=   1.0s\n",
      "[CV] learning_rate=0.7, max_depth=4, n_estimators=5, subsample=1.0 ...\n",
      "[CV]  learning_rate=0.7, max_depth=4, n_estimators=5, subsample=1.0, score=(train=0.702, test=0.697), total=   1.0s\n",
      "[CV] learning_rate=0.7, max_depth=4, n_estimators=8, subsample=1.0 ...\n",
      "[CV]  learning_rate=0.7, max_depth=4, n_estimators=8, subsample=1.0, score=(train=0.707, test=0.692), total=   1.2s\n",
      "[CV] learning_rate=0.7, max_depth=4, n_estimators=8, subsample=1.0 ...\n",
      "[CV]  learning_rate=0.7, max_depth=4, n_estimators=8, subsample=1.0, score=(train=0.707, test=0.693), total=   1.0s\n",
      "[CV] learning_rate=0.7, max_depth=4, n_estimators=8, subsample=1.0 ...\n",
      "[CV]  learning_rate=0.7, max_depth=4, n_estimators=8, subsample=1.0, score=(train=0.704, test=0.697), total=   1.0s\n",
      "[CV] learning_rate=0.7, max_depth=4, n_estimators=12, subsample=1.0 ..\n",
      "[CV]  learning_rate=0.7, max_depth=4, n_estimators=12, subsample=1.0, score=(train=0.710, test=0.691), total=   1.1s\n",
      "[CV] learning_rate=0.7, max_depth=4, n_estimators=12, subsample=1.0 ..\n",
      "[CV]  learning_rate=0.7, max_depth=4, n_estimators=12, subsample=1.0, score=(train=0.710, test=0.693), total=   1.1s\n",
      "[CV] learning_rate=0.7, max_depth=4, n_estimators=12, subsample=1.0 ..\n",
      "[CV]  learning_rate=0.7, max_depth=4, n_estimators=12, subsample=1.0, score=(train=0.708, test=0.697), total=   1.1s\n"
     ]
    },
    {
     "name": "stderr",
     "output_type": "stream",
     "text": [
      "[Parallel(n_jobs=1)]: Done  81 out of  81 | elapsed:  2.1min finished\n"
     ]
    },
    {
     "data": {
      "text/plain": [
       "GridSearchCV(cv=3, error_score='raise-deprecating',\n",
       "             estimator=XGBClassifier(base_score=0.5, booster='gbtree',\n",
       "                                     colsample_bylevel=1, colsample_bynode=1,\n",
       "                                     colsample_bytree=1, gamma=0,\n",
       "                                     learning_rate=0.1, max_delta_step=0,\n",
       "                                     max_depth=3, min_child_weight=1,\n",
       "                                     missing=None, n_estimators=100, n_jobs=1,\n",
       "                                     nthread=None, objective='binary:logistic',\n",
       "                                     random_state=0, reg_alpha=0, reg_lambda=1,\n",
       "                                     scale_pos_weight=1, seed=None, silent=None,\n",
       "                                     subsample=1, verbosity=1),\n",
       "             iid='warn', n_jobs=1,\n",
       "             param_grid={'learning_rate': [0.1, 0.5, 0.7],\n",
       "                         'max_depth': [2, 3, 4], 'n_estimators': [5, 8, 12],\n",
       "                         'subsample': [1.0]},\n",
       "             pre_dispatch='2*n_jobs', refit=True, return_train_score=True,\n",
       "             scoring='roc_auc', verbose=10)"
      ]
     },
     "execution_count": 249,
     "metadata": {},
     "output_type": "execute_result"
    }
   ],
   "source": [
    "# create xgbClassifier object\n",
    "from xgboost import XGBClassifier\n",
    "XGB = XGBClassifier(booster='gbtree',  \n",
    "                        objective='binary:logistic',verbosity=1)\n",
    "# A parameter grid for XGBoost\n",
    "parms = {'max_depth':[2,3,4],\n",
    "        'n_estimators': [5, 8, 12],\n",
    "        'subsample': [1.0],           # sampling of rows \n",
    "        'learning_rate': [0.1, 0.5, 0.7]                 # shrinkage rate or learning rate \n",
    "        }\n",
    "\n",
    "from sklearn.model_selection import GridSearchCV\n",
    "CV = GridSearchCV(estimator = XGB,param_grid = parms, scoring = 'roc_auc',cv=3,refit=True,\n",
    "                           return_train_score = True,verbose=10,n_jobs=1)\n",
    "CV.fit(X_train_cont,Y_train.target)"
   ]
  },
  {
   "cell_type": "code",
   "execution_count": 250,
   "metadata": {},
   "outputs": [],
   "source": [
    "# analyse CV results\n",
    "CVResults = pd.DataFrame(CV.cv_results_)\n",
    "CVResults.to_excel('CVResutls_XGBoost.xlsx')"
   ]
  },
  {
   "cell_type": "code",
   "execution_count": 251,
   "metadata": {},
   "outputs": [
    {
     "name": "stdout",
     "output_type": "stream",
     "text": [
      "XGBClassifier(base_score=0.5, booster='gbtree', colsample_bylevel=1,\n",
      "              colsample_bynode=1, colsample_bytree=1, gamma=0,\n",
      "              learning_rate=0.5, max_delta_step=0, max_depth=4,\n",
      "              min_child_weight=1, missing=None, n_estimators=12, n_jobs=1,\n",
      "              nthread=None, objective='binary:logistic', random_state=0,\n",
      "              reg_alpha=0, reg_lambda=1, scale_pos_weight=1, seed=None,\n",
      "              silent=None, subsample=1.0, verbosity=1)\n"
     ]
    }
   ],
   "source": [
    "print(CV.best_estimator_)"
   ]
  },
  {
   "cell_type": "code",
   "execution_count": 252,
   "metadata": {},
   "outputs": [
    {
     "name": "stdout",
     "output_type": "stream",
     "text": [
      "0.6966432908375619\n",
      "{'learning_rate': 0.5, 'max_depth': 4, 'n_estimators': 12, 'subsample': 1.0}\n"
     ]
    }
   ],
   "source": [
    "print(CV.best_score_)\n",
    "print(CV.best_params_)"
   ]
  },
  {
   "cell_type": "code",
   "execution_count": 253,
   "metadata": {},
   "outputs": [
    {
     "name": "stdout",
     "output_type": "stream",
     "text": [
      "[[0.3999492  0.6000508 ]\n",
      " [0.12405336 0.87594664]\n",
      " [0.23252565 0.76747435]\n",
      " [0.4334671  0.5665329 ]\n",
      " [0.09551114 0.90448886]]\n",
      "[1 1 1 1 1]\n"
     ]
    }
   ],
   "source": [
    "# Preidct on Test data and check the confusion matrix\n",
    "predictProb = CV.predict_proba(X_test_cont)\n",
    "print(predictProb[0:5])\n",
    "PProb = pd.DataFrame(predictProb,columns=[\"Class0\",\"Class1\"])\n",
    "predictTest = CV.predict(X_test_cont)\n",
    "print(predictTest[0:5])"
   ]
  },
  {
   "cell_type": "code",
   "execution_count": 254,
   "metadata": {},
   "outputs": [
    {
     "name": "stdout",
     "output_type": "stream",
     "text": [
      "[[  544  4908]\n",
      " [  454 16959]]\n",
      "              precision    recall  f1-score   support\n",
      "\n",
      "           0       0.55      0.10      0.17      5452\n",
      "           1       0.78      0.97      0.86     17413\n",
      "\n",
      "    accuracy                           0.77     22865\n",
      "   macro avg       0.66      0.54      0.52     22865\n",
      "weighted avg       0.72      0.77      0.70     22865\n",
      "\n"
     ]
    }
   ],
   "source": [
    "# generate confusion matrix\n",
    "# import confusion matrix and classification report\n",
    "from sklearn.metrics import confusion_matrix, classification_report\n",
    "print (confusion_matrix(Y_test,predictTest))\n",
    "print (classification_report(Y_test,predictTest))"
   ]
  },
  {
   "cell_type": "code",
   "execution_count": 255,
   "metadata": {},
   "outputs": [
    {
     "name": "stdout",
     "output_type": "stream",
     "text": [
      "0.696532718637828\n"
     ]
    }
   ],
   "source": [
    "# generate ROC curve\n",
    "from sklearn.metrics import roc_auc_score, roc_curve\n",
    "# AUC for class 1\n",
    "AUC = roc_auc_score(Y_test, PProb.Class1)\n",
    "print(AUC)"
   ]
  },
  {
   "cell_type": "code",
   "execution_count": 256,
   "metadata": {},
   "outputs": [
    {
     "data": {
      "image/png": "[encoded data removed]",
      "text/plain": [
       "<Figure size 432x288 with 1 Axes>"
      ]
     },
     "metadata": {
      "needs_background": "light"
     },
     "output_type": "display_data"
    }
   ],
   "source": [
    "# plot ROC curve\n",
    "FPR, TPR, THR = roc_curve(Y_test, PProb.Class1)\n",
    "# plot the FPR as X-axis and TPR as Y-axis\n",
    "plt.plot(FPR, TPR)\n",
    "# plot the minimum line \n",
    "plt.plot([0,1], [0,1], color='navy', linestyle = '--')\n",
    "# set X and Y limits\n",
    "plt.xlim([0.0, 1.05])\n",
    "plt.ylim([0.0, 1.05])\n",
    "# mention lables for X and Y\n",
    "plt.xlabel('False Positive Rate')\n",
    "plt.ylabel('True Positive Rate')\n",
    "plt.title('ROC')\n",
    "plt.show()"
   ]
  },
  {
   "cell_type": "code",
   "execution_count": 257,
   "metadata": {},
   "outputs": [],
   "source": [
    "catX = pd.DataFrame(BNP,columns=impcatcols)\n",
    "contX = pd.DataFrame(BNP,columns=impcontcols)"
   ]
  },
  {
   "cell_type": "code",
   "execution_count": 258,
   "metadata": {},
   "outputs": [
    {
     "name": "stdout",
     "output_type": "stream",
     "text": [
      "(91456, 8)\n",
      "(91456, 1)\n",
      "(22865, 8)\n",
      "(22865, 1)\n",
      "        target\n",
      "110073       1\n",
      "56578        0\n",
      "108549       1\n",
      "107918       1\n",
      "30611        1\n",
      "15734        1\n",
      "56147        0\n",
      "9506         1\n",
      "94349        0\n",
      "99683        1\n"
     ]
    }
   ],
   "source": [
    "\n",
    "# splitting the data into Train and Test\n",
    "from sklearn.model_selection import train_test_split\n",
    "X_train, X_test, Y_train, Y_test = train_test_split(contX, depX,\n",
    "                                                    test_size = 0.20,\n",
    "                                                    random_state = 0)\n",
    "#random state is used to fix the split\n",
    "print(X_train.shape)\n",
    "print(Y_train.shape)\n",
    "print(X_test.shape)\n",
    "print(Y_test.shape)\n",
    "print(Y_train[0:10])\n"
   ]
  },
  {
   "cell_type": "code",
   "execution_count": 259,
   "metadata": {},
   "outputs": [
    {
     "name": "stdout",
     "output_type": "stream",
     "text": [
      "(91456, 8)\n",
      "(22865, 8)\n"
     ]
    }
   ],
   "source": [
    "# extract only continuous columns\n",
    "ContColumns = list(contX)\n",
    "X_train_cont = pd.DataFrame(X_train,columns=ContColumns)\n",
    "print(X_train_cont.shape)\n",
    "X_test_cont = pd.DataFrame(X_test,columns=ContColumns)\n",
    "print(X_test_cont.shape)"
   ]
  },
  {
   "cell_type": "code",
   "execution_count": null,
   "metadata": {},
   "outputs": [],
   "source": []
  },
  {
   "cell_type": "code",
   "execution_count": 260,
   "metadata": {},
   "outputs": [
    {
     "name": "stdout",
     "output_type": "stream",
     "text": [
      "Fitting 3 folds for each of 81 candidates, totalling 243 fits\n",
      "[CV] learning_rate=0.05, max_depth=2, n_estimators=5, subsample=0.3 ..\n"
     ]
    },
    {
     "name": "stderr",
     "output_type": "stream",
     "text": [
      "[Parallel(n_jobs=1)]: Using backend SequentialBackend with 1 concurrent workers.\n"
     ]
    },
    {
     "name": "stdout",
     "output_type": "stream",
     "text": [
      "[CV]  learning_rate=0.05, max_depth=2, n_estimators=5, subsample=0.3, score=(train=0.690, test=0.688), total=   0.4s\n",
      "[CV] learning_rate=0.05, max_depth=2, n_estimators=5, subsample=0.3 ..\n"
     ]
    },
    {
     "name": "stderr",
     "output_type": "stream",
     "text": [
      "[Parallel(n_jobs=1)]: Done   1 out of   1 | elapsed:    0.3s remaining:    0.0s\n"
     ]
    },
    {
     "name": "stdout",
     "output_type": "stream",
     "text": [
      "[CV]  learning_rate=0.05, max_depth=2, n_estimators=5, subsample=0.3, score=(train=0.687, test=0.683), total=   0.3s\n",
      "[CV] learning_rate=0.05, max_depth=2, n_estimators=5, subsample=0.3 ..\n"
     ]
    },
    {
     "name": "stderr",
     "output_type": "stream",
     "text": [
      "[Parallel(n_jobs=1)]: Done   2 out of   2 | elapsed:    0.7s remaining:    0.0s\n"
     ]
    },
    {
     "name": "stdout",
     "output_type": "stream",
     "text": [
      "[CV]  learning_rate=0.05, max_depth=2, n_estimators=5, subsample=0.3, score=(train=0.684, test=0.684), total=   0.3s\n",
      "[CV] learning_rate=0.05, max_depth=2, n_estimators=5, subsample=0.6 ..\n"
     ]
    },
    {
     "name": "stderr",
     "output_type": "stream",
     "text": [
      "[Parallel(n_jobs=1)]: Done   3 out of   3 | elapsed:    1.0s remaining:    0.0s\n"
     ]
    },
    {
     "name": "stdout",
     "output_type": "stream",
     "text": [
      "[CV]  learning_rate=0.05, max_depth=2, n_estimators=5, subsample=0.6, score=(train=0.684, test=0.683), total=   0.4s\n",
      "[CV] learning_rate=0.05, max_depth=2, n_estimators=5, subsample=0.6 ..\n"
     ]
    },
    {
     "name": "stderr",
     "output_type": "stream",
     "text": [
      "[Parallel(n_jobs=1)]: Done   4 out of   4 | elapsed:    1.5s remaining:    0.0s\n"
     ]
    },
    {
     "name": "stdout",
     "output_type": "stream",
     "text": [
      "[CV]  learning_rate=0.05, max_depth=2, n_estimators=5, subsample=0.6, score=(train=0.681, test=0.678), total=   0.4s\n",
      "[CV] learning_rate=0.05, max_depth=2, n_estimators=5, subsample=0.6 ..\n"
     ]
    },
    {
     "name": "stderr",
     "output_type": "stream",
     "text": [
      "[Parallel(n_jobs=1)]: Done   5 out of   5 | elapsed:    1.9s remaining:    0.0s\n"
     ]
    },
    {
     "name": "stdout",
     "output_type": "stream",
     "text": [
      "[CV]  learning_rate=0.05, max_depth=2, n_estimators=5, subsample=0.6, score=(train=0.685, test=0.685), total=   0.4s\n",
      "[CV] learning_rate=0.05, max_depth=2, n_estimators=5, subsample=0.9 ..\n"
     ]
    },
    {
     "name": "stderr",
     "output_type": "stream",
     "text": [
      "[Parallel(n_jobs=1)]: Done   6 out of   6 | elapsed:    2.4s remaining:    0.0s\n"
     ]
    },
    {
     "name": "stdout",
     "output_type": "stream",
     "text": [
      "[CV]  learning_rate=0.05, max_depth=2, n_estimators=5, subsample=0.9, score=(train=0.681, test=0.679), total=   0.4s\n",
      "[CV] learning_rate=0.05, max_depth=2, n_estimators=5, subsample=0.9 ..\n"
     ]
    },
    {
     "name": "stderr",
     "output_type": "stream",
     "text": [
      "[Parallel(n_jobs=1)]: Done   7 out of   7 | elapsed:    2.8s remaining:    0.0s\n"
     ]
    },
    {
     "name": "stdout",
     "output_type": "stream",
     "text": [
      "[CV]  learning_rate=0.05, max_depth=2, n_estimators=5, subsample=0.9, score=(train=0.681, test=0.677), total=   0.4s\n",
      "[CV] learning_rate=0.05, max_depth=2, n_estimators=5, subsample=0.9 ..\n"
     ]
    },
    {
     "name": "stderr",
     "output_type": "stream",
     "text": [
      "[Parallel(n_jobs=1)]: Done   8 out of   8 | elapsed:    3.3s remaining:    0.0s\n"
     ]
    },
    {
     "name": "stdout",
     "output_type": "stream",
     "text": [
      "[CV]  learning_rate=0.05, max_depth=2, n_estimators=5, subsample=0.9, score=(train=0.681, test=0.679), total=   0.4s\n",
      "[CV] learning_rate=0.05, max_depth=2, n_estimators=10, subsample=0.3 .\n"
     ]
    },
    {
     "name": "stderr",
     "output_type": "stream",
     "text": [
      "[Parallel(n_jobs=1)]: Done   9 out of   9 | elapsed:    3.7s remaining:    0.0s\n"
     ]
    },
    {
     "name": "stdout",
     "output_type": "stream",
     "text": [
      "[CV]  learning_rate=0.05, max_depth=2, n_estimators=10, subsample=0.3, score=(train=0.689, test=0.686), total=   0.6s\n",
      "[CV] learning_rate=0.05, max_depth=2, n_estimators=10, subsample=0.3 .\n",
      "[CV]  learning_rate=0.05, max_depth=2, n_estimators=10, subsample=0.3, score=(train=0.691, test=0.690), total=   0.6s\n",
      "[CV] learning_rate=0.05, max_depth=2, n_estimators=10, subsample=0.3 .\n",
      "[CV]  learning_rate=0.05, max_depth=2, n_estimators=10, subsample=0.3, score=(train=0.690, test=0.690), total=   0.6s\n",
      "[CV] learning_rate=0.05, max_depth=2, n_estimators=10, subsample=0.6 .\n",
      "[CV]  learning_rate=0.05, max_depth=2, n_estimators=10, subsample=0.6, score=(train=0.689, test=0.687), total=   0.6s\n",
      "[CV] learning_rate=0.05, max_depth=2, n_estimators=10, subsample=0.6 .\n",
      "[CV]  learning_rate=0.05, max_depth=2, n_estimators=10, subsample=0.6, score=(train=0.691, test=0.688), total=   0.7s\n",
      "[CV] learning_rate=0.05, max_depth=2, n_estimators=10, subsample=0.6 .\n",
      "[CV]  learning_rate=0.05, max_depth=2, n_estimators=10, subsample=0.6, score=(train=0.691, test=0.691), total=   0.7s\n",
      "[CV] learning_rate=0.05, max_depth=2, n_estimators=10, subsample=0.9 .\n",
      "[CV]  learning_rate=0.05, max_depth=2, n_estimators=10, subsample=0.9, score=(train=0.690, test=0.688), total=   0.7s\n",
      "[CV] learning_rate=0.05, max_depth=2, n_estimators=10, subsample=0.9 .\n",
      "[CV]  learning_rate=0.05, max_depth=2, n_estimators=10, subsample=0.9, score=(train=0.690, test=0.686), total=   0.6s\n",
      "[CV] learning_rate=0.05, max_depth=2, n_estimators=10, subsample=0.9 .\n",
      "[CV]  learning_rate=0.05, max_depth=2, n_estimators=10, subsample=0.9, score=(train=0.689, test=0.689), total=   0.6s\n",
      "[CV] learning_rate=0.05, max_depth=2, n_estimators=20, subsample=0.3 .\n",
      "[CV]  learning_rate=0.05, max_depth=2, n_estimators=20, subsample=0.3, score=(train=0.695, test=0.692), total=   0.8s\n",
      "[CV] learning_rate=0.05, max_depth=2, n_estimators=20, subsample=0.3 .\n",
      "[CV]  learning_rate=0.05, max_depth=2, n_estimators=20, subsample=0.3, score=(train=0.693, test=0.691), total=   0.8s\n",
      "[CV] learning_rate=0.05, max_depth=2, n_estimators=20, subsample=0.3 .\n",
      "[CV]  learning_rate=0.05, max_depth=2, n_estimators=20, subsample=0.3, score=(train=0.694, test=0.694), total=   0.8s\n",
      "[CV] learning_rate=0.05, max_depth=2, n_estimators=20, subsample=0.6 .\n",
      "[CV]  learning_rate=0.05, max_depth=2, n_estimators=20, subsample=0.6, score=(train=0.694, test=0.691), total=   0.9s\n",
      "[CV] learning_rate=0.05, max_depth=2, n_estimators=20, subsample=0.6 .\n",
      "[CV]  learning_rate=0.05, max_depth=2, n_estimators=20, subsample=0.6, score=(train=0.694, test=0.691), total=   1.0s\n",
      "[CV] learning_rate=0.05, max_depth=2, n_estimators=20, subsample=0.6 .\n",
      "[CV]  learning_rate=0.05, max_depth=2, n_estimators=20, subsample=0.6, score=(train=0.693, test=0.694), total=   1.0s\n",
      "[CV] learning_rate=0.05, max_depth=2, n_estimators=20, subsample=0.9 .\n",
      "[CV]  learning_rate=0.05, max_depth=2, n_estimators=20, subsample=0.9, score=(train=0.693, test=0.690), total=   1.2s\n",
      "[CV] learning_rate=0.05, max_depth=2, n_estimators=20, subsample=0.9 .\n",
      "[CV]  learning_rate=0.05, max_depth=2, n_estimators=20, subsample=0.9, score=(train=0.694, test=0.692), total=   1.0s\n",
      "[CV] learning_rate=0.05, max_depth=2, n_estimators=20, subsample=0.9 .\n",
      "[CV]  learning_rate=0.05, max_depth=2, n_estimators=20, subsample=0.9, score=(train=0.693, test=0.693), total=   1.0s\n",
      "[CV] learning_rate=0.05, max_depth=3, n_estimators=5, subsample=0.3 ..\n",
      "[CV]  learning_rate=0.05, max_depth=3, n_estimators=5, subsample=0.3, score=(train=0.698, test=0.695), total=   0.4s\n",
      "[CV] learning_rate=0.05, max_depth=3, n_estimators=5, subsample=0.3 ..\n",
      "[CV]  learning_rate=0.05, max_depth=3, n_estimators=5, subsample=0.3, score=(train=0.697, test=0.693), total=   0.3s\n",
      "[CV] learning_rate=0.05, max_depth=3, n_estimators=5, subsample=0.3 ..\n",
      "[CV]  learning_rate=0.05, max_depth=3, n_estimators=5, subsample=0.3, score=(train=0.696, test=0.696), total=   0.3s\n",
      "[CV] learning_rate=0.05, max_depth=3, n_estimators=5, subsample=0.6 ..\n",
      "[CV]  learning_rate=0.05, max_depth=3, n_estimators=5, subsample=0.6, score=(train=0.696, test=0.693), total=   0.5s\n",
      "[CV] learning_rate=0.05, max_depth=3, n_estimators=5, subsample=0.6 ..\n",
      "[CV]  learning_rate=0.05, max_depth=3, n_estimators=5, subsample=0.6, score=(train=0.695, test=0.691), total=   0.4s\n",
      "[CV] learning_rate=0.05, max_depth=3, n_estimators=5, subsample=0.6 ..\n",
      "[CV]  learning_rate=0.05, max_depth=3, n_estimators=5, subsample=0.6, score=(train=0.696, test=0.696), total=   0.5s\n",
      "[CV] learning_rate=0.05, max_depth=3, n_estimators=5, subsample=0.9 ..\n",
      "[CV]  learning_rate=0.05, max_depth=3, n_estimators=5, subsample=0.9, score=(train=0.695, test=0.691), total=   0.5s\n",
      "[CV] learning_rate=0.05, max_depth=3, n_estimators=5, subsample=0.9 ..\n",
      "[CV]  learning_rate=0.05, max_depth=3, n_estimators=5, subsample=0.9, score=(train=0.696, test=0.690), total=   0.5s\n",
      "[CV] learning_rate=0.05, max_depth=3, n_estimators=5, subsample=0.9 ..\n",
      "[CV]  learning_rate=0.05, max_depth=3, n_estimators=5, subsample=0.9, score=(train=0.693, test=0.693), total=   0.5s\n",
      "[CV] learning_rate=0.05, max_depth=3, n_estimators=10, subsample=0.3 .\n",
      "[CV]  learning_rate=0.05, max_depth=3, n_estimators=10, subsample=0.3, score=(train=0.699, test=0.694), total=   0.6s\n",
      "[CV] learning_rate=0.05, max_depth=3, n_estimators=10, subsample=0.3 .\n",
      "[CV]  learning_rate=0.05, max_depth=3, n_estimators=10, subsample=0.3, score=(train=0.698, test=0.694), total=   0.6s\n",
      "[CV] learning_rate=0.05, max_depth=3, n_estimators=10, subsample=0.3 .\n",
      "[CV]  learning_rate=0.05, max_depth=3, n_estimators=10, subsample=0.3, score=(train=0.699, test=0.698), total=   0.7s\n",
      "[CV] learning_rate=0.05, max_depth=3, n_estimators=10, subsample=0.6 .\n",
      "[CV]  learning_rate=0.05, max_depth=3, n_estimators=10, subsample=0.6, score=(train=0.698, test=0.694), total=   0.8s\n",
      "[CV] learning_rate=0.05, max_depth=3, n_estimators=10, subsample=0.6 .\n",
      "[CV]  learning_rate=0.05, max_depth=3, n_estimators=10, subsample=0.6, score=(train=0.698, test=0.693), total=   0.7s\n",
      "[CV] learning_rate=0.05, max_depth=3, n_estimators=10, subsample=0.6 .\n",
      "[CV]  learning_rate=0.05, max_depth=3, n_estimators=10, subsample=0.6, score=(train=0.697, test=0.697), total=   0.7s\n",
      "[CV] learning_rate=0.05, max_depth=3, n_estimators=10, subsample=0.9 .\n",
      "[CV]  learning_rate=0.05, max_depth=3, n_estimators=10, subsample=0.9, score=(train=0.699, test=0.694), total=   0.9s\n",
      "[CV] learning_rate=0.05, max_depth=3, n_estimators=10, subsample=0.9 .\n",
      "[CV]  learning_rate=0.05, max_depth=3, n_estimators=10, subsample=0.9, score=(train=0.697, test=0.692), total=   0.8s\n",
      "[CV] learning_rate=0.05, max_depth=3, n_estimators=10, subsample=0.9 .\n",
      "[CV]  learning_rate=0.05, max_depth=3, n_estimators=10, subsample=0.9, score=(train=0.697, test=0.696), total=   0.9s\n",
      "[CV] learning_rate=0.05, max_depth=3, n_estimators=20, subsample=0.3 .\n",
      "[CV]  learning_rate=0.05, max_depth=3, n_estimators=20, subsample=0.3, score=(train=0.701, test=0.697), total=   1.0s\n",
      "[CV] learning_rate=0.05, max_depth=3, n_estimators=20, subsample=0.3 .\n",
      "[CV]  learning_rate=0.05, max_depth=3, n_estimators=20, subsample=0.3, score=(train=0.701, test=0.697), total=   1.2s\n",
      "[CV] learning_rate=0.05, max_depth=3, n_estimators=20, subsample=0.3 .\n",
      "[CV]  learning_rate=0.05, max_depth=3, n_estimators=20, subsample=0.3, score=(train=0.700, test=0.700), total=   0.8s\n",
      "[CV] learning_rate=0.05, max_depth=3, n_estimators=20, subsample=0.6 .\n",
      "[CV]  learning_rate=0.05, max_depth=3, n_estimators=20, subsample=0.6, score=(train=0.701, test=0.696), total=   1.1s\n",
      "[CV] learning_rate=0.05, max_depth=3, n_estimators=20, subsample=0.6 .\n",
      "[CV]  learning_rate=0.05, max_depth=3, n_estimators=20, subsample=0.6, score=(train=0.701, test=0.697), total=   1.1s\n",
      "[CV] learning_rate=0.05, max_depth=3, n_estimators=20, subsample=0.6 .\n",
      "[CV]  learning_rate=0.05, max_depth=3, n_estimators=20, subsample=0.6, score=(train=0.699, test=0.699), total=   1.1s\n",
      "[CV] learning_rate=0.05, max_depth=3, n_estimators=20, subsample=0.9 .\n",
      "[CV]  learning_rate=0.05, max_depth=3, n_estimators=20, subsample=0.9, score=(train=0.701, test=0.696), total=   1.2s\n",
      "[CV] learning_rate=0.05, max_depth=3, n_estimators=20, subsample=0.9 .\n",
      "[CV]  learning_rate=0.05, max_depth=3, n_estimators=20, subsample=0.9, score=(train=0.700, test=0.696), total=   1.2s\n",
      "[CV] learning_rate=0.05, max_depth=3, n_estimators=20, subsample=0.9 .\n"
     ]
    },
    {
     "name": "stdout",
     "output_type": "stream",
     "text": [
      "[CV]  learning_rate=0.05, max_depth=3, n_estimators=20, subsample=0.9, score=(train=0.699, test=0.699), total=   1.4s\n",
      "[CV] learning_rate=0.05, max_depth=4, n_estimators=5, subsample=0.3 ..\n",
      "[CV]  learning_rate=0.05, max_depth=4, n_estimators=5, subsample=0.3, score=(train=0.702, test=0.696), total=   0.4s\n",
      "[CV] learning_rate=0.05, max_depth=4, n_estimators=5, subsample=0.3 ..\n",
      "[CV]  learning_rate=0.05, max_depth=4, n_estimators=5, subsample=0.3, score=(train=0.702, test=0.696), total=   0.4s\n",
      "[CV] learning_rate=0.05, max_depth=4, n_estimators=5, subsample=0.3 ..\n",
      "[CV]  learning_rate=0.05, max_depth=4, n_estimators=5, subsample=0.3, score=(train=0.700, test=0.700), total=   0.4s\n",
      "[CV] learning_rate=0.05, max_depth=4, n_estimators=5, subsample=0.6 ..\n",
      "[CV]  learning_rate=0.05, max_depth=4, n_estimators=5, subsample=0.6, score=(train=0.704, test=0.696), total=   0.6s\n",
      "[CV] learning_rate=0.05, max_depth=4, n_estimators=5, subsample=0.6 ..\n",
      "[CV]  learning_rate=0.05, max_depth=4, n_estimators=5, subsample=0.6, score=(train=0.702, test=0.696), total=   0.5s\n",
      "[CV] learning_rate=0.05, max_depth=4, n_estimators=5, subsample=0.6 ..\n",
      "[CV]  learning_rate=0.05, max_depth=4, n_estimators=5, subsample=0.6, score=(train=0.701, test=0.699), total=   0.6s\n",
      "[CV] learning_rate=0.05, max_depth=4, n_estimators=5, subsample=0.9 ..\n",
      "[CV]  learning_rate=0.05, max_depth=4, n_estimators=5, subsample=0.9, score=(train=0.702, test=0.695), total=   0.5s\n",
      "[CV] learning_rate=0.05, max_depth=4, n_estimators=5, subsample=0.9 ..\n",
      "[CV]  learning_rate=0.05, max_depth=4, n_estimators=5, subsample=0.9, score=(train=0.699, test=0.693), total=   0.6s\n",
      "[CV] learning_rate=0.05, max_depth=4, n_estimators=5, subsample=0.9 ..\n",
      "[CV]  learning_rate=0.05, max_depth=4, n_estimators=5, subsample=0.9, score=(train=0.700, test=0.698), total=   0.5s\n",
      "[CV] learning_rate=0.05, max_depth=4, n_estimators=10, subsample=0.3 .\n",
      "[CV]  learning_rate=0.05, max_depth=4, n_estimators=10, subsample=0.3, score=(train=0.704, test=0.697), total=   0.6s\n",
      "[CV] learning_rate=0.05, max_depth=4, n_estimators=10, subsample=0.3 .\n",
      "[CV]  learning_rate=0.05, max_depth=4, n_estimators=10, subsample=0.3, score=(train=0.704, test=0.699), total=   0.6s\n",
      "[CV] learning_rate=0.05, max_depth=4, n_estimators=10, subsample=0.3 .\n",
      "[CV]  learning_rate=0.05, max_depth=4, n_estimators=10, subsample=0.3, score=(train=0.703, test=0.702), total=   0.7s\n",
      "[CV] learning_rate=0.05, max_depth=4, n_estimators=10, subsample=0.6 .\n",
      "[CV]  learning_rate=0.05, max_depth=4, n_estimators=10, subsample=0.6, score=(train=0.705, test=0.697), total=   0.9s\n",
      "[CV] learning_rate=0.05, max_depth=4, n_estimators=10, subsample=0.6 .\n",
      "[CV]  learning_rate=0.05, max_depth=4, n_estimators=10, subsample=0.6, score=(train=0.703, test=0.697), total=   0.8s\n",
      "[CV] learning_rate=0.05, max_depth=4, n_estimators=10, subsample=0.6 .\n",
      "[CV]  learning_rate=0.05, max_depth=4, n_estimators=10, subsample=0.6, score=(train=0.703, test=0.701), total=   0.8s\n",
      "[CV] learning_rate=0.05, max_depth=4, n_estimators=10, subsample=0.9 .\n",
      "[CV]  learning_rate=0.05, max_depth=4, n_estimators=10, subsample=0.9, score=(train=0.704, test=0.697), total=   0.9s\n",
      "[CV] learning_rate=0.05, max_depth=4, n_estimators=10, subsample=0.9 .\n",
      "[CV]  learning_rate=0.05, max_depth=4, n_estimators=10, subsample=0.9, score=(train=0.702, test=0.696), total=   0.9s\n",
      "[CV] learning_rate=0.05, max_depth=4, n_estimators=10, subsample=0.9 .\n",
      "[CV]  learning_rate=0.05, max_depth=4, n_estimators=10, subsample=0.9, score=(train=0.703, test=0.701), total=   0.9s\n",
      "[CV] learning_rate=0.05, max_depth=4, n_estimators=20, subsample=0.3 .\n",
      "[CV]  learning_rate=0.05, max_depth=4, n_estimators=20, subsample=0.3, score=(train=0.707, test=0.699), total=   1.1s\n",
      "[CV] learning_rate=0.05, max_depth=4, n_estimators=20, subsample=0.3 .\n",
      "[CV]  learning_rate=0.05, max_depth=4, n_estimators=20, subsample=0.3, score=(train=0.706, test=0.701), total=   1.1s\n",
      "[CV] learning_rate=0.05, max_depth=4, n_estimators=20, subsample=0.3 .\n",
      "[CV]  learning_rate=0.05, max_depth=4, n_estimators=20, subsample=0.3, score=(train=0.705, test=0.703), total=   1.1s\n",
      "[CV] learning_rate=0.05, max_depth=4, n_estimators=20, subsample=0.6 .\n",
      "[CV]  learning_rate=0.05, max_depth=4, n_estimators=20, subsample=0.6, score=(train=0.707, test=0.699), total=   1.4s\n",
      "[CV] learning_rate=0.05, max_depth=4, n_estimators=20, subsample=0.6 .\n",
      "[CV]  learning_rate=0.05, max_depth=4, n_estimators=20, subsample=0.6, score=(train=0.706, test=0.700), total=   1.4s\n",
      "[CV] learning_rate=0.05, max_depth=4, n_estimators=20, subsample=0.6 .\n",
      "[CV]  learning_rate=0.05, max_depth=4, n_estimators=20, subsample=0.6, score=(train=0.705, test=0.702), total=   1.6s\n",
      "[CV] learning_rate=0.05, max_depth=4, n_estimators=20, subsample=0.9 .\n",
      "[CV]  learning_rate=0.05, max_depth=4, n_estimators=20, subsample=0.9, score=(train=0.707, test=0.698), total=   1.7s\n",
      "[CV] learning_rate=0.05, max_depth=4, n_estimators=20, subsample=0.9 .\n",
      "[CV]  learning_rate=0.05, max_depth=4, n_estimators=20, subsample=0.9, score=(train=0.706, test=0.699), total=   1.8s\n",
      "[CV] learning_rate=0.05, max_depth=4, n_estimators=20, subsample=0.9 .\n",
      "[CV]  learning_rate=0.05, max_depth=4, n_estimators=20, subsample=0.9, score=(train=0.705, test=0.702), total=   1.6s\n",
      "[CV] learning_rate=0.1, max_depth=2, n_estimators=5, subsample=0.3 ...\n",
      "[CV]  learning_rate=0.1, max_depth=2, n_estimators=5, subsample=0.3, score=(train=0.690, test=0.688), total=   0.2s\n",
      "[CV] learning_rate=0.1, max_depth=2, n_estimators=5, subsample=0.3 ...\n",
      "[CV]  learning_rate=0.1, max_depth=2, n_estimators=5, subsample=0.3, score=(train=0.686, test=0.681), total=   0.2s\n",
      "[CV] learning_rate=0.1, max_depth=2, n_estimators=5, subsample=0.3 ...\n",
      "[CV]  learning_rate=0.1, max_depth=2, n_estimators=5, subsample=0.3, score=(train=0.685, test=0.686), total=   0.2s\n",
      "[CV] learning_rate=0.1, max_depth=2, n_estimators=5, subsample=0.6 ...\n",
      "[CV]  learning_rate=0.1, max_depth=2, n_estimators=5, subsample=0.6, score=(train=0.690, test=0.688), total=   0.3s\n",
      "[CV] learning_rate=0.1, max_depth=2, n_estimators=5, subsample=0.6 ...\n",
      "[CV]  learning_rate=0.1, max_depth=2, n_estimators=5, subsample=0.6, score=(train=0.687, test=0.684), total=   0.3s\n",
      "[CV] learning_rate=0.1, max_depth=2, n_estimators=5, subsample=0.6 ...\n",
      "[CV]  learning_rate=0.1, max_depth=2, n_estimators=5, subsample=0.6, score=(train=0.689, test=0.689), total=   0.3s\n",
      "[CV] learning_rate=0.1, max_depth=2, n_estimators=5, subsample=0.9 ...\n",
      "[CV]  learning_rate=0.1, max_depth=2, n_estimators=5, subsample=0.9, score=(train=0.689, test=0.687), total=   0.3s\n",
      "[CV] learning_rate=0.1, max_depth=2, n_estimators=5, subsample=0.9 ...\n",
      "[CV]  learning_rate=0.1, max_depth=2, n_estimators=5, subsample=0.9, score=(train=0.687, test=0.683), total=   0.3s\n",
      "[CV] learning_rate=0.1, max_depth=2, n_estimators=5, subsample=0.9 ...\n",
      "[CV]  learning_rate=0.1, max_depth=2, n_estimators=5, subsample=0.9, score=(train=0.689, test=0.689), total=   0.3s\n",
      "[CV] learning_rate=0.1, max_depth=2, n_estimators=10, subsample=0.3 ..\n",
      "[CV]  learning_rate=0.1, max_depth=2, n_estimators=10, subsample=0.3, score=(train=0.694, test=0.691), total=   0.3s\n",
      "[CV] learning_rate=0.1, max_depth=2, n_estimators=10, subsample=0.3 ..\n",
      "[CV]  learning_rate=0.1, max_depth=2, n_estimators=10, subsample=0.3, score=(train=0.693, test=0.691), total=   0.4s\n",
      "[CV] learning_rate=0.1, max_depth=2, n_estimators=10, subsample=0.3 ..\n",
      "[CV]  learning_rate=0.1, max_depth=2, n_estimators=10, subsample=0.3, score=(train=0.693, test=0.694), total=   0.3s\n",
      "[CV] learning_rate=0.1, max_depth=2, n_estimators=10, subsample=0.6 ..\n",
      "[CV]  learning_rate=0.1, max_depth=2, n_estimators=10, subsample=0.6, score=(train=0.695, test=0.692), total=   0.4s\n",
      "[CV] learning_rate=0.1, max_depth=2, n_estimators=10, subsample=0.6 ..\n",
      "[CV]  learning_rate=0.1, max_depth=2, n_estimators=10, subsample=0.6, score=(train=0.693, test=0.691), total=   0.5s\n",
      "[CV] learning_rate=0.1, max_depth=2, n_estimators=10, subsample=0.6 ..\n",
      "[CV]  learning_rate=0.1, max_depth=2, n_estimators=10, subsample=0.6, score=(train=0.693, test=0.694), total=   0.5s\n",
      "[CV] learning_rate=0.1, max_depth=2, n_estimators=10, subsample=0.9 ..\n",
      "[CV]  learning_rate=0.1, max_depth=2, n_estimators=10, subsample=0.9, score=(train=0.694, test=0.691), total=   0.4s\n",
      "[CV] learning_rate=0.1, max_depth=2, n_estimators=10, subsample=0.9 ..\n"
     ]
    },
    {
     "name": "stdout",
     "output_type": "stream",
     "text": [
      "[CV]  learning_rate=0.1, max_depth=2, n_estimators=10, subsample=0.9, score=(train=0.693, test=0.690), total=   0.5s\n",
      "[CV] learning_rate=0.1, max_depth=2, n_estimators=10, subsample=0.9 ..\n",
      "[CV]  learning_rate=0.1, max_depth=2, n_estimators=10, subsample=0.9, score=(train=0.693, test=0.693), total=   0.4s\n",
      "[CV] learning_rate=0.1, max_depth=2, n_estimators=20, subsample=0.3 ..\n",
      "[CV]  learning_rate=0.1, max_depth=2, n_estimators=20, subsample=0.3, score=(train=0.699, test=0.695), total=   0.6s\n",
      "[CV] learning_rate=0.1, max_depth=2, n_estimators=20, subsample=0.3 ..\n",
      "[CV]  learning_rate=0.1, max_depth=2, n_estimators=20, subsample=0.3, score=(train=0.698, test=0.696), total=   0.6s\n",
      "[CV] learning_rate=0.1, max_depth=2, n_estimators=20, subsample=0.3 ..\n",
      "[CV]  learning_rate=0.1, max_depth=2, n_estimators=20, subsample=0.3, score=(train=0.699, test=0.699), total=   0.6s\n",
      "[CV] learning_rate=0.1, max_depth=2, n_estimators=20, subsample=0.6 ..\n",
      "[CV]  learning_rate=0.1, max_depth=2, n_estimators=20, subsample=0.6, score=(train=0.699, test=0.695), total=   0.8s\n",
      "[CV] learning_rate=0.1, max_depth=2, n_estimators=20, subsample=0.6 ..\n",
      "[CV]  learning_rate=0.1, max_depth=2, n_estimators=20, subsample=0.6, score=(train=0.699, test=0.696), total=   0.8s\n",
      "[CV] learning_rate=0.1, max_depth=2, n_estimators=20, subsample=0.6 ..\n",
      "[CV]  learning_rate=0.1, max_depth=2, n_estimators=20, subsample=0.6, score=(train=0.698, test=0.699), total=   0.8s\n",
      "[CV] learning_rate=0.1, max_depth=2, n_estimators=20, subsample=0.9 ..\n",
      "[CV]  learning_rate=0.1, max_depth=2, n_estimators=20, subsample=0.9, score=(train=0.700, test=0.695), total=   0.8s\n",
      "[CV] learning_rate=0.1, max_depth=2, n_estimators=20, subsample=0.9 ..\n",
      "[CV]  learning_rate=0.1, max_depth=2, n_estimators=20, subsample=0.9, score=(train=0.699, test=0.696), total=   0.8s\n",
      "[CV] learning_rate=0.1, max_depth=2, n_estimators=20, subsample=0.9 ..\n",
      "[CV]  learning_rate=0.1, max_depth=2, n_estimators=20, subsample=0.9, score=(train=0.698, test=0.698), total=   1.2s\n",
      "[CV] learning_rate=0.1, max_depth=3, n_estimators=5, subsample=0.3 ...\n",
      "[CV]  learning_rate=0.1, max_depth=3, n_estimators=5, subsample=0.3, score=(train=0.698, test=0.693), total=   0.3s\n",
      "[CV] learning_rate=0.1, max_depth=3, n_estimators=5, subsample=0.3 ...\n",
      "[CV]  learning_rate=0.1, max_depth=3, n_estimators=5, subsample=0.3, score=(train=0.697, test=0.694), total=   0.3s\n",
      "[CV] learning_rate=0.1, max_depth=3, n_estimators=5, subsample=0.3 ...\n",
      "[CV]  learning_rate=0.1, max_depth=3, n_estimators=5, subsample=0.3, score=(train=0.696, test=0.695), total=   0.3s\n",
      "[CV] learning_rate=0.1, max_depth=3, n_estimators=5, subsample=0.6 ...\n",
      "[CV]  learning_rate=0.1, max_depth=3, n_estimators=5, subsample=0.6, score=(train=0.697, test=0.693), total=   0.4s\n",
      "[CV] learning_rate=0.1, max_depth=3, n_estimators=5, subsample=0.6 ...\n",
      "[CV]  learning_rate=0.1, max_depth=3, n_estimators=5, subsample=0.6, score=(train=0.697, test=0.693), total=   0.4s\n",
      "[CV] learning_rate=0.1, max_depth=3, n_estimators=5, subsample=0.6 ...\n",
      "[CV]  learning_rate=0.1, max_depth=3, n_estimators=5, subsample=0.6, score=(train=0.697, test=0.696), total=   0.4s\n",
      "[CV] learning_rate=0.1, max_depth=3, n_estimators=5, subsample=0.9 ...\n",
      "[CV]  learning_rate=0.1, max_depth=3, n_estimators=5, subsample=0.9, score=(train=0.698, test=0.693), total=   0.4s\n",
      "[CV] learning_rate=0.1, max_depth=3, n_estimators=5, subsample=0.9 ...\n",
      "[CV]  learning_rate=0.1, max_depth=3, n_estimators=5, subsample=0.9, score=(train=0.697, test=0.692), total=   0.4s\n",
      "[CV] learning_rate=0.1, max_depth=3, n_estimators=5, subsample=0.9 ...\n",
      "[CV]  learning_rate=0.1, max_depth=3, n_estimators=5, subsample=0.9, score=(train=0.697, test=0.696), total=   0.4s\n",
      "[CV] learning_rate=0.1, max_depth=3, n_estimators=10, subsample=0.3 ..\n",
      "[CV]  learning_rate=0.1, max_depth=3, n_estimators=10, subsample=0.3, score=(train=0.701, test=0.696), total=   0.4s\n",
      "[CV] learning_rate=0.1, max_depth=3, n_estimators=10, subsample=0.3 ..\n",
      "[CV]  learning_rate=0.1, max_depth=3, n_estimators=10, subsample=0.3, score=(train=0.700, test=0.697), total=   0.5s\n",
      "[CV] learning_rate=0.1, max_depth=3, n_estimators=10, subsample=0.3 ..\n",
      "[CV]  learning_rate=0.1, max_depth=3, n_estimators=10, subsample=0.3, score=(train=0.699, test=0.699), total=   0.5s\n",
      "[CV] learning_rate=0.1, max_depth=3, n_estimators=10, subsample=0.6 ..\n",
      "[CV]  learning_rate=0.1, max_depth=3, n_estimators=10, subsample=0.6, score=(train=0.700, test=0.695), total=   0.6s\n",
      "[CV] learning_rate=0.1, max_depth=3, n_estimators=10, subsample=0.6 ..\n",
      "[CV]  learning_rate=0.1, max_depth=3, n_estimators=10, subsample=0.6, score=(train=0.700, test=0.695), total=   0.6s\n",
      "[CV] learning_rate=0.1, max_depth=3, n_estimators=10, subsample=0.6 ..\n",
      "[CV]  learning_rate=0.1, max_depth=3, n_estimators=10, subsample=0.6, score=(train=0.699, test=0.699), total=   0.6s\n",
      "[CV] learning_rate=0.1, max_depth=3, n_estimators=10, subsample=0.9 ..\n",
      "[CV]  learning_rate=0.1, max_depth=3, n_estimators=10, subsample=0.9, score=(train=0.700, test=0.695), total=   0.6s\n",
      "[CV] learning_rate=0.1, max_depth=3, n_estimators=10, subsample=0.9 ..\n",
      "[CV]  learning_rate=0.1, max_depth=3, n_estimators=10, subsample=0.9, score=(train=0.700, test=0.696), total=   0.6s\n",
      "[CV] learning_rate=0.1, max_depth=3, n_estimators=10, subsample=0.9 ..\n",
      "[CV]  learning_rate=0.1, max_depth=3, n_estimators=10, subsample=0.9, score=(train=0.699, test=0.699), total=   0.6s\n",
      "[CV] learning_rate=0.1, max_depth=3, n_estimators=20, subsample=0.3 ..\n",
      "[CV]  learning_rate=0.1, max_depth=3, n_estimators=20, subsample=0.3, score=(train=0.704, test=0.699), total=   0.8s\n",
      "[CV] learning_rate=0.1, max_depth=3, n_estimators=20, subsample=0.3 ..\n",
      "[CV]  learning_rate=0.1, max_depth=3, n_estimators=20, subsample=0.3, score=(train=0.704, test=0.700), total=   0.8s\n",
      "[CV] learning_rate=0.1, max_depth=3, n_estimators=20, subsample=0.3 ..\n",
      "[CV]  learning_rate=0.1, max_depth=3, n_estimators=20, subsample=0.3, score=(train=0.702, test=0.702), total=   0.8s\n",
      "[CV] learning_rate=0.1, max_depth=3, n_estimators=20, subsample=0.6 ..\n",
      "[CV]  learning_rate=0.1, max_depth=3, n_estimators=20, subsample=0.6, score=(train=0.706, test=0.699), total=   1.0s\n",
      "[CV] learning_rate=0.1, max_depth=3, n_estimators=20, subsample=0.6 ..\n",
      "[CV]  learning_rate=0.1, max_depth=3, n_estimators=20, subsample=0.6, score=(train=0.703, test=0.699), total=   1.1s\n",
      "[CV] learning_rate=0.1, max_depth=3, n_estimators=20, subsample=0.6 ..\n",
      "[CV]  learning_rate=0.1, max_depth=3, n_estimators=20, subsample=0.6, score=(train=0.702, test=0.701), total=   1.1s\n",
      "[CV] learning_rate=0.1, max_depth=3, n_estimators=20, subsample=0.9 ..\n",
      "[CV]  learning_rate=0.1, max_depth=3, n_estimators=20, subsample=0.9, score=(train=0.705, test=0.698), total=   1.4s\n",
      "[CV] learning_rate=0.1, max_depth=3, n_estimators=20, subsample=0.9 ..\n",
      "[CV]  learning_rate=0.1, max_depth=3, n_estimators=20, subsample=0.9, score=(train=0.703, test=0.699), total=   1.2s\n",
      "[CV] learning_rate=0.1, max_depth=3, n_estimators=20, subsample=0.9 ..\n",
      "[CV]  learning_rate=0.1, max_depth=3, n_estimators=20, subsample=0.9, score=(train=0.704, test=0.703), total=   1.2s\n",
      "[CV] learning_rate=0.1, max_depth=4, n_estimators=5, subsample=0.3 ...\n",
      "[CV]  learning_rate=0.1, max_depth=4, n_estimators=5, subsample=0.3, score=(train=0.702, test=0.696), total=   0.3s\n",
      "[CV] learning_rate=0.1, max_depth=4, n_estimators=5, subsample=0.3 ...\n",
      "[CV]  learning_rate=0.1, max_depth=4, n_estimators=5, subsample=0.3, score=(train=0.701, test=0.696), total=   0.3s\n",
      "[CV] learning_rate=0.1, max_depth=4, n_estimators=5, subsample=0.3 ...\n",
      "[CV]  learning_rate=0.1, max_depth=4, n_estimators=5, subsample=0.3, score=(train=0.701, test=0.700), total=   0.3s\n",
      "[CV] learning_rate=0.1, max_depth=4, n_estimators=5, subsample=0.6 ...\n",
      "[CV]  learning_rate=0.1, max_depth=4, n_estimators=5, subsample=0.6, score=(train=0.704, test=0.697), total=   0.4s\n",
      "[CV] learning_rate=0.1, max_depth=4, n_estimators=5, subsample=0.6 ...\n",
      "[CV]  learning_rate=0.1, max_depth=4, n_estimators=5, subsample=0.6, score=(train=0.702, test=0.697), total=   0.4s\n",
      "[CV] learning_rate=0.1, max_depth=4, n_estimators=5, subsample=0.6 ...\n",
      "[CV]  learning_rate=0.1, max_depth=4, n_estimators=5, subsample=0.6, score=(train=0.702, test=0.701), total=   0.4s\n",
      "[CV] learning_rate=0.1, max_depth=4, n_estimators=5, subsample=0.9 ...\n"
     ]
    },
    {
     "name": "stdout",
     "output_type": "stream",
     "text": [
      "[CV]  learning_rate=0.1, max_depth=4, n_estimators=5, subsample=0.9, score=(train=0.704, test=0.697), total=   0.5s\n",
      "[CV] learning_rate=0.1, max_depth=4, n_estimators=5, subsample=0.9 ...\n",
      "[CV]  learning_rate=0.1, max_depth=4, n_estimators=5, subsample=0.9, score=(train=0.701, test=0.695), total=   0.5s\n",
      "[CV] learning_rate=0.1, max_depth=4, n_estimators=5, subsample=0.9 ...\n",
      "[CV]  learning_rate=0.1, max_depth=4, n_estimators=5, subsample=0.9, score=(train=0.702, test=0.700), total=   0.5s\n",
      "[CV] learning_rate=0.1, max_depth=4, n_estimators=10, subsample=0.3 ..\n",
      "[CV]  learning_rate=0.1, max_depth=4, n_estimators=10, subsample=0.3, score=(train=0.706, test=0.698), total=   0.6s\n",
      "[CV] learning_rate=0.1, max_depth=4, n_estimators=10, subsample=0.3 ..\n",
      "[CV]  learning_rate=0.1, max_depth=4, n_estimators=10, subsample=0.3, score=(train=0.704, test=0.698), total=   0.6s\n",
      "[CV] learning_rate=0.1, max_depth=4, n_estimators=10, subsample=0.3 ..\n",
      "[CV]  learning_rate=0.1, max_depth=4, n_estimators=10, subsample=0.3, score=(train=0.704, test=0.702), total=   0.6s\n",
      "[CV] learning_rate=0.1, max_depth=4, n_estimators=10, subsample=0.6 ..\n",
      "[CV]  learning_rate=0.1, max_depth=4, n_estimators=10, subsample=0.6, score=(train=0.706, test=0.698), total=   0.8s\n",
      "[CV] learning_rate=0.1, max_depth=4, n_estimators=10, subsample=0.6 ..\n",
      "[CV]  learning_rate=0.1, max_depth=4, n_estimators=10, subsample=0.6, score=(train=0.705, test=0.699), total=   0.8s\n",
      "[CV] learning_rate=0.1, max_depth=4, n_estimators=10, subsample=0.6 ..\n",
      "[CV]  learning_rate=0.1, max_depth=4, n_estimators=10, subsample=0.6, score=(train=0.705, test=0.702), total=   0.8s\n",
      "[CV] learning_rate=0.1, max_depth=4, n_estimators=10, subsample=0.9 ..\n",
      "[CV]  learning_rate=0.1, max_depth=4, n_estimators=10, subsample=0.9, score=(train=0.706, test=0.698), total=   0.9s\n",
      "[CV] learning_rate=0.1, max_depth=4, n_estimators=10, subsample=0.9 ..\n",
      "[CV]  learning_rate=0.1, max_depth=4, n_estimators=10, subsample=0.9, score=(train=0.705, test=0.699), total=   0.8s\n",
      "[CV] learning_rate=0.1, max_depth=4, n_estimators=10, subsample=0.9 ..\n",
      "[CV]  learning_rate=0.1, max_depth=4, n_estimators=10, subsample=0.9, score=(train=0.704, test=0.702), total=   0.9s\n",
      "[CV] learning_rate=0.1, max_depth=4, n_estimators=20, subsample=0.3 ..\n",
      "[CV]  learning_rate=0.1, max_depth=4, n_estimators=20, subsample=0.3, score=(train=0.711, test=0.700), total=   1.1s\n",
      "[CV] learning_rate=0.1, max_depth=4, n_estimators=20, subsample=0.3 ..\n",
      "[CV]  learning_rate=0.1, max_depth=4, n_estimators=20, subsample=0.3, score=(train=0.710, test=0.703), total=   1.2s\n",
      "[CV] learning_rate=0.1, max_depth=4, n_estimators=20, subsample=0.3 ..\n",
      "[CV]  learning_rate=0.1, max_depth=4, n_estimators=20, subsample=0.3, score=(train=0.709, test=0.706), total=   1.1s\n",
      "[CV] learning_rate=0.1, max_depth=4, n_estimators=20, subsample=0.6 ..\n",
      "[CV]  learning_rate=0.1, max_depth=4, n_estimators=20, subsample=0.6, score=(train=0.712, test=0.702), total=   1.5s\n",
      "[CV] learning_rate=0.1, max_depth=4, n_estimators=20, subsample=0.6 ..\n",
      "[CV]  learning_rate=0.1, max_depth=4, n_estimators=20, subsample=0.6, score=(train=0.710, test=0.703), total=   1.4s\n",
      "[CV] learning_rate=0.1, max_depth=4, n_estimators=20, subsample=0.6 ..\n",
      "[CV]  learning_rate=0.1, max_depth=4, n_estimators=20, subsample=0.6, score=(train=0.710, test=0.706), total=   1.4s\n",
      "[CV] learning_rate=0.1, max_depth=4, n_estimators=20, subsample=0.9 ..\n",
      "[CV]  learning_rate=0.1, max_depth=4, n_estimators=20, subsample=0.9, score=(train=0.712, test=0.701), total=   1.6s\n",
      "[CV] learning_rate=0.1, max_depth=4, n_estimators=20, subsample=0.9 ..\n",
      "[CV]  learning_rate=0.1, max_depth=4, n_estimators=20, subsample=0.9, score=(train=0.710, test=0.703), total=   1.7s\n",
      "[CV] learning_rate=0.1, max_depth=4, n_estimators=20, subsample=0.9 ..\n",
      "[CV]  learning_rate=0.1, max_depth=4, n_estimators=20, subsample=0.9, score=(train=0.709, test=0.705), total=   1.6s\n",
      "[CV] learning_rate=0.3, max_depth=2, n_estimators=5, subsample=0.3 ...\n",
      "[CV]  learning_rate=0.3, max_depth=2, n_estimators=5, subsample=0.3, score=(train=0.695, test=0.693), total=   0.2s\n",
      "[CV] learning_rate=0.3, max_depth=2, n_estimators=5, subsample=0.3 ...\n",
      "[CV]  learning_rate=0.3, max_depth=2, n_estimators=5, subsample=0.3, score=(train=0.695, test=0.692), total=   0.2s\n",
      "[CV] learning_rate=0.3, max_depth=2, n_estimators=5, subsample=0.3 ...\n",
      "[CV]  learning_rate=0.3, max_depth=2, n_estimators=5, subsample=0.3, score=(train=0.693, test=0.693), total=   0.2s\n",
      "[CV] learning_rate=0.3, max_depth=2, n_estimators=5, subsample=0.6 ...\n",
      "[CV]  learning_rate=0.3, max_depth=2, n_estimators=5, subsample=0.6, score=(train=0.695, test=0.691), total=   0.3s\n",
      "[CV] learning_rate=0.3, max_depth=2, n_estimators=5, subsample=0.6 ...\n",
      "[CV]  learning_rate=0.3, max_depth=2, n_estimators=5, subsample=0.6, score=(train=0.694, test=0.691), total=   0.3s\n",
      "[CV] learning_rate=0.3, max_depth=2, n_estimators=5, subsample=0.6 ...\n",
      "[CV]  learning_rate=0.3, max_depth=2, n_estimators=5, subsample=0.6, score=(train=0.695, test=0.694), total=   0.3s\n",
      "[CV] learning_rate=0.3, max_depth=2, n_estimators=5, subsample=0.9 ...\n",
      "[CV]  learning_rate=0.3, max_depth=2, n_estimators=5, subsample=0.9, score=(train=0.695, test=0.692), total=   0.3s\n",
      "[CV] learning_rate=0.3, max_depth=2, n_estimators=5, subsample=0.9 ...\n",
      "[CV]  learning_rate=0.3, max_depth=2, n_estimators=5, subsample=0.9, score=(train=0.694, test=0.693), total=   0.3s\n",
      "[CV] learning_rate=0.3, max_depth=2, n_estimators=5, subsample=0.9 ...\n",
      "[CV]  learning_rate=0.3, max_depth=2, n_estimators=5, subsample=0.9, score=(train=0.696, test=0.696), total=   0.3s\n",
      "[CV] learning_rate=0.3, max_depth=2, n_estimators=10, subsample=0.3 ..\n",
      "[CV]  learning_rate=0.3, max_depth=2, n_estimators=10, subsample=0.3, score=(train=0.701, test=0.698), total=   0.4s\n",
      "[CV] learning_rate=0.3, max_depth=2, n_estimators=10, subsample=0.3 ..\n",
      "[CV]  learning_rate=0.3, max_depth=2, n_estimators=10, subsample=0.3, score=(train=0.701, test=0.698), total=   0.3s\n",
      "[CV] learning_rate=0.3, max_depth=2, n_estimators=10, subsample=0.3 ..\n",
      "[CV]  learning_rate=0.3, max_depth=2, n_estimators=10, subsample=0.3, score=(train=0.700, test=0.701), total=   0.3s\n",
      "[CV] learning_rate=0.3, max_depth=2, n_estimators=10, subsample=0.6 ..\n",
      "[CV]  learning_rate=0.3, max_depth=2, n_estimators=10, subsample=0.6, score=(train=0.702, test=0.697), total=   0.4s\n",
      "[CV] learning_rate=0.3, max_depth=2, n_estimators=10, subsample=0.6 ..\n",
      "[CV]  learning_rate=0.3, max_depth=2, n_estimators=10, subsample=0.6, score=(train=0.701, test=0.697), total=   0.5s\n",
      "[CV] learning_rate=0.3, max_depth=2, n_estimators=10, subsample=0.6 ..\n",
      "[CV]  learning_rate=0.3, max_depth=2, n_estimators=10, subsample=0.6, score=(train=0.700, test=0.700), total=   0.6s\n",
      "[CV] learning_rate=0.3, max_depth=2, n_estimators=10, subsample=0.9 ..\n",
      "[CV]  learning_rate=0.3, max_depth=2, n_estimators=10, subsample=0.9, score=(train=0.702, test=0.698), total=   0.5s\n",
      "[CV] learning_rate=0.3, max_depth=2, n_estimators=10, subsample=0.9 ..\n",
      "[CV]  learning_rate=0.3, max_depth=2, n_estimators=10, subsample=0.9, score=(train=0.702, test=0.700), total=   0.4s\n",
      "[CV] learning_rate=0.3, max_depth=2, n_estimators=10, subsample=0.9 ..\n",
      "[CV]  learning_rate=0.3, max_depth=2, n_estimators=10, subsample=0.9, score=(train=0.700, test=0.700), total=   0.5s\n",
      "[CV] learning_rate=0.3, max_depth=2, n_estimators=20, subsample=0.3 ..\n",
      "[CV]  learning_rate=0.3, max_depth=2, n_estimators=20, subsample=0.3, score=(train=0.709, test=0.704), total=   0.6s\n",
      "[CV] learning_rate=0.3, max_depth=2, n_estimators=20, subsample=0.3 ..\n",
      "[CV]  learning_rate=0.3, max_depth=2, n_estimators=20, subsample=0.3, score=(train=0.707, test=0.705), total=   0.6s\n",
      "[CV] learning_rate=0.3, max_depth=2, n_estimators=20, subsample=0.3 ..\n",
      "[CV]  learning_rate=0.3, max_depth=2, n_estimators=20, subsample=0.3, score=(train=0.706, test=0.706), total=   0.6s\n",
      "[CV] learning_rate=0.3, max_depth=2, n_estimators=20, subsample=0.6 ..\n",
      "[CV]  learning_rate=0.3, max_depth=2, n_estimators=20, subsample=0.6, score=(train=0.710, test=0.702), total=   0.8s\n",
      "[CV] learning_rate=0.3, max_depth=2, n_estimators=20, subsample=0.6 ..\n",
      "[CV]  learning_rate=0.3, max_depth=2, n_estimators=20, subsample=0.6, score=(train=0.709, test=0.706), total=   0.8s\n",
      "[CV] learning_rate=0.3, max_depth=2, n_estimators=20, subsample=0.6 ..\n"
     ]
    },
    {
     "name": "stdout",
     "output_type": "stream",
     "text": [
      "[CV]  learning_rate=0.3, max_depth=2, n_estimators=20, subsample=0.6, score=(train=0.707, test=0.707), total=   0.8s\n",
      "[CV] learning_rate=0.3, max_depth=2, n_estimators=20, subsample=0.9 ..\n",
      "[CV]  learning_rate=0.3, max_depth=2, n_estimators=20, subsample=0.9, score=(train=0.711, test=0.703), total=   0.8s\n",
      "[CV] learning_rate=0.3, max_depth=2, n_estimators=20, subsample=0.9 ..\n",
      "[CV]  learning_rate=0.3, max_depth=2, n_estimators=20, subsample=0.9, score=(train=0.708, test=0.704), total=   0.8s\n",
      "[CV] learning_rate=0.3, max_depth=2, n_estimators=20, subsample=0.9 ..\n",
      "[CV]  learning_rate=0.3, max_depth=2, n_estimators=20, subsample=0.9, score=(train=0.709, test=0.708), total=   0.8s\n",
      "[CV] learning_rate=0.3, max_depth=3, n_estimators=5, subsample=0.3 ...\n",
      "[CV]  learning_rate=0.3, max_depth=3, n_estimators=5, subsample=0.3, score=(train=0.701, test=0.697), total=   0.3s\n",
      "[CV] learning_rate=0.3, max_depth=3, n_estimators=5, subsample=0.3 ...\n",
      "[CV]  learning_rate=0.3, max_depth=3, n_estimators=5, subsample=0.3, score=(train=0.700, test=0.696), total=   0.3s\n",
      "[CV] learning_rate=0.3, max_depth=3, n_estimators=5, subsample=0.3 ...\n",
      "[CV]  learning_rate=0.3, max_depth=3, n_estimators=5, subsample=0.3, score=(train=0.699, test=0.698), total=   0.3s\n",
      "[CV] learning_rate=0.3, max_depth=3, n_estimators=5, subsample=0.6 ...\n",
      "[CV]  learning_rate=0.3, max_depth=3, n_estimators=5, subsample=0.6, score=(train=0.701, test=0.696), total=   0.3s\n",
      "[CV] learning_rate=0.3, max_depth=3, n_estimators=5, subsample=0.6 ...\n",
      "[CV]  learning_rate=0.3, max_depth=3, n_estimators=5, subsample=0.6, score=(train=0.700, test=0.697), total=   0.3s\n",
      "[CV] learning_rate=0.3, max_depth=3, n_estimators=5, subsample=0.6 ...\n",
      "[CV]  learning_rate=0.3, max_depth=3, n_estimators=5, subsample=0.6, score=(train=0.699, test=0.699), total=   0.3s\n",
      "[CV] learning_rate=0.3, max_depth=3, n_estimators=5, subsample=0.9 ...\n",
      "[CV]  learning_rate=0.3, max_depth=3, n_estimators=5, subsample=0.9, score=(train=0.702, test=0.696), total=   0.4s\n",
      "[CV] learning_rate=0.3, max_depth=3, n_estimators=5, subsample=0.9 ...\n",
      "[CV]  learning_rate=0.3, max_depth=3, n_estimators=5, subsample=0.9, score=(train=0.701, test=0.697), total=   0.4s\n",
      "[CV] learning_rate=0.3, max_depth=3, n_estimators=5, subsample=0.9 ...\n",
      "[CV]  learning_rate=0.3, max_depth=3, n_estimators=5, subsample=0.9, score=(train=0.699, test=0.698), total=   0.4s\n",
      "[CV] learning_rate=0.3, max_depth=3, n_estimators=10, subsample=0.3 ..\n",
      "[CV]  learning_rate=0.3, max_depth=3, n_estimators=10, subsample=0.3, score=(train=0.709, test=0.701), total=   0.5s\n",
      "[CV] learning_rate=0.3, max_depth=3, n_estimators=10, subsample=0.3 ..\n",
      "[CV]  learning_rate=0.3, max_depth=3, n_estimators=10, subsample=0.3, score=(train=0.707, test=0.702), total=   0.5s\n",
      "[CV] learning_rate=0.3, max_depth=3, n_estimators=10, subsample=0.3 ..\n",
      "[CV]  learning_rate=0.3, max_depth=3, n_estimators=10, subsample=0.3, score=(train=0.709, test=0.709), total=   0.4s\n",
      "[CV] learning_rate=0.3, max_depth=3, n_estimators=10, subsample=0.6 ..\n",
      "[CV]  learning_rate=0.3, max_depth=3, n_estimators=10, subsample=0.6, score=(train=0.709, test=0.702), total=   0.6s\n",
      "[CV] learning_rate=0.3, max_depth=3, n_estimators=10, subsample=0.6 ..\n",
      "[CV]  learning_rate=0.3, max_depth=3, n_estimators=10, subsample=0.6, score=(train=0.706, test=0.703), total=   0.6s\n",
      "[CV] learning_rate=0.3, max_depth=3, n_estimators=10, subsample=0.6 ..\n",
      "[CV]  learning_rate=0.3, max_depth=3, n_estimators=10, subsample=0.6, score=(train=0.709, test=0.707), total=   0.6s\n",
      "[CV] learning_rate=0.3, max_depth=3, n_estimators=10, subsample=0.9 ..\n",
      "[CV]  learning_rate=0.3, max_depth=3, n_estimators=10, subsample=0.9, score=(train=0.710, test=0.703), total=   0.9s\n",
      "[CV] learning_rate=0.3, max_depth=3, n_estimators=10, subsample=0.9 ..\n",
      "[CV]  learning_rate=0.3, max_depth=3, n_estimators=10, subsample=0.9, score=(train=0.710, test=0.705), total=   0.6s\n",
      "[CV] learning_rate=0.3, max_depth=3, n_estimators=10, subsample=0.9 ..\n",
      "[CV]  learning_rate=0.3, max_depth=3, n_estimators=10, subsample=0.9, score=(train=0.708, test=0.706), total=   0.6s\n",
      "[CV] learning_rate=0.3, max_depth=3, n_estimators=20, subsample=0.3 ..\n",
      "[CV]  learning_rate=0.3, max_depth=3, n_estimators=20, subsample=0.3, score=(train=0.714, test=0.705), total=   0.8s\n",
      "[CV] learning_rate=0.3, max_depth=3, n_estimators=20, subsample=0.3 ..\n",
      "[CV]  learning_rate=0.3, max_depth=3, n_estimators=20, subsample=0.3, score=(train=0.712, test=0.708), total=   0.8s\n",
      "[CV] learning_rate=0.3, max_depth=3, n_estimators=20, subsample=0.3 ..\n",
      "[CV]  learning_rate=0.3, max_depth=3, n_estimators=20, subsample=0.3, score=(train=0.712, test=0.709), total=   0.8s\n",
      "[CV] learning_rate=0.3, max_depth=3, n_estimators=20, subsample=0.6 ..\n",
      "[CV]  learning_rate=0.3, max_depth=3, n_estimators=20, subsample=0.6, score=(train=0.717, test=0.706), total=   1.0s\n",
      "[CV] learning_rate=0.3, max_depth=3, n_estimators=20, subsample=0.6 ..\n",
      "[CV]  learning_rate=0.3, max_depth=3, n_estimators=20, subsample=0.6, score=(train=0.715, test=0.709), total=   1.0s\n",
      "[CV] learning_rate=0.3, max_depth=3, n_estimators=20, subsample=0.6 ..\n",
      "[CV]  learning_rate=0.3, max_depth=3, n_estimators=20, subsample=0.6, score=(train=0.716, test=0.712), total=   1.0s\n",
      "[CV] learning_rate=0.3, max_depth=3, n_estimators=20, subsample=0.9 ..\n",
      "[CV]  learning_rate=0.3, max_depth=3, n_estimators=20, subsample=0.9, score=(train=0.716, test=0.706), total=   1.1s\n",
      "[CV] learning_rate=0.3, max_depth=3, n_estimators=20, subsample=0.9 ..\n",
      "[CV]  learning_rate=0.3, max_depth=3, n_estimators=20, subsample=0.9, score=(train=0.716, test=0.708), total=   1.1s\n",
      "[CV] learning_rate=0.3, max_depth=3, n_estimators=20, subsample=0.9 ..\n",
      "[CV]  learning_rate=0.3, max_depth=3, n_estimators=20, subsample=0.9, score=(train=0.716, test=0.711), total=   1.1s\n",
      "[CV] learning_rate=0.3, max_depth=4, n_estimators=5, subsample=0.3 ...\n",
      "[CV]  learning_rate=0.3, max_depth=4, n_estimators=5, subsample=0.3, score=(train=0.705, test=0.697), total=   0.3s\n",
      "[CV] learning_rate=0.3, max_depth=4, n_estimators=5, subsample=0.3 ...\n",
      "[CV]  learning_rate=0.3, max_depth=4, n_estimators=5, subsample=0.3, score=(train=0.705, test=0.698), total=   0.3s\n",
      "[CV] learning_rate=0.3, max_depth=4, n_estimators=5, subsample=0.3 ...\n",
      "[CV]  learning_rate=0.3, max_depth=4, n_estimators=5, subsample=0.3, score=(train=0.703, test=0.701), total=   0.4s\n",
      "[CV] learning_rate=0.3, max_depth=4, n_estimators=5, subsample=0.6 ...\n",
      "[CV]  learning_rate=0.3, max_depth=4, n_estimators=5, subsample=0.6, score=(train=0.706, test=0.697), total=   0.4s\n",
      "[CV] learning_rate=0.3, max_depth=4, n_estimators=5, subsample=0.6 ...\n",
      "[CV]  learning_rate=0.3, max_depth=4, n_estimators=5, subsample=0.6, score=(train=0.707, test=0.701), total=   0.4s\n",
      "[CV] learning_rate=0.3, max_depth=4, n_estimators=5, subsample=0.6 ...\n",
      "[CV]  learning_rate=0.3, max_depth=4, n_estimators=5, subsample=0.6, score=(train=0.705, test=0.701), total=   0.4s\n",
      "[CV] learning_rate=0.3, max_depth=4, n_estimators=5, subsample=0.9 ...\n",
      "[CV]  learning_rate=0.3, max_depth=4, n_estimators=5, subsample=0.9, score=(train=0.708, test=0.699), total=   0.5s\n",
      "[CV] learning_rate=0.3, max_depth=4, n_estimators=5, subsample=0.9 ...\n",
      "[CV]  learning_rate=0.3, max_depth=4, n_estimators=5, subsample=0.9, score=(train=0.706, test=0.700), total=   0.5s\n",
      "[CV] learning_rate=0.3, max_depth=4, n_estimators=5, subsample=0.9 ...\n",
      "[CV]  learning_rate=0.3, max_depth=4, n_estimators=5, subsample=0.9, score=(train=0.706, test=0.701), total=   0.5s\n",
      "[CV] learning_rate=0.3, max_depth=4, n_estimators=10, subsample=0.3 ..\n",
      "[CV]  learning_rate=0.3, max_depth=4, n_estimators=10, subsample=0.3, score=(train=0.714, test=0.702), total=   0.6s\n",
      "[CV] learning_rate=0.3, max_depth=4, n_estimators=10, subsample=0.3 ..\n",
      "[CV]  learning_rate=0.3, max_depth=4, n_estimators=10, subsample=0.3, score=(train=0.710, test=0.702), total=   0.8s\n",
      "[CV] learning_rate=0.3, max_depth=4, n_estimators=10, subsample=0.3 ..\n",
      "[CV]  learning_rate=0.3, max_depth=4, n_estimators=10, subsample=0.3, score=(train=0.713, test=0.707), total=   0.6s\n",
      "[CV] learning_rate=0.3, max_depth=4, n_estimators=10, subsample=0.6 ..\n",
      "[CV]  learning_rate=0.3, max_depth=4, n_estimators=10, subsample=0.6, score=(train=0.717, test=0.706), total=   0.8s\n",
      "[CV] learning_rate=0.3, max_depth=4, n_estimators=10, subsample=0.6 ..\n"
     ]
    },
    {
     "name": "stdout",
     "output_type": "stream",
     "text": [
      "[CV]  learning_rate=0.3, max_depth=4, n_estimators=10, subsample=0.6, score=(train=0.716, test=0.707), total=   0.8s\n",
      "[CV] learning_rate=0.3, max_depth=4, n_estimators=10, subsample=0.6 ..\n",
      "[CV]  learning_rate=0.3, max_depth=4, n_estimators=10, subsample=0.6, score=(train=0.712, test=0.707), total=   0.8s\n",
      "[CV] learning_rate=0.3, max_depth=4, n_estimators=10, subsample=0.9 ..\n",
      "[CV]  learning_rate=0.3, max_depth=4, n_estimators=10, subsample=0.9, score=(train=0.718, test=0.705), total=   0.9s\n",
      "[CV] learning_rate=0.3, max_depth=4, n_estimators=10, subsample=0.9 ..\n",
      "[CV]  learning_rate=0.3, max_depth=4, n_estimators=10, subsample=0.9, score=(train=0.715, test=0.708), total=   0.9s\n",
      "[CV] learning_rate=0.3, max_depth=4, n_estimators=10, subsample=0.9 ..\n",
      "[CV]  learning_rate=0.3, max_depth=4, n_estimators=10, subsample=0.9, score=(train=0.716, test=0.710), total=   1.0s\n",
      "[CV] learning_rate=0.3, max_depth=4, n_estimators=20, subsample=0.3 ..\n",
      "[CV]  learning_rate=0.3, max_depth=4, n_estimators=20, subsample=0.3, score=(train=0.719, test=0.702), total=   1.1s\n",
      "[CV] learning_rate=0.3, max_depth=4, n_estimators=20, subsample=0.3 ..\n",
      "[CV]  learning_rate=0.3, max_depth=4, n_estimators=20, subsample=0.3, score=(train=0.720, test=0.707), total=   1.3s\n",
      "[CV] learning_rate=0.3, max_depth=4, n_estimators=20, subsample=0.3 ..\n",
      "[CV]  learning_rate=0.3, max_depth=4, n_estimators=20, subsample=0.3, score=(train=0.719, test=0.709), total=   1.4s\n",
      "[CV] learning_rate=0.3, max_depth=4, n_estimators=20, subsample=0.6 ..\n",
      "[CV]  learning_rate=0.3, max_depth=4, n_estimators=20, subsample=0.6, score=(train=0.725, test=0.706), total=   1.7s\n",
      "[CV] learning_rate=0.3, max_depth=4, n_estimators=20, subsample=0.6 ..\n",
      "[CV]  learning_rate=0.3, max_depth=4, n_estimators=20, subsample=0.6, score=(train=0.723, test=0.707), total=   1.7s\n",
      "[CV] learning_rate=0.3, max_depth=4, n_estimators=20, subsample=0.6 ..\n",
      "[CV]  learning_rate=0.3, max_depth=4, n_estimators=20, subsample=0.6, score=(train=0.723, test=0.711), total=   1.4s\n",
      "[CV] learning_rate=0.3, max_depth=4, n_estimators=20, subsample=0.9 ..\n",
      "[CV]  learning_rate=0.3, max_depth=4, n_estimators=20, subsample=0.9, score=(train=0.726, test=0.709), total=   1.7s\n",
      "[CV] learning_rate=0.3, max_depth=4, n_estimators=20, subsample=0.9 ..\n",
      "[CV]  learning_rate=0.3, max_depth=4, n_estimators=20, subsample=0.9, score=(train=0.724, test=0.710), total=   1.5s\n",
      "[CV] learning_rate=0.3, max_depth=4, n_estimators=20, subsample=0.9 ..\n",
      "[CV]  learning_rate=0.3, max_depth=4, n_estimators=20, subsample=0.9, score=(train=0.722, test=0.712), total=   1.5s\n"
     ]
    },
    {
     "name": "stderr",
     "output_type": "stream",
     "text": [
      "[Parallel(n_jobs=1)]: Done 243 out of 243 | elapsed:  3.0min finished\n"
     ]
    },
    {
     "data": {
      "text/plain": [
       "GridSearchCV(cv=3, error_score='raise-deprecating',\n",
       "             estimator=GradientBoostingClassifier(criterion='friedman_mse',\n",
       "                                                  init=None, learning_rate=0.1,\n",
       "                                                  loss='deviance', max_depth=3,\n",
       "                                                  max_features=None,\n",
       "                                                  max_leaf_nodes=None,\n",
       "                                                  min_impurity_decrease=0.0,\n",
       "                                                  min_impurity_split=None,\n",
       "                                                  min_samples_leaf=1,\n",
       "                                                  min_samples_split=2,\n",
       "                                                  min_weight_fraction_leaf=0.0,\n",
       "                                                  n_estimators=100,\n",
       "                                                  n_iter_no_change=None,\n",
       "                                                  presort='auto',\n",
       "                                                  random_state=None,\n",
       "                                                  subsample=1.0, tol=0.0001,\n",
       "                                                  validation_fraction=0.1,\n",
       "                                                  verbose=0, warm_start=False),\n",
       "             iid='warn', n_jobs=None,\n",
       "             param_grid={'learning_rate': [0.05, 0.1, 0.3],\n",
       "                         'max_depth': [2, 3, 4], 'n_estimators': [5, 10, 20],\n",
       "                         'subsample': [0.3, 0.6, 0.9]},\n",
       "             pre_dispatch='2*n_jobs', refit=True, return_train_score=True,\n",
       "             scoring='roc_auc', verbose=10)"
      ]
     },
     "execution_count": 260,
     "metadata": {},
     "output_type": "execute_result"
    }
   ],
   "source": [
    "# gradient boosting\n",
    "# build the gradientboost object\n",
    "from sklearn.ensemble import GradientBoostingClassifier\n",
    "GBM = GradientBoostingClassifier()\n",
    "\n",
    "# build grid search parameters\n",
    "parms = {'max_depth':[2,3,4],\n",
    "         'n_estimators': [5,10,20], \n",
    "         'learning_rate': [0.05,0.1,0.3],\n",
    "          'subsample':[0.3,0.6,0.9]} \n",
    "\n",
    "from sklearn.model_selection import GridSearchCV\n",
    "CV = GridSearchCV(estimator = GBM,param_grid = parms, scoring = 'roc_auc',cv=3,refit=True,\n",
    "                           return_train_score = True,verbose=10)\n",
    "CV.fit(X_train_cont,Y_train.target)"
   ]
  },
  {
   "cell_type": "code",
   "execution_count": 261,
   "metadata": {},
   "outputs": [],
   "source": [
    "# check the results\n",
    "CVResults = pd.DataFrame(CV.cv_results_)\n",
    "CVResults.to_excel('CVResutls_GBoosting.xlsx')"
   ]
  },
  {
   "cell_type": "code",
   "execution_count": 262,
   "metadata": {},
   "outputs": [
    {
     "name": "stdout",
     "output_type": "stream",
     "text": [
      "GradientBoostingClassifier(criterion='friedman_mse', init=None,\n",
      "                           learning_rate=0.3, loss='deviance', max_depth=4,\n",
      "                           max_features=None, max_leaf_nodes=None,\n",
      "                           min_impurity_decrease=0.0, min_impurity_split=None,\n",
      "                           min_samples_leaf=1, min_samples_split=2,\n",
      "                           min_weight_fraction_leaf=0.0, n_estimators=20,\n",
      "                           n_iter_no_change=None, presort='auto',\n",
      "                           random_state=None, subsample=0.9, tol=0.0001,\n",
      "                           validation_fraction=0.1, verbose=0,\n",
      "                           warm_start=False)\n"
     ]
    }
   ],
   "source": [
    "print(CV.best_estimator_)"
   ]
  },
  {
   "cell_type": "code",
   "execution_count": 264,
   "metadata": {},
   "outputs": [
    {
     "name": "stdout",
     "output_type": "stream",
     "text": [
      "[[0.41313638 0.58686362]\n",
      " [0.13302727 0.86697273]\n",
      " [0.26550534 0.73449466]\n",
      " [0.46351133 0.53648867]\n",
      " [0.08439314 0.91560686]]\n",
      "[1 1 1 1 1]\n"
     ]
    }
   ],
   "source": [
    "# Preidct on Test data and check the confusion matrix\n",
    "predictProb = CV.predict_proba(X_test)\n",
    "print(predictProb[0:5])\n",
    "PProb = pd.DataFrame(predictProb,columns=[\"Class0\",\"Class1\"])\n",
    "predictTest = CV.predict(X_test)\n",
    "print(predictTest[0:5])"
   ]
  },
  {
   "cell_type": "code",
   "execution_count": 265,
   "metadata": {},
   "outputs": [
    {
     "name": "stdout",
     "output_type": "stream",
     "text": [
      "[[  798  4654]\n",
      " [  549 16864]]\n",
      "              precision    recall  f1-score   support\n",
      "\n",
      "           0       0.59      0.15      0.23      5452\n",
      "           1       0.78      0.97      0.87     17413\n",
      "\n",
      "    accuracy                           0.77     22865\n",
      "   macro avg       0.69      0.56      0.55     22865\n",
      "weighted avg       0.74      0.77      0.72     22865\n",
      "\n"
     ]
    }
   ],
   "source": [
    "# generate confusion matrix\n",
    "# import confusion matrix and classification report\n",
    "from sklearn.metrics import confusion_matrix, classification_report\n",
    "print (confusion_matrix(Y_test,predictTest))\n",
    "print (classification_report(Y_test,predictTest))"
   ]
  },
  {
   "cell_type": "code",
   "execution_count": 266,
   "metadata": {},
   "outputs": [],
   "source": [
    "catX = pd.DataFrame(BNP,columns=impcatcols)\n",
    "contX = pd.DataFrame(BNP,columns=impcontcols)"
   ]
  },
  {
   "cell_type": "code",
   "execution_count": 267,
   "metadata": {},
   "outputs": [
    {
     "name": "stdout",
     "output_type": "stream",
     "text": [
      "(91456, 8)\n",
      "(91456, 1)\n",
      "(22865, 8)\n",
      "(22865, 1)\n",
      "        target\n",
      "110073       1\n",
      "56578        0\n",
      "108549       1\n",
      "107918       1\n",
      "30611        1\n",
      "15734        1\n",
      "56147        0\n",
      "9506         1\n",
      "94349        0\n",
      "99683        1\n",
      "(91456, 8)\n",
      "(22865, 8)\n"
     ]
    }
   ],
   "source": [
    "\n",
    "# splitting the data into Train and Test\n",
    "from sklearn.model_selection import train_test_split\n",
    "X_train, X_test, Y_train, Y_test = train_test_split(contX, depX,\n",
    "                                                    test_size = 0.20,\n",
    "                                                    random_state = 0)\n",
    "#random state is used to fix the split\n",
    "print(X_train.shape)\n",
    "print(Y_train.shape)\n",
    "print(X_test.shape)\n",
    "print(Y_test.shape)\n",
    "print(Y_train[0:10])\n",
    "# extract only continuous columns\n",
    "ContColumns = list(contX)\n",
    "X_train_cont = pd.DataFrame(X_train,columns=ContColumns)\n",
    "print(X_train_cont.shape)\n",
    "X_test_cont = pd.DataFrame(X_test,columns=ContColumns)\n",
    "print(X_test_cont.shape)"
   ]
  },
  {
   "cell_type": "code",
   "execution_count": 268,
   "metadata": {},
   "outputs": [
    {
     "name": "stdout",
     "output_type": "stream",
     "text": [
      "(91456, 8)\n",
      "(22865, 8)\n"
     ]
    }
   ],
   "source": [
    "# extract only continuous columns\n",
    "ContColumns = list(contX)\n",
    "X_train_cont = pd.DataFrame(X_train,columns=ContColumns)\n",
    "print(X_train_cont.shape)\n",
    "X_test_cont = pd.DataFrame(X_test,columns=ContColumns)\n",
    "print(X_test_cont.shape)"
   ]
  },
  {
   "cell_type": "code",
   "execution_count": 269,
   "metadata": {},
   "outputs": [
    {
     "name": "stdout",
     "output_type": "stream",
     "text": [
      "Fitting 3 folds for each of 9 candidates, totalling 27 fits\n",
      "[CV] learning_rate=0.2, n_estimators=10 ..............................\n"
     ]
    },
    {
     "name": "stderr",
     "output_type": "stream",
     "text": [
      "[Parallel(n_jobs=1)]: Using backend SequentialBackend with 1 concurrent workers.\n"
     ]
    },
    {
     "name": "stdout",
     "output_type": "stream",
     "text": [
      "[CV]  learning_rate=0.2, n_estimators=10, score=(train=0.581, test=0.575), total=   1.1s\n",
      "[CV] learning_rate=0.2, n_estimators=10 ..............................\n"
     ]
    },
    {
     "name": "stderr",
     "output_type": "stream",
     "text": [
      "[Parallel(n_jobs=1)]: Done   1 out of   1 | elapsed:    1.1s remaining:    0.0s\n"
     ]
    },
    {
     "name": "stdout",
     "output_type": "stream",
     "text": [
      "[CV]  learning_rate=0.2, n_estimators=10, score=(train=0.554, test=0.554), total=   1.1s\n",
      "[CV] learning_rate=0.2, n_estimators=10 ..............................\n"
     ]
    },
    {
     "name": "stderr",
     "output_type": "stream",
     "text": [
      "[Parallel(n_jobs=1)]: Done   2 out of   2 | elapsed:    2.4s remaining:    0.0s\n"
     ]
    },
    {
     "name": "stdout",
     "output_type": "stream",
     "text": [
      "[CV]  learning_rate=0.2, n_estimators=10, score=(train=0.555, test=0.556), total=   1.0s\n",
      "[CV] learning_rate=0.2, n_estimators=20 ..............................\n"
     ]
    },
    {
     "name": "stderr",
     "output_type": "stream",
     "text": [
      "[Parallel(n_jobs=1)]: Done   3 out of   3 | elapsed:    3.5s remaining:    0.0s\n"
     ]
    },
    {
     "name": "stdout",
     "output_type": "stream",
     "text": [
      "[CV]  learning_rate=0.2, n_estimators=20, score=(train=0.593, test=0.588), total=   2.0s\n",
      "[CV] learning_rate=0.2, n_estimators=20 ..............................\n"
     ]
    },
    {
     "name": "stderr",
     "output_type": "stream",
     "text": [
      "[Parallel(n_jobs=1)]: Done   4 out of   4 | elapsed:    5.8s remaining:    0.0s\n"
     ]
    },
    {
     "name": "stdout",
     "output_type": "stream",
     "text": [
      "[CV]  learning_rate=0.2, n_estimators=20, score=(train=0.570, test=0.569), total=   1.9s\n",
      "[CV] learning_rate=0.2, n_estimators=20 ..............................\n"
     ]
    },
    {
     "name": "stderr",
     "output_type": "stream",
     "text": [
      "[Parallel(n_jobs=1)]: Done   5 out of   5 | elapsed:    7.8s remaining:    0.0s\n"
     ]
    },
    {
     "name": "stdout",
     "output_type": "stream",
     "text": [
      "[CV]  learning_rate=0.2, n_estimators=20, score=(train=0.576, test=0.576), total=   1.9s\n",
      "[CV] learning_rate=0.2, n_estimators=30 ..............................\n"
     ]
    },
    {
     "name": "stderr",
     "output_type": "stream",
     "text": [
      "[Parallel(n_jobs=1)]: Done   6 out of   6 | elapsed:    9.9s remaining:    0.0s\n"
     ]
    },
    {
     "name": "stdout",
     "output_type": "stream",
     "text": [
      "[CV]  learning_rate=0.2, n_estimators=30, score=(train=0.593, test=0.589), total=   3.0s\n",
      "[CV] learning_rate=0.2, n_estimators=30 ..............................\n"
     ]
    },
    {
     "name": "stderr",
     "output_type": "stream",
     "text": [
      "[Parallel(n_jobs=1)]: Done   7 out of   7 | elapsed:   13.2s remaining:    0.0s\n"
     ]
    },
    {
     "name": "stdout",
     "output_type": "stream",
     "text": [
      "[CV]  learning_rate=0.2, n_estimators=30, score=(train=0.574, test=0.574), total=   2.9s\n",
      "[CV] learning_rate=0.2, n_estimators=30 ..............................\n"
     ]
    },
    {
     "name": "stderr",
     "output_type": "stream",
     "text": [
      "[Parallel(n_jobs=1)]: Done   8 out of   8 | elapsed:   16.3s remaining:    0.0s\n"
     ]
    },
    {
     "name": "stdout",
     "output_type": "stream",
     "text": [
      "[CV]  learning_rate=0.2, n_estimators=30, score=(train=0.582, test=0.581), total=   3.0s\n",
      "[CV] learning_rate=0.5, n_estimators=10 ..............................\n"
     ]
    },
    {
     "name": "stderr",
     "output_type": "stream",
     "text": [
      "[Parallel(n_jobs=1)]: Done   9 out of   9 | elapsed:   19.5s remaining:    0.0s\n"
     ]
    },
    {
     "name": "stdout",
     "output_type": "stream",
     "text": [
      "[CV]  learning_rate=0.5, n_estimators=10, score=(train=0.596, test=0.592), total=   0.9s\n",
      "[CV] learning_rate=0.5, n_estimators=10 ..............................\n",
      "[CV]  learning_rate=0.5, n_estimators=10, score=(train=0.570, test=0.570), total=   0.9s\n",
      "[CV] learning_rate=0.5, n_estimators=10 ..............................\n",
      "[CV]  learning_rate=0.5, n_estimators=10, score=(train=0.572, test=0.571), total=   0.9s\n",
      "[CV] learning_rate=0.5, n_estimators=20 ..............................\n",
      "[CV]  learning_rate=0.5, n_estimators=20, score=(train=0.596, test=0.592), total=   1.9s\n",
      "[CV] learning_rate=0.5, n_estimators=20 ..............................\n",
      "[CV]  learning_rate=0.5, n_estimators=20, score=(train=0.573, test=0.573), total=   1.8s\n",
      "[CV] learning_rate=0.5, n_estimators=20 ..............................\n",
      "[CV]  learning_rate=0.5, n_estimators=20, score=(train=0.577, test=0.577), total=   1.8s\n",
      "[CV] learning_rate=0.5, n_estimators=30 ..............................\n",
      "[CV]  learning_rate=0.5, n_estimators=30, score=(train=0.596, test=0.591), total=   2.8s\n",
      "[CV] learning_rate=0.5, n_estimators=30 ..............................\n",
      "[CV]  learning_rate=0.5, n_estimators=30, score=(train=0.575, test=0.574), total=   2.9s\n",
      "[CV] learning_rate=0.5, n_estimators=30 ..............................\n",
      "[CV]  learning_rate=0.5, n_estimators=30, score=(train=0.576, test=0.576), total=   2.7s\n",
      "[CV] learning_rate=0.8, n_estimators=10 ..............................\n",
      "[CV]  learning_rate=0.8, n_estimators=10, score=(train=0.595, test=0.590), total=   0.9s\n",
      "[CV] learning_rate=0.8, n_estimators=10 ..............................\n",
      "[CV]  learning_rate=0.8, n_estimators=10, score=(train=0.572, test=0.571), total=   0.9s\n",
      "[CV] learning_rate=0.8, n_estimators=10 ..............................\n",
      "[CV]  learning_rate=0.8, n_estimators=10, score=(train=0.577, test=0.577), total=   1.0s\n",
      "[CV] learning_rate=0.8, n_estimators=20 ..............................\n",
      "[CV]  learning_rate=0.8, n_estimators=20, score=(train=0.593, test=0.587), total=   1.9s\n",
      "[CV] learning_rate=0.8, n_estimators=20 ..............................\n",
      "[CV]  learning_rate=0.8, n_estimators=20, score=(train=0.573, test=0.573), total=   1.8s\n",
      "[CV] learning_rate=0.8, n_estimators=20 ..............................\n",
      "[CV]  learning_rate=0.8, n_estimators=20, score=(train=0.580, test=0.579), total=   1.8s\n",
      "[CV] learning_rate=0.8, n_estimators=30 ..............................\n",
      "[CV]  learning_rate=0.8, n_estimators=30, score=(train=0.596, test=0.590), total=   2.7s\n",
      "[CV] learning_rate=0.8, n_estimators=30 ..............................\n",
      "[CV]  learning_rate=0.8, n_estimators=30, score=(train=0.577, test=0.578), total=   2.9s\n",
      "[CV] learning_rate=0.8, n_estimators=30 ..............................\n",
      "[CV]  learning_rate=0.8, n_estimators=30, score=(train=0.584, test=0.583), total=   2.7s\n"
     ]
    },
    {
     "name": "stderr",
     "output_type": "stream",
     "text": [
      "[Parallel(n_jobs=1)]: Done  27 out of  27 | elapsed:   55.8s finished\n"
     ]
    },
    {
     "data": {
      "text/plain": [
       "GridSearchCV(cv=3, error_score='raise-deprecating',\n",
       "             estimator=AdaBoostClassifier(algorithm='SAMME.R',\n",
       "                                          base_estimator=DecisionTreeClassifier(class_weight='balanced',\n",
       "                                                                                criterion='gini',\n",
       "                                                                                max_depth=1,\n",
       "                                                                                max_features=None,\n",
       "                                                                                max_leaf_nodes=None,\n",
       "                                                                                min_impurity_decrease=0.0,\n",
       "                                                                                min_impurity_split=None,\n",
       "                                                                                min_samples_leaf=1,\n",
       "                                                                                min_samples_split=2,\n",
       "                                                                                min_weight_fraction_leaf=0.0,\n",
       "                                                                                presort=False,\n",
       "                                                                                random_state=None,\n",
       "                                                                                splitter='best'),\n",
       "                                          learning_rate=1.0, n_estimators=50,\n",
       "                                          random_state=None),\n",
       "             iid='warn', n_jobs=None,\n",
       "             param_grid={'learning_rate': [0.2, 0.5, 0.8],\n",
       "                         'n_estimators': [10, 20, 30]},\n",
       "             pre_dispatch='2*n_jobs', refit=True, return_train_score=True,\n",
       "             scoring='f1_macro', verbose=10)"
      ]
     },
     "execution_count": 269,
     "metadata": {},
     "output_type": "execute_result"
    }
   ],
   "source": [
    "# build decision tree\n",
    "from sklearn.tree import DecisionTreeClassifier\n",
    "CART = DecisionTreeClassifier(class_weight='balanced',max_depth=1)\n",
    "\n",
    "# build the adaboost object\n",
    "from sklearn.ensemble import AdaBoostClassifier\n",
    "ADB = AdaBoostClassifier(base_estimator=CART)\n",
    "\n",
    "# build grid search parameters\n",
    "parms = {'n_estimators': [10,20,30], \n",
    "         'learning_rate': [0.20,0.50,0.80]} \n",
    "\n",
    "from sklearn.model_selection import GridSearchCV\n",
    "CV = GridSearchCV(estimator = ADB,param_grid = parms, scoring = 'f1_macro',\n",
    "                  cv=3,refit=True,return_train_score = True,verbose=10)\n",
    "CV.fit(X_train_cont,Y_train.target)"
   ]
  },
  {
   "cell_type": "code",
   "execution_count": 270,
   "metadata": {},
   "outputs": [],
   "source": [
    "# check the CV results\n",
    "CVResults = pd.DataFrame(CV.cv_results_)\n",
    "CVResults.to_excel('CVResutls_Adaboost_1.xlsx')"
   ]
  },
  {
   "cell_type": "code",
   "execution_count": 271,
   "metadata": {},
   "outputs": [
    {
     "name": "stdout",
     "output_type": "stream",
     "text": [
      "0.5836589507071777\n",
      "{'learning_rate': 0.8, 'n_estimators': 30}\n"
     ]
    }
   ],
   "source": [
    "print(CV.best_score_)\n",
    "print(CV.best_params_)"
   ]
  },
  {
   "cell_type": "code",
   "execution_count": 272,
   "metadata": {},
   "outputs": [
    {
     "name": "stdout",
     "output_type": "stream",
     "text": [
      "[[0.50614905 0.49385095]\n",
      " [0.48981358 0.51018642]\n",
      " [0.50569397 0.49430603]\n",
      " [0.51070377 0.48929623]\n",
      " [0.48776251 0.51223749]]\n",
      "[0 1 0 0 1]\n"
     ]
    }
   ],
   "source": [
    "# Preidct on Test data and check the confusion matrix\n",
    "predictProb = CV.predict_proba(X_test_cont)\n",
    "print(predictProb[0:5])\n",
    "PProb = pd.DataFrame(predictProb,columns=[\"class0\",\"class1\"])\n",
    "predictTest = CV.predict(X_test_cont)\n",
    "print(predictTest[0:5])"
   ]
  },
  {
   "cell_type": "code",
   "execution_count": 273,
   "metadata": {},
   "outputs": [
    {
     "name": "stdout",
     "output_type": "stream",
     "text": [
      "[[ 3600  1852]\n",
      " [ 6372 11041]]\n",
      "              precision    recall  f1-score   support\n",
      "\n",
      "           0       0.36      0.66      0.47      5452\n",
      "           1       0.86      0.63      0.73     17413\n",
      "\n",
      "    accuracy                           0.64     22865\n",
      "   macro avg       0.61      0.65      0.60     22865\n",
      "weighted avg       0.74      0.64      0.67     22865\n",
      "\n"
     ]
    }
   ],
   "source": [
    "# generate confusion matrix\n",
    "from sklearn.metrics import confusion_matrix, classification_report\n",
    "print (confusion_matrix(Y_test,predictTest))\n",
    "print (classification_report(Y_test,predictTest))"
   ]
  },
  {
   "cell_type": "code",
   "execution_count": 274,
   "metadata": {},
   "outputs": [],
   "source": [
    "catX = pd.DataFrame(BNP,columns=impcatcols)\n",
    "contX = pd.DataFrame(BNP,columns=impcontcols)"
   ]
  },
  {
   "cell_type": "code",
   "execution_count": 275,
   "metadata": {},
   "outputs": [
    {
     "name": "stdout",
     "output_type": "stream",
     "text": [
      "(91456, 8)\n",
      "(91456, 1)\n",
      "(22865, 8)\n",
      "(22865, 1)\n"
     ]
    }
   ],
   "source": [
    "# splitting the data into Train and Test\n",
    "from sklearn.model_selection import train_test_split\n",
    "X_train, X_test, Y_train, Y_test = train_test_split(contX, depX, \n",
    "                                                    test_size = 0.20, \n",
    "                                                    random_state = 0)\n",
    "print(X_train.shape)\n",
    "print(Y_train.shape)\n",
    "print(X_test.shape)\n",
    "print(Y_test.shape)"
   ]
  },
  {
   "cell_type": "code",
   "execution_count": 276,
   "metadata": {},
   "outputs": [
    {
     "name": "stdout",
     "output_type": "stream",
     "text": [
      "(91456, 8)\n",
      "(22865, 8)\n"
     ]
    }
   ],
   "source": [
    "# extract only continuous columns\n",
    "ContColumns = list(contX)\n",
    "X_train_cont = pd.DataFrame(X_train,columns=ContColumns)\n",
    "print(X_train_cont.shape)\n",
    "X_test_cont = pd.DataFrame(X_test,columns=ContColumns)\n",
    "print(X_test_cont.shape)"
   ]
  },
  {
   "cell_type": "code",
   "execution_count": 277,
   "metadata": {},
   "outputs": [
    {
     "name": "stdout",
     "output_type": "stream",
     "text": [
      "Fitting 3 folds for each of 54 candidates, totalling 162 fits\n",
      "[CV] bootstrap=True, max_depth=3, max_features=0.3, n_estimators=10 ..\n"
     ]
    },
    {
     "name": "stderr",
     "output_type": "stream",
     "text": [
      "[Parallel(n_jobs=1)]: Using backend SequentialBackend with 1 concurrent workers.\n"
     ]
    },
    {
     "name": "stdout",
     "output_type": "stream",
     "text": [
      "[CV]  bootstrap=True, max_depth=3, max_features=0.3, n_estimators=10, score=(train=0.558, test=0.552), total=   0.5s\n",
      "[CV] bootstrap=True, max_depth=3, max_features=0.3, n_estimators=10 ..\n"
     ]
    },
    {
     "name": "stderr",
     "output_type": "stream",
     "text": [
      "[Parallel(n_jobs=1)]: Done   1 out of   1 | elapsed:    0.5s remaining:    0.0s\n"
     ]
    },
    {
     "name": "stdout",
     "output_type": "stream",
     "text": [
      "[CV]  bootstrap=True, max_depth=3, max_features=0.3, n_estimators=10, score=(train=0.568, test=0.564), total=   0.4s\n",
      "[CV] bootstrap=True, max_depth=3, max_features=0.3, n_estimators=10 ..\n"
     ]
    },
    {
     "name": "stderr",
     "output_type": "stream",
     "text": [
      "[Parallel(n_jobs=1)]: Done   2 out of   2 | elapsed:    1.0s remaining:    0.0s\n"
     ]
    },
    {
     "name": "stdout",
     "output_type": "stream",
     "text": [
      "[CV]  bootstrap=True, max_depth=3, max_features=0.3, n_estimators=10, score=(train=0.560, test=0.564), total=   0.5s\n",
      "[CV] bootstrap=True, max_depth=3, max_features=0.3, n_estimators=20 ..\n"
     ]
    },
    {
     "name": "stderr",
     "output_type": "stream",
     "text": [
      "[Parallel(n_jobs=1)]: Done   3 out of   3 | elapsed:    1.5s remaining:    0.0s\n"
     ]
    },
    {
     "name": "stdout",
     "output_type": "stream",
     "text": [
      "[CV]  bootstrap=True, max_depth=3, max_features=0.3, n_estimators=20, score=(train=0.581, test=0.576), total=   0.8s\n",
      "[CV] bootstrap=True, max_depth=3, max_features=0.3, n_estimators=20 ..\n"
     ]
    },
    {
     "name": "stderr",
     "output_type": "stream",
     "text": [
      "[Parallel(n_jobs=1)]: Done   4 out of   4 | elapsed:    2.5s remaining:    0.0s\n"
     ]
    },
    {
     "name": "stdout",
     "output_type": "stream",
     "text": [
      "[CV]  bootstrap=True, max_depth=3, max_features=0.3, n_estimators=20, score=(train=0.564, test=0.563), total=   0.8s\n",
      "[CV] bootstrap=True, max_depth=3, max_features=0.3, n_estimators=20 ..\n"
     ]
    },
    {
     "name": "stderr",
     "output_type": "stream",
     "text": [
      "[Parallel(n_jobs=1)]: Done   5 out of   5 | elapsed:    3.4s remaining:    0.0s\n"
     ]
    },
    {
     "name": "stdout",
     "output_type": "stream",
     "text": [
      "[CV]  bootstrap=True, max_depth=3, max_features=0.3, n_estimators=20, score=(train=0.574, test=0.576), total=   0.9s\n",
      "[CV] bootstrap=True, max_depth=3, max_features=0.3, n_estimators=30 ..\n"
     ]
    },
    {
     "name": "stderr",
     "output_type": "stream",
     "text": [
      "[Parallel(n_jobs=1)]: Done   6 out of   6 | elapsed:    4.4s remaining:    0.0s\n"
     ]
    },
    {
     "name": "stdout",
     "output_type": "stream",
     "text": [
      "[CV]  bootstrap=True, max_depth=3, max_features=0.3, n_estimators=30, score=(train=0.581, test=0.575), total=   1.2s\n",
      "[CV] bootstrap=True, max_depth=3, max_features=0.3, n_estimators=30 ..\n"
     ]
    },
    {
     "name": "stderr",
     "output_type": "stream",
     "text": [
      "[Parallel(n_jobs=1)]: Done   7 out of   7 | elapsed:    5.7s remaining:    0.0s\n"
     ]
    },
    {
     "name": "stdout",
     "output_type": "stream",
     "text": [
      "[CV]  bootstrap=True, max_depth=3, max_features=0.3, n_estimators=30, score=(train=0.568, test=0.566), total=   1.1s\n",
      "[CV] bootstrap=True, max_depth=3, max_features=0.3, n_estimators=30 ..\n"
     ]
    },
    {
     "name": "stderr",
     "output_type": "stream",
     "text": [
      "[Parallel(n_jobs=1)]: Done   8 out of   8 | elapsed:    6.9s remaining:    0.0s\n"
     ]
    },
    {
     "name": "stdout",
     "output_type": "stream",
     "text": [
      "[CV]  bootstrap=True, max_depth=3, max_features=0.3, n_estimators=30, score=(train=0.576, test=0.576), total=   1.1s\n",
      "[CV] bootstrap=True, max_depth=3, max_features=0.6, n_estimators=10 ..\n"
     ]
    },
    {
     "name": "stderr",
     "output_type": "stream",
     "text": [
      "[Parallel(n_jobs=1)]: Done   9 out of   9 | elapsed:    8.1s remaining:    0.0s\n"
     ]
    },
    {
     "name": "stdout",
     "output_type": "stream",
     "text": [
      "[CV]  bootstrap=True, max_depth=3, max_features=0.6, n_estimators=10, score=(train=0.599, test=0.593), total=   0.6s\n",
      "[CV] bootstrap=True, max_depth=3, max_features=0.6, n_estimators=10 ..\n",
      "[CV]  bootstrap=True, max_depth=3, max_features=0.6, n_estimators=10, score=(train=0.581, test=0.584), total=   0.6s\n",
      "[CV] bootstrap=True, max_depth=3, max_features=0.6, n_estimators=10 ..\n",
      "[CV]  bootstrap=True, max_depth=3, max_features=0.6, n_estimators=10, score=(train=0.595, test=0.596), total=   0.6s\n",
      "[CV] bootstrap=True, max_depth=3, max_features=0.6, n_estimators=20 ..\n",
      "[CV]  bootstrap=True, max_depth=3, max_features=0.6, n_estimators=20, score=(train=0.592, test=0.586), total=   1.2s\n",
      "[CV] bootstrap=True, max_depth=3, max_features=0.6, n_estimators=20 ..\n",
      "[CV]  bootstrap=True, max_depth=3, max_features=0.6, n_estimators=20, score=(train=0.583, test=0.584), total=   1.2s\n",
      "[CV] bootstrap=True, max_depth=3, max_features=0.6, n_estimators=20 ..\n",
      "[CV]  bootstrap=True, max_depth=3, max_features=0.6, n_estimators=20, score=(train=0.583, test=0.584), total=   1.2s\n",
      "[CV] bootstrap=True, max_depth=3, max_features=0.6, n_estimators=30 ..\n",
      "[CV]  bootstrap=True, max_depth=3, max_features=0.6, n_estimators=30, score=(train=0.591, test=0.585), total=   1.8s\n",
      "[CV] bootstrap=True, max_depth=3, max_features=0.6, n_estimators=30 ..\n",
      "[CV]  bootstrap=True, max_depth=3, max_features=0.6, n_estimators=30, score=(train=0.579, test=0.578), total=   1.9s\n",
      "[CV] bootstrap=True, max_depth=3, max_features=0.6, n_estimators=30 ..\n",
      "[CV]  bootstrap=True, max_depth=3, max_features=0.6, n_estimators=30, score=(train=0.582, test=0.581), total=   1.8s\n",
      "[CV] bootstrap=True, max_depth=3, max_features=0.9, n_estimators=10 ..\n",
      "[CV]  bootstrap=True, max_depth=3, max_features=0.9, n_estimators=10, score=(train=0.593, test=0.586), total=   1.0s\n",
      "[CV] bootstrap=True, max_depth=3, max_features=0.9, n_estimators=10 ..\n",
      "[CV]  bootstrap=True, max_depth=3, max_features=0.9, n_estimators=10, score=(train=0.564, test=0.562), total=   1.0s\n",
      "[CV] bootstrap=True, max_depth=3, max_features=0.9, n_estimators=10 ..\n",
      "[CV]  bootstrap=True, max_depth=3, max_features=0.9, n_estimators=10, score=(train=0.603, test=0.603), total=   1.0s\n",
      "[CV] bootstrap=True, max_depth=3, max_features=0.9, n_estimators=20 ..\n",
      "[CV]  bootstrap=True, max_depth=3, max_features=0.9, n_estimators=20, score=(train=0.592, test=0.585), total=   2.0s\n",
      "[CV] bootstrap=True, max_depth=3, max_features=0.9, n_estimators=20 ..\n",
      "[CV]  bootstrap=True, max_depth=3, max_features=0.9, n_estimators=20, score=(train=0.562, test=0.560), total=   2.0s\n",
      "[CV] bootstrap=True, max_depth=3, max_features=0.9, n_estimators=20 ..\n",
      "[CV]  bootstrap=True, max_depth=3, max_features=0.9, n_estimators=20, score=(train=0.583, test=0.585), total=   2.0s\n",
      "[CV] bootstrap=True, max_depth=3, max_features=0.9, n_estimators=30 ..\n",
      "[CV]  bootstrap=True, max_depth=3, max_features=0.9, n_estimators=30, score=(train=0.591, test=0.584), total=   3.1s\n",
      "[CV] bootstrap=True, max_depth=3, max_features=0.9, n_estimators=30 ..\n",
      "[CV]  bootstrap=True, max_depth=3, max_features=0.9, n_estimators=30, score=(train=0.566, test=0.564), total=   2.9s\n",
      "[CV] bootstrap=True, max_depth=3, max_features=0.9, n_estimators=30 ..\n",
      "[CV]  bootstrap=True, max_depth=3, max_features=0.9, n_estimators=30, score=(train=0.588, test=0.590), total=   2.9s\n",
      "[CV] bootstrap=True, max_depth=4, max_features=0.3, n_estimators=10 ..\n",
      "[CV]  bootstrap=True, max_depth=4, max_features=0.3, n_estimators=10, score=(train=0.599, test=0.591), total=   0.5s\n",
      "[CV] bootstrap=True, max_depth=4, max_features=0.3, n_estimators=10 ..\n",
      "[CV]  bootstrap=True, max_depth=4, max_features=0.3, n_estimators=10, score=(train=0.576, test=0.572), total=   0.5s\n",
      "[CV] bootstrap=True, max_depth=4, max_features=0.3, n_estimators=10 ..\n",
      "[CV]  bootstrap=True, max_depth=4, max_features=0.3, n_estimators=10, score=(train=0.581, test=0.581), total=   0.5s\n",
      "[CV] bootstrap=True, max_depth=4, max_features=0.3, n_estimators=20 ..\n",
      "[CV]  bootstrap=True, max_depth=4, max_features=0.3, n_estimators=20, score=(train=0.597, test=0.591), total=   0.9s\n",
      "[CV] bootstrap=True, max_depth=4, max_features=0.3, n_estimators=20 ..\n",
      "[CV]  bootstrap=True, max_depth=4, max_features=0.3, n_estimators=20, score=(train=0.571, test=0.568), total=   0.9s\n",
      "[CV] bootstrap=True, max_depth=4, max_features=0.3, n_estimators=20 ..\n",
      "[CV]  bootstrap=True, max_depth=4, max_features=0.3, n_estimators=20, score=(train=0.586, test=0.584), total=   0.9s\n",
      "[CV] bootstrap=True, max_depth=4, max_features=0.3, n_estimators=30 ..\n",
      "[CV]  bootstrap=True, max_depth=4, max_features=0.3, n_estimators=30, score=(train=0.591, test=0.585), total=   1.3s\n",
      "[CV] bootstrap=True, max_depth=4, max_features=0.3, n_estimators=30 ..\n",
      "[CV]  bootstrap=True, max_depth=4, max_features=0.3, n_estimators=30, score=(train=0.572, test=0.570), total=   1.3s\n",
      "[CV] bootstrap=True, max_depth=4, max_features=0.3, n_estimators=30 ..\n",
      "[CV]  bootstrap=True, max_depth=4, max_features=0.3, n_estimators=30, score=(train=0.581, test=0.582), total=   1.3s\n",
      "[CV] bootstrap=True, max_depth=4, max_features=0.6, n_estimators=10 ..\n",
      "[CV]  bootstrap=True, max_depth=4, max_features=0.6, n_estimators=10, score=(train=0.596, test=0.591), total=   0.9s\n",
      "[CV] bootstrap=True, max_depth=4, max_features=0.6, n_estimators=10 ..\n",
      "[CV]  bootstrap=True, max_depth=4, max_features=0.6, n_estimators=10, score=(train=0.583, test=0.583), total=   0.8s\n",
      "[CV] bootstrap=True, max_depth=4, max_features=0.6, n_estimators=10 ..\n",
      "[CV]  bootstrap=True, max_depth=4, max_features=0.6, n_estimators=10, score=(train=0.599, test=0.598), total=   0.8s\n",
      "[CV] bootstrap=True, max_depth=4, max_features=0.6, n_estimators=20 ..\n",
      "[CV]  bootstrap=True, max_depth=4, max_features=0.6, n_estimators=20, score=(train=0.598, test=0.592), total=   1.6s\n",
      "[CV] bootstrap=True, max_depth=4, max_features=0.6, n_estimators=20 ..\n",
      "[CV]  bootstrap=True, max_depth=4, max_features=0.6, n_estimators=20, score=(train=0.582, test=0.583), total=   1.6s\n",
      "[CV] bootstrap=True, max_depth=4, max_features=0.6, n_estimators=20 ..\n",
      "[CV]  bootstrap=True, max_depth=4, max_features=0.6, n_estimators=20, score=(train=0.586, test=0.585), total=   1.6s\n",
      "[CV] bootstrap=True, max_depth=4, max_features=0.6, n_estimators=30 ..\n",
      "[CV]  bootstrap=True, max_depth=4, max_features=0.6, n_estimators=30, score=(train=0.597, test=0.592), total=   2.3s\n",
      "[CV] bootstrap=True, max_depth=4, max_features=0.6, n_estimators=30 ..\n",
      "[CV]  bootstrap=True, max_depth=4, max_features=0.6, n_estimators=30, score=(train=0.574, test=0.574), total=   2.3s\n",
      "[CV] bootstrap=True, max_depth=4, max_features=0.6, n_estimators=30 ..\n",
      "[CV]  bootstrap=True, max_depth=4, max_features=0.6, n_estimators=30, score=(train=0.584, test=0.584), total=   2.3s\n",
      "[CV] bootstrap=True, max_depth=4, max_features=0.9, n_estimators=10 ..\n",
      "[CV]  bootstrap=True, max_depth=4, max_features=0.9, n_estimators=10, score=(train=0.602, test=0.596), total=   1.3s\n",
      "[CV] bootstrap=True, max_depth=4, max_features=0.9, n_estimators=10 ..\n",
      "[CV]  bootstrap=True, max_depth=4, max_features=0.9, n_estimators=10, score=(train=0.566, test=0.561), total=   1.4s\n",
      "[CV] bootstrap=True, max_depth=4, max_features=0.9, n_estimators=10 ..\n",
      "[CV]  bootstrap=True, max_depth=4, max_features=0.9, n_estimators=10, score=(train=0.600, test=0.600), total=   1.3s\n",
      "[CV] bootstrap=True, max_depth=4, max_features=0.9, n_estimators=20 ..\n",
      "[CV]  bootstrap=True, max_depth=4, max_features=0.9, n_estimators=20, score=(train=0.603, test=0.597), total=   2.5s\n",
      "[CV] bootstrap=True, max_depth=4, max_features=0.9, n_estimators=20 ..\n",
      "[CV]  bootstrap=True, max_depth=4, max_features=0.9, n_estimators=20, score=(train=0.572, test=0.571), total=   2.5s\n",
      "[CV] bootstrap=True, max_depth=4, max_features=0.9, n_estimators=20 ..\n",
      "[CV]  bootstrap=True, max_depth=4, max_features=0.9, n_estimators=20, score=(train=0.586, test=0.586), total=   2.5s\n",
      "[CV] bootstrap=True, max_depth=4, max_features=0.9, n_estimators=30 ..\n",
      "[CV]  bootstrap=True, max_depth=4, max_features=0.9, n_estimators=30, score=(train=0.602, test=0.596), total=   3.8s\n",
      "[CV] bootstrap=True, max_depth=4, max_features=0.9, n_estimators=30 ..\n",
      "[CV]  bootstrap=True, max_depth=4, max_features=0.9, n_estimators=30, score=(train=0.568, test=0.566), total=   3.9s\n",
      "[CV] bootstrap=True, max_depth=4, max_features=0.9, n_estimators=30 ..\n"
     ]
    },
    {
     "name": "stdout",
     "output_type": "stream",
     "text": [
      "[CV]  bootstrap=True, max_depth=4, max_features=0.9, n_estimators=30, score=(train=0.584, test=0.583), total=   3.8s\n",
      "[CV] bootstrap=True, max_depth=5, max_features=0.3, n_estimators=10 ..\n",
      "[CV]  bootstrap=True, max_depth=5, max_features=0.3, n_estimators=10, score=(train=0.604, test=0.595), total=   0.6s\n",
      "[CV] bootstrap=True, max_depth=5, max_features=0.3, n_estimators=10 ..\n",
      "[CV]  bootstrap=True, max_depth=5, max_features=0.3, n_estimators=10, score=(train=0.579, test=0.574), total=   0.6s\n",
      "[CV] bootstrap=True, max_depth=5, max_features=0.3, n_estimators=10 ..\n",
      "[CV]  bootstrap=True, max_depth=5, max_features=0.3, n_estimators=10, score=(train=0.599, test=0.596), total=   0.6s\n",
      "[CV] bootstrap=True, max_depth=5, max_features=0.3, n_estimators=20 ..\n",
      "[CV]  bootstrap=True, max_depth=5, max_features=0.3, n_estimators=20, score=(train=0.603, test=0.594), total=   1.1s\n",
      "[CV] bootstrap=True, max_depth=5, max_features=0.3, n_estimators=20 ..\n",
      "[CV]  bootstrap=True, max_depth=5, max_features=0.3, n_estimators=20, score=(train=0.580, test=0.574), total=   1.1s\n",
      "[CV] bootstrap=True, max_depth=5, max_features=0.3, n_estimators=20 ..\n",
      "[CV]  bootstrap=True, max_depth=5, max_features=0.3, n_estimators=20, score=(train=0.595, test=0.592), total=   1.1s\n",
      "[CV] bootstrap=True, max_depth=5, max_features=0.3, n_estimators=30 ..\n",
      "[CV]  bootstrap=True, max_depth=5, max_features=0.3, n_estimators=30, score=(train=0.599, test=0.592), total=   1.6s\n",
      "[CV] bootstrap=True, max_depth=5, max_features=0.3, n_estimators=30 ..\n",
      "[CV]  bootstrap=True, max_depth=5, max_features=0.3, n_estimators=30, score=(train=0.579, test=0.576), total=   1.6s\n",
      "[CV] bootstrap=True, max_depth=5, max_features=0.3, n_estimators=30 ..\n",
      "[CV]  bootstrap=True, max_depth=5, max_features=0.3, n_estimators=30, score=(train=0.590, test=0.589), total=   1.7s\n",
      "[CV] bootstrap=True, max_depth=5, max_features=0.6, n_estimators=10 ..\n",
      "[CV]  bootstrap=True, max_depth=5, max_features=0.6, n_estimators=10, score=(train=0.604, test=0.598), total=   1.0s\n",
      "[CV] bootstrap=True, max_depth=5, max_features=0.6, n_estimators=10 ..\n",
      "[CV]  bootstrap=True, max_depth=5, max_features=0.6, n_estimators=10, score=(train=0.586, test=0.582), total=   1.0s\n",
      "[CV] bootstrap=True, max_depth=5, max_features=0.6, n_estimators=10 ..\n",
      "[CV]  bootstrap=True, max_depth=5, max_features=0.6, n_estimators=10, score=(train=0.592, test=0.589), total=   1.0s\n",
      "[CV] bootstrap=True, max_depth=5, max_features=0.6, n_estimators=20 ..\n",
      "[CV]  bootstrap=True, max_depth=5, max_features=0.6, n_estimators=20, score=(train=0.603, test=0.596), total=   1.9s\n",
      "[CV] bootstrap=True, max_depth=5, max_features=0.6, n_estimators=20 ..\n",
      "[CV]  bootstrap=True, max_depth=5, max_features=0.6, n_estimators=20, score=(train=0.582, test=0.580), total=   1.9s\n",
      "[CV] bootstrap=True, max_depth=5, max_features=0.6, n_estimators=20 ..\n",
      "[CV]  bootstrap=True, max_depth=5, max_features=0.6, n_estimators=20, score=(train=0.586, test=0.583), total=   1.9s\n",
      "[CV] bootstrap=True, max_depth=5, max_features=0.6, n_estimators=30 ..\n",
      "[CV]  bootstrap=True, max_depth=5, max_features=0.6, n_estimators=30, score=(train=0.602, test=0.595), total=   2.8s\n",
      "[CV] bootstrap=True, max_depth=5, max_features=0.6, n_estimators=30 ..\n",
      "[CV]  bootstrap=True, max_depth=5, max_features=0.6, n_estimators=30, score=(train=0.582, test=0.579), total=   2.9s\n",
      "[CV] bootstrap=True, max_depth=5, max_features=0.6, n_estimators=30 ..\n",
      "[CV]  bootstrap=True, max_depth=5, max_features=0.6, n_estimators=30, score=(train=0.586, test=0.583), total=   2.8s\n",
      "[CV] bootstrap=True, max_depth=5, max_features=0.9, n_estimators=10 ..\n",
      "[CV]  bootstrap=True, max_depth=5, max_features=0.9, n_estimators=10, score=(train=0.605, test=0.597), total=   1.6s\n",
      "[CV] bootstrap=True, max_depth=5, max_features=0.9, n_estimators=10 ..\n",
      "[CV]  bootstrap=True, max_depth=5, max_features=0.9, n_estimators=10, score=(train=0.577, test=0.574), total=   1.6s\n",
      "[CV] bootstrap=True, max_depth=5, max_features=0.9, n_estimators=10 ..\n",
      "[CV]  bootstrap=True, max_depth=5, max_features=0.9, n_estimators=10, score=(train=0.588, test=0.587), total=   1.6s\n",
      "[CV] bootstrap=True, max_depth=5, max_features=0.9, n_estimators=20 ..\n",
      "[CV]  bootstrap=True, max_depth=5, max_features=0.9, n_estimators=20, score=(train=0.604, test=0.598), total=   3.1s\n",
      "[CV] bootstrap=True, max_depth=5, max_features=0.9, n_estimators=20 ..\n",
      "[CV]  bootstrap=True, max_depth=5, max_features=0.9, n_estimators=20, score=(train=0.577, test=0.575), total=   3.1s\n",
      "[CV] bootstrap=True, max_depth=5, max_features=0.9, n_estimators=20 ..\n",
      "[CV]  bootstrap=True, max_depth=5, max_features=0.9, n_estimators=20, score=(train=0.587, test=0.586), total=   3.3s\n",
      "[CV] bootstrap=True, max_depth=5, max_features=0.9, n_estimators=30 ..\n",
      "[CV]  bootstrap=True, max_depth=5, max_features=0.9, n_estimators=30, score=(train=0.604, test=0.597), total=   4.6s\n",
      "[CV] bootstrap=True, max_depth=5, max_features=0.9, n_estimators=30 ..\n",
      "[CV]  bootstrap=True, max_depth=5, max_features=0.9, n_estimators=30, score=(train=0.576, test=0.575), total=   4.7s\n",
      "[CV] bootstrap=True, max_depth=5, max_features=0.9, n_estimators=30 ..\n",
      "[CV]  bootstrap=True, max_depth=5, max_features=0.9, n_estimators=30, score=(train=0.586, test=0.583), total=   4.8s\n",
      "[CV] bootstrap=False, max_depth=3, max_features=0.3, n_estimators=10 .\n",
      "[CV]  bootstrap=False, max_depth=3, max_features=0.3, n_estimators=10, score=(train=0.576, test=0.568), total=   0.5s\n",
      "[CV] bootstrap=False, max_depth=3, max_features=0.3, n_estimators=10 .\n",
      "[CV]  bootstrap=False, max_depth=3, max_features=0.3, n_estimators=10, score=(train=0.570, test=0.564), total=   0.6s\n",
      "[CV] bootstrap=False, max_depth=3, max_features=0.3, n_estimators=10 .\n",
      "[CV]  bootstrap=False, max_depth=3, max_features=0.3, n_estimators=10, score=(train=0.571, test=0.573), total=   0.5s\n",
      "[CV] bootstrap=False, max_depth=3, max_features=0.3, n_estimators=20 .\n",
      "[CV]  bootstrap=False, max_depth=3, max_features=0.3, n_estimators=20, score=(train=0.586, test=0.579), total=   1.0s\n",
      "[CV] bootstrap=False, max_depth=3, max_features=0.3, n_estimators=20 .\n",
      "[CV]  bootstrap=False, max_depth=3, max_features=0.3, n_estimators=20, score=(train=0.570, test=0.570), total=   1.0s\n",
      "[CV] bootstrap=False, max_depth=3, max_features=0.3, n_estimators=20 .\n",
      "[CV]  bootstrap=False, max_depth=3, max_features=0.3, n_estimators=20, score=(train=0.576, test=0.576), total=   1.0s\n",
      "[CV] bootstrap=False, max_depth=3, max_features=0.3, n_estimators=30 .\n",
      "[CV]  bootstrap=False, max_depth=3, max_features=0.3, n_estimators=30, score=(train=0.588, test=0.580), total=   1.5s\n",
      "[CV] bootstrap=False, max_depth=3, max_features=0.3, n_estimators=30 .\n",
      "[CV]  bootstrap=False, max_depth=3, max_features=0.3, n_estimators=30, score=(train=0.573, test=0.573), total=   1.5s\n",
      "[CV] bootstrap=False, max_depth=3, max_features=0.3, n_estimators=30 .\n",
      "[CV]  bootstrap=False, max_depth=3, max_features=0.3, n_estimators=30, score=(train=0.579, test=0.578), total=   1.5s\n",
      "[CV] bootstrap=False, max_depth=3, max_features=0.6, n_estimators=10 .\n",
      "[CV]  bootstrap=False, max_depth=3, max_features=0.6, n_estimators=10, score=(train=0.586, test=0.579), total=   0.9s\n",
      "[CV] bootstrap=False, max_depth=3, max_features=0.6, n_estimators=10 .\n",
      "[CV]  bootstrap=False, max_depth=3, max_features=0.6, n_estimators=10, score=(train=0.571, test=0.570), total=   0.9s\n",
      "[CV] bootstrap=False, max_depth=3, max_features=0.6, n_estimators=10 .\n",
      "[CV]  bootstrap=False, max_depth=3, max_features=0.6, n_estimators=10, score=(train=0.566, test=0.564), total=   0.9s\n",
      "[CV] bootstrap=False, max_depth=3, max_features=0.6, n_estimators=20 .\n",
      "[CV]  bootstrap=False, max_depth=3, max_features=0.6, n_estimators=20, score=(train=0.588, test=0.581), total=   1.8s\n",
      "[CV] bootstrap=False, max_depth=3, max_features=0.6, n_estimators=20 .\n",
      "[CV]  bootstrap=False, max_depth=3, max_features=0.6, n_estimators=20, score=(train=0.571, test=0.570), total=   2.0s\n",
      "[CV] bootstrap=False, max_depth=3, max_features=0.6, n_estimators=20 .\n",
      "[CV]  bootstrap=False, max_depth=3, max_features=0.6, n_estimators=20, score=(train=0.572, test=0.572), total=   1.8s\n",
      "[CV] bootstrap=False, max_depth=3, max_features=0.6, n_estimators=30 .\n",
      "[CV]  bootstrap=False, max_depth=3, max_features=0.6, n_estimators=30, score=(train=0.588, test=0.581), total=   2.7s\n",
      "[CV] bootstrap=False, max_depth=3, max_features=0.6, n_estimators=30 .\n"
     ]
    },
    {
     "name": "stdout",
     "output_type": "stream",
     "text": [
      "[CV]  bootstrap=False, max_depth=3, max_features=0.6, n_estimators=30, score=(train=0.571, test=0.570), total=   2.7s\n",
      "[CV] bootstrap=False, max_depth=3, max_features=0.6, n_estimators=30 .\n",
      "[CV]  bootstrap=False, max_depth=3, max_features=0.6, n_estimators=30, score=(train=0.571, test=0.570), total=   2.7s\n",
      "[CV] bootstrap=False, max_depth=3, max_features=0.9, n_estimators=10 .\n",
      "[CV]  bootstrap=False, max_depth=3, max_features=0.9, n_estimators=10, score=(train=0.586, test=0.579), total=   1.6s\n",
      "[CV] bootstrap=False, max_depth=3, max_features=0.9, n_estimators=10 .\n",
      "[CV]  bootstrap=False, max_depth=3, max_features=0.9, n_estimators=10, score=(train=0.559, test=0.556), total=   1.5s\n",
      "[CV] bootstrap=False, max_depth=3, max_features=0.9, n_estimators=10 .\n",
      "[CV]  bootstrap=False, max_depth=3, max_features=0.9, n_estimators=10, score=(train=0.560, test=0.560), total=   1.6s\n",
      "[CV] bootstrap=False, max_depth=3, max_features=0.9, n_estimators=20 .\n",
      "[CV]  bootstrap=False, max_depth=3, max_features=0.9, n_estimators=20, score=(train=0.584, test=0.577), total=   3.0s\n",
      "[CV] bootstrap=False, max_depth=3, max_features=0.9, n_estimators=20 .\n",
      "[CV]  bootstrap=False, max_depth=3, max_features=0.9, n_estimators=20, score=(train=0.556, test=0.553), total=   3.0s\n",
      "[CV] bootstrap=False, max_depth=3, max_features=0.9, n_estimators=20 .\n",
      "[CV]  bootstrap=False, max_depth=3, max_features=0.9, n_estimators=20, score=(train=0.560, test=0.560), total=   3.0s\n",
      "[CV] bootstrap=False, max_depth=3, max_features=0.9, n_estimators=30 .\n",
      "[CV]  bootstrap=False, max_depth=3, max_features=0.9, n_estimators=30, score=(train=0.586, test=0.579), total=   4.5s\n",
      "[CV] bootstrap=False, max_depth=3, max_features=0.9, n_estimators=30 .\n",
      "[CV]  bootstrap=False, max_depth=3, max_features=0.9, n_estimators=30, score=(train=0.559, test=0.556), total=   4.6s\n",
      "[CV] bootstrap=False, max_depth=3, max_features=0.9, n_estimators=30 .\n",
      "[CV]  bootstrap=False, max_depth=3, max_features=0.9, n_estimators=30, score=(train=0.560, test=0.560), total=   4.4s\n",
      "[CV] bootstrap=False, max_depth=4, max_features=0.3, n_estimators=10 .\n",
      "[CV]  bootstrap=False, max_depth=4, max_features=0.3, n_estimators=10, score=(train=0.595, test=0.587), total=   0.7s\n",
      "[CV] bootstrap=False, max_depth=4, max_features=0.3, n_estimators=10 .\n",
      "[CV]  bootstrap=False, max_depth=4, max_features=0.3, n_estimators=10, score=(train=0.577, test=0.574), total=   0.7s\n",
      "[CV] bootstrap=False, max_depth=4, max_features=0.3, n_estimators=10 .\n",
      "[CV]  bootstrap=False, max_depth=4, max_features=0.3, n_estimators=10, score=(train=0.581, test=0.580), total=   0.7s\n",
      "[CV] bootstrap=False, max_depth=4, max_features=0.3, n_estimators=20 .\n",
      "[CV]  bootstrap=False, max_depth=4, max_features=0.3, n_estimators=20, score=(train=0.595, test=0.588), total=   1.3s\n",
      "[CV] bootstrap=False, max_depth=4, max_features=0.3, n_estimators=20 .\n",
      "[CV]  bootstrap=False, max_depth=4, max_features=0.3, n_estimators=20, score=(train=0.578, test=0.575), total=   1.3s\n",
      "[CV] bootstrap=False, max_depth=4, max_features=0.3, n_estimators=20 .\n",
      "[CV]  bootstrap=False, max_depth=4, max_features=0.3, n_estimators=20, score=(train=0.579, test=0.578), total=   1.3s\n",
      "[CV] bootstrap=False, max_depth=4, max_features=0.3, n_estimators=30 .\n",
      "[CV]  bootstrap=False, max_depth=4, max_features=0.3, n_estimators=30, score=(train=0.589, test=0.583), total=   2.1s\n",
      "[CV] bootstrap=False, max_depth=4, max_features=0.3, n_estimators=30 .\n",
      "[CV]  bootstrap=False, max_depth=4, max_features=0.3, n_estimators=30, score=(train=0.576, test=0.574), total=   1.9s\n",
      "[CV] bootstrap=False, max_depth=4, max_features=0.3, n_estimators=30 .\n",
      "[CV]  bootstrap=False, max_depth=4, max_features=0.3, n_estimators=30, score=(train=0.581, test=0.580), total=   1.9s\n",
      "[CV] bootstrap=False, max_depth=4, max_features=0.6, n_estimators=10 .\n",
      "[CV]  bootstrap=False, max_depth=4, max_features=0.6, n_estimators=10, score=(train=0.598, test=0.593), total=   1.2s\n",
      "[CV] bootstrap=False, max_depth=4, max_features=0.6, n_estimators=10 .\n",
      "[CV]  bootstrap=False, max_depth=4, max_features=0.6, n_estimators=10, score=(train=0.576, test=0.577), total=   1.2s\n",
      "[CV] bootstrap=False, max_depth=4, max_features=0.6, n_estimators=10 .\n",
      "[CV]  bootstrap=False, max_depth=4, max_features=0.6, n_estimators=10, score=(train=0.582, test=0.580), total=   1.2s\n",
      "[CV] bootstrap=False, max_depth=4, max_features=0.6, n_estimators=20 .\n",
      "[CV]  bootstrap=False, max_depth=4, max_features=0.6, n_estimators=20, score=(train=0.595, test=0.588), total=   2.3s\n",
      "[CV] bootstrap=False, max_depth=4, max_features=0.6, n_estimators=20 .\n",
      "[CV]  bootstrap=False, max_depth=4, max_features=0.6, n_estimators=20, score=(train=0.576, test=0.576), total=   2.3s\n",
      "[CV] bootstrap=False, max_depth=4, max_features=0.6, n_estimators=20 .\n",
      "[CV]  bootstrap=False, max_depth=4, max_features=0.6, n_estimators=20, score=(train=0.582, test=0.580), total=   2.4s\n",
      "[CV] bootstrap=False, max_depth=4, max_features=0.6, n_estimators=30 .\n",
      "[CV]  bootstrap=False, max_depth=4, max_features=0.6, n_estimators=30, score=(train=0.597, test=0.591), total=   3.5s\n",
      "[CV] bootstrap=False, max_depth=4, max_features=0.6, n_estimators=30 .\n",
      "[CV]  bootstrap=False, max_depth=4, max_features=0.6, n_estimators=30, score=(train=0.575, test=0.574), total=   3.5s\n",
      "[CV] bootstrap=False, max_depth=4, max_features=0.6, n_estimators=30 .\n",
      "[CV]  bootstrap=False, max_depth=4, max_features=0.6, n_estimators=30, score=(train=0.580, test=0.579), total=   3.5s\n",
      "[CV] bootstrap=False, max_depth=4, max_features=0.9, n_estimators=10 .\n",
      "[CV]  bootstrap=False, max_depth=4, max_features=0.9, n_estimators=10, score=(train=0.599, test=0.594), total=   2.0s\n",
      "[CV] bootstrap=False, max_depth=4, max_features=0.9, n_estimators=10 .\n",
      "[CV]  bootstrap=False, max_depth=4, max_features=0.9, n_estimators=10, score=(train=0.572, test=0.570), total=   2.0s\n",
      "[CV] bootstrap=False, max_depth=4, max_features=0.9, n_estimators=10 .\n",
      "[CV]  bootstrap=False, max_depth=4, max_features=0.9, n_estimators=10, score=(train=0.582, test=0.580), total=   2.1s\n",
      "[CV] bootstrap=False, max_depth=4, max_features=0.9, n_estimators=20 .\n",
      "[CV]  bootstrap=False, max_depth=4, max_features=0.9, n_estimators=20, score=(train=0.599, test=0.594), total=   3.9s\n",
      "[CV] bootstrap=False, max_depth=4, max_features=0.9, n_estimators=20 .\n",
      "[CV]  bootstrap=False, max_depth=4, max_features=0.9, n_estimators=20, score=(train=0.570, test=0.569), total=   3.9s\n",
      "[CV] bootstrap=False, max_depth=4, max_features=0.9, n_estimators=20 .\n",
      "[CV]  bootstrap=False, max_depth=4, max_features=0.9, n_estimators=20, score=(train=0.582, test=0.580), total=   3.9s\n",
      "[CV] bootstrap=False, max_depth=4, max_features=0.9, n_estimators=30 .\n",
      "[CV]  bootstrap=False, max_depth=4, max_features=0.9, n_estimators=30, score=(train=0.599, test=0.594), total=   6.0s\n",
      "[CV] bootstrap=False, max_depth=4, max_features=0.9, n_estimators=30 .\n",
      "[CV]  bootstrap=False, max_depth=4, max_features=0.9, n_estimators=30, score=(train=0.570, test=0.569), total=   5.8s\n",
      "[CV] bootstrap=False, max_depth=4, max_features=0.9, n_estimators=30 .\n",
      "[CV]  bootstrap=False, max_depth=4, max_features=0.9, n_estimators=30, score=(train=0.582, test=0.580), total=   5.9s\n",
      "[CV] bootstrap=False, max_depth=5, max_features=0.3, n_estimators=10 .\n",
      "[CV]  bootstrap=False, max_depth=5, max_features=0.3, n_estimators=10, score=(train=0.600, test=0.591), total=   0.9s\n",
      "[CV] bootstrap=False, max_depth=5, max_features=0.3, n_estimators=10 .\n",
      "[CV]  bootstrap=False, max_depth=5, max_features=0.3, n_estimators=10, score=(train=0.587, test=0.580), total=   0.9s\n",
      "[CV] bootstrap=False, max_depth=5, max_features=0.3, n_estimators=10 .\n",
      "[CV]  bootstrap=False, max_depth=5, max_features=0.3, n_estimators=10, score=(train=0.586, test=0.582), total=   0.8s\n",
      "[CV] bootstrap=False, max_depth=5, max_features=0.3, n_estimators=20 .\n",
      "[CV]  bootstrap=False, max_depth=5, max_features=0.3, n_estimators=20, score=(train=0.602, test=0.593), total=   1.6s\n",
      "[CV] bootstrap=False, max_depth=5, max_features=0.3, n_estimators=20 .\n",
      "[CV]  bootstrap=False, max_depth=5, max_features=0.3, n_estimators=20, score=(train=0.584, test=0.579), total=   1.6s\n",
      "[CV] bootstrap=False, max_depth=5, max_features=0.3, n_estimators=20 .\n",
      "[CV]  bootstrap=False, max_depth=5, max_features=0.3, n_estimators=20, score=(train=0.585, test=0.582), total=   1.6s\n",
      "[CV] bootstrap=False, max_depth=5, max_features=0.3, n_estimators=30 .\n"
     ]
    },
    {
     "name": "stdout",
     "output_type": "stream",
     "text": [
      "[CV]  bootstrap=False, max_depth=5, max_features=0.3, n_estimators=30, score=(train=0.600, test=0.591), total=   2.3s\n",
      "[CV] bootstrap=False, max_depth=5, max_features=0.3, n_estimators=30 .\n",
      "[CV]  bootstrap=False, max_depth=5, max_features=0.3, n_estimators=30, score=(train=0.583, test=0.578), total=   2.3s\n",
      "[CV] bootstrap=False, max_depth=5, max_features=0.3, n_estimators=30 .\n",
      "[CV]  bootstrap=False, max_depth=5, max_features=0.3, n_estimators=30, score=(train=0.585, test=0.583), total=   2.3s\n",
      "[CV] bootstrap=False, max_depth=5, max_features=0.6, n_estimators=10 .\n",
      "[CV]  bootstrap=False, max_depth=5, max_features=0.6, n_estimators=10, score=(train=0.602, test=0.595), total=   1.5s\n",
      "[CV] bootstrap=False, max_depth=5, max_features=0.6, n_estimators=10 .\n",
      "[CV]  bootstrap=False, max_depth=5, max_features=0.6, n_estimators=10, score=(train=0.579, test=0.577), total=   1.5s\n",
      "[CV] bootstrap=False, max_depth=5, max_features=0.6, n_estimators=10 .\n",
      "[CV]  bootstrap=False, max_depth=5, max_features=0.6, n_estimators=10, score=(train=0.582, test=0.580), total=   1.4s\n",
      "[CV] bootstrap=False, max_depth=5, max_features=0.6, n_estimators=20 .\n",
      "[CV]  bootstrap=False, max_depth=5, max_features=0.6, n_estimators=20, score=(train=0.603, test=0.595), total=   2.9s\n",
      "[CV] bootstrap=False, max_depth=5, max_features=0.6, n_estimators=20 .\n",
      "[CV]  bootstrap=False, max_depth=5, max_features=0.6, n_estimators=20, score=(train=0.578, test=0.576), total=   2.9s\n",
      "[CV] bootstrap=False, max_depth=5, max_features=0.6, n_estimators=20 .\n",
      "[CV]  bootstrap=False, max_depth=5, max_features=0.6, n_estimators=20, score=(train=0.583, test=0.582), total=   2.9s\n",
      "[CV] bootstrap=False, max_depth=5, max_features=0.6, n_estimators=30 .\n",
      "[CV]  bootstrap=False, max_depth=5, max_features=0.6, n_estimators=30, score=(train=0.602, test=0.595), total=   4.4s\n",
      "[CV] bootstrap=False, max_depth=5, max_features=0.6, n_estimators=30 .\n",
      "[CV]  bootstrap=False, max_depth=5, max_features=0.6, n_estimators=30, score=(train=0.578, test=0.576), total=   4.3s\n",
      "[CV] bootstrap=False, max_depth=5, max_features=0.6, n_estimators=30 .\n",
      "[CV]  bootstrap=False, max_depth=5, max_features=0.6, n_estimators=30, score=(train=0.582, test=0.581), total=   4.3s\n",
      "[CV] bootstrap=False, max_depth=5, max_features=0.9, n_estimators=10 .\n",
      "[CV]  bootstrap=False, max_depth=5, max_features=0.9, n_estimators=10, score=(train=0.600, test=0.593), total=   2.4s\n",
      "[CV] bootstrap=False, max_depth=5, max_features=0.9, n_estimators=10 .\n",
      "[CV]  bootstrap=False, max_depth=5, max_features=0.9, n_estimators=10, score=(train=0.574, test=0.573), total=   2.4s\n",
      "[CV] bootstrap=False, max_depth=5, max_features=0.9, n_estimators=10 .\n",
      "[CV]  bootstrap=False, max_depth=5, max_features=0.9, n_estimators=10, score=(train=0.583, test=0.581), total=   2.6s\n",
      "[CV] bootstrap=False, max_depth=5, max_features=0.9, n_estimators=20 .\n",
      "[CV]  bootstrap=False, max_depth=5, max_features=0.9, n_estimators=20, score=(train=0.600, test=0.593), total=   4.8s\n",
      "[CV] bootstrap=False, max_depth=5, max_features=0.9, n_estimators=20 .\n",
      "[CV]  bootstrap=False, max_depth=5, max_features=0.9, n_estimators=20, score=(train=0.572, test=0.570), total=   4.8s\n",
      "[CV] bootstrap=False, max_depth=5, max_features=0.9, n_estimators=20 .\n",
      "[CV]  bootstrap=False, max_depth=5, max_features=0.9, n_estimators=20, score=(train=0.583, test=0.581), total=   4.8s\n",
      "[CV] bootstrap=False, max_depth=5, max_features=0.9, n_estimators=30 .\n",
      "[CV]  bootstrap=False, max_depth=5, max_features=0.9, n_estimators=30, score=(train=0.600, test=0.593), total=   7.2s\n",
      "[CV] bootstrap=False, max_depth=5, max_features=0.9, n_estimators=30 .\n",
      "[CV]  bootstrap=False, max_depth=5, max_features=0.9, n_estimators=30, score=(train=0.572, test=0.570), total=   7.1s\n",
      "[CV] bootstrap=False, max_depth=5, max_features=0.9, n_estimators=30 .\n",
      "[CV]  bootstrap=False, max_depth=5, max_features=0.9, n_estimators=30, score=(train=0.583, test=0.581), total=   7.4s\n"
     ]
    },
    {
     "name": "stderr",
     "output_type": "stream",
     "text": [
      "[Parallel(n_jobs=1)]: Done 162 out of 162 | elapsed:  6.0min finished\n"
     ]
    },
    {
     "data": {
      "text/plain": [
       "GridSearchCV(cv=3, error_score='raise-deprecating',\n",
       "             estimator=RandomForestClassifier(bootstrap=True,\n",
       "                                              class_weight='balanced',\n",
       "                                              criterion='gini', max_depth=None,\n",
       "                                              max_features='auto',\n",
       "                                              max_leaf_nodes=None,\n",
       "                                              min_impurity_decrease=0.0,\n",
       "                                              min_impurity_split=None,\n",
       "                                              min_samples_leaf=1,\n",
       "                                              min_samples_split=2,\n",
       "                                              min_weight_fraction_leaf=0.0,\n",
       "                                              n_estimators='warn', n_jobs=None,\n",
       "                                              oob_score=False, random_state=0,\n",
       "                                              verbose=0, warm_start=False),\n",
       "             iid='warn', n_jobs=None,\n",
       "             param_grid={'bootstrap': [True, False], 'max_depth': [3, 4, 5],\n",
       "                         'max_features': [0.3, 0.6, 0.9],\n",
       "                         'n_estimators': [10, 20, 30]},\n",
       "             pre_dispatch='2*n_jobs', refit=True, return_train_score=True,\n",
       "             scoring='f1_macro', verbose=10)"
      ]
     },
     "execution_count": 277,
     "metadata": {},
     "output_type": "execute_result"
    }
   ],
   "source": [
    "# Random Forest\n",
    "from sklearn.ensemble import RandomForestClassifier\n",
    "RF = RandomForestClassifier(random_state=0, class_weight='balanced')\n",
    "# build grid search parameters\n",
    "parms = { 'max_depth': [3,4,5],\n",
    "          'max_features' : [0.3,0.6,0.9],\n",
    "          'n_estimators' : [10,20,30],\n",
    "          'bootstrap':[True, False]} \n",
    "# perform grid search\n",
    "from sklearn.model_selection import GridSearchCV\n",
    "CV = GridSearchCV(estimator = RF,param_grid = parms, scoring = 'f1_macro',\n",
    "                  cv=3, refit=True,return_train_score = True,\n",
    "                  verbose=10)\n",
    "CV.fit(X_train_cont,Y_train.target)"
   ]
  },
  {
   "cell_type": "code",
   "execution_count": 278,
   "metadata": {},
   "outputs": [],
   "source": [
    "# check the results\n",
    "CVResults = pd.DataFrame(CV.cv_results_)\n",
    "CVResults.to_excel('CVResutls_RF2.xlsx')"
   ]
  },
  {
   "cell_type": "code",
   "execution_count": 279,
   "metadata": {},
   "outputs": [
    {
     "name": "stdout",
     "output_type": "stream",
     "text": [
      "0.5909434337593318\n",
      "{'bootstrap': True, 'max_depth': 3, 'max_features': 0.6, 'n_estimators': 10}\n",
      "[1.30097407e-02 4.68993167e-03 1.35337781e-01 4.36695918e-04\n",
      " 4.46999668e-02 6.87658509e-01 1.02542529e-01 1.16248453e-02]\n"
     ]
    }
   ],
   "source": [
    "print(CV.best_score_)\n",
    "print(CV.best_params_)\n",
    "print(CV.best_estimator_.feature_importances_)"
   ]
  },
  {
   "cell_type": "code",
   "execution_count": 280,
   "metadata": {},
   "outputs": [
    {
     "name": "stdout",
     "output_type": "stream",
     "text": [
      "[[0.61822418 0.38177582]\n",
      " [0.31617772 0.68382228]\n",
      " [0.65816593 0.34183407]\n",
      " [0.71054065 0.28945935]\n",
      " [0.38643092 0.61356908]]\n",
      "[0 1 0 0 1]\n"
     ]
    }
   ],
   "source": [
    "# Preidct on Test data and check the confusion matrix\n",
    "predictProb = CV.predict_proba(X_test_cont)\n",
    "print(predictProb[0:5])\n",
    "PProb = pd.DataFrame(predictProb,columns=[\"class0\",\"class1\"])\n",
    "predictTest = CV.predict(X_test_cont)\n",
    "print(predictTest[0:5])"
   ]
  },
  {
   "cell_type": "code",
   "execution_count": 281,
   "metadata": {},
   "outputs": [
    {
     "name": "stdout",
     "output_type": "stream",
     "text": [
      "[[ 3800  1652]\n",
      " [ 7341 10072]]\n",
      "              precision    recall  f1-score   support\n",
      "\n",
      "           0       0.34      0.70      0.46      5452\n",
      "           1       0.86      0.58      0.69     17413\n",
      "\n",
      "    accuracy                           0.61     22865\n",
      "   macro avg       0.60      0.64      0.57     22865\n",
      "weighted avg       0.74      0.61      0.64     22865\n",
      "\n"
     ]
    }
   ],
   "source": [
    "# generate confusion matrix\n",
    "# import confusion matrix and classification report\n",
    "from sklearn.metrics import confusion_matrix, classification_report\n",
    "print (confusion_matrix(Y_test,predictTest))\n",
    "print (classification_report(Y_test,predictTest))"
   ]
  },
  {
   "cell_type": "code",
   "execution_count": null,
   "metadata": {},
   "outputs": [],
   "source": []
  },
  {
   "cell_type": "code",
   "execution_count": null,
   "metadata": {},
   "outputs": [],
   "source": []
  },
  {
   "cell_type": "code",
   "execution_count": null,
   "metadata": {},
   "outputs": [],
   "source": []
  },
  {
   "cell_type": "code",
   "execution_count": null,
   "metadata": {},
   "outputs": [],
   "source": []
  },
  {
   "cell_type": "code",
   "execution_count": null,
   "metadata": {},
   "outputs": [],
   "source": []
  },
  {
   "cell_type": "code",
   "execution_count": null,
   "metadata": {},
   "outputs": [],
   "source": []
  }
 ],
 "metadata": {
  "kernelspec": {
   "display_name": "Python 3",
   "language": "python",
   "name": "python3"
  },
  "language_info": {
   "codemirror_mode": {
    "name": "ipython",
    "version": 3
   },
   "file_extension": ".py",
   "mimetype": "text/x-python",
   "name": "python",
   "nbconvert_exporter": "python",
   "pygments_lexer": "ipython3",
   "version": "3.7.4"
  }
 },
 "nbformat": 4,
 "nbformat_minor": 2
}
